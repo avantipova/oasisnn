{
  "cells": [
    {
      "cell_type": "markdown",
      "metadata": {
        "id": "X05lmchK6Z54"
      },
      "source": [
        "# IMPORT"
      ]
    },
    {
      "cell_type": "code",
      "execution_count": 2,
      "metadata": {
        "id": "-M0JDBk-4e1V"
      },
      "outputs": [],
      "source": [
        "import torch\n",
        "import torch.nn as nn\n",
        "import numpy as np\n",
        "import matplotlib.pyplot as plt\n",
        "from torch.utils.data import Dataset, DataLoader\n",
        "import os\n",
        "import sys\n",
        "sys.path.insert(1, os.path.realpath(os.path.pardir))\n",
        "from deepmeg.preprocessing.transforms import one_hot_encoder, one_hot_decoder, zscore\n",
        "from deepmeg.data.datasets import EpochsDataset\n",
        "import math\n",
        "from deepmeg.training.callbacks import Callback, EarlyStopping, L2Reg, PrintingCallback\n",
        "from deepmeg.models import BaseModel\n",
        "from deepmeg.utils.viz import plot_metrics\n",
        "import pandas as pd\n",
        "from sklearn.metrics import confusion_matrix\n",
        "from utils.viz import plot_distribution\n",
        "from deepmeg.preprocessing.transforms import one_hot_decoder\n",
        "\n",
        "\n",
        "\n",
        "def accuracy(predictions: torch.Tensor, targets: torch.Tensor) -> float:\n",
        "    \"\"\"\n",
        "    Calculate the accuracy of predictions.\n",
        "\n",
        "    Args:\n",
        "        predictions (torch.Tensor): The predicted scores from the model.\n",
        "        targets (torch.Tensor): The true target labels.\n",
        "\n",
        "    Returns:\n",
        "        float: The accuracy of the predictions.\n",
        "    \"\"\"\n",
        "    # Convert one-hot encoded labels to class indices\n",
        "    targets = torch.argmax(targets, dim=1)\n",
        "\n",
        "    # Compute predicted class indices\n",
        "    _, predicted = torch.max(predictions, dim=1)\n",
        "\n",
        "    # Compute accuracy\n",
        "    correct = torch.sum(predicted == targets)\n",
        "    total = targets.shape[0]\n",
        "    accuracy = correct / total\n",
        "\n",
        "    return accuracy\n",
        "\n",
        "\n",
        "def compute_confusion_matrix(y_true: np.ndarray, y_pred: np.ndarray, labels: list[int | str] = None):\n",
        "    \"\"\"\n",
        "    Compute a confusion matrix and return it as a pandas DataFrame.\n",
        "\n",
        "    Args:\n",
        "        y_true (array-like): True labels.\n",
        "        y_pred (array-like): Predicted labels.\n",
        "        labels (list, optional): List of labels to include in the confusion matrix.\n",
        "                                If None, all unique labels present in y_true and y_pred will be used.\n",
        "\n",
        "    Returns:\n",
        "        pd.DataFrame: Confusion matrix as a DataFrame.\n",
        "    \"\"\"\n",
        "    conf_matrix = confusion_matrix(y_true, y_pred, labels=labels)\n",
        "\n",
        "    if labels is None:\n",
        "        labels = sorted(set(np.concatenate([y_true, y_pred], axis=0)))\n",
        "\n",
        "    conf_matrix_df = pd.DataFrame(conf_matrix, index=labels, columns=labels)\n",
        "\n",
        "    return conf_matrix_df\n",
        "\n",
        "\n",
        "def plot_confusion_matrix(confusion_matrix_df: pd.DataFrame, title: str = \"Confusion Matrix Heatmap\", cbar: bool = False) -> plt.Figure:\n",
        "    \"\"\"\n",
        "    Visualize a confusion matrix stored in a pandas DataFrame using a heatmap.\n",
        "\n",
        "    Args:\n",
        "        confusion_matrix_df (pd.DataFrame): Confusion matrix as a DataFrame.\n",
        "        title (str, optional): Title for the plot. Defaults to \"Confusion Matrix Heatmap\".\n",
        "        cbar (bool, optional): Whether to show a colorbar. Defaults to False.\n",
        "\n",
        "    Returns:\n",
        "        plt.Figure: Matplotlib Figure object containing the confusion matrix plot.\n",
        "    \"\"\"\n",
        "    fig, ax = plt.subplots(figsize=(10, 7))\n",
        "    im = ax.imshow(confusion_matrix_df, interpolation=\"nearest\", cmap=plt.cm.Blues)\n",
        "    ax.set_title(title)\n",
        "    if cbar:\n",
        "        cbar = ax.figure.colorbar(im, ax=ax)\n",
        "    tick_marks = range(len(confusion_matrix_df.columns))\n",
        "\n",
        "    if any([not isinstance(column, (int, float)) and len(column) > 5 for column in confusion_matrix_df.columns]):\n",
        "        ax.set_xticks(tick_marks)\n",
        "        ax.set_xticklabels(confusion_matrix_df.columns, rotation=45)\n",
        "    else:\n",
        "        ax.set_xticks(tick_marks)\n",
        "        ax.set_xticklabels(confusion_matrix_df.columns)\n",
        "\n",
        "    ax.set_yticks(tick_marks)\n",
        "    ax.set_yticklabels(confusion_matrix_df.index)\n",
        "\n",
        "    for i in range(len(confusion_matrix_df.index)):\n",
        "        for j in range(len(confusion_matrix_df.columns)):\n",
        "            cell_value = confusion_matrix_df.iloc[i, j]\n",
        "            text_color = \"#eee\" if cell_value > confusion_matrix_df.max().max() / 2 else \"#333\"\n",
        "            ax.text(j, i, str(cell_value), ha=\"center\", va=\"center\", color=text_color)\n",
        "\n",
        "    ax.set_xlabel(\"Predicted Labels\")\n",
        "    ax.set_ylabel(\"True Labels\")\n",
        "    fig.tight_layout()\n",
        "\n",
        "    return fig\n"
      ]
    },
    {
      "cell_type": "markdown",
      "metadata": {
        "id": "R1juPE6O5kqC"
      },
      "source": [
        "# Encoder-Decoder LSTM with Bahdanau Attention"
      ]
    },
    {
      "cell_type": "code",
      "execution_count": 2,
      "metadata": {
        "id": "BX30oMT94HOn"
      },
      "outputs": [],
      "source": [
        "class BahdanauAttention(nn.Module):\n",
        "    def __init__(self, encoder_hidden_size: int, decoder_hidden_size: int, attention_size: int, bias: bool = True):\n",
        "        \"\"\"\n",
        "        Bahdanau Attention Mechanism.\n",
        "\n",
        "        Args:\n",
        "            encoder_hidden_size (int): The size of the encoder hidden states.\n",
        "            decoder_hidden_size (int): The size of the decoder hidden states.\n",
        "            attention_size (int): The size of the attention vector.\n",
        "        \"\"\"\n",
        "        super(BahdanauAttention, self).__init__()\n",
        "        self.encoder_hidden_size = encoder_hidden_size\n",
        "        self.decoder_hidden_size = decoder_hidden_size\n",
        "        self.attention_size = attention_size\n",
        "\n",
        "        self.W_enc = nn.Linear(encoder_hidden_size, attention_size)\n",
        "        self.W_dec = nn.Linear(decoder_hidden_size, attention_size)\n",
        "        self.V = nn.Linear(attention_size, 1)\n",
        "\n",
        "        if bias:\n",
        "            self.bias = nn.Parameter(torch.empty(attention_size))\n",
        "            fan_in, _ = nn.init._calculate_fan_in_and_fan_out(self.W_dec.weight)\n",
        "            if fan_in != 0:\n",
        "                bound = 1 / math.sqrt(fan_in)\n",
        "                nn.init.uniform_(self.bias, -bound, bound)\n",
        "        else:\n",
        "            self.register_parameter('bias', None)\n",
        "\n",
        "    def forward(self, encoder_hidden_states: torch.Tensor, decoder_hidden_state: torch.Tensor) -> tuple[torch.Tensor, torch.Tensor]:\n",
        "        \"\"\"\n",
        "        Perform the forward pass of the Bahdanau Attention Mechanism.\n",
        "\n",
        "        Args:\n",
        "            encoder_hidden_states (torch.Tensor): The encoder hidden states. Shape: (batch_size, seq_length, encoder_hidden_size)\n",
        "            decoder_hidden_state (torch.Tensor): The current decoder hidden state. Shape: (batch_size, decoder_hidden_size)\n",
        "\n",
        "        Returns:\n",
        "            context_vector (torch.Tensor): The context vector for the current decoder step. Shape: (batch_size, encoder_hidden_size)\n",
        "            attention_weights (torch.Tensor): The attention weights over the encoder hidden states. Shape: (batch_size, seq_length)\n",
        "        \"\"\"\n",
        "        seq_length = encoder_hidden_states.size(1)\n",
        "\n",
        "        # Calculate alignment scores\n",
        "        encoder_score = self.W_enc(encoder_hidden_states)  # (batch_size, seq_length, attention_size)\n",
        "\n",
        "        decoder_score = self.W_dec(decoder_hidden_state)  # (batch_size, 1, attention_size)\n",
        "\n",
        "        # Combine encoder and decoder scores and apply the non-linearity\n",
        "        b = self.bias if self.bias is not None else 0\n",
        "        alignment_scores = torch.tanh(encoder_score + torch.unsqueeze(decoder_score, 1) + b)  # (batch_size, seq_length, attention_size)\n",
        "\n",
        "        # Calculate attention weights\n",
        "        attention_weights = self.V(alignment_scores).squeeze(-1)  # (batch_size, seq_length)\n",
        "\n",
        "        # Apply softmax to get normalized attention weights\n",
        "        attention_weights = torch.softmax(attention_weights, dim=-1)  # (batch_size, seq_length)\n",
        "\n",
        "        # Calculate context vector as a weighted sum of encoder hidden states\n",
        "        context_vector = torch.bmm(attention_weights.unsqueeze(1), encoder_hidden_states.view(-1, seq_length, self.encoder_hidden_size))\n",
        "        context_vector = context_vector.squeeze(1)  # (batch_size, encoder_hidden_size)\n",
        "\n",
        "        return context_vector, attention_weights\n",
        "\n",
        "\n",
        "class EncoderDecoderLSTM(nn.Module):\n",
        "    def __init__(self, input_size: int, encoder_hidden_size: int, decoder_hidden_size: int, attention_size: int):\n",
        "        \"\"\"\n",
        "        Encoder-Decoder LSTM with Bahdanau Attention.\n",
        "\n",
        "        Args:\n",
        "            input_size (int): The size of the input features.\n",
        "            encoder_hidden_size (int): The size of the encoder hidden states.\n",
        "            decoder_hidden_size (int): The size of the decoder hidden states.\n",
        "            attention_size (int): The size of the attention vector.\n",
        "        \"\"\"\n",
        "        super(EncoderDecoderLSTM, self).__init__()\n",
        "        self.encoder_hidden_size = encoder_hidden_size\n",
        "        self.decoder_hidden_size = decoder_hidden_size\n",
        "        self.attention_size = attention_size\n",
        "\n",
        "        self.encoder_lstm = nn.LSTM(input_size, encoder_hidden_size, batch_first=True)\n",
        "        self.attention = BahdanauAttention(encoder_hidden_size, decoder_hidden_size, attention_size)\n",
        "\n",
        "        self.decoder_lstm = nn.LSTMCell(decoder_hidden_size + encoder_hidden_size, decoder_hidden_size)\n",
        "        self._attention_weights = None\n",
        "\n",
        "    def forward(self, x: torch.Tensor) -> torch.Tensor:\n",
        "        \"\"\"\n",
        "        Perform the forward pass of the Encoder-Decoder LSTM.\n",
        "\n",
        "        Args:\n",
        "            x (torch.Tensor): The input tensor. Shape: (n_batch, n_times, n_features)\n",
        "\n",
        "        Returns:\n",
        "            output (torch.Tensor): The output tensor. Shape: (n_batch, n_times, decoder_hidden_size)\n",
        "        \"\"\"\n",
        "        n_batch, n_times, n_features = x.size()\n",
        "\n",
        "        # Encoder LSTM\n",
        "        encoder_hidden_states, (h_n_enc, c_n_enc) = self.encoder_lstm(x)\n",
        "\n",
        "        # Decoder LSTM initial hidden state\n",
        "        h_n_dec, c_n_dec = self.decoder_lstm(torch.zeros(n_batch, self.decoder_hidden_size + self.encoder_hidden_size).to(x.device))\n",
        "\n",
        "        # Output tensor to store predictions\n",
        "        output = torch.zeros(n_batch, n_times, self.decoder_hidden_size).to(x.device)\n",
        "        attention_weights = list()\n",
        "\n",
        "        # Iterate over each time step\n",
        "        for t in range(n_times):\n",
        "\n",
        "            context_vector, current_attention_weights = self.attention(encoder_hidden_states, h_n_dec)\n",
        "\n",
        "            attention_weights.append(current_attention_weights)\n",
        "\n",
        "            # Concatenate the context vector with the current decoder hidden state\n",
        "            decoder_input = torch.cat((context_vector, h_n_dec), dim=-1)\n",
        "\n",
        "            # Update the decoder LSTM hidden state at the current time step\n",
        "            h_n_dec, c_n_dec = self.decoder_lstm(decoder_input, (h_n_dec, c_n_dec))\n",
        "\n",
        "            # Compute output at the current time step\n",
        "            output[:, t, :] = h_n_dec\n",
        "\n",
        "        self._attention_weights = attention_weights\n",
        "        return output\n",
        "        # return encoder_hidden_states\n",
        "\n",
        "    @property\n",
        "    def attention_weights(self):\n",
        "        return self._attention_weights\n"
      ]
    },
    {
      "cell_type": "markdown",
      "metadata": {
        "id": "_2yQY7jh5qxG"
      },
      "source": [
        "## DATA"
      ]
    },
    {
      "cell_type": "code",
      "execution_count": 11,
      "metadata": {},
      "outputs": [],
      "source": [
        "kind = 'arousal'\n",
        "subject = 0\n",
        "dataset = EpochsDataset.load(f'../data/{kind}_{subject}.pt')\n",
        "train, test = torch.utils.data.random_split(dataset, [.7, .3])"
      ]
    },
    {
      "cell_type": "code",
      "execution_count": 20,
      "metadata": {},
      "outputs": [],
      "source": [
        "bad_data = set([113, 114, 115, 117, 118, 121, 125, 128, 129, 134, 136, 141, 142, 143, 146, 150, 15, 18, 45, 93, 94, 95, 30, 31])\n",
        "bad_shape = set([148, 32, 36, 38, 52, 61, 75, 92])\n",
        "bad_results =  set([101, 104, 106, 108, 112, 28, 39, 3, 6])\n",
        "dont_exist = set([98, 99, 37])\n",
        "set1 = set(range(0, 153))\n",
        "norm_subjects = list(set1 - bad_data - bad_shape - bad_results - dont_exist)"
      ]
    },
    {
      "cell_type": "code",
      "execution_count": 159,
      "metadata": {},
      "outputs": [
        {
          "ename": "KeyboardInterrupt",
          "evalue": "",
          "output_type": "error",
          "traceback": [
            "\u001b[1;31m---------------------------------------------------------------------------\u001b[0m",
            "\u001b[1;31mKeyboardInterrupt\u001b[0m                         Traceback (most recent call last)",
            "Cell \u001b[1;32mIn[159], line 8\u001b[0m\n\u001b[0;32m      6\u001b[0m \u001b[39mfor\u001b[39;00m pic \u001b[39min\u001b[39;00m \u001b[39mrange\u001b[39m(\u001b[39m315\u001b[39m):\n\u001b[0;32m      7\u001b[0m     \u001b[39mtry\u001b[39;00m:\n\u001b[1;32m----> 8\u001b[0m         target \u001b[39m=\u001b[39m EpochsDataset\u001b[39m.\u001b[39;49mload(\u001b[39mf\u001b[39;49m\u001b[39m'\u001b[39;49m\u001b[39m../datasets/\u001b[39;49m\u001b[39m{\u001b[39;49;00mkind\u001b[39m}\u001b[39;49;00m\u001b[39m_\u001b[39;49m\u001b[39m{\u001b[39;49;00msubject\u001b[39m}\u001b[39;49;00m\u001b[39m/target_\u001b[39;49m\u001b[39m{\u001b[39;49;00mpic\u001b[39m}\u001b[39;49;00m\u001b[39m.pt\u001b[39;49m\u001b[39m'\u001b[39;49m)\n\u001b[0;32m      9\u001b[0m         \u001b[39mif\u001b[39;00m (target[class_num] \u001b[39m==\u001b[39m \u001b[39m1\u001b[39m):\n\u001b[0;32m     10\u001b[0m             clas \u001b[39m=\u001b[39m EpochsDataset\u001b[39m.\u001b[39mload(\u001b[39mf\u001b[39m\u001b[39m'\u001b[39m\u001b[39m../datasets/\u001b[39m\u001b[39m{\u001b[39;00mkind\u001b[39m}\u001b[39;00m\u001b[39m_\u001b[39m\u001b[39m{\u001b[39;00msubject\u001b[39m}\u001b[39;00m\u001b[39m/sample_\u001b[39m\u001b[39m{\u001b[39;00mpic\u001b[39m}\u001b[39;00m\u001b[39m.pt\u001b[39m\u001b[39m'\u001b[39m)\n",
            "File \u001b[1;32mc:\\Users\\Tobii\\Projects\\oasisnn\\venv\\Lib\\site-packages\\deepmeg\\data\\datasets.py:106\u001b[0m, in \u001b[0;36mEpochsDataset.load\u001b[1;34m(path)\u001b[0m\n\u001b[0;32m    103\u001b[0m \u001b[39m@staticmethod\u001b[39m\n\u001b[0;32m    104\u001b[0m \u001b[39mdef\u001b[39;00m \u001b[39mload\u001b[39m(path: \u001b[39mstr\u001b[39m \u001b[39m|\u001b[39m os\u001b[39m.\u001b[39mPathLike) \u001b[39m-\u001b[39m\u001b[39m>\u001b[39m \u001b[39m'\u001b[39m\u001b[39mEpochsDataset\u001b[39m\u001b[39m'\u001b[39m:\n\u001b[0;32m    105\u001b[0m \u001b[39m    \u001b[39m\u001b[39m\"\"\"Reads epochs dataset in '.pt' format\"\"\"\u001b[39;00m\n\u001b[1;32m--> 106\u001b[0m     \u001b[39mreturn\u001b[39;00m torch\u001b[39m.\u001b[39;49mload(path)\n",
            "File \u001b[1;32mc:\\Users\\Tobii\\Projects\\oasisnn\\venv\\Lib\\site-packages\\torch\\serialization.py:791\u001b[0m, in \u001b[0;36mload\u001b[1;34m(f, map_location, pickle_module, weights_only, **pickle_load_args)\u001b[0m\n\u001b[0;32m    788\u001b[0m \u001b[39mif\u001b[39;00m \u001b[39m'\u001b[39m\u001b[39mencoding\u001b[39m\u001b[39m'\u001b[39m \u001b[39mnot\u001b[39;00m \u001b[39min\u001b[39;00m pickle_load_args\u001b[39m.\u001b[39mkeys():\n\u001b[0;32m    789\u001b[0m     pickle_load_args[\u001b[39m'\u001b[39m\u001b[39mencoding\u001b[39m\u001b[39m'\u001b[39m] \u001b[39m=\u001b[39m \u001b[39m'\u001b[39m\u001b[39mutf-8\u001b[39m\u001b[39m'\u001b[39m\n\u001b[1;32m--> 791\u001b[0m \u001b[39mwith\u001b[39;00m _open_file_like(f, \u001b[39m'\u001b[39;49m\u001b[39mrb\u001b[39;49m\u001b[39m'\u001b[39;49m) \u001b[39mas\u001b[39;00m opened_file:\n\u001b[0;32m    792\u001b[0m     \u001b[39mif\u001b[39;00m _is_zipfile(opened_file):\n\u001b[0;32m    793\u001b[0m         \u001b[39m# The zipfile reader is going to advance the current file position.\u001b[39;00m\n\u001b[0;32m    794\u001b[0m         \u001b[39m# If we want to actually tail call to torch.jit.load, we need to\u001b[39;00m\n\u001b[0;32m    795\u001b[0m         \u001b[39m# reset back to the original position.\u001b[39;00m\n\u001b[0;32m    796\u001b[0m         orig_position \u001b[39m=\u001b[39m opened_file\u001b[39m.\u001b[39mtell()\n",
            "File \u001b[1;32mc:\\Users\\Tobii\\Projects\\oasisnn\\venv\\Lib\\site-packages\\torch\\serialization.py:271\u001b[0m, in \u001b[0;36m_open_file_like\u001b[1;34m(name_or_buffer, mode)\u001b[0m\n\u001b[0;32m    269\u001b[0m \u001b[39mdef\u001b[39;00m \u001b[39m_open_file_like\u001b[39m(name_or_buffer, mode):\n\u001b[0;32m    270\u001b[0m     \u001b[39mif\u001b[39;00m _is_path(name_or_buffer):\n\u001b[1;32m--> 271\u001b[0m         \u001b[39mreturn\u001b[39;00m _open_file(name_or_buffer, mode)\n\u001b[0;32m    272\u001b[0m     \u001b[39melse\u001b[39;00m:\n\u001b[0;32m    273\u001b[0m         \u001b[39mif\u001b[39;00m \u001b[39m'\u001b[39m\u001b[39mw\u001b[39m\u001b[39m'\u001b[39m \u001b[39min\u001b[39;00m mode:\n",
            "File \u001b[1;32mc:\\Users\\Tobii\\Projects\\oasisnn\\venv\\Lib\\site-packages\\torch\\serialization.py:252\u001b[0m, in \u001b[0;36m_open_file.__init__\u001b[1;34m(self, name, mode)\u001b[0m\n\u001b[0;32m    251\u001b[0m \u001b[39mdef\u001b[39;00m \u001b[39m__init__\u001b[39m(\u001b[39mself\u001b[39m, name, mode):\n\u001b[1;32m--> 252\u001b[0m     \u001b[39msuper\u001b[39m()\u001b[39m.\u001b[39m\u001b[39m__init__\u001b[39m(\u001b[39mopen\u001b[39m(name, mode))\n",
            "\u001b[1;31mKeyboardInterrupt\u001b[0m: "
          ]
        }
      ],
      "source": [
        "kind = 'arousal'\n",
        "classes = [[],[],[],[],[],[],[]]\n",
        "\n",
        "for class_num in range(7):\n",
        "    for subject in norm_subjects:\n",
        "        for pic in range(315):\n",
        "            try:\n",
        "                target = EpochsDataset.load(f'../datasets/{kind}_{subject}/target_{pic}.pt')\n",
        "                if (target[class_num] == 1):\n",
        "                    clas = EpochsDataset.load(f'../datasets/{kind}_{subject}/sample_{pic}.pt')\n",
        "                    classes[class_num].append(clas)\n",
        "            except  Exception:\n",
        "                pass"
      ]
    },
    {
      "cell_type": "code",
      "execution_count": 161,
      "metadata": {},
      "outputs": [],
      "source": [
        "kind = 'valence'\n",
        "classes = [[],[],[],[],[],[],[]]\n",
        "\n",
        "for class_num in range(7):\n",
        "    for subject in norm_subjects:\n",
        "        for pic in range(315):\n",
        "            try:\n",
        "                target = EpochsDataset.load(f'../datasets/{kind}_{subject}/target_{pic}.pt')\n",
        "                if (target[class_num] == 1):\n",
        "                    clas = EpochsDataset.load(f'../datasets/{kind}_{subject}/sample_{pic}.pt')\n",
        "                    classes[class_num].append(clas)\n",
        "            except  Exception:\n",
        "                pass"
      ]
    },
    {
      "cell_type": "code",
      "execution_count": 163,
      "metadata": {},
      "outputs": [
        {
          "name": "stdout",
          "output_type": "stream",
          "text": [
            "--------------------------------------------------VALENCE FEATURE 0-----------------------------------------------------\n",
            "---------------------------------------------\n",
            "class 0 and class 0 permutation t_test\n",
            "---------------------------------------------\n",
            "Permuting 99 times...\n",
            "[1.3037597 1.3037597] [0.23 0.23]\n",
            "---------------------------------------------\n",
            "class 0 and class 1 permutation t_test\n",
            "---------------------------------------------\n",
            "Permuting 99 times...\n",
            "[1.3037597 4.592183 ] [0.28 0.01]\n",
            "---------------------------------------------\n",
            "class 0 and class 2 permutation t_test\n",
            "---------------------------------------------\n",
            "Permuting 99 times...\n",
            "[ 1.3037597 15.534982 ] [0.31 0.01]\n",
            "---------------------------------------------\n",
            "class 0 and class 3 permutation t_test\n",
            "---------------------------------------------\n",
            "Permuting 99 times...\n",
            "[ 1.3037597 -2.7837155] [0.36 0.02]\n",
            "---------------------------------------------\n",
            "class 0 and class 4 permutation t_test\n",
            "---------------------------------------------\n",
            "Permuting 99 times...\n",
            "[1.3037597 1.3026841] [0.41 0.41]\n",
            "---------------------------------------------\n",
            "class 0 and class 5 permutation t_test\n",
            "---------------------------------------------\n",
            "Permuting 99 times...\n",
            "[ 2.8819752 16.039524 ] [0.02 0.01]\n",
            "---------------------------------------------\n",
            "class 0 and class 6 permutation t_test\n",
            "---------------------------------------------\n",
            "Permuting 99 times...\n",
            "[ 2.2721744 23.075632 ] [0.02 0.01]\n",
            "---------------------------------------------\n",
            "class 1 and class 0 permutation t_test\n",
            "---------------------------------------------\n",
            "Permuting 99 times...\n",
            "[4.592183  1.3037597] [0.01 0.36]\n",
            "---------------------------------------------\n",
            "class 1 and class 1 permutation t_test\n",
            "---------------------------------------------\n",
            "Permuting 99 times...\n",
            "[2.7651258 2.7651258] [0.01 0.01]\n",
            "---------------------------------------------\n",
            "class 1 and class 2 permutation t_test\n",
            "---------------------------------------------\n",
            "Permuting 99 times...\n",
            "[ 2.7651258 17.319899 ] [0.03 0.01]\n",
            "---------------------------------------------\n",
            "class 1 and class 3 permutation t_test\n",
            "---------------------------------------------\n",
            "Permuting 99 times...\n",
            "[ 2.7651258 -7.574633 ] [0.01 0.01]\n",
            "---------------------------------------------\n",
            "class 1 and class 4 permutation t_test\n",
            "---------------------------------------------\n",
            "Permuting 99 times...\n",
            "[2.7651258 4.541283 ] [0.01 0.01]\n",
            "---------------------------------------------\n",
            "class 1 and class 5 permutation t_test\n",
            "---------------------------------------------\n",
            "Permuting 99 times...\n",
            "[ 1.7542771 16.039524 ] [0.15 0.01]\n",
            "---------------------------------------------\n",
            "class 1 and class 6 permutation t_test\n",
            "---------------------------------------------\n",
            "Permuting 99 times...\n",
            "[ 3.4006155 23.075632 ] [0.01 0.01]\n",
            "---------------------------------------------\n",
            "class 2 and class 0 permutation t_test\n",
            "---------------------------------------------\n",
            "Permuting 99 times...\n",
            "[15.534982   1.3037597] [0.01 0.31]\n",
            "---------------------------------------------\n",
            "class 2 and class 1 permutation t_test\n",
            "---------------------------------------------\n",
            "Permuting 99 times...\n",
            "[17.319899   2.7651258] [0.01 0.01]\n",
            "---------------------------------------------\n",
            "class 2 and class 2 permutation t_test\n",
            "---------------------------------------------\n",
            "Permuting 99 times...\n",
            "[12.798509 12.798509] [0.01 0.01]\n",
            "---------------------------------------------\n",
            "class 2 and class 3 permutation t_test\n",
            "---------------------------------------------\n",
            "Permuting 99 times...\n",
            "[12.798509  -3.1695657] [0.01 0.01]\n",
            "---------------------------------------------\n",
            "class 2 and class 4 permutation t_test\n",
            "---------------------------------------------\n",
            "Permuting 99 times...\n",
            "[10.233715 23.857426] [0.01 0.01]\n",
            "---------------------------------------------\n",
            "class 2 and class 5 permutation t_test\n",
            "---------------------------------------------\n",
            "Permuting 99 times...\n",
            "[19.045006 16.039524] [0.01 0.01]\n",
            "---------------------------------------------\n",
            "class 2 and class 6 permutation t_test\n",
            "---------------------------------------------\n",
            "Permuting 99 times...\n",
            "[10.791928 23.075632] [0.01 0.01]\n",
            "---------------------------------------------\n",
            "class 3 and class 0 permutation t_test\n",
            "---------------------------------------------\n",
            "Permuting 99 times...\n",
            "[-2.7837155  1.3037597] [0.01 0.31]\n",
            "---------------------------------------------\n",
            "class 3 and class 1 permutation t_test\n",
            "---------------------------------------------\n",
            "Permuting 99 times...\n",
            "[-7.574633   2.7651258] [0.01 0.03]\n",
            "---------------------------------------------\n",
            "class 3 and class 2 permutation t_test\n",
            "---------------------------------------------\n",
            "Permuting 99 times...\n",
            "[-3.1695657 12.798509 ] [0.02 0.01]\n",
            "---------------------------------------------\n",
            "class 3 and class 3 permutation t_test\n",
            "---------------------------------------------\n",
            "Permuting 99 times...\n",
            "[-4.357533 -4.357533] [0.01 0.01]\n",
            "---------------------------------------------\n",
            "class 3 and class 4 permutation t_test\n",
            "---------------------------------------------\n",
            "Permuting 99 times...\n",
            "[ 0.09437511 23.857426  ] [1.   0.01]\n",
            "---------------------------------------------\n",
            "class 3 and class 5 permutation t_test\n",
            "---------------------------------------------\n",
            "Permuting 99 times...\n",
            "[-1.7227875 16.039524 ] [0.16 0.01]\n",
            "---------------------------------------------\n",
            "class 3 and class 6 permutation t_test\n",
            "---------------------------------------------\n",
            "Permuting 99 times...\n",
            "[-4.4272285 23.075632 ] [0.01 0.01]\n",
            "---------------------------------------------\n",
            "class 4 and class 0 permutation t_test\n",
            "---------------------------------------------\n",
            "Permuting 99 times...\n",
            "[1.3026841 1.3037597] [0.4 0.4]\n",
            "---------------------------------------------\n",
            "class 4 and class 1 permutation t_test\n",
            "---------------------------------------------\n",
            "Permuting 99 times...\n",
            "[4.541283  2.7651258] [0.01 0.02]\n",
            "---------------------------------------------\n",
            "class 4 and class 2 permutation t_test\n",
            "---------------------------------------------\n",
            "Permuting 99 times...\n",
            "[23.857426 10.233715] [0.01 0.01]\n",
            "---------------------------------------------\n",
            "class 4 and class 3 permutation t_test\n",
            "---------------------------------------------\n",
            "Permuting 99 times...\n",
            "[23.857426    0.09437511] [0.01 1.  ]\n",
            "---------------------------------------------\n",
            "class 4 and class 4 permutation t_test\n",
            "---------------------------------------------\n",
            "Permuting 99 times...\n",
            "[23.857426 23.857426] [0.01 0.01]\n",
            "---------------------------------------------\n",
            "class 4 and class 5 permutation t_test\n",
            "---------------------------------------------\n",
            "Permuting 99 times...\n",
            "[-0.04686228 16.039524  ] [1.   0.01]\n",
            "---------------------------------------------\n",
            "class 4 and class 6 permutation t_test\n",
            "---------------------------------------------\n",
            "Permuting 99 times...\n",
            "[-6.8385406 23.075632 ] [0.01 0.01]\n",
            "---------------------------------------------\n",
            "class 5 and class 0 permutation t_test\n",
            "---------------------------------------------\n",
            "Permuting 99 times...\n",
            "[16.039524   2.8819752] [0.01 0.01]\n",
            "---------------------------------------------\n",
            "class 5 and class 1 permutation t_test\n",
            "---------------------------------------------\n",
            "Permuting 99 times...\n",
            "[16.039524   1.7542771] [0.01 0.18]\n",
            "---------------------------------------------\n",
            "class 5 and class 2 permutation t_test\n",
            "---------------------------------------------\n",
            "Permuting 99 times...\n",
            "[16.039524 19.045006] [0.01 0.01]\n",
            "---------------------------------------------\n",
            "class 5 and class 3 permutation t_test\n",
            "---------------------------------------------\n",
            "Permuting 99 times...\n",
            "[16.039524  -1.7227875] [0.01 0.1 ]\n",
            "---------------------------------------------\n",
            "class 5 and class 4 permutation t_test\n",
            "---------------------------------------------\n",
            "Permuting 99 times...\n",
            "[16.039524   -0.04686228] [0.01 1.  ]\n",
            "---------------------------------------------\n",
            "class 5 and class 5 permutation t_test\n",
            "---------------------------------------------\n",
            "Permuting 99 times...\n",
            "[16.039524 16.039524] [0.01 0.01]\n",
            "---------------------------------------------\n",
            "class 5 and class 6 permutation t_test\n",
            "---------------------------------------------\n",
            "Permuting 99 times...\n",
            "[14.063592 23.075632] [0.01 0.01]\n",
            "---------------------------------------------\n",
            "class 6 and class 0 permutation t_test\n",
            "---------------------------------------------\n",
            "Permuting 99 times...\n",
            "[23.075632   2.2721744] [0.01 0.04]\n",
            "---------------------------------------------\n",
            "class 6 and class 1 permutation t_test\n",
            "---------------------------------------------\n",
            "Permuting 99 times...\n",
            "[23.075632   3.4006155] [0.01 0.01]\n",
            "---------------------------------------------\n",
            "class 6 and class 2 permutation t_test\n",
            "---------------------------------------------\n",
            "Permuting 99 times...\n",
            "[23.075632 10.791928] [0.01 0.01]\n",
            "---------------------------------------------\n",
            "class 6 and class 3 permutation t_test\n",
            "---------------------------------------------\n",
            "Permuting 99 times...\n",
            "[23.075632  -4.4272285] [0.01 0.01]\n",
            "---------------------------------------------\n",
            "class 6 and class 4 permutation t_test\n",
            "---------------------------------------------\n",
            "Permuting 99 times...\n",
            "[23.075632  -6.8385406] [0.01 0.01]\n",
            "---------------------------------------------\n",
            "class 6 and class 5 permutation t_test\n",
            "---------------------------------------------\n",
            "Permuting 99 times...\n",
            "[23.075632 14.063592] [0.01 0.01]\n",
            "---------------------------------------------\n",
            "class 6 and class 6 permutation t_test\n",
            "---------------------------------------------\n",
            "Permuting 99 times...\n",
            "[23.075632 23.075632] [0.01 0.01]\n",
            "--------------------------------------------------VALENCE FEATURE 1-----------------------------------------------------\n",
            "---------------------------------------------\n",
            "class 0 and class 0 permutation t_test\n",
            "---------------------------------------------\n",
            "Permuting 99 times...\n",
            "[-7.671917 -7.671917] [0.01 0.01]\n",
            "---------------------------------------------\n",
            "class 0 and class 1 permutation t_test\n",
            "---------------------------------------------\n",
            "Permuting 99 times...\n",
            "[-7.671917 11.746462] [0.01 0.01]\n",
            "---------------------------------------------\n",
            "class 0 and class 2 permutation t_test\n",
            "---------------------------------------------\n",
            "Permuting 99 times...\n",
            "[-7.671917   3.5175707] [0.01 0.01]\n",
            "---------------------------------------------\n",
            "class 0 and class 3 permutation t_test\n",
            "---------------------------------------------\n",
            "Permuting 99 times...\n",
            "[-7.671917  7.478   ] [0.01 0.01]\n",
            "---------------------------------------------\n",
            "class 0 and class 4 permutation t_test\n",
            "---------------------------------------------\n",
            "Permuting 99 times...\n",
            "[-7.671917    0.33295932] [0.01 0.93]\n",
            "---------------------------------------------\n",
            "class 0 and class 5 permutation t_test\n",
            "---------------------------------------------\n",
            "Permuting 99 times...\n",
            "[-4.5741763  4.3058286] [0.01 0.01]\n",
            "---------------------------------------------\n",
            "class 0 and class 6 permutation t_test\n",
            "---------------------------------------------\n",
            "Permuting 99 times...\n",
            "[-3.0389378 16.310465 ] [0.01 0.01]\n",
            "---------------------------------------------\n",
            "class 1 and class 0 permutation t_test\n",
            "---------------------------------------------\n",
            "Permuting 99 times...\n",
            "[11.746462 -7.671917] [0.01 0.01]\n",
            "---------------------------------------------\n",
            "class 1 and class 1 permutation t_test\n",
            "---------------------------------------------\n",
            "Permuting 99 times...\n",
            "[10.541509 10.541509] [0.01 0.01]\n",
            "---------------------------------------------\n",
            "class 1 and class 2 permutation t_test\n",
            "---------------------------------------------\n",
            "Permuting 99 times...\n",
            "[10.541509  5.000647] [0.01 0.01]\n",
            "---------------------------------------------\n",
            "class 1 and class 3 permutation t_test\n",
            "---------------------------------------------\n",
            "Permuting 99 times...\n",
            "[10.541509   7.0357323] [0.01 0.01]\n",
            "---------------------------------------------\n",
            "class 1 and class 4 permutation t_test\n",
            "---------------------------------------------\n",
            "Permuting 99 times...\n",
            "[10.541509  6.212517] [0.01 0.01]\n",
            "---------------------------------------------\n",
            "class 1 and class 5 permutation t_test\n",
            "---------------------------------------------\n",
            "Permuting 99 times...\n",
            "[7.7503595 4.3058286] [0.01 0.01]\n",
            "---------------------------------------------\n",
            "class 1 and class 6 permutation t_test\n",
            "---------------------------------------------\n",
            "Permuting 99 times...\n",
            "[12.434136 16.310465] [0.01 0.01]\n",
            "---------------------------------------------\n",
            "class 2 and class 0 permutation t_test\n",
            "---------------------------------------------\n",
            "Permuting 99 times...\n",
            "[ 3.5175707 -7.671917 ] [0.01 0.01]\n",
            "---------------------------------------------\n",
            "class 2 and class 1 permutation t_test\n",
            "---------------------------------------------\n",
            "Permuting 99 times...\n",
            "[ 5.000647 10.541509] [0.01 0.01]\n",
            "---------------------------------------------\n",
            "class 2 and class 2 permutation t_test\n",
            "---------------------------------------------\n",
            "Permuting 99 times...\n",
            "[1.657783 1.657783] [0.12 0.12]\n",
            "---------------------------------------------\n",
            "class 2 and class 3 permutation t_test\n",
            "---------------------------------------------\n",
            "Permuting 99 times...\n",
            "[ 1.657783 10.81601 ] [0.17 0.01]\n",
            "---------------------------------------------\n",
            "class 2 and class 4 permutation t_test\n",
            "---------------------------------------------\n",
            "Permuting 99 times...\n",
            "[ 2.3642943 18.905638 ] [0.07 0.01]\n",
            "---------------------------------------------\n",
            "class 2 and class 5 permutation t_test\n",
            "---------------------------------------------\n",
            "Permuting 99 times...\n",
            "[8.736735  4.3058286] [0.01 0.01]\n",
            "---------------------------------------------\n",
            "class 2 and class 6 permutation t_test\n",
            "---------------------------------------------\n",
            "Permuting 99 times...\n",
            "[ 8.819692 16.310465] [0.01 0.01]\n",
            "---------------------------------------------\n",
            "class 3 and class 0 permutation t_test\n",
            "---------------------------------------------\n",
            "Permuting 99 times...\n",
            "[ 7.478    -7.671917] [0.01 0.01]\n",
            "---------------------------------------------\n",
            "class 3 and class 1 permutation t_test\n",
            "---------------------------------------------\n",
            "Permuting 99 times...\n",
            "[ 7.0357323 10.541509 ] [0.01 0.01]\n",
            "---------------------------------------------\n",
            "class 3 and class 2 permutation t_test\n",
            "---------------------------------------------\n",
            "Permuting 99 times...\n",
            "[10.81601   1.657783] [0.01 0.17]\n",
            "---------------------------------------------\n",
            "class 3 and class 3 permutation t_test\n",
            "---------------------------------------------\n",
            "Permuting 99 times...\n",
            "[11.649611 11.649611] [0.01 0.01]\n",
            "---------------------------------------------\n",
            "class 3 and class 4 permutation t_test\n",
            "---------------------------------------------\n",
            "Permuting 99 times...\n",
            "[11.228299 18.905638] [0.01 0.01]\n",
            "---------------------------------------------\n",
            "class 3 and class 5 permutation t_test\n",
            "---------------------------------------------\n",
            "Permuting 99 times...\n",
            "[6.9459724 4.3058286] [0.01 0.01]\n",
            "---------------------------------------------\n",
            "class 3 and class 6 permutation t_test\n",
            "---------------------------------------------\n",
            "Permuting 99 times...\n",
            "[ 3.8815544 16.310465 ] [0.01 0.01]\n",
            "---------------------------------------------\n",
            "class 4 and class 0 permutation t_test\n",
            "---------------------------------------------\n",
            "Permuting 99 times...\n",
            "[ 0.33295932 -7.671917  ] [0.96 0.01]\n",
            "---------------------------------------------\n",
            "class 4 and class 1 permutation t_test\n",
            "---------------------------------------------\n",
            "Permuting 99 times...\n",
            "[ 6.212517 10.541509] [0.01 0.01]\n",
            "---------------------------------------------\n",
            "class 4 and class 2 permutation t_test\n",
            "---------------------------------------------\n",
            "Permuting 99 times...\n",
            "[18.905638   2.3642943] [0.01 0.03]\n",
            "---------------------------------------------\n",
            "class 4 and class 3 permutation t_test\n",
            "---------------------------------------------\n",
            "Permuting 99 times...\n",
            "[18.905638 11.228299] [0.01 0.01]\n",
            "---------------------------------------------\n",
            "class 4 and class 4 permutation t_test\n",
            "---------------------------------------------\n",
            "Permuting 99 times...\n",
            "[18.905638 18.905638] [0.01 0.01]\n",
            "---------------------------------------------\n",
            "class 4 and class 5 permutation t_test\n",
            "---------------------------------------------\n",
            "Permuting 99 times...\n",
            "[1.0519282 4.3058286] [0.53 0.01]\n",
            "---------------------------------------------\n",
            "class 4 and class 6 permutation t_test\n",
            "---------------------------------------------\n",
            "Permuting 99 times...\n",
            "[-4.0806303 16.310465 ] [0.01 0.01]\n",
            "---------------------------------------------\n",
            "class 5 and class 0 permutation t_test\n",
            "---------------------------------------------\n",
            "Permuting 99 times...\n",
            "[ 4.3058286 -4.5741763] [0.01 0.01]\n",
            "---------------------------------------------\n",
            "class 5 and class 1 permutation t_test\n",
            "---------------------------------------------\n",
            "Permuting 99 times...\n",
            "[4.3058286 7.7503595] [0.01 0.01]\n",
            "---------------------------------------------\n",
            "class 5 and class 2 permutation t_test\n",
            "---------------------------------------------\n",
            "Permuting 99 times...\n",
            "[4.3058286 8.736735 ] [0.01 0.01]\n",
            "---------------------------------------------\n",
            "class 5 and class 3 permutation t_test\n",
            "---------------------------------------------\n",
            "Permuting 99 times...\n",
            "[4.3058286 6.9459724] [0.01 0.01]\n",
            "---------------------------------------------\n",
            "class 5 and class 4 permutation t_test\n",
            "---------------------------------------------\n",
            "Permuting 99 times...\n",
            "[4.3058286 1.0519282] [0.01 0.39]\n",
            "---------------------------------------------\n",
            "class 5 and class 5 permutation t_test\n",
            "---------------------------------------------\n",
            "Permuting 99 times...\n",
            "[4.3058286 4.3058286] [0.01 0.01]\n",
            "---------------------------------------------\n",
            "class 5 and class 6 permutation t_test\n",
            "---------------------------------------------\n",
            "Permuting 99 times...\n",
            "[ 6.6123075 16.310465 ] [0.01 0.01]\n",
            "---------------------------------------------\n",
            "class 6 and class 0 permutation t_test\n",
            "---------------------------------------------\n",
            "Permuting 99 times...\n",
            "[16.310465  -3.0389378] [0.01 0.02]\n",
            "---------------------------------------------\n",
            "class 6 and class 1 permutation t_test\n",
            "---------------------------------------------\n",
            "Permuting 99 times...\n",
            "[16.310465 12.434136] [0.01 0.01]\n",
            "---------------------------------------------\n",
            "class 6 and class 2 permutation t_test\n",
            "---------------------------------------------\n",
            "Permuting 99 times...\n",
            "[16.310465  8.819692] [0.01 0.01]\n",
            "---------------------------------------------\n",
            "class 6 and class 3 permutation t_test\n",
            "---------------------------------------------\n",
            "Permuting 99 times...\n",
            "[16.310465   3.8815544] [0.01 0.01]\n",
            "---------------------------------------------\n",
            "class 6 and class 4 permutation t_test\n",
            "---------------------------------------------\n",
            "Permuting 99 times...\n",
            "[16.310465  -4.0806303] [0.01 0.01]\n",
            "---------------------------------------------\n",
            "class 6 and class 5 permutation t_test\n",
            "---------------------------------------------\n",
            "Permuting 99 times...\n",
            "[16.310465   6.6123075] [0.01 0.01]\n",
            "---------------------------------------------\n",
            "class 6 and class 6 permutation t_test\n",
            "---------------------------------------------\n",
            "Permuting 99 times...\n",
            "[16.310465 16.310465] [0.01 0.01]\n",
            "--------------------------------------------------VALENCE FEATURE 2-----------------------------------------------------\n",
            "---------------------------------------------\n",
            "class 0 and class 0 permutation t_test\n",
            "---------------------------------------------\n",
            "Permuting 99 times...\n",
            "[19.33242 19.33242] [0.01 0.01]\n",
            "---------------------------------------------\n",
            "class 0 and class 1 permutation t_test\n",
            "---------------------------------------------\n",
            "Permuting 99 times...\n",
            "[19.33242  27.745518] [0.01 0.01]\n",
            "---------------------------------------------\n",
            "class 0 and class 2 permutation t_test\n",
            "---------------------------------------------\n",
            "Permuting 99 times...\n",
            "[19.33242  10.094936] [0.01 0.01]\n",
            "---------------------------------------------\n",
            "class 0 and class 3 permutation t_test\n",
            "---------------------------------------------\n",
            "Permuting 99 times...\n",
            "[19.33242  17.431684] [0.01 0.01]\n",
            "---------------------------------------------\n",
            "class 0 and class 4 permutation t_test\n",
            "---------------------------------------------\n",
            "Permuting 99 times...\n",
            "[19.33242  24.101223] [0.01 0.01]\n",
            "---------------------------------------------\n",
            "class 0 and class 5 permutation t_test\n",
            "---------------------------------------------\n",
            "Permuting 99 times...\n",
            "[17.109934   3.9642785] [0.01 0.01]\n",
            "---------------------------------------------\n",
            "class 0 and class 6 permutation t_test\n",
            "---------------------------------------------\n",
            "Permuting 99 times...\n",
            "[28.561455 48.007195] [0.01 0.01]\n",
            "---------------------------------------------\n",
            "class 1 and class 0 permutation t_test\n",
            "---------------------------------------------\n",
            "Permuting 99 times...\n",
            "[27.745518 19.33242 ] [0.01 0.01]\n",
            "---------------------------------------------\n",
            "class 1 and class 1 permutation t_test\n",
            "---------------------------------------------\n",
            "Permuting 99 times...\n",
            "[26.756992 26.756992] [0.01 0.01]\n",
            "---------------------------------------------\n",
            "class 1 and class 2 permutation t_test\n",
            "---------------------------------------------\n",
            "Permuting 99 times...\n",
            "[26.756992   3.6725411] [0.01 0.01]\n",
            "---------------------------------------------\n",
            "class 1 and class 3 permutation t_test\n",
            "---------------------------------------------\n",
            "Permuting 99 times...\n",
            "[26.756992 24.880983] [0.01 0.01]\n",
            "---------------------------------------------\n",
            "class 1 and class 4 permutation t_test\n",
            "---------------------------------------------\n",
            "Permuting 99 times...\n",
            "[26.756992 31.6884  ] [0.01 0.01]\n",
            "---------------------------------------------\n",
            "class 1 and class 5 permutation t_test\n",
            "---------------------------------------------\n",
            "Permuting 99 times...\n",
            "[26.214787   3.9642785] [0.01 0.01]\n",
            "---------------------------------------------\n",
            "class 1 and class 6 permutation t_test\n",
            "---------------------------------------------\n",
            "Permuting 99 times...\n",
            "[18.94061  48.007195] [0.01 0.01]\n",
            "---------------------------------------------\n",
            "class 2 and class 0 permutation t_test\n",
            "---------------------------------------------\n",
            "Permuting 99 times...\n",
            "[10.094936 19.33242 ] [0.01 0.01]\n",
            "---------------------------------------------\n",
            "class 2 and class 1 permutation t_test\n",
            "---------------------------------------------\n",
            "Permuting 99 times...\n",
            "[ 3.6725411 26.756992 ] [0.01 0.01]\n",
            "---------------------------------------------\n",
            "class 2 and class 2 permutation t_test\n",
            "---------------------------------------------\n",
            "Permuting 99 times...\n",
            "[23.254227 23.254227] [0.01 0.01]\n",
            "---------------------------------------------\n",
            "class 2 and class 3 permutation t_test\n",
            "---------------------------------------------\n",
            "Permuting 99 times...\n",
            "[23.254227 33.511757] [0.01 0.01]\n",
            "---------------------------------------------\n",
            "class 2 and class 4 permutation t_test\n",
            "---------------------------------------------\n",
            "Permuting 99 times...\n",
            "[21.188784 52.467884] [0.01 0.01]\n",
            "---------------------------------------------\n",
            "class 2 and class 5 permutation t_test\n",
            "---------------------------------------------\n",
            "Permuting 99 times...\n",
            "[9.554299  3.9642785] [0.01 0.01]\n",
            "---------------------------------------------\n",
            "class 2 and class 6 permutation t_test\n",
            "---------------------------------------------\n",
            "Permuting 99 times...\n",
            "[ 6.059561 48.007195] [0.01 0.01]\n",
            "---------------------------------------------\n",
            "class 3 and class 0 permutation t_test\n",
            "---------------------------------------------\n",
            "Permuting 99 times...\n",
            "[17.431684 19.33242 ] [0.01 0.01]\n",
            "---------------------------------------------\n",
            "class 3 and class 1 permutation t_test\n",
            "---------------------------------------------\n",
            "Permuting 99 times...\n",
            "[24.880983 26.756992] [0.01 0.01]\n",
            "---------------------------------------------\n",
            "class 3 and class 2 permutation t_test\n",
            "---------------------------------------------\n",
            "Permuting 99 times...\n",
            "[33.511757 23.254227] [0.01 0.01]\n",
            "---------------------------------------------\n",
            "class 3 and class 3 permutation t_test\n",
            "---------------------------------------------\n",
            "Permuting 99 times...\n",
            "[44.926155 44.926155] [0.01 0.01]\n",
            "---------------------------------------------\n",
            "class 3 and class 4 permutation t_test\n",
            "---------------------------------------------\n",
            "Permuting 99 times...\n",
            "[33.1054   52.467884] [0.01 0.01]\n",
            "---------------------------------------------\n",
            "class 3 and class 5 permutation t_test\n",
            "---------------------------------------------\n",
            "Permuting 99 times...\n",
            "[17.781229   3.9642785] [0.01 0.01]\n",
            "---------------------------------------------\n",
            "class 3 and class 6 permutation t_test\n",
            "---------------------------------------------\n",
            "Permuting 99 times...\n",
            "[12.346205 48.007195] [0.01 0.01]\n",
            "---------------------------------------------\n",
            "class 4 and class 0 permutation t_test\n",
            "---------------------------------------------\n",
            "Permuting 99 times...\n",
            "[24.101223 19.33242 ] [0.01 0.01]\n",
            "---------------------------------------------\n",
            "class 4 and class 1 permutation t_test\n",
            "---------------------------------------------\n",
            "Permuting 99 times...\n",
            "[31.6884   26.756992] [0.01 0.01]\n",
            "---------------------------------------------\n",
            "class 4 and class 2 permutation t_test\n",
            "---------------------------------------------\n",
            "Permuting 99 times...\n",
            "[52.467884 21.188784] [0.01 0.01]\n",
            "---------------------------------------------\n",
            "class 4 and class 3 permutation t_test\n",
            "---------------------------------------------\n",
            "Permuting 99 times...\n",
            "[52.467884 33.1054  ] [0.01 0.01]\n",
            "---------------------------------------------\n",
            "class 4 and class 4 permutation t_test\n",
            "---------------------------------------------\n",
            "Permuting 99 times...\n",
            "[52.467884 52.467884] [0.01 0.01]\n",
            "---------------------------------------------\n",
            "class 4 and class 5 permutation t_test\n",
            "---------------------------------------------\n",
            "Permuting 99 times...\n",
            "[25.966791   3.9642785] [0.01 0.01]\n",
            "---------------------------------------------\n",
            "class 4 and class 6 permutation t_test\n",
            "---------------------------------------------\n",
            "Permuting 99 times...\n",
            "[13.104386 48.007195] [0.01 0.01]\n",
            "---------------------------------------------\n",
            "class 5 and class 0 permutation t_test\n",
            "---------------------------------------------\n",
            "Permuting 99 times...\n",
            "[ 3.9642785 17.109934 ] [0.01 0.01]\n",
            "---------------------------------------------\n",
            "class 5 and class 1 permutation t_test\n",
            "---------------------------------------------\n",
            "Permuting 99 times...\n",
            "[ 3.9642785 26.214787 ] [0.01 0.01]\n",
            "---------------------------------------------\n",
            "class 5 and class 2 permutation t_test\n",
            "---------------------------------------------\n",
            "Permuting 99 times...\n",
            "[3.9642785 9.554299 ] [0.01 0.01]\n",
            "---------------------------------------------\n",
            "class 5 and class 3 permutation t_test\n",
            "---------------------------------------------\n",
            "Permuting 99 times...\n",
            "[ 3.9642785 17.781229 ] [0.01 0.01]\n",
            "---------------------------------------------\n",
            "class 5 and class 4 permutation t_test\n",
            "---------------------------------------------\n",
            "Permuting 99 times...\n",
            "[ 3.9642785 25.966791 ] [0.01 0.01]\n",
            "---------------------------------------------\n",
            "class 5 and class 5 permutation t_test\n",
            "---------------------------------------------\n",
            "Permuting 99 times...\n",
            "[3.9642785 3.9642785] [0.02 0.02]\n",
            "---------------------------------------------\n",
            "class 5 and class 6 permutation t_test\n",
            "---------------------------------------------\n",
            "Permuting 99 times...\n",
            "[13.925064 48.007195] [0.01 0.01]\n",
            "---------------------------------------------\n",
            "class 6 and class 0 permutation t_test\n",
            "---------------------------------------------\n",
            "Permuting 99 times...\n",
            "[48.007195 28.561455] [0.01 0.01]\n",
            "---------------------------------------------\n",
            "class 6 and class 1 permutation t_test\n",
            "---------------------------------------------\n",
            "Permuting 99 times...\n",
            "[48.007195 18.94061 ] [0.01 0.01]\n",
            "---------------------------------------------\n",
            "class 6 and class 2 permutation t_test\n",
            "---------------------------------------------\n",
            "Permuting 99 times...\n",
            "[48.007195  6.059561] [0.01 0.01]\n",
            "---------------------------------------------\n",
            "class 6 and class 3 permutation t_test\n",
            "---------------------------------------------\n",
            "Permuting 99 times...\n",
            "[48.007195 12.346205] [0.01 0.01]\n",
            "---------------------------------------------\n",
            "class 6 and class 4 permutation t_test\n",
            "---------------------------------------------\n",
            "Permuting 99 times...\n",
            "[48.007195 13.104386] [0.01 0.01]\n",
            "---------------------------------------------\n",
            "class 6 and class 5 permutation t_test\n",
            "---------------------------------------------\n",
            "Permuting 99 times...\n",
            "[48.007195 13.925064] [0.01 0.01]\n",
            "---------------------------------------------\n",
            "class 6 and class 6 permutation t_test\n",
            "---------------------------------------------\n",
            "Permuting 99 times...\n",
            "[48.007195 48.007195] [0.01 0.01]\n",
            "--------------------------------------------------VALENCE FEATURE 3-----------------------------------------------------\n",
            "---------------------------------------------\n",
            "class 0 and class 0 permutation t_test\n",
            "---------------------------------------------\n",
            "Permuting 99 times...\n",
            "[3.0840473 3.0840473] [0.01 0.01]\n",
            "---------------------------------------------\n",
            "class 0 and class 1 permutation t_test\n",
            "---------------------------------------------\n",
            "Permuting 99 times...\n",
            "[ 3.0840473 -4.1402087] [0.02 0.01]\n",
            "---------------------------------------------\n",
            "class 0 and class 2 permutation t_test\n",
            "---------------------------------------------\n",
            "Permuting 99 times...\n",
            "[ 3.0840473 -6.857183 ] [0.03 0.01]\n",
            "---------------------------------------------\n",
            "class 0 and class 3 permutation t_test\n",
            "---------------------------------------------\n",
            "Permuting 99 times...\n",
            "[3.0840473 6.310473 ] [0.02 0.01]\n",
            "---------------------------------------------\n",
            "class 0 and class 4 permutation t_test\n",
            "---------------------------------------------\n",
            "Permuting 99 times...\n",
            "[ 3.0840473 -1.0474968] [0.03 0.49]\n",
            "---------------------------------------------\n",
            "class 0 and class 5 permutation t_test\n",
            "---------------------------------------------\n",
            "Permuting 99 times...\n",
            "[2.1245272 4.2047434] [0.05 0.01]\n",
            "---------------------------------------------\n",
            "class 0 and class 6 permutation t_test\n",
            "---------------------------------------------\n",
            "Permuting 99 times...\n",
            "[ 1.6802651 -6.657978 ] [0.23 0.01]\n",
            "---------------------------------------------\n",
            "class 1 and class 0 permutation t_test\n",
            "---------------------------------------------\n",
            "Permuting 99 times...\n",
            "[-4.1402087  3.0840473] [0.01 0.01]\n",
            "---------------------------------------------\n",
            "class 1 and class 1 permutation t_test\n",
            "---------------------------------------------\n",
            "Permuting 99 times...\n",
            "[-3.863512 -3.863512] [0.01 0.01]\n",
            "---------------------------------------------\n",
            "class 1 and class 2 permutation t_test\n",
            "---------------------------------------------\n",
            "Permuting 99 times...\n",
            "[-3.863512   1.2212603] [0.01 0.38]\n",
            "---------------------------------------------\n",
            "class 1 and class 3 permutation t_test\n",
            "---------------------------------------------\n",
            "Permuting 99 times...\n",
            "[-3.863512  5.093258] [0.01 0.01]\n",
            "---------------------------------------------\n",
            "class 1 and class 4 permutation t_test\n",
            "---------------------------------------------\n",
            "Permuting 99 times...\n",
            "[-3.863512  -1.8120279] [0.01 0.18]\n",
            "---------------------------------------------\n",
            "class 1 and class 5 permutation t_test\n",
            "---------------------------------------------\n",
            "Permuting 99 times...\n",
            "[-4.2837563  4.2047434] [0.01 0.01]\n",
            "---------------------------------------------\n",
            "class 1 and class 6 permutation t_test\n",
            "---------------------------------------------\n",
            "Permuting 99 times...\n",
            "[-4.3668184 -6.657978 ] [0.01 0.01]\n",
            "---------------------------------------------\n",
            "class 2 and class 0 permutation t_test\n",
            "---------------------------------------------\n",
            "Permuting 99 times...\n",
            "[-6.857183   3.0840473] [0.01 0.01]\n",
            "---------------------------------------------\n",
            "class 2 and class 1 permutation t_test\n",
            "---------------------------------------------\n",
            "Permuting 99 times...\n",
            "[ 1.2212603 -3.863512 ] [0.45 0.01]\n",
            "---------------------------------------------\n",
            "class 2 and class 2 permutation t_test\n",
            "---------------------------------------------\n",
            "Permuting 99 times...\n",
            "[-1.9539089 -1.9539089] [0.02 0.02]\n",
            "---------------------------------------------\n",
            "class 2 and class 3 permutation t_test\n",
            "---------------------------------------------\n",
            "Permuting 99 times...\n",
            "[-1.9539089  9.153544 ] [0.15 0.01]\n",
            "---------------------------------------------\n",
            "class 2 and class 4 permutation t_test\n",
            "---------------------------------------------\n",
            "Permuting 99 times...\n",
            "[-2.580556 -4.823264] [0.07 0.01]\n",
            "---------------------------------------------\n",
            "class 2 and class 5 permutation t_test\n",
            "---------------------------------------------\n",
            "Permuting 99 times...\n",
            "[-5.3890214  4.2047434] [0.01 0.01]\n",
            "---------------------------------------------\n",
            "class 2 and class 6 permutation t_test\n",
            "---------------------------------------------\n",
            "Permuting 99 times...\n",
            "[ 0.15097278 -6.657978  ] [0.99 0.01]\n",
            "---------------------------------------------\n",
            "class 3 and class 0 permutation t_test\n",
            "---------------------------------------------\n",
            "Permuting 99 times...\n",
            "[6.310473  3.0840473] [0.01 0.02]\n",
            "---------------------------------------------\n",
            "class 3 and class 1 permutation t_test\n",
            "---------------------------------------------\n",
            "Permuting 99 times...\n",
            "[ 5.093258 -3.863512] [0.01 0.01]\n",
            "---------------------------------------------\n",
            "class 3 and class 2 permutation t_test\n",
            "---------------------------------------------\n",
            "Permuting 99 times...\n",
            "[ 9.153544  -1.9539089] [0.01 0.12]\n",
            "---------------------------------------------\n",
            "class 3 and class 3 permutation t_test\n",
            "---------------------------------------------\n",
            "Permuting 99 times...\n",
            "[6.7302074 6.7302074] [0.01 0.01]\n",
            "---------------------------------------------\n",
            "class 3 and class 4 permutation t_test\n",
            "---------------------------------------------\n",
            "Permuting 99 times...\n",
            "[ 5.000331 -4.823264] [0.01 0.01]\n",
            "---------------------------------------------\n",
            "class 3 and class 5 permutation t_test\n",
            "---------------------------------------------\n",
            "Permuting 99 times...\n",
            "[4.911091  4.2047434] [0.01 0.01]\n",
            "---------------------------------------------\n",
            "class 3 and class 6 permutation t_test\n",
            "---------------------------------------------\n",
            "Permuting 99 times...\n",
            "[ 2.0952442 -6.657978 ] [0.09 0.01]\n",
            "---------------------------------------------\n",
            "class 4 and class 0 permutation t_test\n",
            "---------------------------------------------\n",
            "Permuting 99 times...\n",
            "[-1.0474968  3.0840473] [0.49 0.01]\n",
            "---------------------------------------------\n",
            "class 4 and class 1 permutation t_test\n",
            "---------------------------------------------\n",
            "Permuting 99 times...\n",
            "[-1.8120279 -3.863512 ] [0.18 0.01]\n",
            "---------------------------------------------\n",
            "class 4 and class 2 permutation t_test\n",
            "---------------------------------------------\n",
            "Permuting 99 times...\n",
            "[-4.823264 -2.580556] [0.01 0.04]\n",
            "---------------------------------------------\n",
            "class 4 and class 3 permutation t_test\n",
            "---------------------------------------------\n",
            "Permuting 99 times...\n",
            "[-4.823264  5.000331] [0.01 0.01]\n",
            "---------------------------------------------\n",
            "class 4 and class 4 permutation t_test\n",
            "---------------------------------------------\n",
            "Permuting 99 times...\n",
            "[-4.823264 -4.823264] [0.01 0.01]\n",
            "---------------------------------------------\n",
            "class 4 and class 5 permutation t_test\n",
            "---------------------------------------------\n",
            "Permuting 99 times...\n",
            "[-2.3773334  4.2047434] [0.05 0.01]\n",
            "---------------------------------------------\n",
            "class 4 and class 6 permutation t_test\n",
            "---------------------------------------------\n",
            "Permuting 99 times...\n",
            "[-2.2338197 -6.657978 ] [0.05 0.01]\n",
            "---------------------------------------------\n",
            "class 5 and class 0 permutation t_test\n",
            "---------------------------------------------\n",
            "Permuting 99 times...\n",
            "[4.2047434 2.1245272] [0.01 0.06]\n",
            "---------------------------------------------\n",
            "class 5 and class 1 permutation t_test\n",
            "---------------------------------------------\n",
            "Permuting 99 times...\n",
            "[ 4.2047434 -4.2837563] [0.01 0.01]\n",
            "---------------------------------------------\n",
            "class 5 and class 2 permutation t_test\n",
            "---------------------------------------------\n",
            "Permuting 99 times...\n",
            "[ 4.2047434 -5.3890214] [0.01 0.01]\n",
            "---------------------------------------------\n",
            "class 5 and class 3 permutation t_test\n",
            "---------------------------------------------\n",
            "Permuting 99 times...\n",
            "[4.2047434 4.911091 ] [0.01 0.01]\n",
            "---------------------------------------------\n",
            "class 5 and class 4 permutation t_test\n",
            "---------------------------------------------\n",
            "Permuting 99 times...\n",
            "[ 4.2047434 -2.3773334] [0.01 0.04]\n",
            "---------------------------------------------\n",
            "class 5 and class 5 permutation t_test\n",
            "---------------------------------------------\n",
            "Permuting 99 times...\n",
            "[4.2047434 4.2047434] [0.01 0.01]\n",
            "---------------------------------------------\n",
            "class 5 and class 6 permutation t_test\n",
            "---------------------------------------------\n",
            "Permuting 99 times...\n",
            "[ 2.3527236e-03 -6.6579781e+00] [1.   0.01]\n",
            "---------------------------------------------\n",
            "class 6 and class 0 permutation t_test\n",
            "---------------------------------------------\n",
            "Permuting 99 times...\n",
            "[-6.657978   1.6802651] [0.01 0.2 ]\n",
            "---------------------------------------------\n",
            "class 6 and class 1 permutation t_test\n",
            "---------------------------------------------\n",
            "Permuting 99 times...\n",
            "[-6.657978  -4.3668184] [0.01 0.01]\n",
            "---------------------------------------------\n",
            "class 6 and class 2 permutation t_test\n",
            "---------------------------------------------\n",
            "Permuting 99 times...\n",
            "[-6.657978    0.15097278] [0.01 0.99]\n",
            "---------------------------------------------\n",
            "class 6 and class 3 permutation t_test\n",
            "---------------------------------------------\n",
            "Permuting 99 times...\n",
            "[-6.657978   2.0952442] [0.01 0.03]\n",
            "---------------------------------------------\n",
            "class 6 and class 4 permutation t_test\n",
            "---------------------------------------------\n",
            "Permuting 99 times...\n",
            "[-6.657978  -2.2338197] [0.01 0.03]\n",
            "---------------------------------------------\n",
            "class 6 and class 5 permutation t_test\n",
            "---------------------------------------------\n",
            "Permuting 99 times...\n",
            "[-6.6579781e+00  2.3527236e-03] [0.01 1.  ]\n",
            "---------------------------------------------\n",
            "class 6 and class 6 permutation t_test\n",
            "---------------------------------------------\n",
            "Permuting 99 times...\n",
            "[-6.657978 -6.657978] [0.01 0.01]\n",
            "--------------------------------------------------VALENCE FEATURE 4-----------------------------------------------------\n",
            "---------------------------------------------\n",
            "class 0 and class 0 permutation t_test\n",
            "---------------------------------------------\n",
            "Permuting 99 times...\n",
            "[25.009123 25.009123] [0.01 0.01]\n",
            "---------------------------------------------\n",
            "class 0 and class 1 permutation t_test\n",
            "---------------------------------------------\n",
            "Permuting 99 times...\n",
            "[25.009123 31.797337] [0.01 0.01]\n",
            "---------------------------------------------\n",
            "class 0 and class 2 permutation t_test\n",
            "---------------------------------------------\n",
            "Permuting 99 times...\n",
            "[25.009123   3.4076743] [0.01 0.02]\n",
            "---------------------------------------------\n",
            "class 0 and class 3 permutation t_test\n",
            "---------------------------------------------\n",
            "Permuting 99 times...\n",
            "[25.009123  -6.1448503] [0.01 0.01]\n",
            "---------------------------------------------\n",
            "class 0 and class 4 permutation t_test\n",
            "---------------------------------------------\n",
            "Permuting 99 times...\n",
            "[25.009123 24.377043] [0.01 0.01]\n",
            "---------------------------------------------\n",
            "class 0 and class 5 permutation t_test\n",
            "---------------------------------------------\n",
            "Permuting 99 times...\n",
            "[22.552385 23.403372] [0.01 0.01]\n",
            "---------------------------------------------\n",
            "class 0 and class 6 permutation t_test\n",
            "---------------------------------------------\n",
            "Permuting 99 times...\n",
            "[25.353022 48.48142 ] [0.01 0.01]\n",
            "---------------------------------------------\n",
            "class 1 and class 0 permutation t_test\n",
            "---------------------------------------------\n",
            "Permuting 99 times...\n",
            "[31.797337 25.009123] [0.01 0.01]\n",
            "---------------------------------------------\n",
            "class 1 and class 1 permutation t_test\n",
            "---------------------------------------------\n",
            "Permuting 99 times...\n",
            "[29.092108 29.092108] [0.01 0.01]\n",
            "---------------------------------------------\n",
            "class 1 and class 2 permutation t_test\n",
            "---------------------------------------------\n",
            "Permuting 99 times...\n",
            "[ 29.092108 -11.283729] [0.01 0.01]\n",
            "---------------------------------------------\n",
            "class 1 and class 3 permutation t_test\n",
            "---------------------------------------------\n",
            "Permuting 99 times...\n",
            "[ 29.092108 -10.66181 ] [0.01 0.01]\n",
            "---------------------------------------------\n",
            "class 1 and class 4 permutation t_test\n",
            "---------------------------------------------\n",
            "Permuting 99 times...\n",
            "[29.092108 36.008705] [0.01 0.01]\n",
            "---------------------------------------------\n",
            "class 1 and class 5 permutation t_test\n",
            "---------------------------------------------\n",
            "Permuting 99 times...\n",
            "[34.555134 23.403372] [0.01 0.01]\n",
            "---------------------------------------------\n",
            "class 1 and class 6 permutation t_test\n",
            "---------------------------------------------\n",
            "Permuting 99 times...\n",
            "[35.886684 48.48142 ] [0.01 0.01]\n",
            "---------------------------------------------\n",
            "class 2 and class 0 permutation t_test\n",
            "---------------------------------------------\n",
            "Permuting 99 times...\n",
            "[ 3.4076743 25.009123 ] [0.01 0.01]\n",
            "---------------------------------------------\n",
            "class 2 and class 1 permutation t_test\n",
            "---------------------------------------------\n",
            "Permuting 99 times...\n",
            "[-11.283729  29.092108] [0.01 0.01]\n",
            "---------------------------------------------\n",
            "class 2 and class 2 permutation t_test\n",
            "---------------------------------------------\n",
            "Permuting 99 times...\n",
            "[1.734802 1.734802] [0.06 0.06]\n",
            "---------------------------------------------\n",
            "class 2 and class 3 permutation t_test\n",
            "---------------------------------------------\n",
            "Permuting 99 times...\n",
            "[1.734802  1.4298692] [0.18 0.35]\n",
            "---------------------------------------------\n",
            "class 2 and class 4 permutation t_test\n",
            "---------------------------------------------\n",
            "Permuting 99 times...\n",
            "[-6.013364 44.382885] [0.01 0.01]\n",
            "---------------------------------------------\n",
            "class 2 and class 5 permutation t_test\n",
            "---------------------------------------------\n",
            "Permuting 99 times...\n",
            "[21.750765 23.403372] [0.01 0.01]\n",
            "---------------------------------------------\n",
            "class 2 and class 6 permutation t_test\n",
            "---------------------------------------------\n",
            "Permuting 99 times...\n",
            "[11.582139 48.48142 ] [0.01 0.01]\n",
            "---------------------------------------------\n",
            "class 3 and class 0 permutation t_test\n",
            "---------------------------------------------\n",
            "Permuting 99 times...\n",
            "[-6.1448503 25.009123 ] [0.01 0.01]\n",
            "---------------------------------------------\n",
            "class 3 and class 1 permutation t_test\n",
            "---------------------------------------------\n",
            "Permuting 99 times...\n",
            "[-10.66181   29.092108] [0.01 0.01]\n",
            "---------------------------------------------\n",
            "class 3 and class 2 permutation t_test\n",
            "---------------------------------------------\n",
            "Permuting 99 times...\n",
            "[1.4298692 1.734802 ] [0.21 0.16]\n",
            "---------------------------------------------\n",
            "class 3 and class 3 permutation t_test\n",
            "---------------------------------------------\n",
            "Permuting 99 times...\n",
            "[0.8664485 0.8664485] [0.33 0.33]\n",
            "---------------------------------------------\n",
            "class 3 and class 4 permutation t_test\n",
            "---------------------------------------------\n",
            "Permuting 99 times...\n",
            "[-1.3872163 44.382885 ] [0.24 0.01]\n",
            "---------------------------------------------\n",
            "class 3 and class 5 permutation t_test\n",
            "---------------------------------------------\n",
            "Permuting 99 times...\n",
            "[-8.22975  23.403372] [0.01 0.01]\n",
            "---------------------------------------------\n",
            "class 3 and class 6 permutation t_test\n",
            "---------------------------------------------\n",
            "Permuting 99 times...\n",
            "[-10.934931  48.48142 ] [0.01 0.01]\n",
            "---------------------------------------------\n",
            "class 4 and class 0 permutation t_test\n",
            "---------------------------------------------\n",
            "Permuting 99 times...\n",
            "[24.377043 25.009123] [0.01 0.01]\n",
            "---------------------------------------------\n",
            "class 4 and class 1 permutation t_test\n",
            "---------------------------------------------\n",
            "Permuting 99 times...\n",
            "[36.008705 29.092108] [0.01 0.01]\n",
            "---------------------------------------------\n",
            "class 4 and class 2 permutation t_test\n",
            "---------------------------------------------\n",
            "Permuting 99 times...\n",
            "[44.382885 -6.013364] [0.01 0.01]\n",
            "---------------------------------------------\n",
            "class 4 and class 3 permutation t_test\n",
            "---------------------------------------------\n",
            "Permuting 99 times...\n",
            "[44.382885  -1.3872163] [0.01 0.31]\n",
            "---------------------------------------------\n",
            "class 4 and class 4 permutation t_test\n",
            "---------------------------------------------\n",
            "Permuting 99 times...\n",
            "[44.382885 44.382885] [0.01 0.01]\n",
            "---------------------------------------------\n",
            "class 4 and class 5 permutation t_test\n",
            "---------------------------------------------\n",
            "Permuting 99 times...\n",
            "[18.544174 23.403372] [0.01 0.01]\n",
            "---------------------------------------------\n",
            "class 4 and class 6 permutation t_test\n",
            "---------------------------------------------\n",
            "Permuting 99 times...\n",
            "[18.775705 48.48142 ] [0.01 0.01]\n",
            "---------------------------------------------\n",
            "class 5 and class 0 permutation t_test\n",
            "---------------------------------------------\n",
            "Permuting 99 times...\n",
            "[23.403372 22.552385] [0.01 0.01]\n",
            "---------------------------------------------\n",
            "class 5 and class 1 permutation t_test\n",
            "---------------------------------------------\n",
            "Permuting 99 times...\n",
            "[23.403372 34.555134] [0.01 0.01]\n",
            "---------------------------------------------\n",
            "class 5 and class 2 permutation t_test\n",
            "---------------------------------------------\n",
            "Permuting 99 times...\n",
            "[23.403372 21.750765] [0.01 0.01]\n",
            "---------------------------------------------\n",
            "class 5 and class 3 permutation t_test\n",
            "---------------------------------------------\n",
            "Permuting 99 times...\n",
            "[23.403372 -8.22975 ] [0.01 0.01]\n",
            "---------------------------------------------\n",
            "class 5 and class 4 permutation t_test\n",
            "---------------------------------------------\n",
            "Permuting 99 times...\n",
            "[23.403372 18.544174] [0.01 0.01]\n",
            "---------------------------------------------\n",
            "class 5 and class 5 permutation t_test\n",
            "---------------------------------------------\n",
            "Permuting 99 times...\n",
            "[23.403372 23.403372] [0.01 0.01]\n",
            "---------------------------------------------\n",
            "class 5 and class 6 permutation t_test\n",
            "---------------------------------------------\n",
            "Permuting 99 times...\n",
            "[29.213303 48.48142 ] [0.01 0.01]\n",
            "---------------------------------------------\n",
            "class 6 and class 0 permutation t_test\n",
            "---------------------------------------------\n",
            "Permuting 99 times...\n",
            "[48.48142  25.353022] [0.01 0.01]\n",
            "---------------------------------------------\n",
            "class 6 and class 1 permutation t_test\n",
            "---------------------------------------------\n",
            "Permuting 99 times...\n",
            "[48.48142  35.886684] [0.01 0.01]\n",
            "---------------------------------------------\n",
            "class 6 and class 2 permutation t_test\n",
            "---------------------------------------------\n",
            "Permuting 99 times...\n",
            "[48.48142  11.582139] [0.01 0.01]\n",
            "---------------------------------------------\n",
            "class 6 and class 3 permutation t_test\n",
            "---------------------------------------------\n",
            "Permuting 99 times...\n",
            "[ 48.48142  -10.934931] [0.01 0.01]\n",
            "---------------------------------------------\n",
            "class 6 and class 4 permutation t_test\n",
            "---------------------------------------------\n",
            "Permuting 99 times...\n",
            "[48.48142  18.775705] [0.01 0.01]\n",
            "---------------------------------------------\n",
            "class 6 and class 5 permutation t_test\n",
            "---------------------------------------------\n",
            "Permuting 99 times...\n",
            "[48.48142  29.213303] [0.01 0.01]\n",
            "---------------------------------------------\n",
            "class 6 and class 6 permutation t_test\n",
            "---------------------------------------------\n",
            "Permuting 99 times...\n",
            "[48.48142 48.48142] [0.01 0.01]\n"
          ]
        }
      ],
      "source": [
        "import mne\n",
        "from mne.stats import permutation_t_test\n",
        "\n",
        "for feature in range(5):\n",
        "    print(f\"--------------------------------------------------VALENCE FEATURE {feature}-----------------------------------------------------\")\n",
        "    for i in range(7):\n",
        "        classes_1 = np.array(classes[i])\n",
        "        for j in range(7):\n",
        "            print('---------------------------------------------')\n",
        "            print(f'class {i} and class {j} permutation t_test')\n",
        "            print('---------------------------------------------')\n",
        "            classes_2 = np.array(classes[j])\n",
        "            feature_1 = classes_1[:,:, feature]\n",
        "            feature_2 = classes_2[:,:, feature]\n",
        "            num = min(feature_1.shape[0], feature_2.shape[0])\n",
        "            x = np.stack((feature_1[:num], feature_2[:num]), axis=-1)\n",
        "            x = np.reshape(x, (-1, 2))\n",
        "            T0, p_values, H0 = permutation_t_test(x, 100)\n",
        "            print(T0, p_values)"
      ]
    },
    {
      "cell_type": "code",
      "execution_count": 162,
      "metadata": {},
      "outputs": [
        {
          "name": "stdout",
          "output_type": "stream",
          "text": [
            "--------------------------------------------------VALENCE FEATURE 0-----------------------------------------------------\n",
            "---------------------------------------------\n",
            "class 0 and class 0 permutation cluster test\n",
            "---------------------------------------------\n",
            "stat_fun(H1): min=0.000000 max=0.000000\n",
            "Running initial clustering …\n",
            "Found 0 clusters\n",
            "[] []\n",
            "---------------------------------------------\n",
            "class 0 and class 1 permutation cluster test\n",
            "---------------------------------------------\n",
            "stat_fun(H1): min=0.000006 max=6.488863\n",
            "Running initial clustering …\n",
            "Found 2 clusters\n"
          ]
        },
        {
          "name": "stderr",
          "output_type": "stream",
          "text": [
            "C:\\Users\\Tobii\\AppData\\Local\\Temp\\ipykernel_20164\\2273424511.py:18: RuntimeWarning: No clusters found, returning empty H0, clusters, and cluster_pv\n",
            "  F_obs, clusters, cluster_p_values, H0 = permutation_cluster_test(\n",
            "100%|██████████| Permuting : 99/99 [00:00<00:00,  281.94it/s]"
          ]
        },
        {
          "name": "stdout",
          "output_type": "stream",
          "text": [
            "[(slice(160, 161, None),), (slice(162, 163, None),)] [0.54 0.54]\n",
            "---------------------------------------------\n",
            "class 0 and class 2 permutation cluster test\n",
            "---------------------------------------------\n",
            "stat_fun(H1): min=0.000001 max=9.774339\n"
          ]
        },
        {
          "name": "stderr",
          "output_type": "stream",
          "text": [
            "\n"
          ]
        },
        {
          "name": "stdout",
          "output_type": "stream",
          "text": [
            "Running initial clustering …\n",
            "Found 6 clusters\n"
          ]
        },
        {
          "name": "stderr",
          "output_type": "stream",
          "text": [
            "100%|██████████| Permuting : 99/99 [00:00<00:00,  265.24it/s]\n"
          ]
        },
        {
          "name": "stdout",
          "output_type": "stream",
          "text": [
            "[(slice(26, 33, None),), (slice(45, 46, None),), (slice(64, 67, None),), (slice(68, 71, None),), (slice(79, 80, None),), (slice(132, 133, None),)] [0.16 0.6  0.4  0.43 0.63 0.63]\n",
            "---------------------------------------------\n",
            "class 0 and class 3 permutation cluster test\n",
            "---------------------------------------------\n",
            "stat_fun(H1): min=0.000002 max=7.749588\n",
            "Running initial clustering …\n",
            "Found 2 clusters\n"
          ]
        },
        {
          "name": "stderr",
          "output_type": "stream",
          "text": [
            "100%|██████████| Permuting : 99/99 [00:00<00:00,  232.31it/s]\n"
          ]
        },
        {
          "name": "stdout",
          "output_type": "stream",
          "text": [
            "[(slice(180, 182, None),), (slice(183, 184, None),)] [0.35 0.48]\n",
            "---------------------------------------------\n",
            "class 0 and class 4 permutation cluster test\n",
            "---------------------------------------------\n",
            "stat_fun(H1): min=0.000035 max=4.978256\n",
            "Running initial clustering …\n",
            "Found 0 clusters\n"
          ]
        },
        {
          "name": "stderr",
          "output_type": "stream",
          "text": [
            "C:\\Users\\Tobii\\AppData\\Local\\Temp\\ipykernel_20164\\2273424511.py:18: RuntimeWarning: No clusters found, returning empty H0, clusters, and cluster_pv\n",
            "  F_obs, clusters, cluster_p_values, H0 = permutation_cluster_test(\n"
          ]
        },
        {
          "name": "stdout",
          "output_type": "stream",
          "text": [
            "[] []\n",
            "---------------------------------------------\n",
            "class 0 and class 5 permutation cluster test\n",
            "---------------------------------------------\n",
            "stat_fun(H1): min=0.000008 max=10.581623\n",
            "Running initial clustering …\n",
            "Found 3 clusters\n"
          ]
        },
        {
          "name": "stderr",
          "output_type": "stream",
          "text": [
            "100%|██████████| Permuting : 99/99 [00:00<00:00,  329.67it/s]\n"
          ]
        },
        {
          "name": "stdout",
          "output_type": "stream",
          "text": [
            "[(slice(33, 38, None),), (slice(45, 47, None),), (slice(111, 118, None),)] [0.19 0.38 0.14]\n",
            "---------------------------------------------\n",
            "class 0 and class 6 permutation cluster test\n",
            "---------------------------------------------\n",
            "stat_fun(H1): min=0.000059 max=6.514180\n",
            "Running initial clustering …\n",
            "Found 1 cluster\n"
          ]
        },
        {
          "name": "stderr",
          "output_type": "stream",
          "text": [
            "100%|██████████| Permuting : 99/99 [00:00<00:00,  498.98it/s]"
          ]
        },
        {
          "name": "stdout",
          "output_type": "stream",
          "text": [
            "[(slice(110, 113, None),)] [0.34]\n",
            "---------------------------------------------\n",
            "class 1 and class 0 permutation cluster test\n",
            "---------------------------------------------\n",
            "stat_fun(H1): min=0.000006 max=6.488863\n"
          ]
        },
        {
          "name": "stderr",
          "output_type": "stream",
          "text": [
            "\n"
          ]
        },
        {
          "name": "stdout",
          "output_type": "stream",
          "text": [
            "Running initial clustering …\n",
            "Found 2 clusters\n"
          ]
        },
        {
          "name": "stderr",
          "output_type": "stream",
          "text": [
            "100%|██████████| Permuting : 99/99 [00:00<00:00,  256.70it/s]"
          ]
        },
        {
          "name": "stdout",
          "output_type": "stream",
          "text": [
            "[(slice(160, 161, None),), (slice(162, 163, None),)] [0.48 0.49]\n",
            "---------------------------------------------\n",
            "class 1 and class 1 permutation cluster test\n",
            "---------------------------------------------\n",
            "stat_fun(H1): min=0.000000 max=0.000000\n"
          ]
        },
        {
          "name": "stderr",
          "output_type": "stream",
          "text": [
            "\n"
          ]
        },
        {
          "name": "stdout",
          "output_type": "stream",
          "text": [
            "Running initial clustering …\n",
            "Found 0 clusters\n"
          ]
        },
        {
          "name": "stderr",
          "output_type": "stream",
          "text": [
            "C:\\Users\\Tobii\\AppData\\Local\\Temp\\ipykernel_20164\\2273424511.py:18: RuntimeWarning: No clusters found, returning empty H0, clusters, and cluster_pv\n",
            "  F_obs, clusters, cluster_p_values, H0 = permutation_cluster_test(\n"
          ]
        },
        {
          "name": "stdout",
          "output_type": "stream",
          "text": [
            "[] []\n",
            "---------------------------------------------\n",
            "class 1 and class 2 permutation cluster test\n",
            "---------------------------------------------\n",
            "stat_fun(H1): min=0.000127 max=8.874140\n",
            "Running initial clustering …\n",
            "Found 2 clusters\n"
          ]
        },
        {
          "name": "stderr",
          "output_type": "stream",
          "text": [
            "100%|██████████| Permuting : 99/99 [00:00<00:00,  194.63it/s]\n"
          ]
        },
        {
          "name": "stdout",
          "output_type": "stream",
          "text": [
            "[(slice(130, 136, None),), (slice(138, 139, None),)] [0.18 0.52]\n",
            "---------------------------------------------\n",
            "class 1 and class 3 permutation cluster test\n",
            "---------------------------------------------\n",
            "stat_fun(H1): min=0.000000 max=5.816685\n",
            "Running initial clustering …\n",
            "Found 0 clusters\n"
          ]
        },
        {
          "name": "stderr",
          "output_type": "stream",
          "text": [
            "C:\\Users\\Tobii\\AppData\\Local\\Temp\\ipykernel_20164\\2273424511.py:18: RuntimeWarning: No clusters found, returning empty H0, clusters, and cluster_pv\n",
            "  F_obs, clusters, cluster_p_values, H0 = permutation_cluster_test(\n"
          ]
        },
        {
          "name": "stdout",
          "output_type": "stream",
          "text": [
            "[] []\n",
            "---------------------------------------------\n",
            "class 1 and class 4 permutation cluster test\n",
            "---------------------------------------------\n",
            "stat_fun(H1): min=0.000003 max=10.058516\n",
            "Running initial clustering …\n",
            "Found 3 clusters\n"
          ]
        },
        {
          "name": "stderr",
          "output_type": "stream",
          "text": [
            "100%|██████████| Permuting : 99/99 [00:00<00:00,  190.21it/s]\n"
          ]
        },
        {
          "name": "stdout",
          "output_type": "stream",
          "text": [
            "[(slice(98, 103, None),), (slice(131, 132, None),), (slice(185, 188, None),)] [0.18 0.52 0.31]\n",
            "---------------------------------------------\n",
            "class 1 and class 5 permutation cluster test\n",
            "---------------------------------------------\n",
            "stat_fun(H1): min=0.000003 max=8.148377\n",
            "Running initial clustering …\n",
            "Found 1 cluster\n"
          ]
        },
        {
          "name": "stderr",
          "output_type": "stream",
          "text": [
            "100%|██████████| Permuting : 99/99 [00:00<00:00,  285.64it/s]\n"
          ]
        },
        {
          "name": "stdout",
          "output_type": "stream",
          "text": [
            "[(slice(130, 133, None),)] [0.29]\n",
            "---------------------------------------------\n",
            "class 1 and class 6 permutation cluster test\n",
            "---------------------------------------------\n",
            "stat_fun(H1): min=0.000033 max=4.768736\n",
            "Running initial clustering …\n",
            "Found 0 clusters\n"
          ]
        },
        {
          "name": "stderr",
          "output_type": "stream",
          "text": [
            "C:\\Users\\Tobii\\AppData\\Local\\Temp\\ipykernel_20164\\2273424511.py:18: RuntimeWarning: No clusters found, returning empty H0, clusters, and cluster_pv\n",
            "  F_obs, clusters, cluster_p_values, H0 = permutation_cluster_test(\n"
          ]
        },
        {
          "name": "stdout",
          "output_type": "stream",
          "text": [
            "[] []\n",
            "---------------------------------------------\n",
            "class 2 and class 0 permutation cluster test\n",
            "---------------------------------------------\n",
            "stat_fun(H1): min=0.000001 max=9.774339\n",
            "Running initial clustering …\n",
            "Found 6 clusters\n"
          ]
        },
        {
          "name": "stderr",
          "output_type": "stream",
          "text": [
            "100%|██████████| Permuting : 99/99 [00:00<00:00,  298.20it/s]"
          ]
        },
        {
          "name": "stdout",
          "output_type": "stream",
          "text": [
            "[(slice(26, 33, None),), (slice(45, 46, None),), (slice(64, 67, None),), (slice(68, 71, None),), (slice(79, 80, None),), (slice(132, 133, None),)] [0.13 0.5  0.32 0.32 0.58 0.59]\n",
            "---------------------------------------------\n",
            "class 2 and class 1 permutation cluster test\n",
            "---------------------------------------------\n",
            "stat_fun(H1): min=0.000127 max=8.874140\n"
          ]
        },
        {
          "name": "stderr",
          "output_type": "stream",
          "text": [
            "\n"
          ]
        },
        {
          "name": "stdout",
          "output_type": "stream",
          "text": [
            "Running initial clustering …\n",
            "Found 2 clusters\n"
          ]
        },
        {
          "name": "stderr",
          "output_type": "stream",
          "text": [
            "100%|██████████| Permuting : 99/99 [00:00<00:00,  196.64it/s]\n"
          ]
        },
        {
          "name": "stdout",
          "output_type": "stream",
          "text": [
            "[(slice(130, 136, None),), (slice(138, 139, None),)] [0.15 0.52]\n",
            "---------------------------------------------\n",
            "class 2 and class 2 permutation cluster test\n",
            "---------------------------------------------\n",
            "stat_fun(H1): min=0.000000 max=0.000000\n",
            "Running initial clustering …\n",
            "Found 0 clusters\n"
          ]
        },
        {
          "name": "stderr",
          "output_type": "stream",
          "text": [
            "C:\\Users\\Tobii\\AppData\\Local\\Temp\\ipykernel_20164\\2273424511.py:18: RuntimeWarning: No clusters found, returning empty H0, clusters, and cluster_pv\n",
            "  F_obs, clusters, cluster_p_values, H0 = permutation_cluster_test(\n"
          ]
        },
        {
          "name": "stdout",
          "output_type": "stream",
          "text": [
            "[] []\n",
            "---------------------------------------------\n",
            "class 2 and class 3 permutation cluster test\n",
            "---------------------------------------------\n",
            "stat_fun(H1): min=0.000001 max=10.149612\n",
            "Running initial clustering …\n",
            "Found 8 clusters\n"
          ]
        },
        {
          "name": "stderr",
          "output_type": "stream",
          "text": [
            "100%|██████████| Permuting : 99/99 [00:01<00:00,   82.61it/s]\n"
          ]
        },
        {
          "name": "stdout",
          "output_type": "stream",
          "text": [
            "[(slice(0, 2, None),), (slice(3, 6, None),), (slice(24, 25, None),), (slice(26, 27, None),), (slice(64, 65, None),), (slice(66, 68, None),), (slice(69, 70, None),), (slice(77, 87, None),)] [0.3  0.28 0.48 0.48 0.42 0.37 0.48 0.05]\n",
            "---------------------------------------------\n",
            "class 2 and class 4 permutation cluster test\n",
            "---------------------------------------------\n",
            "stat_fun(H1): min=0.000020 max=6.879162\n",
            "Running initial clustering …\n",
            "Found 3 clusters\n"
          ]
        },
        {
          "name": "stderr",
          "output_type": "stream",
          "text": [
            "100%|██████████| Permuting : 99/99 [00:01<00:00,   94.20it/s]\n"
          ]
        },
        {
          "name": "stdout",
          "output_type": "stream",
          "text": [
            "[(slice(180, 181, None),), (slice(247, 248, None),), (slice(251, 253, None),)] [0.56 0.49 0.42]\n",
            "---------------------------------------------\n",
            "class 2 and class 5 permutation cluster test\n",
            "---------------------------------------------\n",
            "stat_fun(H1): min=0.000018 max=5.208715\n",
            "Running initial clustering …\n",
            "Found 0 clusters\n",
            "[] []\n",
            "---------------------------------------------\n",
            "class 2 and class 6 permutation cluster test\n",
            "---------------------------------------------\n",
            "stat_fun(H1): min=0.000000 max=10.198802\n",
            "Running initial clustering …\n"
          ]
        },
        {
          "name": "stderr",
          "output_type": "stream",
          "text": [
            "C:\\Users\\Tobii\\AppData\\Local\\Temp\\ipykernel_20164\\2273424511.py:18: RuntimeWarning: No clusters found, returning empty H0, clusters, and cluster_pv\n",
            "  F_obs, clusters, cluster_p_values, H0 = permutation_cluster_test(\n"
          ]
        },
        {
          "name": "stdout",
          "output_type": "stream",
          "text": [
            "Found 3 clusters\n"
          ]
        },
        {
          "name": "stderr",
          "output_type": "stream",
          "text": [
            "100%|██████████| Permuting : 99/99 [00:00<00:00,  479.93it/s]\n"
          ]
        },
        {
          "name": "stdout",
          "output_type": "stream",
          "text": [
            "[(slice(248, 250, None),), (slice(274, 275, None),), (slice(283, 290, None),)] [0.45 0.56 0.14]\n",
            "---------------------------------------------\n",
            "class 3 and class 0 permutation cluster test\n",
            "---------------------------------------------\n",
            "stat_fun(H1): min=0.000002 max=7.749588\n",
            "Running initial clustering …\n",
            "Found 2 clusters\n"
          ]
        },
        {
          "name": "stderr",
          "output_type": "stream",
          "text": [
            "100%|██████████| Permuting : 99/99 [00:00<00:00,  261.18it/s]"
          ]
        },
        {
          "name": "stdout",
          "output_type": "stream",
          "text": [
            "[(slice(180, 182, None),), (slice(183, 184, None),)] [0.39 0.47]\n",
            "---------------------------------------------\n",
            "class 3 and class 1 permutation cluster test\n",
            "---------------------------------------------\n",
            "stat_fun(H1): min=0.000000 max=5.816685\n"
          ]
        },
        {
          "name": "stderr",
          "output_type": "stream",
          "text": [
            "\n"
          ]
        },
        {
          "name": "stdout",
          "output_type": "stream",
          "text": [
            "Running initial clustering …\n",
            "Found 0 clusters\n"
          ]
        },
        {
          "name": "stderr",
          "output_type": "stream",
          "text": [
            "C:\\Users\\Tobii\\AppData\\Local\\Temp\\ipykernel_20164\\2273424511.py:18: RuntimeWarning: No clusters found, returning empty H0, clusters, and cluster_pv\n",
            "  F_obs, clusters, cluster_p_values, H0 = permutation_cluster_test(\n"
          ]
        },
        {
          "name": "stdout",
          "output_type": "stream",
          "text": [
            "[] []\n",
            "---------------------------------------------\n",
            "class 3 and class 2 permutation cluster test\n",
            "---------------------------------------------\n",
            "stat_fun(H1): min=0.000001 max=10.149612\n",
            "Running initial clustering …\n",
            "Found 8 clusters\n"
          ]
        },
        {
          "name": "stderr",
          "output_type": "stream",
          "text": [
            "100%|██████████| Permuting : 99/99 [00:01<00:00,   83.77it/s]\n"
          ]
        },
        {
          "name": "stdout",
          "output_type": "stream",
          "text": [
            "[(slice(0, 2, None),), (slice(3, 6, None),), (slice(24, 25, None),), (slice(26, 27, None),), (slice(64, 65, None),), (slice(66, 68, None),), (slice(69, 70, None),), (slice(77, 87, None),)] [0.34 0.32 0.52 0.52 0.44 0.42 0.52 0.11]\n",
            "---------------------------------------------\n",
            "class 3 and class 3 permutation cluster test\n",
            "---------------------------------------------\n",
            "stat_fun(H1): min=0.000000 max=0.000000\n",
            "Running initial clustering …\n",
            "Found 0 clusters\n"
          ]
        },
        {
          "name": "stderr",
          "output_type": "stream",
          "text": [
            "C:\\Users\\Tobii\\AppData\\Local\\Temp\\ipykernel_20164\\2273424511.py:18: RuntimeWarning: No clusters found, returning empty H0, clusters, and cluster_pv\n",
            "  F_obs, clusters, cluster_p_values, H0 = permutation_cluster_test(\n"
          ]
        },
        {
          "name": "stdout",
          "output_type": "stream",
          "text": [
            "[] []\n",
            "---------------------------------------------\n",
            "class 3 and class 4 permutation cluster test\n",
            "---------------------------------------------\n",
            "stat_fun(H1): min=0.000000 max=9.074479\n",
            "Running initial clustering …\n",
            "Found 5 clusters\n"
          ]
        },
        {
          "name": "stderr",
          "output_type": "stream",
          "text": [
            "100%|██████████| Permuting : 99/99 [00:01<00:00,   94.38it/s]\n"
          ]
        },
        {
          "name": "stdout",
          "output_type": "stream",
          "text": [
            "[(slice(78, 84, None),), (slice(118, 119, None),), (slice(121, 126, None),), (slice(156, 159, None),), (slice(160, 163, None),)] [0.11 0.36 0.15 0.23 0.26]\n",
            "---------------------------------------------\n",
            "class 3 and class 5 permutation cluster test\n",
            "---------------------------------------------\n",
            "stat_fun(H1): min=0.000003 max=8.925431\n",
            "Running initial clustering …\n",
            "Found 4 clusters\n"
          ]
        },
        {
          "name": "stderr",
          "output_type": "stream",
          "text": [
            "100%|██████████| Permuting : 99/99 [00:00<00:00,  294.12it/s]"
          ]
        },
        {
          "name": "stdout",
          "output_type": "stream",
          "text": [
            "[(slice(33, 35, None),), (slice(45, 46, None),), (slice(77, 81, None),), (slice(82, 83, None),)] [0.47 0.57 0.33 0.65]\n",
            "---------------------------------------------\n",
            "class 3 and class 6 permutation cluster test\n",
            "---------------------------------------------\n",
            "stat_fun(H1): min=0.000005 max=6.908306\n"
          ]
        },
        {
          "name": "stderr",
          "output_type": "stream",
          "text": [
            "\n"
          ]
        },
        {
          "name": "stdout",
          "output_type": "stream",
          "text": [
            "Running initial clustering …\n",
            "Found 1 cluster\n"
          ]
        },
        {
          "name": "stderr",
          "output_type": "stream",
          "text": [
            "100%|██████████| Permuting : 99/99 [00:00<00:00,  474.54it/s]\n"
          ]
        },
        {
          "name": "stdout",
          "output_type": "stream",
          "text": [
            "[(slice(56, 57, None),)] [0.51]\n",
            "---------------------------------------------\n",
            "class 4 and class 0 permutation cluster test\n",
            "---------------------------------------------\n",
            "stat_fun(H1): min=0.000035 max=4.978256\n",
            "Running initial clustering …\n",
            "Found 0 clusters\n",
            "[] []\n",
            "---------------------------------------------\n",
            "class 4 and class 1 permutation cluster test\n",
            "---------------------------------------------\n",
            "stat_fun(H1): min=0.000003 max=10.058516\n",
            "Running initial clustering …\n",
            "Found 3 clusters\n"
          ]
        },
        {
          "name": "stderr",
          "output_type": "stream",
          "text": [
            "C:\\Users\\Tobii\\AppData\\Local\\Temp\\ipykernel_20164\\2273424511.py:18: RuntimeWarning: No clusters found, returning empty H0, clusters, and cluster_pv\n",
            "  F_obs, clusters, cluster_p_values, H0 = permutation_cluster_test(\n",
            "100%|██████████| Permuting : 99/99 [00:00<00:00,  190.35it/s]\n"
          ]
        },
        {
          "name": "stdout",
          "output_type": "stream",
          "text": [
            "[(slice(98, 103, None),), (slice(131, 132, None),), (slice(185, 188, None),)] [0.22 0.53 0.32]\n",
            "---------------------------------------------\n",
            "class 4 and class 2 permutation cluster test\n",
            "---------------------------------------------\n",
            "stat_fun(H1): min=0.000020 max=6.879162\n",
            "Running initial clustering …\n",
            "Found 3 clusters\n"
          ]
        },
        {
          "name": "stderr",
          "output_type": "stream",
          "text": [
            "100%|██████████| Permuting : 99/99 [00:01<00:00,   93.14it/s]\n"
          ]
        },
        {
          "name": "stdout",
          "output_type": "stream",
          "text": [
            "[(slice(180, 181, None),), (slice(247, 248, None),), (slice(251, 253, None),)] [0.64 0.58 0.5 ]\n",
            "---------------------------------------------\n",
            "class 4 and class 3 permutation cluster test\n",
            "---------------------------------------------\n",
            "stat_fun(H1): min=0.000000 max=9.074479\n",
            "Running initial clustering …\n",
            "Found 5 clusters\n"
          ]
        },
        {
          "name": "stderr",
          "output_type": "stream",
          "text": [
            "100%|██████████| Permuting : 99/99 [00:01<00:00,   95.51it/s]\n"
          ]
        },
        {
          "name": "stdout",
          "output_type": "stream",
          "text": [
            "[(slice(78, 84, None),), (slice(118, 119, None),), (slice(121, 126, None),), (slice(156, 159, None),), (slice(160, 163, None),)] [0.09 0.4  0.13 0.22 0.28]\n",
            "---------------------------------------------\n",
            "class 4 and class 4 permutation cluster test\n",
            "---------------------------------------------\n",
            "stat_fun(H1): min=0.000000 max=0.000000\n",
            "Running initial clustering …\n",
            "Found 0 clusters\n"
          ]
        },
        {
          "name": "stderr",
          "output_type": "stream",
          "text": [
            "C:\\Users\\Tobii\\AppData\\Local\\Temp\\ipykernel_20164\\2273424511.py:18: RuntimeWarning: No clusters found, returning empty H0, clusters, and cluster_pv\n",
            "  F_obs, clusters, cluster_p_values, H0 = permutation_cluster_test(\n"
          ]
        },
        {
          "name": "stdout",
          "output_type": "stream",
          "text": [
            "[] []\n",
            "---------------------------------------------\n",
            "class 4 and class 5 permutation cluster test\n",
            "---------------------------------------------\n",
            "stat_fun(H1): min=0.000000 max=6.085387\n",
            "Running initial clustering …\n",
            "Found 1 cluster\n"
          ]
        },
        {
          "name": "stderr",
          "output_type": "stream",
          "text": [
            "100%|██████████| Permuting : 99/99 [00:00<00:00,  313.86it/s]\n"
          ]
        },
        {
          "name": "stdout",
          "output_type": "stream",
          "text": [
            "[(slice(104, 105, None),)] [0.63]\n",
            "---------------------------------------------\n",
            "class 4 and class 6 permutation cluster test\n",
            "---------------------------------------------\n",
            "stat_fun(H1): min=0.000597 max=8.809522\n",
            "Running initial clustering …\n",
            "Found 5 clusters\n"
          ]
        },
        {
          "name": "stderr",
          "output_type": "stream",
          "text": [
            "100%|██████████| Permuting : 99/99 [00:00<00:00,  385.83it/s]\n"
          ]
        },
        {
          "name": "stdout",
          "output_type": "stream",
          "text": [
            "[(slice(61, 62, None),), (slice(63, 69, None),), (slice(103, 105, None),), (slice(241, 242, None),), (slice(247, 249, None),)] [0.52 0.2  0.46 0.56 0.48]\n",
            "---------------------------------------------\n",
            "class 5 and class 0 permutation cluster test\n",
            "---------------------------------------------\n",
            "stat_fun(H1): min=0.000008 max=10.581623\n",
            "Running initial clustering …\n",
            "Found 3 clusters\n"
          ]
        },
        {
          "name": "stderr",
          "output_type": "stream",
          "text": [
            "100%|██████████| Permuting : 99/99 [00:00<00:00,  313.14it/s]\n"
          ]
        },
        {
          "name": "stdout",
          "output_type": "stream",
          "text": [
            "[(slice(33, 38, None),), (slice(45, 47, None),), (slice(111, 118, None),)] [0.24 0.34 0.14]\n",
            "---------------------------------------------\n",
            "class 5 and class 1 permutation cluster test\n",
            "---------------------------------------------\n",
            "stat_fun(H1): min=0.000003 max=8.148377\n",
            "Running initial clustering …\n",
            "Found 1 cluster\n"
          ]
        },
        {
          "name": "stderr",
          "output_type": "stream",
          "text": [
            "100%|██████████| Permuting : 99/99 [00:00<00:00,  330.25it/s]"
          ]
        },
        {
          "name": "stdout",
          "output_type": "stream",
          "text": [
            "[(slice(130, 133, None),)] [0.32]\n",
            "---------------------------------------------\n",
            "class 5 and class 2 permutation cluster test\n",
            "---------------------------------------------\n",
            "stat_fun(H1): min=0.000018 max=5.208715\n"
          ]
        },
        {
          "name": "stderr",
          "output_type": "stream",
          "text": [
            "\n"
          ]
        },
        {
          "name": "stdout",
          "output_type": "stream",
          "text": [
            "Running initial clustering …\n",
            "Found 0 clusters\n",
            "[] []\n",
            "---------------------------------------------\n",
            "class 5 and class 3 permutation cluster test\n",
            "---------------------------------------------\n",
            "stat_fun(H1): min=0.000003 max=8.925431\n"
          ]
        },
        {
          "name": "stderr",
          "output_type": "stream",
          "text": [
            "C:\\Users\\Tobii\\AppData\\Local\\Temp\\ipykernel_20164\\2273424511.py:18: RuntimeWarning: No clusters found, returning empty H0, clusters, and cluster_pv\n",
            "  F_obs, clusters, cluster_p_values, H0 = permutation_cluster_test(\n"
          ]
        },
        {
          "name": "stdout",
          "output_type": "stream",
          "text": [
            "Running initial clustering …\n",
            "Found 4 clusters\n"
          ]
        },
        {
          "name": "stderr",
          "output_type": "stream",
          "text": [
            "100%|██████████| Permuting : 99/99 [00:00<00:00,  298.35it/s]\n"
          ]
        },
        {
          "name": "stdout",
          "output_type": "stream",
          "text": [
            "[(slice(33, 35, None),), (slice(45, 46, None),), (slice(77, 81, None),), (slice(82, 83, None),)] [0.4  0.45 0.25 0.54]\n",
            "---------------------------------------------\n",
            "class 5 and class 4 permutation cluster test\n",
            "---------------------------------------------\n",
            "stat_fun(H1): min=0.000000 max=6.085387\n",
            "Running initial clustering …\n",
            "Found 1 cluster\n"
          ]
        },
        {
          "name": "stderr",
          "output_type": "stream",
          "text": [
            "100%|██████████| Permuting : 99/99 [00:00<00:00,  317.49it/s]\n"
          ]
        },
        {
          "name": "stdout",
          "output_type": "stream",
          "text": [
            "[(slice(104, 105, None),)] [0.5]\n",
            "---------------------------------------------\n",
            "class 5 and class 5 permutation cluster test\n",
            "---------------------------------------------\n",
            "stat_fun(H1): min=0.000000 max=0.000000\n",
            "Running initial clustering …\n",
            "Found 0 clusters\n",
            "[] []\n",
            "---------------------------------------------\n",
            "class 5 and class 6 permutation cluster test\n",
            "---------------------------------------------\n",
            "stat_fun(H1): min=0.000024 max=5.311891\n",
            "Running initial clustering …\n",
            "Found 0 clusters\n",
            "[] []\n",
            "---------------------------------------------\n",
            "class 6 and class 0 permutation cluster test\n",
            "---------------------------------------------\n",
            "stat_fun(H1): min=0.000059 max=6.514180\n"
          ]
        },
        {
          "name": "stderr",
          "output_type": "stream",
          "text": [
            "C:\\Users\\Tobii\\AppData\\Local\\Temp\\ipykernel_20164\\2273424511.py:18: RuntimeWarning: No clusters found, returning empty H0, clusters, and cluster_pv\n",
            "  F_obs, clusters, cluster_p_values, H0 = permutation_cluster_test(\n",
            "C:\\Users\\Tobii\\AppData\\Local\\Temp\\ipykernel_20164\\2273424511.py:18: RuntimeWarning: No clusters found, returning empty H0, clusters, and cluster_pv\n",
            "  F_obs, clusters, cluster_p_values, H0 = permutation_cluster_test(\n"
          ]
        },
        {
          "name": "stdout",
          "output_type": "stream",
          "text": [
            "Running initial clustering …\n",
            "Found 1 cluster\n"
          ]
        },
        {
          "name": "stderr",
          "output_type": "stream",
          "text": [
            "100%|██████████| Permuting : 99/99 [00:00<00:00,  435.10it/s]"
          ]
        },
        {
          "name": "stdout",
          "output_type": "stream",
          "text": [
            "[(slice(110, 113, None),)] [0.28]\n",
            "---------------------------------------------\n",
            "class 6 and class 1 permutation cluster test\n",
            "---------------------------------------------\n",
            "stat_fun(H1): min=0.000033 max=4.768736\n"
          ]
        },
        {
          "name": "stderr",
          "output_type": "stream",
          "text": [
            "\n"
          ]
        },
        {
          "name": "stdout",
          "output_type": "stream",
          "text": [
            "Running initial clustering …\n",
            "Found 0 clusters\n",
            "[] []\n",
            "---------------------------------------------\n",
            "class 6 and class 2 permutation cluster test\n",
            "---------------------------------------------\n",
            "stat_fun(H1): min=0.000000 max=10.198802\n"
          ]
        },
        {
          "name": "stderr",
          "output_type": "stream",
          "text": [
            "C:\\Users\\Tobii\\AppData\\Local\\Temp\\ipykernel_20164\\2273424511.py:18: RuntimeWarning: No clusters found, returning empty H0, clusters, and cluster_pv\n",
            "  F_obs, clusters, cluster_p_values, H0 = permutation_cluster_test(\n"
          ]
        },
        {
          "name": "stdout",
          "output_type": "stream",
          "text": [
            "Running initial clustering …\n",
            "Found 3 clusters\n"
          ]
        },
        {
          "name": "stderr",
          "output_type": "stream",
          "text": [
            "100%|██████████| Permuting : 99/99 [00:00<00:00,  414.72it/s]\n"
          ]
        },
        {
          "name": "stdout",
          "output_type": "stream",
          "text": [
            "[(slice(248, 250, None),), (slice(274, 275, None),), (slice(283, 290, None),)] [0.4  0.51 0.17]\n",
            "---------------------------------------------\n",
            "class 6 and class 3 permutation cluster test\n",
            "---------------------------------------------\n",
            "stat_fun(H1): min=0.000005 max=6.908306\n",
            "Running initial clustering …\n",
            "Found 1 cluster\n"
          ]
        },
        {
          "name": "stderr",
          "output_type": "stream",
          "text": [
            "100%|██████████| Permuting : 99/99 [00:00<00:00,  464.34it/s]"
          ]
        },
        {
          "name": "stdout",
          "output_type": "stream",
          "text": [
            "[(slice(56, 57, None),)] [0.49]\n",
            "---------------------------------------------\n",
            "class 6 and class 4 permutation cluster test\n",
            "---------------------------------------------\n",
            "stat_fun(H1): min=0.000597 max=8.809522\n"
          ]
        },
        {
          "name": "stderr",
          "output_type": "stream",
          "text": [
            "\n"
          ]
        },
        {
          "name": "stdout",
          "output_type": "stream",
          "text": [
            "Running initial clustering …\n",
            "Found 5 clusters\n"
          ]
        },
        {
          "name": "stderr",
          "output_type": "stream",
          "text": [
            "100%|██████████| Permuting : 99/99 [00:00<00:00,  476.16it/s]"
          ]
        },
        {
          "name": "stdout",
          "output_type": "stream",
          "text": [
            "[(slice(61, 62, None),), (slice(63, 69, None),), (slice(103, 105, None),), (slice(241, 242, None),), (slice(247, 249, None),)] [0.46 0.13 0.36 0.49 0.36]\n",
            "---------------------------------------------\n",
            "class 6 and class 5 permutation cluster test\n",
            "---------------------------------------------\n",
            "stat_fun(H1): min=0.000024 max=5.311891\n"
          ]
        },
        {
          "name": "stderr",
          "output_type": "stream",
          "text": [
            "\n"
          ]
        },
        {
          "name": "stdout",
          "output_type": "stream",
          "text": [
            "Running initial clustering …\n",
            "Found 0 clusters\n",
            "[] []\n",
            "---------------------------------------------\n",
            "class 6 and class 6 permutation cluster test\n",
            "---------------------------------------------\n",
            "stat_fun(H1): min=0.000000 max=0.000000\n",
            "Running initial clustering …\n",
            "Found 0 clusters\n"
          ]
        },
        {
          "name": "stderr",
          "output_type": "stream",
          "text": [
            "C:\\Users\\Tobii\\AppData\\Local\\Temp\\ipykernel_20164\\2273424511.py:18: RuntimeWarning: No clusters found, returning empty H0, clusters, and cluster_pv\n",
            "  F_obs, clusters, cluster_p_values, H0 = permutation_cluster_test(\n",
            "C:\\Users\\Tobii\\AppData\\Local\\Temp\\ipykernel_20164\\2273424511.py:18: RuntimeWarning: No clusters found, returning empty H0, clusters, and cluster_pv\n",
            "  F_obs, clusters, cluster_p_values, H0 = permutation_cluster_test(\n"
          ]
        },
        {
          "name": "stdout",
          "output_type": "stream",
          "text": [
            "[] []\n",
            "--------------------------------------------------VALENCE FEATURE 1-----------------------------------------------------\n",
            "---------------------------------------------\n",
            "class 0 and class 0 permutation cluster test\n",
            "---------------------------------------------\n",
            "stat_fun(H1): min=0.000000 max=0.000000\n",
            "Running initial clustering …\n",
            "Found 0 clusters\n"
          ]
        },
        {
          "name": "stderr",
          "output_type": "stream",
          "text": [
            "C:\\Users\\Tobii\\AppData\\Local\\Temp\\ipykernel_20164\\2273424511.py:18: RuntimeWarning: No clusters found, returning empty H0, clusters, and cluster_pv\n",
            "  F_obs, clusters, cluster_p_values, H0 = permutation_cluster_test(\n"
          ]
        },
        {
          "name": "stdout",
          "output_type": "stream",
          "text": [
            "[] []\n",
            "---------------------------------------------\n",
            "class 0 and class 1 permutation cluster test\n",
            "---------------------------------------------\n",
            "stat_fun(H1): min=0.000005 max=10.070344\n",
            "Running initial clustering …\n",
            "Found 12 clusters\n"
          ]
        },
        {
          "name": "stderr",
          "output_type": "stream",
          "text": [
            "100%|██████████| Permuting : 99/99 [00:00<00:00,  266.22it/s]\n"
          ]
        },
        {
          "name": "stdout",
          "output_type": "stream",
          "text": [
            "[(slice(174, 175, None),), (slice(176, 180, None),), (slice(216, 219, None),), (slice(247, 251, None),), (slice(255, 257, None),), (slice(260, 261, None),), (slice(262, 264, None),), (slice(265, 273, None),), (slice(277, 281, None),), (slice(285, 289, None),), (slice(290, 292, None),), (slice(293, 298, None),)] [0.55 0.29 0.32 0.31 0.45 0.56 0.46 0.16 0.3  0.31 0.43 0.27]\n",
            "---------------------------------------------\n",
            "class 0 and class 2 permutation cluster test\n",
            "---------------------------------------------\n",
            "stat_fun(H1): min=0.000432 max=12.665309\n",
            "Running initial clustering …\n",
            "Found 7 clusters\n"
          ]
        },
        {
          "name": "stderr",
          "output_type": "stream",
          "text": [
            "100%|██████████| Permuting : 99/99 [00:00<00:00,  285.55it/s]\n"
          ]
        },
        {
          "name": "stdout",
          "output_type": "stream",
          "text": [
            "[(slice(59, 60, None),), (slice(61, 62, None),), (slice(199, 201, None),), (slice(239, 244, None),), (slice(256, 265, None),), (slice(267, 268, None),), (slice(269, 274, None),)] [0.51 0.54 0.38 0.12 0.05 0.54 0.12]\n",
            "---------------------------------------------\n",
            "class 0 and class 3 permutation cluster test\n",
            "---------------------------------------------\n",
            "stat_fun(H1): min=0.000012 max=8.077897\n",
            "Running initial clustering …\n",
            "Found 3 clusters\n"
          ]
        },
        {
          "name": "stderr",
          "output_type": "stream",
          "text": [
            "100%|██████████| Permuting : 99/99 [00:00<00:00,  272.88it/s]\n"
          ]
        },
        {
          "name": "stdout",
          "output_type": "stream",
          "text": [
            "[(slice(141, 142, None),), (slice(195, 201, None),), (slice(270, 273, None),)] [0.53 0.18 0.27]\n",
            "---------------------------------------------\n",
            "class 0 and class 4 permutation cluster test\n",
            "---------------------------------------------\n",
            "stat_fun(H1): min=0.000000 max=6.277778\n",
            "Running initial clustering …\n",
            "Found 2 clusters\n"
          ]
        },
        {
          "name": "stderr",
          "output_type": "stream",
          "text": [
            "100%|██████████| Permuting : 99/99 [00:00<00:00,  296.76it/s]"
          ]
        },
        {
          "name": "stdout",
          "output_type": "stream",
          "text": [
            "[(slice(269, 270, None),), (slice(271, 273, None),)] [0.52 0.47]\n",
            "---------------------------------------------\n",
            "class 0 and class 5 permutation cluster test\n",
            "---------------------------------------------\n",
            "stat_fun(H1): min=0.000029 max=4.696883\n"
          ]
        },
        {
          "name": "stderr",
          "output_type": "stream",
          "text": [
            "\n"
          ]
        },
        {
          "name": "stdout",
          "output_type": "stream",
          "text": [
            "Running initial clustering …\n",
            "Found 0 clusters\n",
            "[] []\n",
            "---------------------------------------------\n",
            "class 0 and class 6 permutation cluster test\n",
            "---------------------------------------------\n",
            "stat_fun(H1): min=0.000001 max=9.802505\n",
            "Running initial clustering …\n",
            "Found 4 clusters\n"
          ]
        },
        {
          "name": "stderr",
          "output_type": "stream",
          "text": [
            "C:\\Users\\Tobii\\AppData\\Local\\Temp\\ipykernel_20164\\2273424511.py:18: RuntimeWarning: No clusters found, returning empty H0, clusters, and cluster_pv\n",
            "  F_obs, clusters, cluster_p_values, H0 = permutation_cluster_test(\n",
            "100%|██████████| Permuting : 99/99 [00:00<00:00,  471.19it/s]\n"
          ]
        },
        {
          "name": "stdout",
          "output_type": "stream",
          "text": [
            "[(slice(18, 23, None),), (slice(122, 126, None),), (slice(277, 281, None),), (slice(285, 286, None),)] [0.29 0.29 0.3  0.61]\n",
            "---------------------------------------------\n",
            "class 1 and class 0 permutation cluster test\n",
            "---------------------------------------------\n",
            "stat_fun(H1): min=0.000005 max=10.070344\n",
            "Running initial clustering …\n",
            "Found 12 clusters\n"
          ]
        },
        {
          "name": "stderr",
          "output_type": "stream",
          "text": [
            "100%|██████████| Permuting : 99/99 [00:00<00:00,  279.44it/s]\n"
          ]
        },
        {
          "name": "stdout",
          "output_type": "stream",
          "text": [
            "[(slice(174, 175, None),), (slice(176, 180, None),), (slice(216, 219, None),), (slice(247, 251, None),), (slice(255, 257, None),), (slice(260, 261, None),), (slice(262, 264, None),), (slice(265, 273, None),), (slice(277, 281, None),), (slice(285, 289, None),), (slice(290, 292, None),), (slice(293, 298, None),)] [0.56 0.32 0.34 0.33 0.45 0.57 0.47 0.14 0.33 0.33 0.44 0.25]\n",
            "---------------------------------------------\n",
            "class 1 and class 1 permutation cluster test\n",
            "---------------------------------------------\n",
            "stat_fun(H1): min=0.000000 max=0.000000\n",
            "Running initial clustering …\n",
            "Found 0 clusters\n"
          ]
        },
        {
          "name": "stderr",
          "output_type": "stream",
          "text": [
            "C:\\Users\\Tobii\\AppData\\Local\\Temp\\ipykernel_20164\\2273424511.py:18: RuntimeWarning: No clusters found, returning empty H0, clusters, and cluster_pv\n",
            "  F_obs, clusters, cluster_p_values, H0 = permutation_cluster_test(\n"
          ]
        },
        {
          "name": "stdout",
          "output_type": "stream",
          "text": [
            "[] []\n",
            "---------------------------------------------\n",
            "class 1 and class 2 permutation cluster test\n",
            "---------------------------------------------\n",
            "stat_fun(H1): min=0.000023 max=8.126810\n",
            "Running initial clustering …\n",
            "Found 4 clusters\n"
          ]
        },
        {
          "name": "stderr",
          "output_type": "stream",
          "text": [
            "100%|██████████| Permuting : 99/99 [00:00<00:00,  197.72it/s]\n"
          ]
        },
        {
          "name": "stdout",
          "output_type": "stream",
          "text": [
            "[(slice(40, 42, None),), (slice(43, 44, None),), (slice(287, 288, None),), (slice(290, 294, None),)] [0.42 0.43 0.51 0.22]\n",
            "---------------------------------------------\n",
            "class 1 and class 3 permutation cluster test\n",
            "---------------------------------------------\n",
            "stat_fun(H1): min=0.000044 max=10.268381\n",
            "Running initial clustering …\n",
            "Found 2 clusters\n"
          ]
        },
        {
          "name": "stderr",
          "output_type": "stream",
          "text": [
            "100%|██████████| Permuting : 99/99 [00:00<00:00,  182.49it/s]\n"
          ]
        },
        {
          "name": "stdout",
          "output_type": "stream",
          "text": [
            "[(slice(129, 138, None),), (slice(290, 298, None),)] [0.08 0.12]\n",
            "---------------------------------------------\n",
            "class 1 and class 4 permutation cluster test\n",
            "---------------------------------------------\n",
            "stat_fun(H1): min=0.000000 max=8.318110\n",
            "Running initial clustering …\n",
            "Found 1 cluster\n"
          ]
        },
        {
          "name": "stderr",
          "output_type": "stream",
          "text": [
            "100%|██████████| Permuting : 99/99 [00:00<00:00,  188.70it/s]\n"
          ]
        },
        {
          "name": "stdout",
          "output_type": "stream",
          "text": [
            "[(slice(28, 31, None),)] [0.34]\n",
            "---------------------------------------------\n",
            "class 1 and class 5 permutation cluster test\n",
            "---------------------------------------------\n",
            "stat_fun(H1): min=0.000002 max=6.259552\n",
            "Running initial clustering …\n",
            "Found 2 clusters\n"
          ]
        },
        {
          "name": "stderr",
          "output_type": "stream",
          "text": [
            "100%|██████████| Permuting : 99/99 [00:00<00:00,  314.39it/s]\n"
          ]
        },
        {
          "name": "stdout",
          "output_type": "stream",
          "text": [
            "[(slice(131, 132, None),), (slice(254, 255, None),)] [0.58 0.58]\n",
            "---------------------------------------------\n",
            "class 1 and class 6 permutation cluster test\n",
            "---------------------------------------------\n",
            "stat_fun(H1): min=0.000752 max=10.154958\n",
            "Running initial clustering …\n",
            "Found 2 clusters\n"
          ]
        },
        {
          "name": "stderr",
          "output_type": "stream",
          "text": [
            "100%|██████████| Permuting : 99/99 [00:00<00:00,  466.78it/s]\n"
          ]
        },
        {
          "name": "stdout",
          "output_type": "stream",
          "text": [
            "[(slice(17, 21, None),), (slice(179, 183, None),)] [0.36 0.32]\n",
            "---------------------------------------------\n",
            "class 2 and class 0 permutation cluster test\n",
            "---------------------------------------------\n",
            "stat_fun(H1): min=0.000432 max=12.665309\n",
            "Running initial clustering …\n",
            "Found 7 clusters\n"
          ]
        },
        {
          "name": "stderr",
          "output_type": "stream",
          "text": [
            "100%|██████████| Permuting : 99/99 [00:00<00:00,  276.72it/s]\n"
          ]
        },
        {
          "name": "stdout",
          "output_type": "stream",
          "text": [
            "[(slice(59, 60, None),), (slice(61, 62, None),), (slice(199, 201, None),), (slice(239, 244, None),), (slice(256, 265, None),), (slice(267, 268, None),), (slice(269, 274, None),)] [0.6  0.64 0.48 0.15 0.08 0.64 0.15]\n",
            "---------------------------------------------\n",
            "class 2 and class 1 permutation cluster test\n",
            "---------------------------------------------\n",
            "stat_fun(H1): min=0.000023 max=8.126810\n",
            "Running initial clustering …\n",
            "Found 4 clusters\n"
          ]
        },
        {
          "name": "stderr",
          "output_type": "stream",
          "text": [
            "100%|██████████| Permuting : 99/99 [00:00<00:00,  198.08it/s]\n"
          ]
        },
        {
          "name": "stdout",
          "output_type": "stream",
          "text": [
            "[(slice(40, 42, None),), (slice(43, 44, None),), (slice(287, 288, None),), (slice(290, 294, None),)] [0.4  0.4  0.43 0.16]\n",
            "---------------------------------------------\n",
            "class 2 and class 2 permutation cluster test\n",
            "---------------------------------------------\n",
            "stat_fun(H1): min=0.000000 max=0.000000\n",
            "Running initial clustering …\n",
            "Found 0 clusters\n"
          ]
        },
        {
          "name": "stderr",
          "output_type": "stream",
          "text": [
            "C:\\Users\\Tobii\\AppData\\Local\\Temp\\ipykernel_20164\\2273424511.py:18: RuntimeWarning: No clusters found, returning empty H0, clusters, and cluster_pv\n",
            "  F_obs, clusters, cluster_p_values, H0 = permutation_cluster_test(\n"
          ]
        },
        {
          "name": "stdout",
          "output_type": "stream",
          "text": [
            "[] []\n",
            "---------------------------------------------\n",
            "class 2 and class 3 permutation cluster test\n",
            "---------------------------------------------\n",
            "stat_fun(H1): min=0.000007 max=5.489847\n",
            "Running initial clustering …\n",
            "Found 0 clusters\n",
            "[] []\n",
            "---------------------------------------------\n",
            "class 2 and class 4 permutation cluster test\n",
            "---------------------------------------------\n",
            "stat_fun(H1): min=0.000154 max=6.433289\n",
            "Running initial clustering …\n",
            "Found 2 clusters\n"
          ]
        },
        {
          "name": "stderr",
          "output_type": "stream",
          "text": [
            "C:\\Users\\Tobii\\AppData\\Local\\Temp\\ipykernel_20164\\2273424511.py:18: RuntimeWarning: No clusters found, returning empty H0, clusters, and cluster_pv\n",
            "  F_obs, clusters, cluster_p_values, H0 = permutation_cluster_test(\n",
            "100%|██████████| Permuting : 99/99 [00:01<00:00,   93.47it/s]\n"
          ]
        },
        {
          "name": "stdout",
          "output_type": "stream",
          "text": [
            "[(slice(35, 36, None),), (slice(39, 40, None),)] [0.55 0.58]\n",
            "---------------------------------------------\n",
            "class 2 and class 5 permutation cluster test\n",
            "---------------------------------------------\n",
            "stat_fun(H1): min=0.000002 max=7.799955\n",
            "Running initial clustering …\n",
            "Found 1 cluster\n"
          ]
        },
        {
          "name": "stderr",
          "output_type": "stream",
          "text": [
            "100%|██████████| Permuting : 99/99 [00:00<00:00,  309.66it/s]"
          ]
        },
        {
          "name": "stdout",
          "output_type": "stream",
          "text": [
            "[(slice(257, 262, None),)] [0.19]\n",
            "---------------------------------------------\n",
            "class 2 and class 6 permutation cluster test\n",
            "---------------------------------------------\n",
            "stat_fun(H1): min=0.000005 max=8.981256\n",
            "Running initial clustering …\n",
            "Found 1 cluster\n"
          ]
        },
        {
          "name": "stderr",
          "output_type": "stream",
          "text": [
            "\n",
            "100%|██████████| Permuting : 99/99 [00:00<00:00,  455.44it/s]\n"
          ]
        },
        {
          "name": "stdout",
          "output_type": "stream",
          "text": [
            "[(slice(284, 292, None),)] [0.13]\n",
            "---------------------------------------------\n",
            "class 3 and class 0 permutation cluster test\n",
            "---------------------------------------------\n",
            "stat_fun(H1): min=0.000012 max=8.077897\n",
            "Running initial clustering …\n",
            "Found 3 clusters\n"
          ]
        },
        {
          "name": "stderr",
          "output_type": "stream",
          "text": [
            "100%|██████████| Permuting : 99/99 [00:00<00:00,  267.77it/s]"
          ]
        },
        {
          "name": "stdout",
          "output_type": "stream",
          "text": [
            "[(slice(141, 142, None),), (slice(195, 201, None),), (slice(270, 273, None),)] [0.64 0.17 0.35]\n",
            "---------------------------------------------\n",
            "class 3 and class 1 permutation cluster test\n",
            "---------------------------------------------\n",
            "stat_fun(H1): min=0.000044 max=10.268381\n"
          ]
        },
        {
          "name": "stderr",
          "output_type": "stream",
          "text": [
            "\n"
          ]
        },
        {
          "name": "stdout",
          "output_type": "stream",
          "text": [
            "Running initial clustering …\n",
            "Found 2 clusters\n"
          ]
        },
        {
          "name": "stderr",
          "output_type": "stream",
          "text": [
            "100%|██████████| Permuting : 99/99 [00:00<00:00,  195.34it/s]\n"
          ]
        },
        {
          "name": "stdout",
          "output_type": "stream",
          "text": [
            "[(slice(129, 138, None),), (slice(290, 298, None),)] [0.13 0.14]\n",
            "---------------------------------------------\n",
            "class 3 and class 2 permutation cluster test\n",
            "---------------------------------------------\n",
            "stat_fun(H1): min=0.000007 max=5.489847\n",
            "Running initial clustering …\n",
            "Found 0 clusters\n"
          ]
        },
        {
          "name": "stderr",
          "output_type": "stream",
          "text": [
            "C:\\Users\\Tobii\\AppData\\Local\\Temp\\ipykernel_20164\\2273424511.py:18: RuntimeWarning: No clusters found, returning empty H0, clusters, and cluster_pv\n",
            "  F_obs, clusters, cluster_p_values, H0 = permutation_cluster_test(\n"
          ]
        },
        {
          "name": "stdout",
          "output_type": "stream",
          "text": [
            "[] []\n",
            "---------------------------------------------\n",
            "class 3 and class 3 permutation cluster test\n",
            "---------------------------------------------\n",
            "stat_fun(H1): min=0.000000 max=0.000000\n",
            "Running initial clustering …\n",
            "Found 0 clusters\n",
            "[] []\n",
            "---------------------------------------------\n",
            "class 3 and class 4 permutation cluster test\n",
            "---------------------------------------------\n"
          ]
        },
        {
          "name": "stderr",
          "output_type": "stream",
          "text": [
            "C:\\Users\\Tobii\\AppData\\Local\\Temp\\ipykernel_20164\\2273424511.py:18: RuntimeWarning: No clusters found, returning empty H0, clusters, and cluster_pv\n",
            "  F_obs, clusters, cluster_p_values, H0 = permutation_cluster_test(\n"
          ]
        },
        {
          "name": "stdout",
          "output_type": "stream",
          "text": [
            "stat_fun(H1): min=0.000000 max=5.443068\n",
            "Running initial clustering …\n",
            "Found 0 clusters\n",
            "[] []\n",
            "---------------------------------------------\n",
            "class 3 and class 5 permutation cluster test\n",
            "---------------------------------------------\n",
            "stat_fun(H1): min=0.000000 max=4.107672\n",
            "Running initial clustering …\n",
            "Found 0 clusters\n",
            "[] []\n",
            "---------------------------------------------\n",
            "class 3 and class 6 permutation cluster test\n",
            "---------------------------------------------\n",
            "stat_fun(H1): min=0.000018 max=7.895814\n",
            "Running initial clustering …\n",
            "Found 3 clusters\n"
          ]
        },
        {
          "name": "stderr",
          "output_type": "stream",
          "text": [
            "C:\\Users\\Tobii\\AppData\\Local\\Temp\\ipykernel_20164\\2273424511.py:18: RuntimeWarning: No clusters found, returning empty H0, clusters, and cluster_pv\n",
            "  F_obs, clusters, cluster_p_values, H0 = permutation_cluster_test(\n",
            "C:\\Users\\Tobii\\AppData\\Local\\Temp\\ipykernel_20164\\2273424511.py:18: RuntimeWarning: No clusters found, returning empty H0, clusters, and cluster_pv\n",
            "  F_obs, clusters, cluster_p_values, H0 = permutation_cluster_test(\n",
            "100%|██████████| Permuting : 99/99 [00:00<00:00,  415.97it/s]\n"
          ]
        },
        {
          "name": "stdout",
          "output_type": "stream",
          "text": [
            "[(slice(2, 6, None),), (slice(8, 10, None),), (slice(20, 21, None),)] [0.38 0.54 0.68]\n",
            "---------------------------------------------\n",
            "class 4 and class 0 permutation cluster test\n",
            "---------------------------------------------\n",
            "stat_fun(H1): min=0.000000 max=6.277778\n",
            "Running initial clustering …\n",
            "Found 2 clusters\n"
          ]
        },
        {
          "name": "stderr",
          "output_type": "stream",
          "text": [
            "100%|██████████| Permuting : 99/99 [00:00<00:00,  297.19it/s]\n"
          ]
        },
        {
          "name": "stdout",
          "output_type": "stream",
          "text": [
            "[(slice(269, 270, None),), (slice(271, 273, None),)] [0.52 0.39]\n",
            "---------------------------------------------\n",
            "class 4 and class 1 permutation cluster test\n",
            "---------------------------------------------\n",
            "stat_fun(H1): min=0.000000 max=8.318110\n",
            "Running initial clustering …\n",
            "Found 1 cluster\n"
          ]
        },
        {
          "name": "stderr",
          "output_type": "stream",
          "text": [
            "100%|██████████| Permuting : 99/99 [00:00<00:00,  184.31it/s]\n"
          ]
        },
        {
          "name": "stdout",
          "output_type": "stream",
          "text": [
            "[(slice(28, 31, None),)] [0.3]\n",
            "---------------------------------------------\n",
            "class 4 and class 2 permutation cluster test\n",
            "---------------------------------------------\n",
            "stat_fun(H1): min=0.000154 max=6.433289\n",
            "Running initial clustering …\n",
            "Found 2 clusters\n"
          ]
        },
        {
          "name": "stderr",
          "output_type": "stream",
          "text": [
            "100%|██████████| Permuting : 99/99 [00:01<00:00,   93.25it/s]\n"
          ]
        },
        {
          "name": "stdout",
          "output_type": "stream",
          "text": [
            "[(slice(35, 36, None),), (slice(39, 40, None),)] [0.56 0.59]\n",
            "---------------------------------------------\n",
            "class 4 and class 3 permutation cluster test\n",
            "---------------------------------------------\n",
            "stat_fun(H1): min=0.000000 max=5.443068\n",
            "Running initial clustering …\n",
            "Found 0 clusters\n"
          ]
        },
        {
          "name": "stderr",
          "output_type": "stream",
          "text": [
            "C:\\Users\\Tobii\\AppData\\Local\\Temp\\ipykernel_20164\\2273424511.py:18: RuntimeWarning: No clusters found, returning empty H0, clusters, and cluster_pv\n",
            "  F_obs, clusters, cluster_p_values, H0 = permutation_cluster_test(\n"
          ]
        },
        {
          "name": "stdout",
          "output_type": "stream",
          "text": [
            "[] []\n",
            "---------------------------------------------\n",
            "class 4 and class 4 permutation cluster test\n",
            "---------------------------------------------\n",
            "stat_fun(H1): min=0.000000 max=0.000000\n",
            "Running initial clustering …\n",
            "Found 0 clusters\n",
            "[] []\n",
            "---------------------------------------------\n",
            "class 4 and class 5 permutation cluster test\n",
            "---------------------------------------------\n",
            "stat_fun(H1): min=0.000004 max=2.427007\n",
            "Running initial clustering …\n",
            "Found 0 clusters\n",
            "[] []\n",
            "---------------------------------------------\n",
            "class 4 and class 6 permutation cluster test\n",
            "---------------------------------------------\n",
            "stat_fun(H1): min=0.000082 max=10.974498\n",
            "Running initial clustering …\n",
            "Found 2 clusters\n"
          ]
        },
        {
          "name": "stderr",
          "output_type": "stream",
          "text": [
            "C:\\Users\\Tobii\\AppData\\Local\\Temp\\ipykernel_20164\\2273424511.py:18: RuntimeWarning: No clusters found, returning empty H0, clusters, and cluster_pv\n",
            "  F_obs, clusters, cluster_p_values, H0 = permutation_cluster_test(\n",
            "C:\\Users\\Tobii\\AppData\\Local\\Temp\\ipykernel_20164\\2273424511.py:18: RuntimeWarning: No clusters found, returning empty H0, clusters, and cluster_pv\n",
            "  F_obs, clusters, cluster_p_values, H0 = permutation_cluster_test(\n",
            "100%|██████████| Permuting : 99/99 [00:00<00:00,  404.88it/s]"
          ]
        },
        {
          "name": "stdout",
          "output_type": "stream",
          "text": [
            "[(slice(5, 10, None),), (slice(20, 23, None),)] [0.18 0.29]\n",
            "---------------------------------------------\n",
            "class 5 and class 0 permutation cluster test\n",
            "---------------------------------------------\n",
            "stat_fun(H1): min=0.000029 max=4.696883\n"
          ]
        },
        {
          "name": "stderr",
          "output_type": "stream",
          "text": [
            "\n"
          ]
        },
        {
          "name": "stdout",
          "output_type": "stream",
          "text": [
            "Running initial clustering …\n",
            "Found 0 clusters\n"
          ]
        },
        {
          "name": "stderr",
          "output_type": "stream",
          "text": [
            "C:\\Users\\Tobii\\AppData\\Local\\Temp\\ipykernel_20164\\2273424511.py:18: RuntimeWarning: No clusters found, returning empty H0, clusters, and cluster_pv\n",
            "  F_obs, clusters, cluster_p_values, H0 = permutation_cluster_test(\n"
          ]
        },
        {
          "name": "stdout",
          "output_type": "stream",
          "text": [
            "[] []\n",
            "---------------------------------------------\n",
            "class 5 and class 1 permutation cluster test\n",
            "---------------------------------------------\n",
            "stat_fun(H1): min=0.000002 max=6.259552\n",
            "Running initial clustering …\n",
            "Found 2 clusters\n"
          ]
        },
        {
          "name": "stderr",
          "output_type": "stream",
          "text": [
            "100%|██████████| Permuting : 99/99 [00:00<00:00,  314.41it/s]\n"
          ]
        },
        {
          "name": "stdout",
          "output_type": "stream",
          "text": [
            "[(slice(131, 132, None),), (slice(254, 255, None),)] [0.51 0.44]\n",
            "---------------------------------------------\n",
            "class 5 and class 2 permutation cluster test\n",
            "---------------------------------------------\n",
            "stat_fun(H1): min=0.000002 max=7.799955\n",
            "Running initial clustering …\n",
            "Found 1 cluster\n"
          ]
        },
        {
          "name": "stderr",
          "output_type": "stream",
          "text": [
            "100%|██████████| Permuting : 99/99 [00:00<00:00,  330.42it/s]\n"
          ]
        },
        {
          "name": "stdout",
          "output_type": "stream",
          "text": [
            "[(slice(257, 262, None),)] [0.26]\n",
            "---------------------------------------------\n",
            "class 5 and class 3 permutation cluster test\n",
            "---------------------------------------------\n",
            "stat_fun(H1): min=0.000000 max=4.107672\n",
            "Running initial clustering …\n",
            "Found 0 clusters\n",
            "[] []\n",
            "---------------------------------------------\n",
            "class 5 and class 4 permutation cluster test\n",
            "---------------------------------------------\n",
            "stat_fun(H1): min=0.000004 max=2.427007\n"
          ]
        },
        {
          "name": "stderr",
          "output_type": "stream",
          "text": [
            "C:\\Users\\Tobii\\AppData\\Local\\Temp\\ipykernel_20164\\2273424511.py:18: RuntimeWarning: No clusters found, returning empty H0, clusters, and cluster_pv\n",
            "  F_obs, clusters, cluster_p_values, H0 = permutation_cluster_test(\n"
          ]
        },
        {
          "name": "stdout",
          "output_type": "stream",
          "text": [
            "Running initial clustering …\n",
            "Found 0 clusters\n"
          ]
        },
        {
          "name": "stderr",
          "output_type": "stream",
          "text": [
            "C:\\Users\\Tobii\\AppData\\Local\\Temp\\ipykernel_20164\\2273424511.py:18: RuntimeWarning: No clusters found, returning empty H0, clusters, and cluster_pv\n",
            "  F_obs, clusters, cluster_p_values, H0 = permutation_cluster_test(\n"
          ]
        },
        {
          "name": "stdout",
          "output_type": "stream",
          "text": [
            "[] []\n",
            "---------------------------------------------\n",
            "class 5 and class 5 permutation cluster test\n",
            "---------------------------------------------\n",
            "stat_fun(H1): min=0.000000 max=0.000000\n",
            "Running initial clustering …\n",
            "Found 0 clusters\n",
            "[] []\n",
            "---------------------------------------------\n",
            "class 5 and class 6 permutation cluster test\n",
            "---------------------------------------------\n",
            "stat_fun(H1): min=0.000109 max=11.203465\n",
            "Running initial clustering …\n",
            "Found 2 clusters\n"
          ]
        },
        {
          "name": "stderr",
          "output_type": "stream",
          "text": [
            "C:\\Users\\Tobii\\AppData\\Local\\Temp\\ipykernel_20164\\2273424511.py:18: RuntimeWarning: No clusters found, returning empty H0, clusters, and cluster_pv\n",
            "  F_obs, clusters, cluster_p_values, H0 = permutation_cluster_test(\n",
            "100%|██████████| Permuting : 99/99 [00:00<00:00,  452.97it/s]\n"
          ]
        },
        {
          "name": "stdout",
          "output_type": "stream",
          "text": [
            "[(slice(2, 11, None),), (slice(22, 26, None),)] [0.08 0.33]\n",
            "---------------------------------------------\n",
            "class 6 and class 0 permutation cluster test\n",
            "---------------------------------------------\n",
            "stat_fun(H1): min=0.000001 max=9.802505\n",
            "Running initial clustering …\n",
            "Found 4 clusters\n"
          ]
        },
        {
          "name": "stderr",
          "output_type": "stream",
          "text": [
            "100%|██████████| Permuting : 99/99 [00:00<00:00,  459.71it/s]\n"
          ]
        },
        {
          "name": "stdout",
          "output_type": "stream",
          "text": [
            "[(slice(18, 23, None),), (slice(122, 126, None),), (slice(277, 281, None),), (slice(285, 286, None),)] [0.24 0.24 0.24 0.53]\n",
            "---------------------------------------------\n",
            "class 6 and class 1 permutation cluster test\n",
            "---------------------------------------------\n",
            "stat_fun(H1): min=0.000752 max=10.154958\n",
            "Running initial clustering …\n",
            "Found 2 clusters\n"
          ]
        },
        {
          "name": "stderr",
          "output_type": "stream",
          "text": [
            "100%|██████████| Permuting : 99/99 [00:00<00:00,  479.43it/s]\n"
          ]
        },
        {
          "name": "stdout",
          "output_type": "stream",
          "text": [
            "[(slice(17, 21, None),), (slice(179, 183, None),)] [0.3  0.23]\n",
            "---------------------------------------------\n",
            "class 6 and class 2 permutation cluster test\n",
            "---------------------------------------------\n",
            "stat_fun(H1): min=0.000005 max=8.981256\n",
            "Running initial clustering …\n",
            "Found 1 cluster\n"
          ]
        },
        {
          "name": "stderr",
          "output_type": "stream",
          "text": [
            "100%|██████████| Permuting : 99/99 [00:00<00:00,  409.68it/s]\n"
          ]
        },
        {
          "name": "stdout",
          "output_type": "stream",
          "text": [
            "[(slice(284, 292, None),)] [0.12]\n",
            "---------------------------------------------\n",
            "class 6 and class 3 permutation cluster test\n",
            "---------------------------------------------\n",
            "stat_fun(H1): min=0.000018 max=7.895814\n",
            "Running initial clustering …\n",
            "Found 3 clusters\n"
          ]
        },
        {
          "name": "stderr",
          "output_type": "stream",
          "text": [
            "100%|██████████| Permuting : 99/99 [00:00<00:00,  471.74it/s]\n"
          ]
        },
        {
          "name": "stdout",
          "output_type": "stream",
          "text": [
            "[(slice(2, 6, None),), (slice(8, 10, None),), (slice(20, 21, None),)] [0.31 0.45 0.65]\n",
            "---------------------------------------------\n",
            "class 6 and class 4 permutation cluster test\n",
            "---------------------------------------------\n",
            "stat_fun(H1): min=0.000082 max=10.974498\n",
            "Running initial clustering …\n",
            "Found 2 clusters\n"
          ]
        },
        {
          "name": "stderr",
          "output_type": "stream",
          "text": [
            "100%|██████████| Permuting : 99/99 [00:00<00:00,  476.91it/s]"
          ]
        },
        {
          "name": "stdout",
          "output_type": "stream",
          "text": [
            "[(slice(5, 10, None),), (slice(20, 23, None),)] [0.21 0.42]\n",
            "---------------------------------------------\n",
            "class 6 and class 5 permutation cluster test\n",
            "---------------------------------------------\n",
            "stat_fun(H1): min=0.000109 max=11.203465\n"
          ]
        },
        {
          "name": "stderr",
          "output_type": "stream",
          "text": [
            "\n"
          ]
        },
        {
          "name": "stdout",
          "output_type": "stream",
          "text": [
            "Running initial clustering …\n",
            "Found 2 clusters\n"
          ]
        },
        {
          "name": "stderr",
          "output_type": "stream",
          "text": [
            "100%|██████████| Permuting : 99/99 [00:00<00:00,  432.90it/s]"
          ]
        },
        {
          "name": "stdout",
          "output_type": "stream",
          "text": [
            "[(slice(2, 11, None),), (slice(22, 26, None),)] [0.07 0.31]\n",
            "---------------------------------------------\n",
            "class 6 and class 6 permutation cluster test\n",
            "---------------------------------------------\n",
            "stat_fun(H1): min=0.000000 max=0.000000\n",
            "Running initial clustering …\n"
          ]
        },
        {
          "name": "stderr",
          "output_type": "stream",
          "text": [
            "\n"
          ]
        },
        {
          "name": "stdout",
          "output_type": "stream",
          "text": [
            "Found 0 clusters\n",
            "[] []\n",
            "--------------------------------------------------VALENCE FEATURE 2-----------------------------------------------------\n",
            "---------------------------------------------\n",
            "class 0 and class 0 permutation cluster test\n",
            "---------------------------------------------\n",
            "stat_fun(H1): min=0.000000 max=0.000000\n"
          ]
        },
        {
          "name": "stderr",
          "output_type": "stream",
          "text": [
            "C:\\Users\\Tobii\\AppData\\Local\\Temp\\ipykernel_20164\\2273424511.py:18: RuntimeWarning: No clusters found, returning empty H0, clusters, and cluster_pv\n",
            "  F_obs, clusters, cluster_p_values, H0 = permutation_cluster_test(\n"
          ]
        },
        {
          "name": "stdout",
          "output_type": "stream",
          "text": [
            "Running initial clustering …\n",
            "Found 0 clusters\n",
            "[] []\n",
            "---------------------------------------------\n",
            "class 0 and class 1 permutation cluster test\n",
            "---------------------------------------------\n",
            "stat_fun(H1): min=0.000021 max=2.005044\n"
          ]
        },
        {
          "name": "stderr",
          "output_type": "stream",
          "text": [
            "C:\\Users\\Tobii\\AppData\\Local\\Temp\\ipykernel_20164\\2273424511.py:18: RuntimeWarning: No clusters found, returning empty H0, clusters, and cluster_pv\n",
            "  F_obs, clusters, cluster_p_values, H0 = permutation_cluster_test(\n"
          ]
        },
        {
          "name": "stdout",
          "output_type": "stream",
          "text": [
            "Running initial clustering …\n",
            "Found 0 clusters\n"
          ]
        },
        {
          "name": "stderr",
          "output_type": "stream",
          "text": [
            "C:\\Users\\Tobii\\AppData\\Local\\Temp\\ipykernel_20164\\2273424511.py:18: RuntimeWarning: No clusters found, returning empty H0, clusters, and cluster_pv\n",
            "  F_obs, clusters, cluster_p_values, H0 = permutation_cluster_test(\n"
          ]
        },
        {
          "name": "stdout",
          "output_type": "stream",
          "text": [
            "[] []\n",
            "---------------------------------------------\n",
            "class 0 and class 2 permutation cluster test\n",
            "---------------------------------------------\n",
            "stat_fun(H1): min=0.000000 max=2.841639\n",
            "Running initial clustering …\n",
            "Found 0 clusters\n"
          ]
        },
        {
          "name": "stderr",
          "output_type": "stream",
          "text": [
            "C:\\Users\\Tobii\\AppData\\Local\\Temp\\ipykernel_20164\\2273424511.py:18: RuntimeWarning: No clusters found, returning empty H0, clusters, and cluster_pv\n",
            "  F_obs, clusters, cluster_p_values, H0 = permutation_cluster_test(\n"
          ]
        },
        {
          "name": "stdout",
          "output_type": "stream",
          "text": [
            "[] []\n",
            "---------------------------------------------\n",
            "class 0 and class 3 permutation cluster test\n",
            "---------------------------------------------\n",
            "stat_fun(H1): min=0.000000 max=1.348073\n",
            "Running initial clustering …\n",
            "Found 0 clusters\n",
            "[] []\n",
            "---------------------------------------------\n",
            "class 0 and class 4 permutation cluster test\n",
            "---------------------------------------------\n",
            "stat_fun(H1): min=-0.000001 max=1.551754\n"
          ]
        },
        {
          "name": "stderr",
          "output_type": "stream",
          "text": [
            "C:\\Users\\Tobii\\AppData\\Local\\Temp\\ipykernel_20164\\2273424511.py:18: RuntimeWarning: No clusters found, returning empty H0, clusters, and cluster_pv\n",
            "  F_obs, clusters, cluster_p_values, H0 = permutation_cluster_test(\n"
          ]
        },
        {
          "name": "stdout",
          "output_type": "stream",
          "text": [
            "Running initial clustering …\n",
            "Found 0 clusters\n"
          ]
        },
        {
          "name": "stderr",
          "output_type": "stream",
          "text": [
            "C:\\Users\\Tobii\\AppData\\Local\\Temp\\ipykernel_20164\\2273424511.py:18: RuntimeWarning: No clusters found, returning empty H0, clusters, and cluster_pv\n",
            "  F_obs, clusters, cluster_p_values, H0 = permutation_cluster_test(\n"
          ]
        },
        {
          "name": "stdout",
          "output_type": "stream",
          "text": [
            "[] []\n",
            "---------------------------------------------\n",
            "class 0 and class 5 permutation cluster test\n",
            "---------------------------------------------\n",
            "stat_fun(H1): min=-0.000000 max=2.805746\n",
            "Running initial clustering …\n",
            "Found 0 clusters\n",
            "[] []\n",
            "---------------------------------------------\n",
            "class 0 and class 6 permutation cluster test\n",
            "---------------------------------------------\n",
            "stat_fun(H1): min=0.000759 max=4.317312\n",
            "Running initial clustering …\n",
            "Found 0 clusters\n",
            "[] []\n",
            "---------------------------------------------\n",
            "class 1 and class 0 permutation cluster test\n",
            "---------------------------------------------\n",
            "stat_fun(H1): min=0.000021 max=2.005044\n"
          ]
        },
        {
          "name": "stderr",
          "output_type": "stream",
          "text": [
            "C:\\Users\\Tobii\\AppData\\Local\\Temp\\ipykernel_20164\\2273424511.py:18: RuntimeWarning: No clusters found, returning empty H0, clusters, and cluster_pv\n",
            "  F_obs, clusters, cluster_p_values, H0 = permutation_cluster_test(\n",
            "C:\\Users\\Tobii\\AppData\\Local\\Temp\\ipykernel_20164\\2273424511.py:18: RuntimeWarning: No clusters found, returning empty H0, clusters, and cluster_pv\n",
            "  F_obs, clusters, cluster_p_values, H0 = permutation_cluster_test(\n"
          ]
        },
        {
          "name": "stdout",
          "output_type": "stream",
          "text": [
            "Running initial clustering …\n",
            "Found 0 clusters\n",
            "[] []\n",
            "---------------------------------------------\n",
            "class 1 and class 1 permutation cluster test\n",
            "---------------------------------------------\n",
            "stat_fun(H1): min=0.000000 max=0.000000\n",
            "Running initial clustering …\n",
            "Found 0 clusters\n",
            "[] []\n",
            "---------------------------------------------\n",
            "class 1 and class 2 permutation cluster test\n",
            "---------------------------------------------\n"
          ]
        },
        {
          "name": "stderr",
          "output_type": "stream",
          "text": [
            "C:\\Users\\Tobii\\AppData\\Local\\Temp\\ipykernel_20164\\2273424511.py:18: RuntimeWarning: No clusters found, returning empty H0, clusters, and cluster_pv\n",
            "  F_obs, clusters, cluster_p_values, H0 = permutation_cluster_test(\n",
            "C:\\Users\\Tobii\\AppData\\Local\\Temp\\ipykernel_20164\\2273424511.py:18: RuntimeWarning: No clusters found, returning empty H0, clusters, and cluster_pv\n",
            "  F_obs, clusters, cluster_p_values, H0 = permutation_cluster_test(\n"
          ]
        },
        {
          "name": "stdout",
          "output_type": "stream",
          "text": [
            "stat_fun(H1): min=0.000193 max=5.059551\n",
            "Running initial clustering …\n",
            "Found 0 clusters\n",
            "[] []\n",
            "---------------------------------------------\n",
            "class 1 and class 3 permutation cluster test\n",
            "---------------------------------------------\n"
          ]
        },
        {
          "name": "stderr",
          "output_type": "stream",
          "text": [
            "C:\\Users\\Tobii\\AppData\\Local\\Temp\\ipykernel_20164\\2273424511.py:18: RuntimeWarning: No clusters found, returning empty H0, clusters, and cluster_pv\n",
            "  F_obs, clusters, cluster_p_values, H0 = permutation_cluster_test(\n"
          ]
        },
        {
          "name": "stdout",
          "output_type": "stream",
          "text": [
            "stat_fun(H1): min=0.000003 max=1.291515\n",
            "Running initial clustering …\n",
            "Found 0 clusters\n",
            "[] []\n",
            "---------------------------------------------\n",
            "class 1 and class 4 permutation cluster test\n",
            "---------------------------------------------\n"
          ]
        },
        {
          "name": "stderr",
          "output_type": "stream",
          "text": [
            "C:\\Users\\Tobii\\AppData\\Local\\Temp\\ipykernel_20164\\2273424511.py:18: RuntimeWarning: No clusters found, returning empty H0, clusters, and cluster_pv\n",
            "  F_obs, clusters, cluster_p_values, H0 = permutation_cluster_test(\n"
          ]
        },
        {
          "name": "stdout",
          "output_type": "stream",
          "text": [
            "stat_fun(H1): min=0.000213 max=1.324617\n",
            "Running initial clustering …\n",
            "Found 0 clusters\n",
            "[] []\n",
            "---------------------------------------------\n",
            "class 1 and class 5 permutation cluster test\n",
            "---------------------------------------------\n",
            "stat_fun(H1): min=0.048844 max=4.175851\n",
            "Running initial clustering …\n",
            "Found 0 clusters\n",
            "[] []\n",
            "---------------------------------------------\n",
            "class 1 and class 6 permutation cluster test\n",
            "---------------------------------------------\n",
            "stat_fun(H1): min=0.000025 max=8.629798\n",
            "Running initial clustering …\n",
            "Found 1 cluster\n"
          ]
        },
        {
          "name": "stderr",
          "output_type": "stream",
          "text": [
            "C:\\Users\\Tobii\\AppData\\Local\\Temp\\ipykernel_20164\\2273424511.py:18: RuntimeWarning: No clusters found, returning empty H0, clusters, and cluster_pv\n",
            "  F_obs, clusters, cluster_p_values, H0 = permutation_cluster_test(\n",
            "C:\\Users\\Tobii\\AppData\\Local\\Temp\\ipykernel_20164\\2273424511.py:18: RuntimeWarning: No clusters found, returning empty H0, clusters, and cluster_pv\n",
            "  F_obs, clusters, cluster_p_values, H0 = permutation_cluster_test(\n",
            "100%|██████████| Permuting : 99/99 [00:00<00:00,  470.76it/s]\n"
          ]
        },
        {
          "name": "stdout",
          "output_type": "stream",
          "text": [
            "[(slice(49, 60, None),)] [0.07]\n",
            "---------------------------------------------\n",
            "class 2 and class 0 permutation cluster test\n",
            "---------------------------------------------\n",
            "stat_fun(H1): min=0.000000 max=2.841639\n",
            "Running initial clustering …\n",
            "Found 0 clusters\n",
            "[] []\n",
            "---------------------------------------------\n",
            "class 2 and class 1 permutation cluster test\n",
            "---------------------------------------------\n",
            "stat_fun(H1): min=0.000193 max=5.059551\n"
          ]
        },
        {
          "name": "stderr",
          "output_type": "stream",
          "text": [
            "C:\\Users\\Tobii\\AppData\\Local\\Temp\\ipykernel_20164\\2273424511.py:18: RuntimeWarning: No clusters found, returning empty H0, clusters, and cluster_pv\n",
            "  F_obs, clusters, cluster_p_values, H0 = permutation_cluster_test(\n"
          ]
        },
        {
          "name": "stdout",
          "output_type": "stream",
          "text": [
            "Running initial clustering …\n",
            "Found 0 clusters\n"
          ]
        },
        {
          "name": "stderr",
          "output_type": "stream",
          "text": [
            "C:\\Users\\Tobii\\AppData\\Local\\Temp\\ipykernel_20164\\2273424511.py:18: RuntimeWarning: No clusters found, returning empty H0, clusters, and cluster_pv\n",
            "  F_obs, clusters, cluster_p_values, H0 = permutation_cluster_test(\n"
          ]
        },
        {
          "name": "stdout",
          "output_type": "stream",
          "text": [
            "[] []\n",
            "---------------------------------------------\n",
            "class 2 and class 2 permutation cluster test\n",
            "---------------------------------------------\n",
            "stat_fun(H1): min=0.000000 max=0.000000\n",
            "Running initial clustering …\n",
            "Found 0 clusters\n",
            "[] []\n",
            "---------------------------------------------\n",
            "class 2 and class 3 permutation cluster test\n",
            "---------------------------------------------\n"
          ]
        },
        {
          "name": "stderr",
          "output_type": "stream",
          "text": [
            "C:\\Users\\Tobii\\AppData\\Local\\Temp\\ipykernel_20164\\2273424511.py:18: RuntimeWarning: No clusters found, returning empty H0, clusters, and cluster_pv\n",
            "  F_obs, clusters, cluster_p_values, H0 = permutation_cluster_test(\n"
          ]
        },
        {
          "name": "stdout",
          "output_type": "stream",
          "text": [
            "stat_fun(H1): min=0.000002 max=1.594896\n",
            "Running initial clustering …\n",
            "Found 0 clusters\n",
            "[] []\n",
            "---------------------------------------------\n",
            "class 2 and class 4 permutation cluster test\n",
            "---------------------------------------------\n",
            "stat_fun(H1): min=0.001897 max=5.110283\n",
            "Running initial clustering …\n",
            "Found 0 clusters\n",
            "[] []\n",
            "---------------------------------------------\n",
            "class 2 and class 5 permutation cluster test\n",
            "---------------------------------------------\n"
          ]
        },
        {
          "name": "stderr",
          "output_type": "stream",
          "text": [
            "C:\\Users\\Tobii\\AppData\\Local\\Temp\\ipykernel_20164\\2273424511.py:18: RuntimeWarning: No clusters found, returning empty H0, clusters, and cluster_pv\n",
            "  F_obs, clusters, cluster_p_values, H0 = permutation_cluster_test(\n",
            "C:\\Users\\Tobii\\AppData\\Local\\Temp\\ipykernel_20164\\2273424511.py:18: RuntimeWarning: No clusters found, returning empty H0, clusters, and cluster_pv\n",
            "  F_obs, clusters, cluster_p_values, H0 = permutation_cluster_test(\n"
          ]
        },
        {
          "name": "stdout",
          "output_type": "stream",
          "text": [
            "stat_fun(H1): min=0.000001 max=3.233795\n",
            "Running initial clustering …\n",
            "Found 0 clusters\n",
            "[] []\n",
            "---------------------------------------------\n",
            "class 2 and class 6 permutation cluster test\n",
            "---------------------------------------------\n",
            "stat_fun(H1): min=0.000294 max=5.853893\n",
            "Running initial clustering …\n",
            "Found 0 clusters\n",
            "[] []\n",
            "---------------------------------------------\n",
            "class 3 and class 0 permutation cluster test\n",
            "---------------------------------------------\n",
            "stat_fun(H1): min=0.000000 max=1.348073\n"
          ]
        },
        {
          "name": "stderr",
          "output_type": "stream",
          "text": [
            "C:\\Users\\Tobii\\AppData\\Local\\Temp\\ipykernel_20164\\2273424511.py:18: RuntimeWarning: No clusters found, returning empty H0, clusters, and cluster_pv\n",
            "  F_obs, clusters, cluster_p_values, H0 = permutation_cluster_test(\n",
            "C:\\Users\\Tobii\\AppData\\Local\\Temp\\ipykernel_20164\\2273424511.py:18: RuntimeWarning: No clusters found, returning empty H0, clusters, and cluster_pv\n",
            "  F_obs, clusters, cluster_p_values, H0 = permutation_cluster_test(\n"
          ]
        },
        {
          "name": "stdout",
          "output_type": "stream",
          "text": [
            "Running initial clustering …\n",
            "Found 0 clusters\n",
            "[] []\n",
            "---------------------------------------------\n",
            "class 3 and class 1 permutation cluster test\n",
            "---------------------------------------------\n",
            "stat_fun(H1): min=0.000003 max=1.291515\n",
            "Running initial clustering …\n",
            "Found 0 clusters\n",
            "[] []\n",
            "---------------------------------------------\n",
            "class 3 and class 2 permutation cluster test\n",
            "---------------------------------------------\n"
          ]
        },
        {
          "name": "stderr",
          "output_type": "stream",
          "text": [
            "C:\\Users\\Tobii\\AppData\\Local\\Temp\\ipykernel_20164\\2273424511.py:18: RuntimeWarning: No clusters found, returning empty H0, clusters, and cluster_pv\n",
            "  F_obs, clusters, cluster_p_values, H0 = permutation_cluster_test(\n",
            "C:\\Users\\Tobii\\AppData\\Local\\Temp\\ipykernel_20164\\2273424511.py:18: RuntimeWarning: No clusters found, returning empty H0, clusters, and cluster_pv\n",
            "  F_obs, clusters, cluster_p_values, H0 = permutation_cluster_test(\n"
          ]
        },
        {
          "name": "stdout",
          "output_type": "stream",
          "text": [
            "stat_fun(H1): min=0.000002 max=1.594896\n",
            "Running initial clustering …\n",
            "Found 0 clusters\n",
            "[] []\n",
            "---------------------------------------------\n",
            "class 3 and class 3 permutation cluster test\n",
            "---------------------------------------------\n"
          ]
        },
        {
          "name": "stderr",
          "output_type": "stream",
          "text": [
            "C:\\Users\\Tobii\\AppData\\Local\\Temp\\ipykernel_20164\\2273424511.py:18: RuntimeWarning: No clusters found, returning empty H0, clusters, and cluster_pv\n",
            "  F_obs, clusters, cluster_p_values, H0 = permutation_cluster_test(\n"
          ]
        },
        {
          "name": "stdout",
          "output_type": "stream",
          "text": [
            "stat_fun(H1): min=0.000000 max=0.000000\n",
            "Running initial clustering …\n",
            "Found 0 clusters\n",
            "[] []\n",
            "---------------------------------------------\n",
            "class 3 and class 4 permutation cluster test\n",
            "---------------------------------------------\n"
          ]
        },
        {
          "name": "stderr",
          "output_type": "stream",
          "text": [
            "C:\\Users\\Tobii\\AppData\\Local\\Temp\\ipykernel_20164\\2273424511.py:18: RuntimeWarning: No clusters found, returning empty H0, clusters, and cluster_pv\n",
            "  F_obs, clusters, cluster_p_values, H0 = permutation_cluster_test(\n"
          ]
        },
        {
          "name": "stdout",
          "output_type": "stream",
          "text": [
            "stat_fun(H1): min=0.000019 max=3.251137\n",
            "Running initial clustering …\n",
            "Found 0 clusters\n",
            "[] []\n",
            "---------------------------------------------\n",
            "class 3 and class 5 permutation cluster test\n",
            "---------------------------------------------\n",
            "stat_fun(H1): min=0.000003 max=3.354616\n",
            "Running initial clustering …\n",
            "Found 0 clusters\n",
            "[] []\n",
            "---------------------------------------------\n",
            "class 3 and class 6 permutation cluster test\n",
            "---------------------------------------------\n",
            "stat_fun(H1): min=0.001790 max=6.218012\n",
            "Running initial clustering …\n",
            "Found 1 cluster\n"
          ]
        },
        {
          "name": "stderr",
          "output_type": "stream",
          "text": [
            "C:\\Users\\Tobii\\AppData\\Local\\Temp\\ipykernel_20164\\2273424511.py:18: RuntimeWarning: No clusters found, returning empty H0, clusters, and cluster_pv\n",
            "  F_obs, clusters, cluster_p_values, H0 = permutation_cluster_test(\n",
            "C:\\Users\\Tobii\\AppData\\Local\\Temp\\ipykernel_20164\\2273424511.py:18: RuntimeWarning: No clusters found, returning empty H0, clusters, and cluster_pv\n",
            "  F_obs, clusters, cluster_p_values, H0 = permutation_cluster_test(\n",
            "100%|██████████| Permuting : 99/99 [00:00<00:00,  446.08it/s]\n"
          ]
        },
        {
          "name": "stdout",
          "output_type": "stream",
          "text": [
            "[(slice(6, 10, None),)] [0.25]\n",
            "---------------------------------------------\n",
            "class 4 and class 0 permutation cluster test\n",
            "---------------------------------------------\n",
            "stat_fun(H1): min=-0.000001 max=1.551754\n",
            "Running initial clustering …\n",
            "Found 0 clusters\n",
            "[] []\n",
            "---------------------------------------------\n",
            "class 4 and class 1 permutation cluster test\n",
            "---------------------------------------------\n",
            "stat_fun(H1): min=0.000213 max=1.324617\n",
            "Running initial clustering …\n",
            "Found 0 clusters\n",
            "[] []\n",
            "---------------------------------------------\n",
            "class 4 and class 2 permutation cluster test\n",
            "---------------------------------------------\n",
            "stat_fun(H1): min=0.001897 max=5.110283\n",
            "Running initial clustering …\n",
            "Found 0 clusters\n",
            "[] []\n",
            "---------------------------------------------\n",
            "class 4 and class 3 permutation cluster test\n",
            "---------------------------------------------\n",
            "stat_fun(H1): min=0.000019 max=3.251137\n"
          ]
        },
        {
          "name": "stderr",
          "output_type": "stream",
          "text": [
            "C:\\Users\\Tobii\\AppData\\Local\\Temp\\ipykernel_20164\\2273424511.py:18: RuntimeWarning: No clusters found, returning empty H0, clusters, and cluster_pv\n",
            "  F_obs, clusters, cluster_p_values, H0 = permutation_cluster_test(\n",
            "C:\\Users\\Tobii\\AppData\\Local\\Temp\\ipykernel_20164\\2273424511.py:18: RuntimeWarning: No clusters found, returning empty H0, clusters, and cluster_pv\n",
            "  F_obs, clusters, cluster_p_values, H0 = permutation_cluster_test(\n",
            "C:\\Users\\Tobii\\AppData\\Local\\Temp\\ipykernel_20164\\2273424511.py:18: RuntimeWarning: No clusters found, returning empty H0, clusters, and cluster_pv\n",
            "  F_obs, clusters, cluster_p_values, H0 = permutation_cluster_test(\n"
          ]
        },
        {
          "name": "stdout",
          "output_type": "stream",
          "text": [
            "Running initial clustering …\n",
            "Found 0 clusters\n",
            "[] []\n",
            "---------------------------------------------\n",
            "class 4 and class 4 permutation cluster test\n",
            "---------------------------------------------\n",
            "stat_fun(H1): min=0.000000 max=0.000000\n",
            "Running initial clustering …\n",
            "Found 0 clusters\n",
            "[] []\n",
            "---------------------------------------------\n",
            "class 4 and class 5 permutation cluster test\n",
            "---------------------------------------------\n",
            "stat_fun(H1): min=0.000045 max=3.996903\n",
            "Running initial clustering …\n",
            "Found 0 clusters\n",
            "[] []\n",
            "---------------------------------------------\n",
            "class 4 and class 6 permutation cluster test\n",
            "---------------------------------------------\n",
            "stat_fun(H1): min=0.000283 max=7.183963\n",
            "Running initial clustering …\n",
            "Found 4 clusters\n"
          ]
        },
        {
          "name": "stderr",
          "output_type": "stream",
          "text": [
            "C:\\Users\\Tobii\\AppData\\Local\\Temp\\ipykernel_20164\\2273424511.py:18: RuntimeWarning: No clusters found, returning empty H0, clusters, and cluster_pv\n",
            "  F_obs, clusters, cluster_p_values, H0 = permutation_cluster_test(\n",
            "C:\\Users\\Tobii\\AppData\\Local\\Temp\\ipykernel_20164\\2273424511.py:18: RuntimeWarning: No clusters found, returning empty H0, clusters, and cluster_pv\n",
            "  F_obs, clusters, cluster_p_values, H0 = permutation_cluster_test(\n",
            "C:\\Users\\Tobii\\AppData\\Local\\Temp\\ipykernel_20164\\2273424511.py:18: RuntimeWarning: No clusters found, returning empty H0, clusters, and cluster_pv\n",
            "  F_obs, clusters, cluster_p_values, H0 = permutation_cluster_test(\n",
            "100%|██████████| Permuting : 99/99 [00:00<00:00,  433.75it/s]"
          ]
        },
        {
          "name": "stdout",
          "output_type": "stream",
          "text": [
            "[(slice(24, 31, None),), (slice(54, 61, None),), (slice(62, 65, None),), (slice(70, 71, None),)] [0.19 0.17 0.21 0.22]\n",
            "---------------------------------------------\n",
            "class 5 and class 0 permutation cluster test\n",
            "---------------------------------------------\n",
            "stat_fun(H1): min=-0.000000 max=2.805746\n"
          ]
        },
        {
          "name": "stderr",
          "output_type": "stream",
          "text": [
            "\n"
          ]
        },
        {
          "name": "stdout",
          "output_type": "stream",
          "text": [
            "Running initial clustering …\n",
            "Found 0 clusters\n",
            "[] []\n",
            "---------------------------------------------\n",
            "class 5 and class 1 permutation cluster test\n",
            "---------------------------------------------\n",
            "stat_fun(H1): min=0.048844 max=4.175851\n"
          ]
        },
        {
          "name": "stderr",
          "output_type": "stream",
          "text": [
            "C:\\Users\\Tobii\\AppData\\Local\\Temp\\ipykernel_20164\\2273424511.py:18: RuntimeWarning: No clusters found, returning empty H0, clusters, and cluster_pv\n",
            "  F_obs, clusters, cluster_p_values, H0 = permutation_cluster_test(\n"
          ]
        },
        {
          "name": "stdout",
          "output_type": "stream",
          "text": [
            "Running initial clustering …\n",
            "Found 0 clusters\n"
          ]
        },
        {
          "name": "stderr",
          "output_type": "stream",
          "text": [
            "C:\\Users\\Tobii\\AppData\\Local\\Temp\\ipykernel_20164\\2273424511.py:18: RuntimeWarning: No clusters found, returning empty H0, clusters, and cluster_pv\n",
            "  F_obs, clusters, cluster_p_values, H0 = permutation_cluster_test(\n"
          ]
        },
        {
          "name": "stdout",
          "output_type": "stream",
          "text": [
            "[] []\n",
            "---------------------------------------------\n",
            "class 5 and class 2 permutation cluster test\n",
            "---------------------------------------------\n",
            "stat_fun(H1): min=0.000001 max=3.233795\n",
            "Running initial clustering …\n",
            "Found 0 clusters\n"
          ]
        },
        {
          "name": "stderr",
          "output_type": "stream",
          "text": [
            "C:\\Users\\Tobii\\AppData\\Local\\Temp\\ipykernel_20164\\2273424511.py:18: RuntimeWarning: No clusters found, returning empty H0, clusters, and cluster_pv\n",
            "  F_obs, clusters, cluster_p_values, H0 = permutation_cluster_test(\n"
          ]
        },
        {
          "name": "stdout",
          "output_type": "stream",
          "text": [
            "[] []\n",
            "---------------------------------------------\n",
            "class 5 and class 3 permutation cluster test\n",
            "---------------------------------------------\n",
            "stat_fun(H1): min=0.000003 max=3.354616\n",
            "Running initial clustering …\n",
            "Found 0 clusters\n",
            "[] []\n",
            "---------------------------------------------\n",
            "class 5 and class 4 permutation cluster test\n",
            "---------------------------------------------\n"
          ]
        },
        {
          "name": "stderr",
          "output_type": "stream",
          "text": [
            "C:\\Users\\Tobii\\AppData\\Local\\Temp\\ipykernel_20164\\2273424511.py:18: RuntimeWarning: No clusters found, returning empty H0, clusters, and cluster_pv\n",
            "  F_obs, clusters, cluster_p_values, H0 = permutation_cluster_test(\n"
          ]
        },
        {
          "name": "stdout",
          "output_type": "stream",
          "text": [
            "stat_fun(H1): min=0.000045 max=3.996903\n",
            "Running initial clustering …\n",
            "Found 0 clusters\n",
            "[] []\n",
            "---------------------------------------------\n",
            "class 5 and class 5 permutation cluster test\n",
            "---------------------------------------------\n",
            "stat_fun(H1): min=0.000000 max=0.000000\n",
            "Running initial clustering …\n",
            "Found 0 clusters\n",
            "[] []\n",
            "---------------------------------------------\n",
            "class 5 and class 6 permutation cluster test\n",
            "---------------------------------------------\n"
          ]
        },
        {
          "name": "stderr",
          "output_type": "stream",
          "text": [
            "C:\\Users\\Tobii\\AppData\\Local\\Temp\\ipykernel_20164\\2273424511.py:18: RuntimeWarning: No clusters found, returning empty H0, clusters, and cluster_pv\n",
            "  F_obs, clusters, cluster_p_values, H0 = permutation_cluster_test(\n",
            "C:\\Users\\Tobii\\AppData\\Local\\Temp\\ipykernel_20164\\2273424511.py:18: RuntimeWarning: No clusters found, returning empty H0, clusters, and cluster_pv\n",
            "  F_obs, clusters, cluster_p_values, H0 = permutation_cluster_test(\n"
          ]
        },
        {
          "name": "stdout",
          "output_type": "stream",
          "text": [
            "stat_fun(H1): min=0.000599 max=10.027961\n",
            "Running initial clustering …\n",
            "Found 1 cluster\n"
          ]
        },
        {
          "name": "stderr",
          "output_type": "stream",
          "text": [
            "100%|██████████| Permuting : 99/99 [00:00<00:00,  425.95it/s]"
          ]
        },
        {
          "name": "stdout",
          "output_type": "stream",
          "text": [
            "[(slice(48, 66, None),)] [0.03]\n",
            "---------------------------------------------\n",
            "class 6 and class 0 permutation cluster test\n",
            "---------------------------------------------\n",
            "stat_fun(H1): min=0.000759 max=4.317312\n"
          ]
        },
        {
          "name": "stderr",
          "output_type": "stream",
          "text": [
            "\n"
          ]
        },
        {
          "name": "stdout",
          "output_type": "stream",
          "text": [
            "Running initial clustering …\n",
            "Found 0 clusters\n",
            "[] []\n",
            "---------------------------------------------\n",
            "class 6 and class 1 permutation cluster test\n",
            "---------------------------------------------\n",
            "stat_fun(H1): min=0.000025 max=8.629798\n",
            "Running initial clustering …\n",
            "Found 1 cluster\n"
          ]
        },
        {
          "name": "stderr",
          "output_type": "stream",
          "text": [
            "C:\\Users\\Tobii\\AppData\\Local\\Temp\\ipykernel_20164\\2273424511.py:18: RuntimeWarning: No clusters found, returning empty H0, clusters, and cluster_pv\n",
            "  F_obs, clusters, cluster_p_values, H0 = permutation_cluster_test(\n",
            "100%|██████████| Permuting : 99/99 [00:00<00:00,  462.83it/s]"
          ]
        },
        {
          "name": "stdout",
          "output_type": "stream",
          "text": [
            "[(slice(49, 60, None),)] [0.1]\n",
            "---------------------------------------------\n",
            "class 6 and class 2 permutation cluster test\n",
            "---------------------------------------------\n",
            "stat_fun(H1): min=0.000294 max=5.853893\n"
          ]
        },
        {
          "name": "stderr",
          "output_type": "stream",
          "text": [
            "\n"
          ]
        },
        {
          "name": "stdout",
          "output_type": "stream",
          "text": [
            "Running initial clustering …\n",
            "Found 0 clusters\n"
          ]
        },
        {
          "name": "stderr",
          "output_type": "stream",
          "text": [
            "C:\\Users\\Tobii\\AppData\\Local\\Temp\\ipykernel_20164\\2273424511.py:18: RuntimeWarning: No clusters found, returning empty H0, clusters, and cluster_pv\n",
            "  F_obs, clusters, cluster_p_values, H0 = permutation_cluster_test(\n"
          ]
        },
        {
          "name": "stdout",
          "output_type": "stream",
          "text": [
            "[] []\n",
            "---------------------------------------------\n",
            "class 6 and class 3 permutation cluster test\n",
            "---------------------------------------------\n",
            "stat_fun(H1): min=0.001790 max=6.218012\n",
            "Running initial clustering …\n",
            "Found 1 cluster\n"
          ]
        },
        {
          "name": "stderr",
          "output_type": "stream",
          "text": [
            "100%|██████████| Permuting : 99/99 [00:00<00:00,  465.84it/s]\n"
          ]
        },
        {
          "name": "stdout",
          "output_type": "stream",
          "text": [
            "[(slice(6, 10, None),)] [0.14]\n",
            "---------------------------------------------\n",
            "class 6 and class 4 permutation cluster test\n",
            "---------------------------------------------\n",
            "stat_fun(H1): min=0.000283 max=7.183963\n",
            "Running initial clustering …\n",
            "Found 4 clusters\n"
          ]
        },
        {
          "name": "stderr",
          "output_type": "stream",
          "text": [
            "100%|██████████| Permuting : 99/99 [00:00<00:00,  406.73it/s]\n"
          ]
        },
        {
          "name": "stdout",
          "output_type": "stream",
          "text": [
            "[(slice(24, 31, None),), (slice(54, 61, None),), (slice(62, 65, None),), (slice(70, 71, None),)] [0.18 0.18 0.22 0.24]\n",
            "---------------------------------------------\n",
            "class 6 and class 5 permutation cluster test\n",
            "---------------------------------------------\n",
            "stat_fun(H1): min=0.000599 max=10.027961\n",
            "Running initial clustering …\n",
            "Found 1 cluster\n"
          ]
        },
        {
          "name": "stderr",
          "output_type": "stream",
          "text": [
            "100%|██████████| Permuting : 99/99 [00:00<00:00,  478.65it/s]"
          ]
        },
        {
          "name": "stdout",
          "output_type": "stream",
          "text": [
            "[(slice(48, 66, None),)] [0.05]\n",
            "---------------------------------------------\n",
            "class 6 and class 6 permutation cluster test\n",
            "---------------------------------------------\n",
            "stat_fun(H1): min=0.000000 max=0.000000\n"
          ]
        },
        {
          "name": "stderr",
          "output_type": "stream",
          "text": [
            "\n"
          ]
        },
        {
          "name": "stdout",
          "output_type": "stream",
          "text": [
            "Running initial clustering …\n",
            "Found 0 clusters\n",
            "[] []\n",
            "--------------------------------------------------VALENCE FEATURE 3-----------------------------------------------------\n",
            "---------------------------------------------\n",
            "class 0 and class 0 permutation cluster test\n",
            "---------------------------------------------\n",
            "stat_fun(H1): min=0.000000 max=0.000000\n"
          ]
        },
        {
          "name": "stderr",
          "output_type": "stream",
          "text": [
            "C:\\Users\\Tobii\\AppData\\Local\\Temp\\ipykernel_20164\\2273424511.py:18: RuntimeWarning: No clusters found, returning empty H0, clusters, and cluster_pv\n",
            "  F_obs, clusters, cluster_p_values, H0 = permutation_cluster_test(\n"
          ]
        },
        {
          "name": "stdout",
          "output_type": "stream",
          "text": [
            "Running initial clustering …\n",
            "Found 0 clusters\n",
            "[] []\n",
            "---------------------------------------------\n",
            "class 0 and class 1 permutation cluster test\n",
            "---------------------------------------------\n",
            "stat_fun(H1): min=0.000007 max=3.654103\n",
            "Running initial clustering …\n",
            "Found 0 clusters\n"
          ]
        },
        {
          "name": "stderr",
          "output_type": "stream",
          "text": [
            "C:\\Users\\Tobii\\AppData\\Local\\Temp\\ipykernel_20164\\2273424511.py:18: RuntimeWarning: No clusters found, returning empty H0, clusters, and cluster_pv\n",
            "  F_obs, clusters, cluster_p_values, H0 = permutation_cluster_test(\n",
            "C:\\Users\\Tobii\\AppData\\Local\\Temp\\ipykernel_20164\\2273424511.py:18: RuntimeWarning: No clusters found, returning empty H0, clusters, and cluster_pv\n",
            "  F_obs, clusters, cluster_p_values, H0 = permutation_cluster_test(\n"
          ]
        },
        {
          "name": "stdout",
          "output_type": "stream",
          "text": [
            "[] []\n",
            "---------------------------------------------\n",
            "class 0 and class 2 permutation cluster test\n",
            "---------------------------------------------\n",
            "stat_fun(H1): min=0.000000 max=4.080956\n",
            "Running initial clustering …\n",
            "Found 0 clusters\n"
          ]
        },
        {
          "name": "stderr",
          "output_type": "stream",
          "text": [
            "C:\\Users\\Tobii\\AppData\\Local\\Temp\\ipykernel_20164\\2273424511.py:18: RuntimeWarning: No clusters found, returning empty H0, clusters, and cluster_pv\n",
            "  F_obs, clusters, cluster_p_values, H0 = permutation_cluster_test(\n"
          ]
        },
        {
          "name": "stdout",
          "output_type": "stream",
          "text": [
            "[] []\n",
            "---------------------------------------------\n",
            "class 0 and class 3 permutation cluster test\n",
            "---------------------------------------------\n",
            "stat_fun(H1): min=0.000449 max=3.702586\n",
            "Running initial clustering …\n",
            "Found 0 clusters\n",
            "[] []\n",
            "---------------------------------------------\n",
            "class 0 and class 4 permutation cluster test\n",
            "---------------------------------------------\n",
            "stat_fun(H1): min=0.000001 max=1.128513\n"
          ]
        },
        {
          "name": "stderr",
          "output_type": "stream",
          "text": [
            "C:\\Users\\Tobii\\AppData\\Local\\Temp\\ipykernel_20164\\2273424511.py:18: RuntimeWarning: No clusters found, returning empty H0, clusters, and cluster_pv\n",
            "  F_obs, clusters, cluster_p_values, H0 = permutation_cluster_test(\n"
          ]
        },
        {
          "name": "stdout",
          "output_type": "stream",
          "text": [
            "Running initial clustering …\n",
            "Found 0 clusters\n",
            "[] []\n",
            "---------------------------------------------\n",
            "class 0 and class 5 permutation cluster test\n",
            "---------------------------------------------\n",
            "stat_fun(H1): min=0.000012 max=5.290114\n",
            "Running initial clustering …\n",
            "Found 0 clusters\n",
            "[] []\n",
            "---------------------------------------------\n",
            "class 0 and class 6 permutation cluster test\n",
            "---------------------------------------------\n",
            "stat_fun(H1): min=0.000092 max=2.501442\n",
            "Running initial clustering …\n",
            "Found 0 clusters\n",
            "[] []\n",
            "---------------------------------------------\n",
            "class 1 and class 0 permutation cluster test\n",
            "---------------------------------------------\n",
            "stat_fun(H1): min=0.000007 max=3.654103\n",
            "Running initial clustering …\n",
            "Found 0 clusters\n",
            "[] []\n",
            "---------------------------------------------\n",
            "class 1 and class 1 permutation cluster test\n",
            "---------------------------------------------\n"
          ]
        },
        {
          "name": "stderr",
          "output_type": "stream",
          "text": [
            "C:\\Users\\Tobii\\AppData\\Local\\Temp\\ipykernel_20164\\2273424511.py:18: RuntimeWarning: No clusters found, returning empty H0, clusters, and cluster_pv\n",
            "  F_obs, clusters, cluster_p_values, H0 = permutation_cluster_test(\n",
            "C:\\Users\\Tobii\\AppData\\Local\\Temp\\ipykernel_20164\\2273424511.py:18: RuntimeWarning: No clusters found, returning empty H0, clusters, and cluster_pv\n",
            "  F_obs, clusters, cluster_p_values, H0 = permutation_cluster_test(\n",
            "C:\\Users\\Tobii\\AppData\\Local\\Temp\\ipykernel_20164\\2273424511.py:18: RuntimeWarning: No clusters found, returning empty H0, clusters, and cluster_pv\n",
            "  F_obs, clusters, cluster_p_values, H0 = permutation_cluster_test(\n",
            "C:\\Users\\Tobii\\AppData\\Local\\Temp\\ipykernel_20164\\2273424511.py:18: RuntimeWarning: No clusters found, returning empty H0, clusters, and cluster_pv\n",
            "  F_obs, clusters, cluster_p_values, H0 = permutation_cluster_test(\n"
          ]
        },
        {
          "name": "stdout",
          "output_type": "stream",
          "text": [
            "stat_fun(H1): min=0.000000 max=0.000000\n",
            "Running initial clustering …\n",
            "Found 0 clusters\n",
            "[] []\n",
            "---------------------------------------------\n",
            "class 1 and class 2 permutation cluster test\n",
            "---------------------------------------------\n"
          ]
        },
        {
          "name": "stderr",
          "output_type": "stream",
          "text": [
            "C:\\Users\\Tobii\\AppData\\Local\\Temp\\ipykernel_20164\\2273424511.py:18: RuntimeWarning: No clusters found, returning empty H0, clusters, and cluster_pv\n",
            "  F_obs, clusters, cluster_p_values, H0 = permutation_cluster_test(\n"
          ]
        },
        {
          "name": "stdout",
          "output_type": "stream",
          "text": [
            "stat_fun(H1): min=0.000001 max=4.628417\n",
            "Running initial clustering …\n",
            "Found 0 clusters\n"
          ]
        },
        {
          "name": "stderr",
          "output_type": "stream",
          "text": [
            "C:\\Users\\Tobii\\AppData\\Local\\Temp\\ipykernel_20164\\2273424511.py:18: RuntimeWarning: No clusters found, returning empty H0, clusters, and cluster_pv\n",
            "  F_obs, clusters, cluster_p_values, H0 = permutation_cluster_test(\n"
          ]
        },
        {
          "name": "stdout",
          "output_type": "stream",
          "text": [
            "[] []\n",
            "---------------------------------------------\n",
            "class 1 and class 3 permutation cluster test\n",
            "---------------------------------------------\n",
            "stat_fun(H1): min=0.000051 max=1.267323\n",
            "Running initial clustering …\n",
            "Found 0 clusters\n",
            "[] []\n",
            "---------------------------------------------\n",
            "class 1 and class 4 permutation cluster test\n",
            "---------------------------------------------\n",
            "stat_fun(H1): min=0.000011 max=3.038005\n"
          ]
        },
        {
          "name": "stderr",
          "output_type": "stream",
          "text": [
            "C:\\Users\\Tobii\\AppData\\Local\\Temp\\ipykernel_20164\\2273424511.py:18: RuntimeWarning: No clusters found, returning empty H0, clusters, and cluster_pv\n",
            "  F_obs, clusters, cluster_p_values, H0 = permutation_cluster_test(\n"
          ]
        },
        {
          "name": "stdout",
          "output_type": "stream",
          "text": [
            "Running initial clustering …\n",
            "Found 0 clusters\n",
            "[] []\n",
            "---------------------------------------------\n",
            "class 1 and class 5 permutation cluster test\n",
            "---------------------------------------------\n",
            "stat_fun(H1): min=0.000477 max=1.303105\n",
            "Running initial clustering …\n",
            "Found 0 clusters\n",
            "[] []\n",
            "---------------------------------------------\n",
            "class 1 and class 6 permutation cluster test\n",
            "---------------------------------------------\n",
            "stat_fun(H1): min=0.000230 max=1.046054\n",
            "Running initial clustering …\n"
          ]
        },
        {
          "name": "stderr",
          "output_type": "stream",
          "text": [
            "C:\\Users\\Tobii\\AppData\\Local\\Temp\\ipykernel_20164\\2273424511.py:18: RuntimeWarning: No clusters found, returning empty H0, clusters, and cluster_pv\n",
            "  F_obs, clusters, cluster_p_values, H0 = permutation_cluster_test(\n",
            "C:\\Users\\Tobii\\AppData\\Local\\Temp\\ipykernel_20164\\2273424511.py:18: RuntimeWarning: No clusters found, returning empty H0, clusters, and cluster_pv\n",
            "  F_obs, clusters, cluster_p_values, H0 = permutation_cluster_test(\n"
          ]
        },
        {
          "name": "stdout",
          "output_type": "stream",
          "text": [
            "Found 0 clusters\n",
            "[] []\n",
            "---------------------------------------------\n",
            "class 2 and class 0 permutation cluster test\n",
            "---------------------------------------------\n",
            "stat_fun(H1): min=0.000000 max=4.080956\n",
            "Running initial clustering …\n",
            "Found 0 clusters\n",
            "[] []\n",
            "---------------------------------------------\n",
            "class 2 and class 1 permutation cluster test\n",
            "---------------------------------------------\n",
            "stat_fun(H1): min=0.000001 max=4.628417\n"
          ]
        },
        {
          "name": "stderr",
          "output_type": "stream",
          "text": [
            "C:\\Users\\Tobii\\AppData\\Local\\Temp\\ipykernel_20164\\2273424511.py:18: RuntimeWarning: No clusters found, returning empty H0, clusters, and cluster_pv\n",
            "  F_obs, clusters, cluster_p_values, H0 = permutation_cluster_test(\n",
            "C:\\Users\\Tobii\\AppData\\Local\\Temp\\ipykernel_20164\\2273424511.py:18: RuntimeWarning: No clusters found, returning empty H0, clusters, and cluster_pv\n",
            "  F_obs, clusters, cluster_p_values, H0 = permutation_cluster_test(\n"
          ]
        },
        {
          "name": "stdout",
          "output_type": "stream",
          "text": [
            "Running initial clustering …\n",
            "Found 0 clusters\n",
            "[] []\n",
            "---------------------------------------------\n",
            "class 2 and class 2 permutation cluster test\n",
            "---------------------------------------------\n"
          ]
        },
        {
          "name": "stderr",
          "output_type": "stream",
          "text": [
            "C:\\Users\\Tobii\\AppData\\Local\\Temp\\ipykernel_20164\\2273424511.py:18: RuntimeWarning: No clusters found, returning empty H0, clusters, and cluster_pv\n",
            "  F_obs, clusters, cluster_p_values, H0 = permutation_cluster_test(\n"
          ]
        },
        {
          "name": "stdout",
          "output_type": "stream",
          "text": [
            "stat_fun(H1): min=0.000000 max=0.000000\n",
            "Running initial clustering …\n",
            "Found 0 clusters\n"
          ]
        },
        {
          "name": "stderr",
          "output_type": "stream",
          "text": [
            "C:\\Users\\Tobii\\AppData\\Local\\Temp\\ipykernel_20164\\2273424511.py:18: RuntimeWarning: No clusters found, returning empty H0, clusters, and cluster_pv\n",
            "  F_obs, clusters, cluster_p_values, H0 = permutation_cluster_test(\n"
          ]
        },
        {
          "name": "stdout",
          "output_type": "stream",
          "text": [
            "[] []\n",
            "---------------------------------------------\n",
            "class 2 and class 3 permutation cluster test\n",
            "---------------------------------------------\n",
            "stat_fun(H1): min=0.000002 max=5.873325\n",
            "Running initial clustering …\n",
            "Found 0 clusters\n",
            "[] []\n",
            "---------------------------------------------\n",
            "class 2 and class 4 permutation cluster test\n",
            "---------------------------------------------\n"
          ]
        },
        {
          "name": "stderr",
          "output_type": "stream",
          "text": [
            "C:\\Users\\Tobii\\AppData\\Local\\Temp\\ipykernel_20164\\2273424511.py:18: RuntimeWarning: No clusters found, returning empty H0, clusters, and cluster_pv\n",
            "  F_obs, clusters, cluster_p_values, H0 = permutation_cluster_test(\n"
          ]
        },
        {
          "name": "stdout",
          "output_type": "stream",
          "text": [
            "stat_fun(H1): min=0.000031 max=6.896087\n",
            "Running initial clustering …\n",
            "Found 1 cluster\n"
          ]
        },
        {
          "name": "stderr",
          "output_type": "stream",
          "text": [
            "100%|██████████| Permuting : 99/99 [00:01<00:00,   95.66it/s]"
          ]
        },
        {
          "name": "stdout",
          "output_type": "stream",
          "text": [
            "[(slice(288, 300, None),)] [0.09]\n",
            "---------------------------------------------\n",
            "class 2 and class 5 permutation cluster test\n",
            "---------------------------------------------\n",
            "stat_fun(H1): min=0.000125 max=3.760674\n"
          ]
        },
        {
          "name": "stderr",
          "output_type": "stream",
          "text": [
            "\n"
          ]
        },
        {
          "name": "stdout",
          "output_type": "stream",
          "text": [
            "Running initial clustering …\n",
            "Found 0 clusters\n",
            "[] []\n",
            "---------------------------------------------\n",
            "class 2 and class 6 permutation cluster test\n",
            "---------------------------------------------\n",
            "stat_fun(H1): min=0.000013 max=3.154279\n"
          ]
        },
        {
          "name": "stderr",
          "output_type": "stream",
          "text": [
            "C:\\Users\\Tobii\\AppData\\Local\\Temp\\ipykernel_20164\\2273424511.py:18: RuntimeWarning: No clusters found, returning empty H0, clusters, and cluster_pv\n",
            "  F_obs, clusters, cluster_p_values, H0 = permutation_cluster_test(\n"
          ]
        },
        {
          "name": "stdout",
          "output_type": "stream",
          "text": [
            "Running initial clustering …\n",
            "Found 0 clusters\n"
          ]
        },
        {
          "name": "stderr",
          "output_type": "stream",
          "text": [
            "C:\\Users\\Tobii\\AppData\\Local\\Temp\\ipykernel_20164\\2273424511.py:18: RuntimeWarning: No clusters found, returning empty H0, clusters, and cluster_pv\n",
            "  F_obs, clusters, cluster_p_values, H0 = permutation_cluster_test(\n"
          ]
        },
        {
          "name": "stdout",
          "output_type": "stream",
          "text": [
            "[] []\n",
            "---------------------------------------------\n",
            "class 3 and class 0 permutation cluster test\n",
            "---------------------------------------------\n",
            "stat_fun(H1): min=0.000449 max=3.702586\n",
            "Running initial clustering …\n",
            "Found 0 clusters\n",
            "[] []\n",
            "---------------------------------------------\n",
            "class 3 and class 1 permutation cluster test\n",
            "---------------------------------------------\n",
            "stat_fun(H1): min=0.000051 max=1.267323\n"
          ]
        },
        {
          "name": "stderr",
          "output_type": "stream",
          "text": [
            "C:\\Users\\Tobii\\AppData\\Local\\Temp\\ipykernel_20164\\2273424511.py:18: RuntimeWarning: No clusters found, returning empty H0, clusters, and cluster_pv\n",
            "  F_obs, clusters, cluster_p_values, H0 = permutation_cluster_test(\n"
          ]
        },
        {
          "name": "stdout",
          "output_type": "stream",
          "text": [
            "Running initial clustering …\n",
            "Found 0 clusters\n"
          ]
        },
        {
          "name": "stderr",
          "output_type": "stream",
          "text": [
            "C:\\Users\\Tobii\\AppData\\Local\\Temp\\ipykernel_20164\\2273424511.py:18: RuntimeWarning: No clusters found, returning empty H0, clusters, and cluster_pv\n",
            "  F_obs, clusters, cluster_p_values, H0 = permutation_cluster_test(\n"
          ]
        },
        {
          "name": "stdout",
          "output_type": "stream",
          "text": [
            "[] []\n",
            "---------------------------------------------\n",
            "class 3 and class 2 permutation cluster test\n",
            "---------------------------------------------\n",
            "stat_fun(H1): min=0.000002 max=5.873325\n",
            "Running initial clustering …\n",
            "Found 0 clusters\n",
            "[] []\n",
            "---------------------------------------------\n",
            "class 3 and class 3 permutation cluster test\n",
            "---------------------------------------------\n"
          ]
        },
        {
          "name": "stderr",
          "output_type": "stream",
          "text": [
            "C:\\Users\\Tobii\\AppData\\Local\\Temp\\ipykernel_20164\\2273424511.py:18: RuntimeWarning: No clusters found, returning empty H0, clusters, and cluster_pv\n",
            "  F_obs, clusters, cluster_p_values, H0 = permutation_cluster_test(\n"
          ]
        },
        {
          "name": "stdout",
          "output_type": "stream",
          "text": [
            "stat_fun(H1): min=0.000000 max=0.000000\n",
            "Running initial clustering …\n",
            "Found 0 clusters\n",
            "[] []\n",
            "---------------------------------------------\n",
            "class 3 and class 4 permutation cluster test\n",
            "---------------------------------------------\n",
            "stat_fun(H1): min=0.000026 max=3.415082\n"
          ]
        },
        {
          "name": "stderr",
          "output_type": "stream",
          "text": [
            "C:\\Users\\Tobii\\AppData\\Local\\Temp\\ipykernel_20164\\2273424511.py:18: RuntimeWarning: No clusters found, returning empty H0, clusters, and cluster_pv\n",
            "  F_obs, clusters, cluster_p_values, H0 = permutation_cluster_test(\n"
          ]
        },
        {
          "name": "stdout",
          "output_type": "stream",
          "text": [
            "Running initial clustering …\n",
            "Found 0 clusters\n",
            "[] []\n",
            "---------------------------------------------\n",
            "class 3 and class 5 permutation cluster test\n",
            "---------------------------------------------\n",
            "stat_fun(H1): min=0.000000 max=3.618204\n",
            "Running initial clustering …\n",
            "Found 0 clusters\n",
            "[] []\n",
            "---------------------------------------------\n",
            "class 3 and class 6 permutation cluster test\n",
            "---------------------------------------------\n",
            "stat_fun(H1): min=0.000000 max=1.346189\n",
            "Running initial clustering …\n",
            "Found 0 clusters\n",
            "[] []\n",
            "---------------------------------------------\n",
            "class 4 and class 0 permutation cluster test\n",
            "---------------------------------------------\n",
            "stat_fun(H1): min=0.000001 max=1.128513\n"
          ]
        },
        {
          "name": "stderr",
          "output_type": "stream",
          "text": [
            "C:\\Users\\Tobii\\AppData\\Local\\Temp\\ipykernel_20164\\2273424511.py:18: RuntimeWarning: No clusters found, returning empty H0, clusters, and cluster_pv\n",
            "  F_obs, clusters, cluster_p_values, H0 = permutation_cluster_test(\n",
            "C:\\Users\\Tobii\\AppData\\Local\\Temp\\ipykernel_20164\\2273424511.py:18: RuntimeWarning: No clusters found, returning empty H0, clusters, and cluster_pv\n",
            "  F_obs, clusters, cluster_p_values, H0 = permutation_cluster_test(\n",
            "C:\\Users\\Tobii\\AppData\\Local\\Temp\\ipykernel_20164\\2273424511.py:18: RuntimeWarning: No clusters found, returning empty H0, clusters, and cluster_pv\n",
            "  F_obs, clusters, cluster_p_values, H0 = permutation_cluster_test(\n"
          ]
        },
        {
          "name": "stdout",
          "output_type": "stream",
          "text": [
            "Running initial clustering …\n",
            "Found 0 clusters\n",
            "[] []\n",
            "---------------------------------------------\n",
            "class 4 and class 1 permutation cluster test\n",
            "---------------------------------------------\n",
            "stat_fun(H1): min=0.000011 max=3.038005\n",
            "Running initial clustering …\n",
            "Found 0 clusters\n",
            "[] []\n",
            "---------------------------------------------\n",
            "class 4 and class 2 permutation cluster test\n",
            "---------------------------------------------\n",
            "stat_fun(H1): min=0.000031 max=6.896087\n"
          ]
        },
        {
          "name": "stderr",
          "output_type": "stream",
          "text": [
            "C:\\Users\\Tobii\\AppData\\Local\\Temp\\ipykernel_20164\\2273424511.py:18: RuntimeWarning: No clusters found, returning empty H0, clusters, and cluster_pv\n",
            "  F_obs, clusters, cluster_p_values, H0 = permutation_cluster_test(\n",
            "C:\\Users\\Tobii\\AppData\\Local\\Temp\\ipykernel_20164\\2273424511.py:18: RuntimeWarning: No clusters found, returning empty H0, clusters, and cluster_pv\n",
            "  F_obs, clusters, cluster_p_values, H0 = permutation_cluster_test(\n"
          ]
        },
        {
          "name": "stdout",
          "output_type": "stream",
          "text": [
            "Running initial clustering …\n",
            "Found 1 cluster\n"
          ]
        },
        {
          "name": "stderr",
          "output_type": "stream",
          "text": [
            "100%|██████████| Permuting : 99/99 [00:01<00:00,   95.17it/s]\n"
          ]
        },
        {
          "name": "stdout",
          "output_type": "stream",
          "text": [
            "[(slice(288, 300, None),)] [0.09]\n",
            "---------------------------------------------\n",
            "class 4 and class 3 permutation cluster test\n",
            "---------------------------------------------\n",
            "stat_fun(H1): min=0.000026 max=3.415082\n",
            "Running initial clustering …\n",
            "Found 0 clusters\n"
          ]
        },
        {
          "name": "stderr",
          "output_type": "stream",
          "text": [
            "C:\\Users\\Tobii\\AppData\\Local\\Temp\\ipykernel_20164\\2273424511.py:18: RuntimeWarning: No clusters found, returning empty H0, clusters, and cluster_pv\n",
            "  F_obs, clusters, cluster_p_values, H0 = permutation_cluster_test(\n"
          ]
        },
        {
          "name": "stdout",
          "output_type": "stream",
          "text": [
            "[] []\n",
            "---------------------------------------------\n",
            "class 4 and class 4 permutation cluster test\n",
            "---------------------------------------------\n",
            "stat_fun(H1): min=0.000000 max=0.000000\n",
            "Running initial clustering …\n",
            "Found 0 clusters\n"
          ]
        },
        {
          "name": "stderr",
          "output_type": "stream",
          "text": [
            "C:\\Users\\Tobii\\AppData\\Local\\Temp\\ipykernel_20164\\2273424511.py:18: RuntimeWarning: No clusters found, returning empty H0, clusters, and cluster_pv\n",
            "  F_obs, clusters, cluster_p_values, H0 = permutation_cluster_test(\n"
          ]
        },
        {
          "name": "stdout",
          "output_type": "stream",
          "text": [
            "[] []\n",
            "---------------------------------------------\n",
            "class 4 and class 5 permutation cluster test\n",
            "---------------------------------------------\n",
            "stat_fun(H1): min=0.000069 max=5.213654\n",
            "Running initial clustering …\n",
            "Found 0 clusters\n",
            "[] []\n",
            "---------------------------------------------\n",
            "class 4 and class 6 permutation cluster test\n",
            "---------------------------------------------\n",
            "stat_fun(H1): min=0.000011 max=2.660923\n",
            "Running initial clustering …\n",
            "Found 0 clusters\n",
            "[] []\n",
            "---------------------------------------------\n",
            "class 5 and class 0 permutation cluster test\n",
            "---------------------------------------------\n",
            "stat_fun(H1): min=0.000012 max=5.290114\n",
            "Running initial clustering …\n",
            "Found 0 clusters\n",
            "[] []\n",
            "---------------------------------------------\n",
            "class 5 and class 1 permutation cluster test\n",
            "---------------------------------------------\n",
            "stat_fun(H1): min=0.000477 max=1.303105\n"
          ]
        },
        {
          "name": "stderr",
          "output_type": "stream",
          "text": [
            "C:\\Users\\Tobii\\AppData\\Local\\Temp\\ipykernel_20164\\2273424511.py:18: RuntimeWarning: No clusters found, returning empty H0, clusters, and cluster_pv\n",
            "  F_obs, clusters, cluster_p_values, H0 = permutation_cluster_test(\n",
            "C:\\Users\\Tobii\\AppData\\Local\\Temp\\ipykernel_20164\\2273424511.py:18: RuntimeWarning: No clusters found, returning empty H0, clusters, and cluster_pv\n",
            "  F_obs, clusters, cluster_p_values, H0 = permutation_cluster_test(\n",
            "C:\\Users\\Tobii\\AppData\\Local\\Temp\\ipykernel_20164\\2273424511.py:18: RuntimeWarning: No clusters found, returning empty H0, clusters, and cluster_pv\n",
            "  F_obs, clusters, cluster_p_values, H0 = permutation_cluster_test(\n"
          ]
        },
        {
          "name": "stdout",
          "output_type": "stream",
          "text": [
            "Running initial clustering …\n",
            "Found 0 clusters\n",
            "[] []\n",
            "---------------------------------------------\n",
            "class 5 and class 2 permutation cluster test\n",
            "---------------------------------------------\n",
            "stat_fun(H1): min=0.000125 max=3.760674\n",
            "Running initial clustering …\n",
            "Found 0 clusters\n",
            "[] []\n",
            "---------------------------------------------\n",
            "class 5 and class 3 permutation cluster test\n",
            "---------------------------------------------\n"
          ]
        },
        {
          "name": "stderr",
          "output_type": "stream",
          "text": [
            "C:\\Users\\Tobii\\AppData\\Local\\Temp\\ipykernel_20164\\2273424511.py:18: RuntimeWarning: No clusters found, returning empty H0, clusters, and cluster_pv\n",
            "  F_obs, clusters, cluster_p_values, H0 = permutation_cluster_test(\n",
            "C:\\Users\\Tobii\\AppData\\Local\\Temp\\ipykernel_20164\\2273424511.py:18: RuntimeWarning: No clusters found, returning empty H0, clusters, and cluster_pv\n",
            "  F_obs, clusters, cluster_p_values, H0 = permutation_cluster_test(\n"
          ]
        },
        {
          "name": "stdout",
          "output_type": "stream",
          "text": [
            "stat_fun(H1): min=0.000000 max=3.618204\n",
            "Running initial clustering …\n",
            "Found 0 clusters\n",
            "[] []\n",
            "---------------------------------------------\n",
            "class 5 and class 4 permutation cluster test\n",
            "---------------------------------------------\n",
            "stat_fun(H1): min=0.000069 max=5.213654\n",
            "Running initial clustering …\n",
            "Found 0 clusters\n",
            "[] []\n",
            "---------------------------------------------\n",
            "class 5 and class 5 permutation cluster test\n",
            "---------------------------------------------\n",
            "stat_fun(H1): min=0.000000 max=0.000000\n",
            "Running initial clustering …\n",
            "Found 0 clusters\n",
            "[] []\n",
            "---------------------------------------------\n",
            "class 5 and class 6 permutation cluster test\n",
            "---------------------------------------------\n",
            "stat_fun(H1): min=0.000148 max=1.112078\n",
            "Running initial clustering …\n",
            "Found 0 clusters\n",
            "[] []\n",
            "---------------------------------------------\n",
            "class 6 and class 0 permutation cluster test\n",
            "---------------------------------------------\n",
            "stat_fun(H1): min=0.000092 max=2.501442\n",
            "Running initial clustering …\n",
            "Found 0 clusters\n",
            "[] []\n",
            "---------------------------------------------\n",
            "class 6 and class 1 permutation cluster test\n",
            "---------------------------------------------\n",
            "stat_fun(H1): min=0.000230 max=1.046054\n",
            "Running initial clustering …\n",
            "Found 0 clusters\n",
            "[] []\n",
            "---------------------------------------------\n",
            "class 6 and class 2 permutation cluster test\n",
            "---------------------------------------------\n"
          ]
        },
        {
          "name": "stderr",
          "output_type": "stream",
          "text": [
            "C:\\Users\\Tobii\\AppData\\Local\\Temp\\ipykernel_20164\\2273424511.py:18: RuntimeWarning: No clusters found, returning empty H0, clusters, and cluster_pv\n",
            "  F_obs, clusters, cluster_p_values, H0 = permutation_cluster_test(\n",
            "C:\\Users\\Tobii\\AppData\\Local\\Temp\\ipykernel_20164\\2273424511.py:18: RuntimeWarning: No clusters found, returning empty H0, clusters, and cluster_pv\n",
            "  F_obs, clusters, cluster_p_values, H0 = permutation_cluster_test(\n",
            "C:\\Users\\Tobii\\AppData\\Local\\Temp\\ipykernel_20164\\2273424511.py:18: RuntimeWarning: No clusters found, returning empty H0, clusters, and cluster_pv\n",
            "  F_obs, clusters, cluster_p_values, H0 = permutation_cluster_test(\n",
            "C:\\Users\\Tobii\\AppData\\Local\\Temp\\ipykernel_20164\\2273424511.py:18: RuntimeWarning: No clusters found, returning empty H0, clusters, and cluster_pv\n",
            "  F_obs, clusters, cluster_p_values, H0 = permutation_cluster_test(\n",
            "C:\\Users\\Tobii\\AppData\\Local\\Temp\\ipykernel_20164\\2273424511.py:18: RuntimeWarning: No clusters found, returning empty H0, clusters, and cluster_pv\n",
            "  F_obs, clusters, cluster_p_values, H0 = permutation_cluster_test(\n",
            "C:\\Users\\Tobii\\AppData\\Local\\Temp\\ipykernel_20164\\2273424511.py:18: RuntimeWarning: No clusters found, returning empty H0, clusters, and cluster_pv\n",
            "  F_obs, clusters, cluster_p_values, H0 = permutation_cluster_test(\n"
          ]
        },
        {
          "name": "stdout",
          "output_type": "stream",
          "text": [
            "stat_fun(H1): min=0.000013 max=3.154279\n",
            "Running initial clustering …\n",
            "Found 0 clusters\n",
            "[] []\n",
            "---------------------------------------------\n",
            "class 6 and class 3 permutation cluster test\n",
            "---------------------------------------------\n",
            "stat_fun(H1): min=0.000000 max=1.346189\n",
            "Running initial clustering …\n",
            "Found 0 clusters\n",
            "[] []\n",
            "---------------------------------------------\n",
            "class 6 and class 4 permutation cluster test\n",
            "---------------------------------------------\n",
            "stat_fun(H1): min=0.000011 max=2.660923\n",
            "Running initial clustering …\n",
            "Found 0 clusters\n",
            "[] []\n",
            "---------------------------------------------\n",
            "class 6 and class 5 permutation cluster test\n",
            "---------------------------------------------\n",
            "stat_fun(H1): min=0.000148 max=1.112078\n",
            "Running initial clustering …\n",
            "Found 0 clusters\n",
            "[] []\n",
            "---------------------------------------------\n",
            "class 6 and class 6 permutation cluster test\n",
            "---------------------------------------------\n",
            "stat_fun(H1): min=0.000000 max=0.000000\n",
            "Running initial clustering …\n",
            "Found 0 clusters\n",
            "[] []\n",
            "--------------------------------------------------VALENCE FEATURE 4-----------------------------------------------------\n",
            "---------------------------------------------\n",
            "class 0 and class 0 permutation cluster test\n",
            "---------------------------------------------\n",
            "stat_fun(H1): min=0.000000 max=0.000000\n",
            "Running initial clustering …\n",
            "Found 0 clusters\n"
          ]
        },
        {
          "name": "stderr",
          "output_type": "stream",
          "text": [
            "C:\\Users\\Tobii\\AppData\\Local\\Temp\\ipykernel_20164\\2273424511.py:18: RuntimeWarning: No clusters found, returning empty H0, clusters, and cluster_pv\n",
            "  F_obs, clusters, cluster_p_values, H0 = permutation_cluster_test(\n",
            "C:\\Users\\Tobii\\AppData\\Local\\Temp\\ipykernel_20164\\2273424511.py:18: RuntimeWarning: No clusters found, returning empty H0, clusters, and cluster_pv\n",
            "  F_obs, clusters, cluster_p_values, H0 = permutation_cluster_test(\n",
            "C:\\Users\\Tobii\\AppData\\Local\\Temp\\ipykernel_20164\\2273424511.py:18: RuntimeWarning: No clusters found, returning empty H0, clusters, and cluster_pv\n",
            "  F_obs, clusters, cluster_p_values, H0 = permutation_cluster_test(\n",
            "C:\\Users\\Tobii\\AppData\\Local\\Temp\\ipykernel_20164\\2273424511.py:18: RuntimeWarning: No clusters found, returning empty H0, clusters, and cluster_pv\n",
            "  F_obs, clusters, cluster_p_values, H0 = permutation_cluster_test(\n",
            "C:\\Users\\Tobii\\AppData\\Local\\Temp\\ipykernel_20164\\2273424511.py:18: RuntimeWarning: No clusters found, returning empty H0, clusters, and cluster_pv\n",
            "  F_obs, clusters, cluster_p_values, H0 = permutation_cluster_test(\n",
            "C:\\Users\\Tobii\\AppData\\Local\\Temp\\ipykernel_20164\\2273424511.py:18: RuntimeWarning: No clusters found, returning empty H0, clusters, and cluster_pv\n",
            "  F_obs, clusters, cluster_p_values, H0 = permutation_cluster_test(\n"
          ]
        },
        {
          "name": "stdout",
          "output_type": "stream",
          "text": [
            "[] []\n",
            "---------------------------------------------\n",
            "class 0 and class 1 permutation cluster test\n",
            "---------------------------------------------\n",
            "stat_fun(H1): min=0.002604 max=0.309632\n",
            "Running initial clustering …\n",
            "Found 0 clusters\n",
            "[] []\n",
            "---------------------------------------------\n",
            "class 0 and class 2 permutation cluster test\n",
            "---------------------------------------------\n",
            "stat_fun(H1): min=0.000000 max=1.935510\n",
            "Running initial clustering …\n",
            "Found 0 clusters\n",
            "[] []\n",
            "---------------------------------------------\n",
            "class 0 and class 3 permutation cluster test\n",
            "---------------------------------------------\n",
            "stat_fun(H1): min=0.015738 max=2.372056\n",
            "Running initial clustering …\n",
            "Found 0 clusters\n",
            "[] []\n",
            "---------------------------------------------\n",
            "class 0 and class 4 permutation cluster test\n",
            "---------------------------------------------\n",
            "stat_fun(H1): min=0.000000 max=1.892248\n",
            "Running initial clustering …\n",
            "Found 0 clusters\n",
            "[] []\n",
            "---------------------------------------------\n",
            "class 0 and class 5 permutation cluster test\n",
            "---------------------------------------------\n",
            "stat_fun(H1): min=0.000001 max=0.043428\n"
          ]
        },
        {
          "name": "stderr",
          "output_type": "stream",
          "text": [
            "C:\\Users\\Tobii\\AppData\\Local\\Temp\\ipykernel_20164\\2273424511.py:18: RuntimeWarning: No clusters found, returning empty H0, clusters, and cluster_pv\n",
            "  F_obs, clusters, cluster_p_values, H0 = permutation_cluster_test(\n",
            "C:\\Users\\Tobii\\AppData\\Local\\Temp\\ipykernel_20164\\2273424511.py:18: RuntimeWarning: No clusters found, returning empty H0, clusters, and cluster_pv\n",
            "  F_obs, clusters, cluster_p_values, H0 = permutation_cluster_test(\n",
            "C:\\Users\\Tobii\\AppData\\Local\\Temp\\ipykernel_20164\\2273424511.py:18: RuntimeWarning: No clusters found, returning empty H0, clusters, and cluster_pv\n",
            "  F_obs, clusters, cluster_p_values, H0 = permutation_cluster_test(\n",
            "C:\\Users\\Tobii\\AppData\\Local\\Temp\\ipykernel_20164\\2273424511.py:18: RuntimeWarning: No clusters found, returning empty H0, clusters, and cluster_pv\n",
            "  F_obs, clusters, cluster_p_values, H0 = permutation_cluster_test(\n"
          ]
        },
        {
          "name": "stdout",
          "output_type": "stream",
          "text": [
            "Running initial clustering …\n",
            "Found 0 clusters\n",
            "[] []\n",
            "---------------------------------------------\n",
            "class 0 and class 6 permutation cluster test\n",
            "---------------------------------------------\n",
            "stat_fun(H1): min=0.278720 max=2.980188\n",
            "Running initial clustering …\n",
            "Found 0 clusters\n",
            "[] []\n",
            "---------------------------------------------\n",
            "class 1 and class 0 permutation cluster test\n",
            "---------------------------------------------\n",
            "stat_fun(H1): min=0.002604 max=0.309632\n",
            "Running initial clustering …\n",
            "Found 0 clusters\n",
            "[] []\n",
            "---------------------------------------------\n",
            "class 1 and class 1 permutation cluster test\n",
            "---------------------------------------------\n",
            "stat_fun(H1): min=0.000000 max=0.000000\n",
            "Running initial clustering …\n",
            "Found 0 clusters\n",
            "[] []\n",
            "---------------------------------------------\n",
            "class 1 and class 2 permutation cluster test\n",
            "---------------------------------------------\n",
            "stat_fun(H1): min=0.544465 max=4.648684\n",
            "Running initial clustering …\n",
            "Found 0 clusters\n",
            "[] []\n",
            "---------------------------------------------\n",
            "class 1 and class 3 permutation cluster test\n",
            "---------------------------------------------\n"
          ]
        },
        {
          "name": "stderr",
          "output_type": "stream",
          "text": [
            "C:\\Users\\Tobii\\AppData\\Local\\Temp\\ipykernel_20164\\2273424511.py:18: RuntimeWarning: No clusters found, returning empty H0, clusters, and cluster_pv\n",
            "  F_obs, clusters, cluster_p_values, H0 = permutation_cluster_test(\n",
            "C:\\Users\\Tobii\\AppData\\Local\\Temp\\ipykernel_20164\\2273424511.py:18: RuntimeWarning: No clusters found, returning empty H0, clusters, and cluster_pv\n",
            "  F_obs, clusters, cluster_p_values, H0 = permutation_cluster_test(\n",
            "C:\\Users\\Tobii\\AppData\\Local\\Temp\\ipykernel_20164\\2273424511.py:18: RuntimeWarning: No clusters found, returning empty H0, clusters, and cluster_pv\n",
            "  F_obs, clusters, cluster_p_values, H0 = permutation_cluster_test(\n",
            "C:\\Users\\Tobii\\AppData\\Local\\Temp\\ipykernel_20164\\2273424511.py:18: RuntimeWarning: No clusters found, returning empty H0, clusters, and cluster_pv\n",
            "  F_obs, clusters, cluster_p_values, H0 = permutation_cluster_test(\n",
            "C:\\Users\\Tobii\\AppData\\Local\\Temp\\ipykernel_20164\\2273424511.py:18: RuntimeWarning: No clusters found, returning empty H0, clusters, and cluster_pv\n",
            "  F_obs, clusters, cluster_p_values, H0 = permutation_cluster_test(\n"
          ]
        },
        {
          "name": "stdout",
          "output_type": "stream",
          "text": [
            "stat_fun(H1): min=0.201663 max=4.160828\n",
            "Running initial clustering …\n",
            "Found 0 clusters\n",
            "[] []\n",
            "---------------------------------------------\n",
            "class 1 and class 4 permutation cluster test\n",
            "---------------------------------------------\n",
            "stat_fun(H1): min=0.000005 max=2.314859\n",
            "Running initial clustering …\n",
            "Found 0 clusters\n",
            "[] []\n",
            "---------------------------------------------\n",
            "class 1 and class 5 permutation cluster test\n",
            "---------------------------------------------\n",
            "stat_fun(H1): min=0.074531 max=0.335575\n",
            "Running initial clustering …\n",
            "Found 0 clusters\n",
            "[] []\n",
            "---------------------------------------------\n",
            "class 1 and class 6 permutation cluster test\n",
            "---------------------------------------------\n",
            "stat_fun(H1): min=0.000000 max=2.317464\n",
            "Running initial clustering …\n",
            "Found 0 clusters\n",
            "[] []\n",
            "---------------------------------------------\n",
            "class 2 and class 0 permutation cluster test\n",
            "---------------------------------------------\n",
            "stat_fun(H1): min=0.000000 max=1.935510\n",
            "Running initial clustering …\n",
            "Found 0 clusters\n",
            "[] []\n",
            "---------------------------------------------\n",
            "class 2 and class 1 permutation cluster test\n",
            "---------------------------------------------\n"
          ]
        },
        {
          "name": "stderr",
          "output_type": "stream",
          "text": [
            "C:\\Users\\Tobii\\AppData\\Local\\Temp\\ipykernel_20164\\2273424511.py:18: RuntimeWarning: No clusters found, returning empty H0, clusters, and cluster_pv\n",
            "  F_obs, clusters, cluster_p_values, H0 = permutation_cluster_test(\n",
            "C:\\Users\\Tobii\\AppData\\Local\\Temp\\ipykernel_20164\\2273424511.py:18: RuntimeWarning: No clusters found, returning empty H0, clusters, and cluster_pv\n",
            "  F_obs, clusters, cluster_p_values, H0 = permutation_cluster_test(\n",
            "C:\\Users\\Tobii\\AppData\\Local\\Temp\\ipykernel_20164\\2273424511.py:18: RuntimeWarning: No clusters found, returning empty H0, clusters, and cluster_pv\n",
            "  F_obs, clusters, cluster_p_values, H0 = permutation_cluster_test(\n",
            "C:\\Users\\Tobii\\AppData\\Local\\Temp\\ipykernel_20164\\2273424511.py:18: RuntimeWarning: No clusters found, returning empty H0, clusters, and cluster_pv\n",
            "  F_obs, clusters, cluster_p_values, H0 = permutation_cluster_test(\n",
            "C:\\Users\\Tobii\\AppData\\Local\\Temp\\ipykernel_20164\\2273424511.py:18: RuntimeWarning: No clusters found, returning empty H0, clusters, and cluster_pv\n",
            "  F_obs, clusters, cluster_p_values, H0 = permutation_cluster_test(\n"
          ]
        },
        {
          "name": "stdout",
          "output_type": "stream",
          "text": [
            "stat_fun(H1): min=0.544465 max=4.648684\n",
            "Running initial clustering …\n",
            "Found 0 clusters\n",
            "[] []\n",
            "---------------------------------------------\n",
            "class 2 and class 2 permutation cluster test\n",
            "---------------------------------------------\n",
            "stat_fun(H1): min=0.000000 max=0.000000\n",
            "Running initial clustering …\n",
            "Found 0 clusters\n",
            "[] []\n",
            "---------------------------------------------\n",
            "class 2 and class 3 permutation cluster test\n",
            "---------------------------------------------\n",
            "stat_fun(H1): min=0.000001 max=1.106641\n",
            "Running initial clustering …\n",
            "Found 0 clusters\n",
            "[] []\n",
            "---------------------------------------------\n",
            "class 2 and class 4 permutation cluster test\n",
            "---------------------------------------------\n"
          ]
        },
        {
          "name": "stderr",
          "output_type": "stream",
          "text": [
            "C:\\Users\\Tobii\\AppData\\Local\\Temp\\ipykernel_20164\\2273424511.py:18: RuntimeWarning: No clusters found, returning empty H0, clusters, and cluster_pv\n",
            "  F_obs, clusters, cluster_p_values, H0 = permutation_cluster_test(\n",
            "C:\\Users\\Tobii\\AppData\\Local\\Temp\\ipykernel_20164\\2273424511.py:18: RuntimeWarning: No clusters found, returning empty H0, clusters, and cluster_pv\n",
            "  F_obs, clusters, cluster_p_values, H0 = permutation_cluster_test(\n",
            "C:\\Users\\Tobii\\AppData\\Local\\Temp\\ipykernel_20164\\2273424511.py:18: RuntimeWarning: No clusters found, returning empty H0, clusters, and cluster_pv\n",
            "  F_obs, clusters, cluster_p_values, H0 = permutation_cluster_test(\n"
          ]
        },
        {
          "name": "stdout",
          "output_type": "stream",
          "text": [
            "stat_fun(H1): min=2.919826 max=6.680478\n",
            "Running initial clustering …\n",
            "Found 1 cluster\n"
          ]
        },
        {
          "name": "stderr",
          "output_type": "stream",
          "text": [
            "100%|██████████| Permuting : 99/99 [00:01<00:00,   95.37it/s]"
          ]
        },
        {
          "name": "stdout",
          "output_type": "stream",
          "text": [
            "[(slice(276, 300, None),)] [0.03]\n",
            "---------------------------------------------\n",
            "class 2 and class 5 permutation cluster test\n",
            "---------------------------------------------\n",
            "stat_fun(H1): min=0.000018 max=0.747166\n"
          ]
        },
        {
          "name": "stderr",
          "output_type": "stream",
          "text": [
            "\n"
          ]
        },
        {
          "name": "stdout",
          "output_type": "stream",
          "text": [
            "Running initial clustering …\n",
            "Found 0 clusters\n",
            "[] []\n",
            "---------------------------------------------\n",
            "class 2 and class 6 permutation cluster test\n",
            "---------------------------------------------\n",
            "stat_fun(H1): min=0.222076 max=6.074226\n",
            "Running initial clustering …\n",
            "Found 1 cluster\n"
          ]
        },
        {
          "name": "stderr",
          "output_type": "stream",
          "text": [
            "C:\\Users\\Tobii\\AppData\\Local\\Temp\\ipykernel_20164\\2273424511.py:18: RuntimeWarning: No clusters found, returning empty H0, clusters, and cluster_pv\n",
            "  F_obs, clusters, cluster_p_values, H0 = permutation_cluster_test(\n",
            "100%|██████████| Permuting : 99/99 [00:00<00:00,  468.58it/s]\n"
          ]
        },
        {
          "name": "stdout",
          "output_type": "stream",
          "text": [
            "[(slice(0, 5, None),)] [0.04]\n",
            "---------------------------------------------\n",
            "class 3 and class 0 permutation cluster test\n",
            "---------------------------------------------\n",
            "stat_fun(H1): min=0.015738 max=2.372056\n",
            "Running initial clustering …\n",
            "Found 0 clusters\n"
          ]
        },
        {
          "name": "stderr",
          "output_type": "stream",
          "text": [
            "C:\\Users\\Tobii\\AppData\\Local\\Temp\\ipykernel_20164\\2273424511.py:18: RuntimeWarning: No clusters found, returning empty H0, clusters, and cluster_pv\n",
            "  F_obs, clusters, cluster_p_values, H0 = permutation_cluster_test(\n"
          ]
        },
        {
          "name": "stdout",
          "output_type": "stream",
          "text": [
            "[] []\n",
            "---------------------------------------------\n",
            "class 3 and class 1 permutation cluster test\n",
            "---------------------------------------------\n",
            "stat_fun(H1): min=0.201663 max=4.160828\n",
            "Running initial clustering …\n",
            "Found 0 clusters\n"
          ]
        },
        {
          "name": "stderr",
          "output_type": "stream",
          "text": [
            "C:\\Users\\Tobii\\AppData\\Local\\Temp\\ipykernel_20164\\2273424511.py:18: RuntimeWarning: No clusters found, returning empty H0, clusters, and cluster_pv\n",
            "  F_obs, clusters, cluster_p_values, H0 = permutation_cluster_test(\n"
          ]
        },
        {
          "name": "stdout",
          "output_type": "stream",
          "text": [
            "[] []\n",
            "---------------------------------------------\n",
            "class 3 and class 2 permutation cluster test\n",
            "---------------------------------------------\n",
            "stat_fun(H1): min=0.000001 max=1.106641\n",
            "Running initial clustering …\n",
            "Found 0 clusters\n",
            "[] []\n",
            "---------------------------------------------\n",
            "class 3 and class 3 permutation cluster test\n",
            "---------------------------------------------\n"
          ]
        },
        {
          "name": "stderr",
          "output_type": "stream",
          "text": [
            "C:\\Users\\Tobii\\AppData\\Local\\Temp\\ipykernel_20164\\2273424511.py:18: RuntimeWarning: No clusters found, returning empty H0, clusters, and cluster_pv\n",
            "  F_obs, clusters, cluster_p_values, H0 = permutation_cluster_test(\n"
          ]
        },
        {
          "name": "stdout",
          "output_type": "stream",
          "text": [
            "stat_fun(H1): min=0.000000 max=0.000000\n",
            "Running initial clustering …\n",
            "Found 0 clusters\n",
            "[] []\n",
            "---------------------------------------------\n",
            "class 3 and class 4 permutation cluster test\n",
            "---------------------------------------------\n",
            "stat_fun(H1): min=2.256559 max=4.529445\n"
          ]
        },
        {
          "name": "stderr",
          "output_type": "stream",
          "text": [
            "C:\\Users\\Tobii\\AppData\\Local\\Temp\\ipykernel_20164\\2273424511.py:18: RuntimeWarning: No clusters found, returning empty H0, clusters, and cluster_pv\n",
            "  F_obs, clusters, cluster_p_values, H0 = permutation_cluster_test(\n"
          ]
        },
        {
          "name": "stdout",
          "output_type": "stream",
          "text": [
            "Running initial clustering …\n",
            "Found 0 clusters\n",
            "[] []\n",
            "---------------------------------------------\n",
            "class 3 and class 5 permutation cluster test\n",
            "---------------------------------------------\n",
            "stat_fun(H1): min=0.012108 max=2.543133\n",
            "Running initial clustering …\n",
            "Found 0 clusters\n",
            "[] []\n",
            "---------------------------------------------\n",
            "class 3 and class 6 permutation cluster test\n",
            "---------------------------------------------\n",
            "stat_fun(H1): min=0.639204 max=10.318098\n",
            "Running initial clustering …\n",
            "Found 1 cluster\n"
          ]
        },
        {
          "name": "stderr",
          "output_type": "stream",
          "text": [
            "C:\\Users\\Tobii\\AppData\\Local\\Temp\\ipykernel_20164\\2273424511.py:18: RuntimeWarning: No clusters found, returning empty H0, clusters, and cluster_pv\n",
            "  F_obs, clusters, cluster_p_values, H0 = permutation_cluster_test(\n",
            "C:\\Users\\Tobii\\AppData\\Local\\Temp\\ipykernel_20164\\2273424511.py:18: RuntimeWarning: No clusters found, returning empty H0, clusters, and cluster_pv\n",
            "  F_obs, clusters, cluster_p_values, H0 = permutation_cluster_test(\n",
            "100%|██████████| Permuting : 99/99 [00:00<00:00,  435.19it/s]"
          ]
        },
        {
          "name": "stdout",
          "output_type": "stream",
          "text": [
            "[(slice(0, 100, None),)] [0.02]\n",
            "---------------------------------------------\n",
            "class 4 and class 0 permutation cluster test\n",
            "---------------------------------------------\n",
            "stat_fun(H1): min=0.000000 max=1.892248\n"
          ]
        },
        {
          "name": "stderr",
          "output_type": "stream",
          "text": [
            "\n"
          ]
        },
        {
          "name": "stdout",
          "output_type": "stream",
          "text": [
            "Running initial clustering …\n",
            "Found 0 clusters\n"
          ]
        },
        {
          "name": "stderr",
          "output_type": "stream",
          "text": [
            "C:\\Users\\Tobii\\AppData\\Local\\Temp\\ipykernel_20164\\2273424511.py:18: RuntimeWarning: No clusters found, returning empty H0, clusters, and cluster_pv\n",
            "  F_obs, clusters, cluster_p_values, H0 = permutation_cluster_test(\n"
          ]
        },
        {
          "name": "stdout",
          "output_type": "stream",
          "text": [
            "[] []\n",
            "---------------------------------------------\n",
            "class 4 and class 1 permutation cluster test\n",
            "---------------------------------------------\n",
            "stat_fun(H1): min=0.000005 max=2.314859\n",
            "Running initial clustering …\n",
            "Found 0 clusters\n"
          ]
        },
        {
          "name": "stderr",
          "output_type": "stream",
          "text": [
            "C:\\Users\\Tobii\\AppData\\Local\\Temp\\ipykernel_20164\\2273424511.py:18: RuntimeWarning: No clusters found, returning empty H0, clusters, and cluster_pv\n",
            "  F_obs, clusters, cluster_p_values, H0 = permutation_cluster_test(\n"
          ]
        },
        {
          "name": "stdout",
          "output_type": "stream",
          "text": [
            "[] []\n",
            "---------------------------------------------\n",
            "class 4 and class 2 permutation cluster test\n",
            "---------------------------------------------\n",
            "stat_fun(H1): min=2.919826 max=6.680478\n",
            "Running initial clustering …\n",
            "Found 1 cluster\n"
          ]
        },
        {
          "name": "stderr",
          "output_type": "stream",
          "text": [
            "100%|██████████| Permuting : 99/99 [00:01<00:00,   92.16it/s]\n"
          ]
        },
        {
          "name": "stdout",
          "output_type": "stream",
          "text": [
            "[(slice(276, 300, None),)] [0.04]\n",
            "---------------------------------------------\n",
            "class 4 and class 3 permutation cluster test\n",
            "---------------------------------------------\n",
            "stat_fun(H1): min=2.256559 max=4.529445\n",
            "Running initial clustering …\n",
            "Found 0 clusters\n"
          ]
        },
        {
          "name": "stderr",
          "output_type": "stream",
          "text": [
            "C:\\Users\\Tobii\\AppData\\Local\\Temp\\ipykernel_20164\\2273424511.py:18: RuntimeWarning: No clusters found, returning empty H0, clusters, and cluster_pv\n",
            "  F_obs, clusters, cluster_p_values, H0 = permutation_cluster_test(\n"
          ]
        },
        {
          "name": "stdout",
          "output_type": "stream",
          "text": [
            "[] []\n",
            "---------------------------------------------\n",
            "class 4 and class 4 permutation cluster test\n",
            "---------------------------------------------\n",
            "stat_fun(H1): min=0.000000 max=0.000000\n",
            "Running initial clustering …\n",
            "Found 0 clusters\n"
          ]
        },
        {
          "name": "stderr",
          "output_type": "stream",
          "text": [
            "C:\\Users\\Tobii\\AppData\\Local\\Temp\\ipykernel_20164\\2273424511.py:18: RuntimeWarning: No clusters found, returning empty H0, clusters, and cluster_pv\n",
            "  F_obs, clusters, cluster_p_values, H0 = permutation_cluster_test(\n"
          ]
        },
        {
          "name": "stdout",
          "output_type": "stream",
          "text": [
            "[] []\n",
            "---------------------------------------------\n",
            "class 4 and class 5 permutation cluster test\n",
            "---------------------------------------------\n",
            "stat_fun(H1): min=0.000001 max=0.957463\n",
            "Running initial clustering …\n",
            "Found 0 clusters\n",
            "[] []\n",
            "---------------------------------------------\n",
            "class 4 and class 6 permutation cluster test\n",
            "---------------------------------------------\n",
            "stat_fun(H1): min=0.102317 max=1.898619\n",
            "Running initial clustering …\n",
            "Found 0 clusters\n",
            "[] []\n",
            "---------------------------------------------\n",
            "class 5 and class 0 permutation cluster test\n",
            "---------------------------------------------\n",
            "stat_fun(H1): min=0.000001 max=0.043428\n",
            "Running initial clustering …\n",
            "Found 0 clusters\n",
            "[] []\n",
            "---------------------------------------------\n",
            "class 5 and class 1 permutation cluster test\n",
            "---------------------------------------------\n"
          ]
        },
        {
          "name": "stderr",
          "output_type": "stream",
          "text": [
            "C:\\Users\\Tobii\\AppData\\Local\\Temp\\ipykernel_20164\\2273424511.py:18: RuntimeWarning: No clusters found, returning empty H0, clusters, and cluster_pv\n",
            "  F_obs, clusters, cluster_p_values, H0 = permutation_cluster_test(\n",
            "C:\\Users\\Tobii\\AppData\\Local\\Temp\\ipykernel_20164\\2273424511.py:18: RuntimeWarning: No clusters found, returning empty H0, clusters, and cluster_pv\n",
            "  F_obs, clusters, cluster_p_values, H0 = permutation_cluster_test(\n",
            "C:\\Users\\Tobii\\AppData\\Local\\Temp\\ipykernel_20164\\2273424511.py:18: RuntimeWarning: No clusters found, returning empty H0, clusters, and cluster_pv\n",
            "  F_obs, clusters, cluster_p_values, H0 = permutation_cluster_test(\n"
          ]
        },
        {
          "name": "stdout",
          "output_type": "stream",
          "text": [
            "stat_fun(H1): min=0.074531 max=0.335575\n",
            "Running initial clustering …\n",
            "Found 0 clusters\n",
            "[] []\n",
            "---------------------------------------------\n",
            "class 5 and class 2 permutation cluster test\n",
            "---------------------------------------------\n",
            "stat_fun(H1): min=0.000018 max=0.747166\n"
          ]
        },
        {
          "name": "stderr",
          "output_type": "stream",
          "text": [
            "C:\\Users\\Tobii\\AppData\\Local\\Temp\\ipykernel_20164\\2273424511.py:18: RuntimeWarning: No clusters found, returning empty H0, clusters, and cluster_pv\n",
            "  F_obs, clusters, cluster_p_values, H0 = permutation_cluster_test(\n"
          ]
        },
        {
          "name": "stdout",
          "output_type": "stream",
          "text": [
            "Running initial clustering …\n",
            "Found 0 clusters\n",
            "[] []\n",
            "---------------------------------------------\n",
            "class 5 and class 3 permutation cluster test\n",
            "---------------------------------------------\n"
          ]
        },
        {
          "name": "stderr",
          "output_type": "stream",
          "text": [
            "C:\\Users\\Tobii\\AppData\\Local\\Temp\\ipykernel_20164\\2273424511.py:18: RuntimeWarning: No clusters found, returning empty H0, clusters, and cluster_pv\n",
            "  F_obs, clusters, cluster_p_values, H0 = permutation_cluster_test(\n"
          ]
        },
        {
          "name": "stdout",
          "output_type": "stream",
          "text": [
            "stat_fun(H1): min=0.012108 max=2.543133\n",
            "Running initial clustering …\n",
            "Found 0 clusters\n",
            "[] []\n",
            "---------------------------------------------\n",
            "class 5 and class 4 permutation cluster test\n",
            "---------------------------------------------\n",
            "stat_fun(H1): min=0.000001 max=0.957463\n",
            "Running initial clustering …\n",
            "Found 0 clusters\n",
            "[] []\n",
            "---------------------------------------------\n",
            "class 5 and class 5 permutation cluster test\n",
            "---------------------------------------------\n",
            "stat_fun(H1): min=0.000000 max=0.000000\n"
          ]
        },
        {
          "name": "stderr",
          "output_type": "stream",
          "text": [
            "C:\\Users\\Tobii\\AppData\\Local\\Temp\\ipykernel_20164\\2273424511.py:18: RuntimeWarning: No clusters found, returning empty H0, clusters, and cluster_pv\n",
            "  F_obs, clusters, cluster_p_values, H0 = permutation_cluster_test(\n",
            "C:\\Users\\Tobii\\AppData\\Local\\Temp\\ipykernel_20164\\2273424511.py:18: RuntimeWarning: No clusters found, returning empty H0, clusters, and cluster_pv\n",
            "  F_obs, clusters, cluster_p_values, H0 = permutation_cluster_test(\n"
          ]
        },
        {
          "name": "stdout",
          "output_type": "stream",
          "text": [
            "Running initial clustering …\n",
            "Found 0 clusters\n",
            "[] []\n",
            "---------------------------------------------\n",
            "class 5 and class 6 permutation cluster test\n",
            "---------------------------------------------\n",
            "stat_fun(H1): min=0.015602 max=3.068295\n",
            "Running initial clustering …\n",
            "Found 0 clusters\n",
            "[] []\n",
            "---------------------------------------------\n",
            "class 6 and class 0 permutation cluster test\n",
            "---------------------------------------------\n",
            "stat_fun(H1): min=0.278720 max=2.980188\n",
            "Running initial clustering …\n",
            "Found 0 clusters\n"
          ]
        },
        {
          "name": "stderr",
          "output_type": "stream",
          "text": [
            "C:\\Users\\Tobii\\AppData\\Local\\Temp\\ipykernel_20164\\2273424511.py:18: RuntimeWarning: No clusters found, returning empty H0, clusters, and cluster_pv\n",
            "  F_obs, clusters, cluster_p_values, H0 = permutation_cluster_test(\n",
            "C:\\Users\\Tobii\\AppData\\Local\\Temp\\ipykernel_20164\\2273424511.py:18: RuntimeWarning: No clusters found, returning empty H0, clusters, and cluster_pv\n",
            "  F_obs, clusters, cluster_p_values, H0 = permutation_cluster_test(\n",
            "C:\\Users\\Tobii\\AppData\\Local\\Temp\\ipykernel_20164\\2273424511.py:18: RuntimeWarning: No clusters found, returning empty H0, clusters, and cluster_pv\n",
            "  F_obs, clusters, cluster_p_values, H0 = permutation_cluster_test(\n"
          ]
        },
        {
          "name": "stdout",
          "output_type": "stream",
          "text": [
            "[] []\n",
            "---------------------------------------------\n",
            "class 6 and class 1 permutation cluster test\n",
            "---------------------------------------------\n",
            "stat_fun(H1): min=0.000000 max=2.317464\n",
            "Running initial clustering …\n",
            "Found 0 clusters\n",
            "[] []\n",
            "---------------------------------------------\n",
            "class 6 and class 2 permutation cluster test\n",
            "---------------------------------------------\n",
            "stat_fun(H1): min=0.222076 max=6.074226\n",
            "Running initial clustering …\n",
            "Found 1 cluster\n"
          ]
        },
        {
          "name": "stderr",
          "output_type": "stream",
          "text": [
            "C:\\Users\\Tobii\\AppData\\Local\\Temp\\ipykernel_20164\\2273424511.py:18: RuntimeWarning: No clusters found, returning empty H0, clusters, and cluster_pv\n",
            "  F_obs, clusters, cluster_p_values, H0 = permutation_cluster_test(\n",
            "100%|██████████| Permuting : 99/99 [00:00<00:00,  447.15it/s]\n"
          ]
        },
        {
          "name": "stdout",
          "output_type": "stream",
          "text": [
            "[(slice(0, 5, None),)] [0.02]\n",
            "---------------------------------------------\n",
            "class 6 and class 3 permutation cluster test\n",
            "---------------------------------------------\n",
            "stat_fun(H1): min=0.639204 max=10.318098\n",
            "Running initial clustering …\n",
            "Found 1 cluster\n"
          ]
        },
        {
          "name": "stderr",
          "output_type": "stream",
          "text": [
            "100%|██████████| Permuting : 99/99 [00:00<00:00,  430.10it/s]\n"
          ]
        },
        {
          "name": "stdout",
          "output_type": "stream",
          "text": [
            "[(slice(0, 100, None),)] [0.01]\n",
            "---------------------------------------------\n",
            "class 6 and class 4 permutation cluster test\n",
            "---------------------------------------------\n",
            "stat_fun(H1): min=0.102317 max=1.898619\n",
            "Running initial clustering …\n",
            "Found 0 clusters\n"
          ]
        },
        {
          "name": "stderr",
          "output_type": "stream",
          "text": [
            "C:\\Users\\Tobii\\AppData\\Local\\Temp\\ipykernel_20164\\2273424511.py:18: RuntimeWarning: No clusters found, returning empty H0, clusters, and cluster_pv\n",
            "  F_obs, clusters, cluster_p_values, H0 = permutation_cluster_test(\n"
          ]
        },
        {
          "name": "stdout",
          "output_type": "stream",
          "text": [
            "[] []\n",
            "---------------------------------------------\n",
            "class 6 and class 5 permutation cluster test\n",
            "---------------------------------------------\n",
            "stat_fun(H1): min=0.015602 max=3.068295\n",
            "Running initial clustering …\n",
            "Found 0 clusters\n",
            "[] []\n",
            "---------------------------------------------\n",
            "class 6 and class 6 permutation cluster test\n",
            "---------------------------------------------\n",
            "stat_fun(H1): min=0.000000 max=0.000000\n"
          ]
        },
        {
          "name": "stderr",
          "output_type": "stream",
          "text": [
            "C:\\Users\\Tobii\\AppData\\Local\\Temp\\ipykernel_20164\\2273424511.py:18: RuntimeWarning: No clusters found, returning empty H0, clusters, and cluster_pv\n",
            "  F_obs, clusters, cluster_p_values, H0 = permutation_cluster_test(\n"
          ]
        },
        {
          "name": "stdout",
          "output_type": "stream",
          "text": [
            "Running initial clustering …\n",
            "Found 0 clusters\n",
            "[] []\n"
          ]
        },
        {
          "name": "stderr",
          "output_type": "stream",
          "text": [
            "C:\\Users\\Tobii\\AppData\\Local\\Temp\\ipykernel_20164\\2273424511.py:18: RuntimeWarning: No clusters found, returning empty H0, clusters, and cluster_pv\n",
            "  F_obs, clusters, cluster_p_values, H0 = permutation_cluster_test(\n"
          ]
        }
      ],
      "source": [
        "from mne.stats import permutation_cluster_test\n",
        "\n",
        "for feature in range(5):\n",
        "    print(f\"--------------------------------------------------VALENCE FEATURE {feature}-----------------------------------------------------\")\n",
        "    for i in range(7):\n",
        "        classes_1 = np.array(classes[i])\n",
        "        for j in range(7):\n",
        "            print('---------------------------------------------')\n",
        "            print(f'class {i} and class {j} permutation cluster test')\n",
        "            print('---------------------------------------------')\n",
        "            classes_2 = np.array(classes[j])\n",
        "            feature_1 = classes_1[:,:, feature]\n",
        "            feature_2 = classes_2[:,:, feature]\n",
        "            num = min(feature_1.shape[0], feature_2.shape[0])\n",
        "            x = np.stack((feature_1[:num], feature_2[:num]), axis=-1)\n",
        "            x = np.transpose(x, (2, 0, 1))\n",
        "            threshold = 6.0\n",
        "            F_obs, clusters, cluster_p_values, H0 = permutation_cluster_test(\n",
        "            [x[0,:], x[1,:]],\n",
        "            out_type=\"mask\",\n",
        "            n_permutations=100,\n",
        "            threshold=threshold,\n",
        "            tail=0)\n",
        "            print(clusters, cluster_p_values)"
      ]
    },
    {
      "cell_type": "code",
      "execution_count": null,
      "metadata": {},
      "outputs": [],
      "source": [
        "kind = 'arousal'\n",
        "classes = [[],[],[],[],[],[],[]]\n",
        "\n",
        "for class_num in range(7):\n",
        "    for subject in norm_subjects:\n",
        "        for pic in range(315):\n",
        "            try:\n",
        "                target = EpochsDataset.load(f'../datasets/{kind}_{subject}/target_{pic}.pt')\n",
        "                if (target[class_num] == 1):\n",
        "                    clas = EpochsDataset.load(f'../datasets/{kind}_{subject}/sample_{pic}.pt')\n",
        "                    classes[class_num].append(clas)\n",
        "            except  Exception:\n",
        "                pass"
      ]
    },
    {
      "cell_type": "code",
      "execution_count": null,
      "metadata": {},
      "outputs": [
        {
          "name": "stdout",
          "output_type": "stream",
          "text": [
            "--------------------------------------------------FEATURE 0-----------------------------------------------------\n",
            "---------------------------------------------\n",
            "class 0 and class 0 permutation t_test\n",
            "---------------------------------------------\n",
            "Permuting 99 times...\n",
            "[2.2341082 2.2341082] [0.04 0.04]\n",
            "---------------------------------------------\n",
            "class 0 and class 1 permutation t_test\n",
            "---------------------------------------------\n",
            "Permuting 99 times...\n",
            "[2.5819812 6.0841565] [0.01 0.01]\n",
            "---------------------------------------------\n",
            "class 0 and class 2 permutation t_test\n",
            "---------------------------------------------\n",
            "Permuting 99 times...\n",
            "[ 3.0800219 -3.724392 ] [0.01 0.01]\n",
            "---------------------------------------------\n",
            "class 0 and class 3 permutation t_test\n",
            "---------------------------------------------\n",
            "Permuting 99 times...\n",
            "[ 4.9996576 20.076225 ] [0.01 0.01]\n",
            "---------------------------------------------\n",
            "class 0 and class 4 permutation t_test\n",
            "---------------------------------------------\n",
            "Permuting 99 times...\n",
            "[-2.8549616 16.837875 ] [0.01 0.01]\n",
            "---------------------------------------------\n",
            "class 0 and class 5 permutation t_test\n",
            "---------------------------------------------\n",
            "Permuting 99 times...\n",
            "[-6.188566 20.132082] [0.01 0.01]\n",
            "---------------------------------------------\n",
            "class 0 and class 6 permutation t_test\n",
            "---------------------------------------------\n",
            "Permuting 99 times...\n",
            "[-8.365934 16.89217 ] [0.01 0.01]\n",
            "---------------------------------------------\n",
            "class 1 and class 0 permutation t_test\n",
            "---------------------------------------------\n",
            "Permuting 99 times...\n",
            "[6.0841565 2.5819812] [0.01 0.05]\n",
            "---------------------------------------------\n",
            "class 1 and class 1 permutation t_test\n",
            "---------------------------------------------\n",
            "Permuting 99 times...\n",
            "[6.0841565 6.0841565] [0.01 0.01]\n",
            "---------------------------------------------\n",
            "class 1 and class 2 permutation t_test\n",
            "---------------------------------------------\n",
            "Permuting 99 times...\n",
            "[ 9.014317 -3.724392] [0.01 0.01]\n",
            "---------------------------------------------\n",
            "class 1 and class 3 permutation t_test\n",
            "---------------------------------------------\n",
            "Permuting 99 times...\n",
            "[ 8.728867 20.076225] [0.01 0.01]\n",
            "---------------------------------------------\n",
            "class 1 and class 4 permutation t_test\n",
            "---------------------------------------------\n",
            "Permuting 99 times...\n",
            "[ 9.078926 16.837875] [0.01 0.01]\n",
            "---------------------------------------------\n",
            "class 1 and class 5 permutation t_test\n",
            "---------------------------------------------\n",
            "Permuting 99 times...\n",
            "[12.428102 20.132082] [0.01 0.01]\n",
            "---------------------------------------------\n",
            "class 1 and class 6 permutation t_test\n",
            "---------------------------------------------\n",
            "Permuting 99 times...\n",
            "[13.237316 16.89217 ] [0.01 0.01]\n",
            "---------------------------------------------\n",
            "class 2 and class 0 permutation t_test\n",
            "---------------------------------------------\n",
            "Permuting 99 times...\n",
            "[-3.724392   3.0800219] [0.01 0.01]\n",
            "---------------------------------------------\n",
            "class 2 and class 1 permutation t_test\n",
            "---------------------------------------------\n",
            "Permuting 99 times...\n",
            "[-3.724392  9.014317] [0.01 0.01]\n",
            "---------------------------------------------\n",
            "class 2 and class 2 permutation t_test\n",
            "---------------------------------------------\n",
            "Permuting 99 times...\n",
            "[-3.724392 -3.724392] [0.01 0.01]\n",
            "---------------------------------------------\n",
            "class 2 and class 3 permutation t_test\n",
            "---------------------------------------------\n",
            "Permuting 99 times...\n",
            "[-2.276932 20.076225] [0.06 0.01]\n",
            "---------------------------------------------\n",
            "class 2 and class 4 permutation t_test\n",
            "---------------------------------------------\n",
            "Permuting 99 times...\n",
            "[ 1.4359856 16.837875 ] [0.38 0.01]\n",
            "---------------------------------------------\n",
            "class 2 and class 5 permutation t_test\n",
            "---------------------------------------------\n",
            "Permuting 99 times...\n",
            "[-4.2706714 20.132082 ] [0.01 0.01]\n",
            "---------------------------------------------\n",
            "class 2 and class 6 permutation t_test\n",
            "---------------------------------------------\n",
            "Permuting 99 times...\n",
            "[-2.639937 16.89217 ] [0.02 0.01]\n",
            "---------------------------------------------\n",
            "class 3 and class 0 permutation t_test\n",
            "---------------------------------------------\n",
            "Permuting 99 times...\n",
            "[20.076225   4.9996576] [0.01 0.01]\n",
            "---------------------------------------------\n",
            "class 3 and class 1 permutation t_test\n",
            "---------------------------------------------\n",
            "Permuting 99 times...\n",
            "[20.076225  8.728867] [0.01 0.01]\n",
            "---------------------------------------------\n",
            "class 3 and class 2 permutation t_test\n",
            "---------------------------------------------\n",
            "Permuting 99 times...\n",
            "[20.076225 -2.276932] [0.01 0.03]\n",
            "---------------------------------------------\n",
            "class 3 and class 3 permutation t_test\n",
            "---------------------------------------------\n",
            "Permuting 99 times...\n",
            "[20.076225 20.076225] [0.01 0.01]\n",
            "---------------------------------------------\n",
            "class 3 and class 4 permutation t_test\n",
            "---------------------------------------------\n",
            "Permuting 99 times...\n",
            "[12.696459 16.837875] [0.01 0.01]\n",
            "---------------------------------------------\n",
            "class 3 and class 5 permutation t_test\n",
            "---------------------------------------------\n",
            "Permuting 99 times...\n",
            "[ 7.9710436 20.132082 ] [0.01 0.01]\n",
            "---------------------------------------------\n",
            "class 3 and class 6 permutation t_test\n",
            "---------------------------------------------\n",
            "Permuting 99 times...\n",
            "[13.218873 16.89217 ] [0.01 0.01]\n",
            "---------------------------------------------\n",
            "class 4 and class 0 permutation t_test\n",
            "---------------------------------------------\n",
            "Permuting 99 times...\n",
            "[16.837875  -2.8549616] [0.01 0.02]\n",
            "---------------------------------------------\n",
            "class 4 and class 1 permutation t_test\n",
            "---------------------------------------------\n",
            "Permuting 99 times...\n",
            "[16.837875  9.078926] [0.01 0.01]\n",
            "---------------------------------------------\n",
            "class 4 and class 2 permutation t_test\n",
            "---------------------------------------------\n",
            "Permuting 99 times...\n",
            "[16.837875   1.4359856] [0.01 0.34]\n",
            "---------------------------------------------\n",
            "class 4 and class 3 permutation t_test\n",
            "---------------------------------------------\n",
            "Permuting 99 times...\n",
            "[16.837875 12.696459] [0.01 0.01]\n",
            "---------------------------------------------\n",
            "class 4 and class 4 permutation t_test\n",
            "---------------------------------------------\n",
            "Permuting 99 times...\n",
            "[16.837875 16.837875] [0.01 0.01]\n",
            "---------------------------------------------\n",
            "class 4 and class 5 permutation t_test\n",
            "---------------------------------------------\n",
            "Permuting 99 times...\n",
            "[16.88693  20.132082] [0.01 0.01]\n",
            "---------------------------------------------\n",
            "class 4 and class 6 permutation t_test\n",
            "---------------------------------------------\n",
            "Permuting 99 times...\n",
            "[14.216849 16.89217 ] [0.01 0.01]\n",
            "---------------------------------------------\n",
            "class 5 and class 0 permutation t_test\n",
            "---------------------------------------------\n",
            "Permuting 99 times...\n",
            "[20.132082 -6.188566] [0.01 0.01]\n",
            "---------------------------------------------\n",
            "class 5 and class 1 permutation t_test\n",
            "---------------------------------------------\n",
            "Permuting 99 times...\n",
            "[20.132082 12.428102] [0.01 0.01]\n",
            "---------------------------------------------\n",
            "class 5 and class 2 permutation t_test\n",
            "---------------------------------------------\n",
            "Permuting 99 times...\n",
            "[20.132082  -4.2706714] [0.01 0.02]\n",
            "---------------------------------------------\n",
            "class 5 and class 3 permutation t_test\n",
            "---------------------------------------------\n",
            "Permuting 99 times...\n",
            "[20.132082   7.9710436] [0.01 0.01]\n",
            "---------------------------------------------\n",
            "class 5 and class 4 permutation t_test\n",
            "---------------------------------------------\n",
            "Permuting 99 times...\n",
            "[20.132082 16.88693 ] [0.01 0.01]\n",
            "---------------------------------------------\n",
            "class 5 and class 5 permutation t_test\n",
            "---------------------------------------------\n",
            "Permuting 99 times...\n",
            "[20.132082 20.132082] [0.01 0.01]\n",
            "---------------------------------------------\n",
            "class 5 and class 6 permutation t_test\n",
            "---------------------------------------------\n",
            "Permuting 99 times...\n",
            "[10.232459 16.89217 ] [0.01 0.01]\n",
            "---------------------------------------------\n",
            "class 6 and class 0 permutation t_test\n",
            "---------------------------------------------\n",
            "Permuting 99 times...\n",
            "[16.89217  -8.365934] [0.01 0.01]\n",
            "---------------------------------------------\n",
            "class 6 and class 1 permutation t_test\n",
            "---------------------------------------------\n",
            "Permuting 99 times...\n",
            "[16.89217  13.237316] [0.01 0.01]\n",
            "---------------------------------------------\n",
            "class 6 and class 2 permutation t_test\n",
            "---------------------------------------------\n",
            "Permuting 99 times...\n",
            "[16.89217  -2.639937] [0.01 0.03]\n",
            "---------------------------------------------\n",
            "class 6 and class 3 permutation t_test\n",
            "---------------------------------------------\n",
            "Permuting 99 times...\n",
            "[16.89217  13.218873] [0.01 0.01]\n",
            "---------------------------------------------\n",
            "class 6 and class 4 permutation t_test\n",
            "---------------------------------------------\n",
            "Permuting 99 times...\n",
            "[16.89217  14.216849] [0.01 0.01]\n",
            "---------------------------------------------\n",
            "class 6 and class 5 permutation t_test\n",
            "---------------------------------------------\n",
            "Permuting 99 times...\n",
            "[16.89217  10.232459] [0.01 0.01]\n",
            "---------------------------------------------\n",
            "class 6 and class 6 permutation t_test\n",
            "---------------------------------------------\n",
            "Permuting 99 times...\n",
            "[16.89217 16.89217] [0.01 0.01]\n",
            "--------------------------------------------------FEATURE 1-----------------------------------------------------\n",
            "---------------------------------------------\n",
            "class 0 and class 0 permutation t_test\n",
            "---------------------------------------------\n",
            "Permuting 99 times...\n",
            "[6.6479535 6.6479535] [0.01 0.01]\n",
            "---------------------------------------------\n",
            "class 0 and class 1 permutation t_test\n",
            "---------------------------------------------\n",
            "Permuting 99 times...\n",
            "[ 7.7489767 15.4802265] [0.01 0.01]\n",
            "---------------------------------------------\n",
            "class 0 and class 2 permutation t_test\n",
            "---------------------------------------------\n",
            "Permuting 99 times...\n",
            "[8.863537 6.487438] [0.01 0.01]\n",
            "---------------------------------------------\n",
            "class 0 and class 3 permutation t_test\n",
            "---------------------------------------------\n",
            "Permuting 99 times...\n",
            "[11.432786  9.843212] [0.01 0.01]\n",
            "---------------------------------------------\n",
            "class 0 and class 4 permutation t_test\n",
            "---------------------------------------------\n",
            "Permuting 99 times...\n",
            "[ 6.5100484 -2.0761528] [0.01 0.1 ]\n",
            "---------------------------------------------\n",
            "class 0 and class 5 permutation t_test\n",
            "---------------------------------------------\n",
            "Permuting 99 times...\n",
            "[ 3.290907 15.820448] [0.02 0.01]\n",
            "---------------------------------------------\n",
            "class 0 and class 6 permutation t_test\n",
            "---------------------------------------------\n",
            "Permuting 99 times...\n",
            "[2.958339 9.539348] [0.01 0.01]\n",
            "---------------------------------------------\n",
            "class 1 and class 0 permutation t_test\n",
            "---------------------------------------------\n",
            "Permuting 99 times...\n",
            "[15.4802265  7.7489767] [0.01 0.01]\n",
            "---------------------------------------------\n",
            "class 1 and class 1 permutation t_test\n",
            "---------------------------------------------\n",
            "Permuting 99 times...\n",
            "[15.4802265 15.4802265] [0.01 0.01]\n",
            "---------------------------------------------\n",
            "class 1 and class 2 permutation t_test\n",
            "---------------------------------------------\n",
            "Permuting 99 times...\n",
            "[18.149914  6.487438] [0.01 0.01]\n",
            "---------------------------------------------\n",
            "class 1 and class 3 permutation t_test\n",
            "---------------------------------------------\n",
            "Permuting 99 times...\n",
            "[18.39808   9.843212] [0.01 0.01]\n",
            "---------------------------------------------\n",
            "class 1 and class 4 permutation t_test\n",
            "---------------------------------------------\n",
            "Permuting 99 times...\n",
            "[11.2662115 -2.0761528] [0.01 0.08]\n",
            "---------------------------------------------\n",
            "class 1 and class 5 permutation t_test\n",
            "---------------------------------------------\n",
            "Permuting 99 times...\n",
            "[11.354949 15.820448] [0.01 0.01]\n",
            "---------------------------------------------\n",
            "class 1 and class 6 permutation t_test\n",
            "---------------------------------------------\n",
            "Permuting 99 times...\n",
            "[8.394714 9.539348] [0.01 0.01]\n",
            "---------------------------------------------\n",
            "class 2 and class 0 permutation t_test\n",
            "---------------------------------------------\n",
            "Permuting 99 times...\n",
            "[6.487438 8.863537] [0.01 0.01]\n",
            "---------------------------------------------\n",
            "class 2 and class 1 permutation t_test\n",
            "---------------------------------------------\n",
            "Permuting 99 times...\n",
            "[ 6.487438 18.149914] [0.01 0.01]\n",
            "---------------------------------------------\n",
            "class 2 and class 2 permutation t_test\n",
            "---------------------------------------------\n",
            "Permuting 99 times...\n",
            "[6.487438 6.487438] [0.01 0.01]\n",
            "---------------------------------------------\n",
            "class 2 and class 3 permutation t_test\n",
            "---------------------------------------------\n",
            "Permuting 99 times...\n",
            "[5.874832 9.843212] [0.01 0.01]\n",
            "---------------------------------------------\n",
            "class 2 and class 4 permutation t_test\n",
            "---------------------------------------------\n",
            "Permuting 99 times...\n",
            "[ 4.932646  -2.0761528] [0.01 0.08]\n",
            "---------------------------------------------\n",
            "class 2 and class 5 permutation t_test\n",
            "---------------------------------------------\n",
            "Permuting 99 times...\n",
            "[-0.61020845 15.820448  ] [0.75 0.01]\n",
            "---------------------------------------------\n",
            "class 2 and class 6 permutation t_test\n",
            "---------------------------------------------\n",
            "Permuting 99 times...\n",
            "[-5.8513713  9.539348 ] [0.01 0.01]\n",
            "---------------------------------------------\n",
            "class 3 and class 0 permutation t_test\n",
            "---------------------------------------------\n",
            "Permuting 99 times...\n",
            "[ 9.843212 11.432786] [0.01 0.01]\n",
            "---------------------------------------------\n",
            "class 3 and class 1 permutation t_test\n",
            "---------------------------------------------\n",
            "Permuting 99 times...\n",
            "[ 9.843212 18.39808 ] [0.01 0.01]\n",
            "---------------------------------------------\n",
            "class 3 and class 2 permutation t_test\n",
            "---------------------------------------------\n",
            "Permuting 99 times...\n",
            "[9.843212 5.874832] [0.01 0.01]\n",
            "---------------------------------------------\n",
            "class 3 and class 3 permutation t_test\n",
            "---------------------------------------------\n",
            "Permuting 99 times...\n",
            "[9.843212 9.843212] [0.01 0.01]\n",
            "---------------------------------------------\n",
            "class 3 and class 4 permutation t_test\n",
            "---------------------------------------------\n",
            "Permuting 99 times...\n",
            "[ 3.8499725 -2.0761528] [0.01 0.09]\n",
            "---------------------------------------------\n",
            "class 3 and class 5 permutation t_test\n",
            "---------------------------------------------\n",
            "Permuting 99 times...\n",
            "[ 4.3292117 15.820448 ] [0.01 0.01]\n",
            "---------------------------------------------\n",
            "class 3 and class 6 permutation t_test\n",
            "---------------------------------------------\n",
            "Permuting 99 times...\n",
            "[16.784182  9.539348] [0.01 0.01]\n",
            "---------------------------------------------\n",
            "class 4 and class 0 permutation t_test\n",
            "---------------------------------------------\n",
            "Permuting 99 times...\n",
            "[-2.0761528  6.5100484] [0.09 0.01]\n",
            "---------------------------------------------\n",
            "class 4 and class 1 permutation t_test\n",
            "---------------------------------------------\n",
            "Permuting 99 times...\n",
            "[-2.0761528 11.2662115] [0.06 0.01]\n",
            "---------------------------------------------\n",
            "class 4 and class 2 permutation t_test\n",
            "---------------------------------------------\n",
            "Permuting 99 times...\n",
            "[-2.0761528  4.932646 ] [0.09 0.01]\n",
            "---------------------------------------------\n",
            "class 4 and class 3 permutation t_test\n",
            "---------------------------------------------\n",
            "Permuting 99 times...\n",
            "[-2.0761528  3.8499725] [0.12 0.01]\n",
            "---------------------------------------------\n",
            "class 4 and class 4 permutation t_test\n",
            "---------------------------------------------\n",
            "Permuting 99 times...\n",
            "[-2.0761528 -2.0761528] [0.07 0.07]\n",
            "---------------------------------------------\n",
            "class 4 and class 5 permutation t_test\n",
            "---------------------------------------------\n",
            "Permuting 99 times...\n",
            "[14.305299 15.820448] [0.01 0.01]\n",
            "---------------------------------------------\n",
            "class 4 and class 6 permutation t_test\n",
            "---------------------------------------------\n",
            "Permuting 99 times...\n",
            "[10.555522  9.539348] [0.01 0.01]\n",
            "---------------------------------------------\n",
            "class 5 and class 0 permutation t_test\n",
            "---------------------------------------------\n",
            "Permuting 99 times...\n",
            "[15.820448  3.290907] [0.01 0.01]\n",
            "---------------------------------------------\n",
            "class 5 and class 1 permutation t_test\n",
            "---------------------------------------------\n",
            "Permuting 99 times...\n",
            "[15.820448 11.354949] [0.01 0.01]\n",
            "---------------------------------------------\n",
            "class 5 and class 2 permutation t_test\n",
            "---------------------------------------------\n",
            "Permuting 99 times...\n",
            "[15.820448   -0.61020845] [0.01 0.76]\n",
            "---------------------------------------------\n",
            "class 5 and class 3 permutation t_test\n",
            "---------------------------------------------\n",
            "Permuting 99 times...\n",
            "[15.820448   4.3292117] [0.01 0.01]\n",
            "---------------------------------------------\n",
            "class 5 and class 4 permutation t_test\n",
            "---------------------------------------------\n",
            "Permuting 99 times...\n",
            "[15.820448 14.305299] [0.01 0.01]\n",
            "---------------------------------------------\n",
            "class 5 and class 5 permutation t_test\n",
            "---------------------------------------------\n",
            "Permuting 99 times...\n",
            "[15.820448 15.820448] [0.01 0.01]\n",
            "---------------------------------------------\n",
            "class 5 and class 6 permutation t_test\n",
            "---------------------------------------------\n",
            "Permuting 99 times...\n",
            "[14.292579  9.539348] [0.01 0.01]\n",
            "---------------------------------------------\n",
            "class 6 and class 0 permutation t_test\n",
            "---------------------------------------------\n",
            "Permuting 99 times...\n",
            "[9.539348 2.958339] [0.01 0.02]\n",
            "---------------------------------------------\n",
            "class 6 and class 1 permutation t_test\n",
            "---------------------------------------------\n",
            "Permuting 99 times...\n",
            "[9.539348 8.394714] [0.01 0.01]\n",
            "---------------------------------------------\n",
            "class 6 and class 2 permutation t_test\n",
            "---------------------------------------------\n",
            "Permuting 99 times...\n",
            "[ 9.539348  -5.8513713] [0.01 0.01]\n",
            "---------------------------------------------\n",
            "class 6 and class 3 permutation t_test\n",
            "---------------------------------------------\n",
            "Permuting 99 times...\n",
            "[ 9.539348 16.784182] [0.01 0.01]\n",
            "---------------------------------------------\n",
            "class 6 and class 4 permutation t_test\n",
            "---------------------------------------------\n",
            "Permuting 99 times...\n",
            "[ 9.539348 10.555522] [0.01 0.01]\n",
            "---------------------------------------------\n",
            "class 6 and class 5 permutation t_test\n",
            "---------------------------------------------\n",
            "Permuting 99 times...\n",
            "[ 9.539348 14.292579] [0.01 0.01]\n",
            "---------------------------------------------\n",
            "class 6 and class 6 permutation t_test\n",
            "---------------------------------------------\n",
            "Permuting 99 times...\n",
            "[9.539348 9.539348] [0.01 0.01]\n",
            "--------------------------------------------------FEATURE 2-----------------------------------------------------\n",
            "---------------------------------------------\n",
            "class 0 and class 0 permutation t_test\n",
            "---------------------------------------------\n",
            "Permuting 99 times...\n",
            "[12.492638 12.492638] [0.01 0.01]\n",
            "---------------------------------------------\n",
            "class 0 and class 1 permutation t_test\n",
            "---------------------------------------------\n",
            "Permuting 99 times...\n",
            "[12.650821 48.966423] [0.01 0.01]\n",
            "---------------------------------------------\n",
            "class 0 and class 2 permutation t_test\n",
            "---------------------------------------------\n",
            "Permuting 99 times...\n",
            "[11.222485 39.15752 ] [0.01 0.01]\n",
            "---------------------------------------------\n",
            "class 0 and class 3 permutation t_test\n",
            "---------------------------------------------\n",
            "Permuting 99 times...\n",
            "[ 4.8193727 59.30927  ] [0.01 0.01]\n",
            "---------------------------------------------\n",
            "class 0 and class 4 permutation t_test\n",
            "---------------------------------------------\n",
            "Permuting 99 times...\n",
            "[ 4.335002 18.664038] [0.01 0.01]\n",
            "---------------------------------------------\n",
            "class 0 and class 5 permutation t_test\n",
            "---------------------------------------------\n",
            "Permuting 99 times...\n",
            "[-3.8480725  9.575049 ] [0.01 0.01]\n",
            "---------------------------------------------\n",
            "class 0 and class 6 permutation t_test\n",
            "---------------------------------------------\n",
            "Permuting 99 times...\n",
            "[-8.483887 27.607935] [0.01 0.01]\n",
            "---------------------------------------------\n",
            "class 1 and class 0 permutation t_test\n",
            "---------------------------------------------\n",
            "Permuting 99 times...\n",
            "[48.966423 12.650821] [0.01 0.01]\n",
            "---------------------------------------------\n",
            "class 1 and class 1 permutation t_test\n",
            "---------------------------------------------\n",
            "Permuting 99 times...\n",
            "[48.966423 48.966423] [0.01 0.01]\n",
            "---------------------------------------------\n",
            "class 1 and class 2 permutation t_test\n",
            "---------------------------------------------\n",
            "Permuting 99 times...\n",
            "[50.257874 39.15752 ] [0.01 0.01]\n",
            "---------------------------------------------\n",
            "class 1 and class 3 permutation t_test\n",
            "---------------------------------------------\n",
            "Permuting 99 times...\n",
            "[47.951218 59.30927 ] [0.01 0.01]\n",
            "---------------------------------------------\n",
            "class 1 and class 4 permutation t_test\n",
            "---------------------------------------------\n",
            "Permuting 99 times...\n",
            "[40.024353 18.664038] [0.01 0.01]\n",
            "---------------------------------------------\n",
            "class 1 and class 5 permutation t_test\n",
            "---------------------------------------------\n",
            "Permuting 99 times...\n",
            "[35.84616   9.575049] [0.01 0.01]\n",
            "---------------------------------------------\n",
            "class 1 and class 6 permutation t_test\n",
            "---------------------------------------------\n",
            "Permuting 99 times...\n",
            "[28.43667  27.607935] [0.01 0.01]\n",
            "---------------------------------------------\n",
            "class 2 and class 0 permutation t_test\n",
            "---------------------------------------------\n",
            "Permuting 99 times...\n",
            "[39.15752  11.222485] [0.01 0.01]\n",
            "---------------------------------------------\n",
            "class 2 and class 1 permutation t_test\n",
            "---------------------------------------------\n",
            "Permuting 99 times...\n",
            "[39.15752  50.257874] [0.01 0.01]\n",
            "---------------------------------------------\n",
            "class 2 and class 2 permutation t_test\n",
            "---------------------------------------------\n",
            "Permuting 99 times...\n",
            "[39.15752 39.15752] [0.01 0.01]\n",
            "---------------------------------------------\n",
            "class 2 and class 3 permutation t_test\n",
            "---------------------------------------------\n",
            "Permuting 99 times...\n",
            "[32.769653 59.30927 ] [0.01 0.01]\n",
            "---------------------------------------------\n",
            "class 2 and class 4 permutation t_test\n",
            "---------------------------------------------\n",
            "Permuting 99 times...\n",
            "[30.19068  18.664038] [0.01 0.01]\n",
            "---------------------------------------------\n",
            "class 2 and class 5 permutation t_test\n",
            "---------------------------------------------\n",
            "Permuting 99 times...\n",
            "[18.70975   9.575049] [0.01 0.01]\n",
            "---------------------------------------------\n",
            "class 2 and class 6 permutation t_test\n",
            "---------------------------------------------\n",
            "Permuting 99 times...\n",
            "[15.226602 27.607935] [0.01 0.01]\n",
            "---------------------------------------------\n",
            "class 3 and class 0 permutation t_test\n",
            "---------------------------------------------\n",
            "Permuting 99 times...\n",
            "[59.30927    4.8193727] [0.01 0.01]\n",
            "---------------------------------------------\n",
            "class 3 and class 1 permutation t_test\n",
            "---------------------------------------------\n",
            "Permuting 99 times...\n",
            "[59.30927  47.951218] [0.01 0.01]\n",
            "---------------------------------------------\n",
            "class 3 and class 2 permutation t_test\n",
            "---------------------------------------------\n",
            "Permuting 99 times...\n",
            "[59.30927  32.769653] [0.01 0.01]\n",
            "---------------------------------------------\n",
            "class 3 and class 3 permutation t_test\n",
            "---------------------------------------------\n",
            "Permuting 99 times...\n",
            "[59.30927 59.30927] [0.01 0.01]\n",
            "---------------------------------------------\n",
            "class 3 and class 4 permutation t_test\n",
            "---------------------------------------------\n",
            "Permuting 99 times...\n",
            "[49.131653 18.664038] [0.01 0.01]\n",
            "---------------------------------------------\n",
            "class 3 and class 5 permutation t_test\n",
            "---------------------------------------------\n",
            "Permuting 99 times...\n",
            "[32.040607  9.575049] [0.01 0.01]\n",
            "---------------------------------------------\n",
            "class 3 and class 6 permutation t_test\n",
            "---------------------------------------------\n",
            "Permuting 99 times...\n",
            "[36.35863  27.607935] [0.01 0.01]\n",
            "---------------------------------------------\n",
            "class 4 and class 0 permutation t_test\n",
            "---------------------------------------------\n",
            "Permuting 99 times...\n",
            "[18.664038  4.335002] [0.01 0.01]\n",
            "---------------------------------------------\n",
            "class 4 and class 1 permutation t_test\n",
            "---------------------------------------------\n",
            "Permuting 99 times...\n",
            "[18.664038 40.024353] [0.01 0.01]\n",
            "---------------------------------------------\n",
            "class 4 and class 2 permutation t_test\n",
            "---------------------------------------------\n",
            "Permuting 99 times...\n",
            "[18.664038 30.19068 ] [0.01 0.01]\n",
            "---------------------------------------------\n",
            "class 4 and class 3 permutation t_test\n",
            "---------------------------------------------\n",
            "Permuting 99 times...\n",
            "[18.664038 49.131653] [0.01 0.01]\n",
            "---------------------------------------------\n",
            "class 4 and class 4 permutation t_test\n",
            "---------------------------------------------\n",
            "Permuting 99 times...\n",
            "[18.664038 18.664038] [0.01 0.01]\n",
            "---------------------------------------------\n",
            "class 4 and class 5 permutation t_test\n",
            "---------------------------------------------\n",
            "Permuting 99 times...\n",
            "[26.223516  9.575049] [0.01 0.01]\n",
            "---------------------------------------------\n",
            "class 4 and class 6 permutation t_test\n",
            "---------------------------------------------\n",
            "Permuting 99 times...\n",
            "[21.79011  27.607935] [0.01 0.01]\n",
            "---------------------------------------------\n",
            "class 5 and class 0 permutation t_test\n",
            "---------------------------------------------\n",
            "Permuting 99 times...\n",
            "[ 9.575049  -3.8480725] [0.01 0.01]\n",
            "---------------------------------------------\n",
            "class 5 and class 1 permutation t_test\n",
            "---------------------------------------------\n",
            "Permuting 99 times...\n",
            "[ 9.575049 35.84616 ] [0.01 0.01]\n",
            "---------------------------------------------\n",
            "class 5 and class 2 permutation t_test\n",
            "---------------------------------------------\n",
            "Permuting 99 times...\n",
            "[ 9.575049 18.70975 ] [0.01 0.01]\n",
            "---------------------------------------------\n",
            "class 5 and class 3 permutation t_test\n",
            "---------------------------------------------\n",
            "Permuting 99 times...\n",
            "[ 9.575049 32.040607] [0.01 0.01]\n",
            "---------------------------------------------\n",
            "class 5 and class 4 permutation t_test\n",
            "---------------------------------------------\n",
            "Permuting 99 times...\n",
            "[ 9.575049 26.223516] [0.01 0.01]\n",
            "---------------------------------------------\n",
            "class 5 and class 5 permutation t_test\n",
            "---------------------------------------------\n",
            "Permuting 99 times...\n",
            "[9.575049 9.575049] [0.01 0.01]\n",
            "---------------------------------------------\n",
            "class 5 and class 6 permutation t_test\n",
            "---------------------------------------------\n",
            "Permuting 99 times...\n",
            "[28.154202 27.607935] [0.01 0.01]\n",
            "---------------------------------------------\n",
            "class 6 and class 0 permutation t_test\n",
            "---------------------------------------------\n",
            "Permuting 99 times...\n",
            "[27.607935 -8.483887] [0.01 0.01]\n",
            "---------------------------------------------\n",
            "class 6 and class 1 permutation t_test\n",
            "---------------------------------------------\n",
            "Permuting 99 times...\n",
            "[27.607935 28.43667 ] [0.01 0.01]\n",
            "---------------------------------------------\n",
            "class 6 and class 2 permutation t_test\n",
            "---------------------------------------------\n",
            "Permuting 99 times...\n",
            "[27.607935 15.226602] [0.01 0.01]\n",
            "---------------------------------------------\n",
            "class 6 and class 3 permutation t_test\n",
            "---------------------------------------------\n",
            "Permuting 99 times...\n",
            "[27.607935 36.35863 ] [0.01 0.01]\n",
            "---------------------------------------------\n",
            "class 6 and class 4 permutation t_test\n",
            "---------------------------------------------\n",
            "Permuting 99 times...\n",
            "[27.607935 21.79011 ] [0.01 0.01]\n",
            "---------------------------------------------\n",
            "class 6 and class 5 permutation t_test\n",
            "---------------------------------------------\n",
            "Permuting 99 times...\n",
            "[27.607935 28.154202] [0.01 0.01]\n",
            "---------------------------------------------\n",
            "class 6 and class 6 permutation t_test\n",
            "---------------------------------------------\n",
            "Permuting 99 times...\n",
            "[27.607935 27.607935] [0.01 0.01]\n",
            "--------------------------------------------------FEATURE 3-----------------------------------------------------\n",
            "---------------------------------------------\n",
            "class 0 and class 0 permutation t_test\n",
            "---------------------------------------------\n",
            "Permuting 99 times...\n",
            "[4.6858387 4.6858387] [0.01 0.01]\n",
            "---------------------------------------------\n",
            "class 0 and class 1 permutation t_test\n",
            "---------------------------------------------\n",
            "Permuting 99 times...\n",
            "[  3.0252674 -15.113119 ] [0.03 0.01]\n",
            "---------------------------------------------\n",
            "class 0 and class 2 permutation t_test\n",
            "---------------------------------------------\n",
            "Permuting 99 times...\n",
            "[ 1.74466  15.534334] [0.19 0.01]\n",
            "---------------------------------------------\n",
            "class 0 and class 3 permutation t_test\n",
            "---------------------------------------------\n",
            "Permuting 99 times...\n",
            "[ 0.45139655 -1.4902507 ] [0.89 0.27]\n",
            "---------------------------------------------\n",
            "class 0 and class 4 permutation t_test\n",
            "---------------------------------------------\n",
            "Permuting 99 times...\n",
            "[-4.326941 -1.185235] [0.01 0.46]\n",
            "---------------------------------------------\n",
            "class 0 and class 5 permutation t_test\n",
            "---------------------------------------------\n",
            "Permuting 99 times...\n",
            "[-2.3144104 -7.2537794] [0.07 0.01]\n",
            "---------------------------------------------\n",
            "class 0 and class 6 permutation t_test\n",
            "---------------------------------------------\n",
            "Permuting 99 times...\n",
            "[-0.01123834  0.17505533] [1.   0.98]\n",
            "---------------------------------------------\n",
            "class 1 and class 0 permutation t_test\n",
            "---------------------------------------------\n",
            "Permuting 99 times...\n",
            "[-15.113119    3.0252674] [0.01 0.01]\n",
            "---------------------------------------------\n",
            "class 1 and class 1 permutation t_test\n",
            "---------------------------------------------\n",
            "Permuting 99 times...\n",
            "[-15.113119 -15.113119] [0.01 0.01]\n",
            "---------------------------------------------\n",
            "class 1 and class 2 permutation t_test\n",
            "---------------------------------------------\n",
            "Permuting 99 times...\n",
            "[-11.178264  15.534334] [0.01 0.01]\n",
            "---------------------------------------------\n",
            "class 1 and class 3 permutation t_test\n",
            "---------------------------------------------\n",
            "Permuting 99 times...\n",
            "[-8.266539  -1.4902507] [0.01 0.31]\n",
            "---------------------------------------------\n",
            "class 1 and class 4 permutation t_test\n",
            "---------------------------------------------\n",
            "Permuting 99 times...\n",
            "[ 1.1496835 -1.185235 ] [0.49 0.48]\n",
            "---------------------------------------------\n",
            "class 1 and class 5 permutation t_test\n",
            "---------------------------------------------\n",
            "Permuting 99 times...\n",
            "[ 1.2223014 -7.2537794] [0.44 0.01]\n",
            "---------------------------------------------\n",
            "class 1 and class 6 permutation t_test\n",
            "---------------------------------------------\n",
            "Permuting 99 times...\n",
            "[3.6868806  0.17505533] [0.01 0.99]\n",
            "---------------------------------------------\n",
            "class 2 and class 0 permutation t_test\n",
            "---------------------------------------------\n",
            "Permuting 99 times...\n",
            "[15.534334  1.74466 ] [0.01 0.17]\n",
            "---------------------------------------------\n",
            "class 2 and class 1 permutation t_test\n",
            "---------------------------------------------\n",
            "Permuting 99 times...\n",
            "[ 15.534334 -11.178264] [0.01 0.01]\n",
            "---------------------------------------------\n",
            "class 2 and class 2 permutation t_test\n",
            "---------------------------------------------\n",
            "Permuting 99 times...\n",
            "[15.534334 15.534334] [0.01 0.01]\n",
            "---------------------------------------------\n",
            "class 2 and class 3 permutation t_test\n",
            "---------------------------------------------\n",
            "Permuting 99 times...\n",
            "[13.391711  -1.4902507] [0.01 0.32]\n",
            "---------------------------------------------\n",
            "class 2 and class 4 permutation t_test\n",
            "---------------------------------------------\n",
            "Permuting 99 times...\n",
            "[ 8.363107 -1.185235] [0.01 0.41]\n",
            "---------------------------------------------\n",
            "class 2 and class 5 permutation t_test\n",
            "---------------------------------------------\n",
            "Permuting 99 times...\n",
            "[ 6.540734  -7.2537794] [0.01 0.01]\n",
            "---------------------------------------------\n",
            "class 2 and class 6 permutation t_test\n",
            "---------------------------------------------\n",
            "Permuting 99 times...\n",
            "[11.061761    0.17505533] [0.01 0.98]\n",
            "---------------------------------------------\n",
            "class 3 and class 0 permutation t_test\n",
            "---------------------------------------------\n",
            "Permuting 99 times...\n",
            "[-1.4902507   0.45139655] [0.27 0.89]\n",
            "---------------------------------------------\n",
            "class 3 and class 1 permutation t_test\n",
            "---------------------------------------------\n",
            "Permuting 99 times...\n",
            "[-1.4902507 -8.266539 ] [0.2  0.01]\n",
            "---------------------------------------------\n",
            "class 3 and class 2 permutation t_test\n",
            "---------------------------------------------\n",
            "Permuting 99 times...\n",
            "[-1.4902507 13.391711 ] [0.24 0.01]\n",
            "---------------------------------------------\n",
            "class 3 and class 3 permutation t_test\n",
            "---------------------------------------------\n",
            "Permuting 99 times...\n",
            "[-1.4902507 -1.4902507] [0.13 0.13]\n",
            "---------------------------------------------\n",
            "class 3 and class 4 permutation t_test\n",
            "---------------------------------------------\n",
            "Permuting 99 times...\n",
            "[-1.269832 -1.185235] [0.36 0.41]\n",
            "---------------------------------------------\n",
            "class 3 and class 5 permutation t_test\n",
            "---------------------------------------------\n",
            "Permuting 99 times...\n",
            "[ 0.11753292 -7.2537794 ] [1.   0.01]\n",
            "---------------------------------------------\n",
            "class 3 and class 6 permutation t_test\n",
            "---------------------------------------------\n",
            "Permuting 99 times...\n",
            "[-0.36743516  0.17505533] [0.87 0.98]\n",
            "---------------------------------------------\n",
            "class 4 and class 0 permutation t_test\n",
            "---------------------------------------------\n",
            "Permuting 99 times...\n",
            "[-1.185235 -4.326941] [0.44 0.01]\n",
            "---------------------------------------------\n",
            "class 4 and class 1 permutation t_test\n",
            "---------------------------------------------\n",
            "Permuting 99 times...\n",
            "[-1.185235   1.1496835] [0.28 0.32]\n",
            "---------------------------------------------\n",
            "class 4 and class 2 permutation t_test\n",
            "---------------------------------------------\n",
            "Permuting 99 times...\n",
            "[-1.185235  8.363107] [0.48 0.01]\n",
            "---------------------------------------------\n",
            "class 4 and class 3 permutation t_test\n",
            "---------------------------------------------\n",
            "Permuting 99 times...\n",
            "[-1.185235 -1.269832] [0.44 0.37]\n",
            "---------------------------------------------\n",
            "class 4 and class 4 permutation t_test\n",
            "---------------------------------------------\n",
            "Permuting 99 times...\n",
            "[-1.185235 -1.185235] [0.28 0.28]\n",
            "---------------------------------------------\n",
            "class 4 and class 5 permutation t_test\n",
            "---------------------------------------------\n",
            "Permuting 99 times...\n",
            "[-5.2964306 -7.2537794] [0.01 0.01]\n",
            "---------------------------------------------\n",
            "class 4 and class 6 permutation t_test\n",
            "---------------------------------------------\n",
            "Permuting 99 times...\n",
            "[-9.239531    0.17505533] [0.01 0.99]\n",
            "---------------------------------------------\n",
            "class 5 and class 0 permutation t_test\n",
            "---------------------------------------------\n",
            "Permuting 99 times...\n",
            "[-7.2537794 -2.3144104] [0.01 0.06]\n",
            "---------------------------------------------\n",
            "class 5 and class 1 permutation t_test\n",
            "---------------------------------------------\n",
            "Permuting 99 times...\n",
            "[-7.2537794  1.2223014] [0.01 0.4 ]\n",
            "---------------------------------------------\n",
            "class 5 and class 2 permutation t_test\n",
            "---------------------------------------------\n",
            "Permuting 99 times...\n",
            "[-7.2537794  6.540734 ] [0.01 0.01]\n",
            "---------------------------------------------\n",
            "class 5 and class 3 permutation t_test\n",
            "---------------------------------------------\n",
            "Permuting 99 times...\n",
            "[-7.2537794   0.11753292] [0.01 1.  ]\n",
            "---------------------------------------------\n",
            "class 5 and class 4 permutation t_test\n",
            "---------------------------------------------\n",
            "Permuting 99 times...\n",
            "[-7.2537794 -5.2964306] [0.01 0.01]\n",
            "---------------------------------------------\n",
            "class 5 and class 5 permutation t_test\n",
            "---------------------------------------------\n",
            "Permuting 99 times...\n",
            "[-7.2537794 -7.2537794] [0.01 0.01]\n",
            "---------------------------------------------\n",
            "class 5 and class 6 permutation t_test\n",
            "---------------------------------------------\n",
            "Permuting 99 times...\n",
            "[-7.443819    0.17505533] [0.01 0.99]\n",
            "---------------------------------------------\n",
            "class 6 and class 0 permutation t_test\n",
            "---------------------------------------------\n",
            "Permuting 99 times...\n",
            "[ 0.17505533 -0.01123834] [0.97 1.  ]\n",
            "---------------------------------------------\n",
            "class 6 and class 1 permutation t_test\n",
            "---------------------------------------------\n",
            "Permuting 99 times...\n",
            "[0.17505533 3.6868806 ] [0.97 0.01]\n",
            "---------------------------------------------\n",
            "class 6 and class 2 permutation t_test\n",
            "---------------------------------------------\n",
            "Permuting 99 times...\n",
            "[ 0.17505533 11.061761  ] [0.97 0.01]\n",
            "---------------------------------------------\n",
            "class 6 and class 3 permutation t_test\n",
            "---------------------------------------------\n",
            "Permuting 99 times...\n",
            "[ 0.17505533 -0.36743516] [0.99 0.96]\n",
            "---------------------------------------------\n",
            "class 6 and class 4 permutation t_test\n",
            "---------------------------------------------\n",
            "Permuting 99 times...\n",
            "[ 0.17505533 -9.239531  ] [1.   0.01]\n",
            "---------------------------------------------\n",
            "class 6 and class 5 permutation t_test\n",
            "---------------------------------------------\n",
            "Permuting 99 times...\n",
            "[ 0.17505533 -7.443819  ] [0.98 0.01]\n",
            "---------------------------------------------\n",
            "class 6 and class 6 permutation t_test\n",
            "---------------------------------------------\n",
            "Permuting 99 times...\n",
            "[0.17505533 0.17505533] [0.86 0.86]\n",
            "--------------------------------------------------FEATURE 4-----------------------------------------------------\n",
            "---------------------------------------------\n",
            "class 0 and class 0 permutation t_test\n",
            "---------------------------------------------\n",
            "Permuting 99 times...\n",
            "[15.737939 15.737939] [0.01 0.01]\n",
            "---------------------------------------------\n",
            "class 0 and class 1 permutation t_test\n",
            "---------------------------------------------\n",
            "Permuting 99 times...\n",
            "[23.042337 22.920816] [0.01 0.01]\n",
            "---------------------------------------------\n",
            "class 0 and class 2 permutation t_test\n",
            "---------------------------------------------\n",
            "Permuting 99 times...\n",
            "[16.21133 13.99785] [0.01 0.01]\n",
            "---------------------------------------------\n",
            "class 0 and class 3 permutation t_test\n",
            "---------------------------------------------\n",
            "Permuting 99 times...\n",
            "[20.189304 19.557468] [0.01 0.01]\n",
            "---------------------------------------------\n",
            "class 0 and class 4 permutation t_test\n",
            "---------------------------------------------\n",
            "Permuting 99 times...\n",
            "[ 6.648424 35.26012 ] [0.01 0.01]\n",
            "---------------------------------------------\n",
            "class 0 and class 5 permutation t_test\n",
            "---------------------------------------------\n",
            "Permuting 99 times...\n",
            "[ 8.0248375 19.564976 ] [0.01 0.01]\n",
            "---------------------------------------------\n",
            "class 0 and class 6 permutation t_test\n",
            "---------------------------------------------\n",
            "Permuting 99 times...\n",
            "[9.503544  7.4489903] [0.01 0.01]\n",
            "---------------------------------------------\n",
            "class 1 and class 0 permutation t_test\n",
            "---------------------------------------------\n",
            "Permuting 99 times...\n",
            "[22.920816 23.042337] [0.01 0.01]\n",
            "---------------------------------------------\n",
            "class 1 and class 1 permutation t_test\n",
            "---------------------------------------------\n",
            "Permuting 99 times...\n",
            "[22.920816 22.920816] [0.01 0.01]\n",
            "---------------------------------------------\n",
            "class 1 and class 2 permutation t_test\n",
            "---------------------------------------------\n",
            "Permuting 99 times...\n",
            "[20.511269 13.99785 ] [0.01 0.01]\n",
            "---------------------------------------------\n",
            "class 1 and class 3 permutation t_test\n",
            "---------------------------------------------\n",
            "Permuting 99 times...\n",
            "[22.93909  19.557468] [0.01 0.01]\n",
            "---------------------------------------------\n",
            "class 1 and class 4 permutation t_test\n",
            "---------------------------------------------\n",
            "Permuting 99 times...\n",
            "[25.85745 35.26012] [0.01 0.01]\n",
            "---------------------------------------------\n",
            "class 1 and class 5 permutation t_test\n",
            "---------------------------------------------\n",
            "Permuting 99 times...\n",
            "[14.072594 19.564976] [0.01 0.01]\n",
            "---------------------------------------------\n",
            "class 1 and class 6 permutation t_test\n",
            "---------------------------------------------\n",
            "Permuting 99 times...\n",
            "[13.76728    7.4489903] [0.01 0.01]\n",
            "---------------------------------------------\n",
            "class 2 and class 0 permutation t_test\n",
            "---------------------------------------------\n",
            "Permuting 99 times...\n",
            "[13.99785 16.21133] [0.01 0.01]\n",
            "---------------------------------------------\n",
            "class 2 and class 1 permutation t_test\n",
            "---------------------------------------------\n",
            "Permuting 99 times...\n",
            "[13.99785  20.511269] [0.01 0.01]\n",
            "---------------------------------------------\n",
            "class 2 and class 2 permutation t_test\n",
            "---------------------------------------------\n",
            "Permuting 99 times...\n",
            "[13.99785 13.99785] [0.01 0.01]\n",
            "---------------------------------------------\n",
            "class 2 and class 3 permutation t_test\n",
            "---------------------------------------------\n",
            "Permuting 99 times...\n",
            "[ 5.262455 19.557468] [0.01 0.01]\n",
            "---------------------------------------------\n",
            "class 2 and class 4 permutation t_test\n",
            "---------------------------------------------\n",
            "Permuting 99 times...\n",
            "[-0.5449422 35.26012  ] [0.8  0.01]\n",
            "---------------------------------------------\n",
            "class 2 and class 5 permutation t_test\n",
            "---------------------------------------------\n",
            "Permuting 99 times...\n",
            "[-9.561851 19.564976] [0.01 0.01]\n",
            "---------------------------------------------\n",
            "class 2 and class 6 permutation t_test\n",
            "---------------------------------------------\n",
            "Permuting 99 times...\n",
            "[-12.205195    7.4489903] [0.01 0.01]\n",
            "---------------------------------------------\n",
            "class 3 and class 0 permutation t_test\n",
            "---------------------------------------------\n",
            "Permuting 99 times...\n",
            "[19.557468 20.189304] [0.01 0.01]\n",
            "---------------------------------------------\n",
            "class 3 and class 1 permutation t_test\n",
            "---------------------------------------------\n",
            "Permuting 99 times...\n",
            "[19.557468 22.93909 ] [0.01 0.01]\n",
            "---------------------------------------------\n",
            "class 3 and class 2 permutation t_test\n",
            "---------------------------------------------\n",
            "Permuting 99 times...\n",
            "[19.557468  5.262455] [0.01 0.01]\n",
            "---------------------------------------------\n",
            "class 3 and class 3 permutation t_test\n",
            "---------------------------------------------\n",
            "Permuting 99 times...\n",
            "[19.557468 19.557468] [0.01 0.01]\n",
            "---------------------------------------------\n",
            "class 3 and class 4 permutation t_test\n",
            "---------------------------------------------\n",
            "Permuting 99 times...\n",
            "[17.484982 35.26012 ] [0.01 0.01]\n",
            "---------------------------------------------\n",
            "class 3 and class 5 permutation t_test\n",
            "---------------------------------------------\n",
            "Permuting 99 times...\n",
            "[29.008509 19.564976] [0.01 0.01]\n",
            "---------------------------------------------\n",
            "class 3 and class 6 permutation t_test\n",
            "---------------------------------------------\n",
            "Permuting 99 times...\n",
            "[22.115128   7.4489903] [0.01 0.01]\n",
            "---------------------------------------------\n",
            "class 4 and class 0 permutation t_test\n",
            "---------------------------------------------\n",
            "Permuting 99 times...\n",
            "[35.26012   6.648424] [0.01 0.01]\n",
            "---------------------------------------------\n",
            "class 4 and class 1 permutation t_test\n",
            "---------------------------------------------\n",
            "Permuting 99 times...\n",
            "[35.26012 25.85745] [0.01 0.01]\n",
            "---------------------------------------------\n",
            "class 4 and class 2 permutation t_test\n",
            "---------------------------------------------\n",
            "Permuting 99 times...\n",
            "[35.26012   -0.5449422] [0.01 0.73]\n",
            "---------------------------------------------\n",
            "class 4 and class 3 permutation t_test\n",
            "---------------------------------------------\n",
            "Permuting 99 times...\n",
            "[35.26012  17.484982] [0.01 0.01]\n",
            "---------------------------------------------\n",
            "class 4 and class 4 permutation t_test\n",
            "---------------------------------------------\n",
            "Permuting 99 times...\n",
            "[35.26012 35.26012] [0.01 0.01]\n",
            "---------------------------------------------\n",
            "class 4 and class 5 permutation t_test\n",
            "---------------------------------------------\n",
            "Permuting 99 times...\n",
            "[37.92203  19.564976] [0.01 0.01]\n",
            "---------------------------------------------\n",
            "class 4 and class 6 permutation t_test\n",
            "---------------------------------------------\n",
            "Permuting 99 times...\n",
            "[30.77157    7.4489903] [0.01 0.01]\n",
            "---------------------------------------------\n",
            "class 5 and class 0 permutation t_test\n",
            "---------------------------------------------\n",
            "Permuting 99 times...\n",
            "[19.564976   8.0248375] [0.01 0.01]\n",
            "---------------------------------------------\n",
            "class 5 and class 1 permutation t_test\n",
            "---------------------------------------------\n",
            "Permuting 99 times...\n",
            "[19.564976 14.072594] [0.01 0.01]\n",
            "---------------------------------------------\n",
            "class 5 and class 2 permutation t_test\n",
            "---------------------------------------------\n",
            "Permuting 99 times...\n",
            "[19.564976 -9.561851] [0.01 0.01]\n",
            "---------------------------------------------\n",
            "class 5 and class 3 permutation t_test\n",
            "---------------------------------------------\n",
            "Permuting 99 times...\n",
            "[19.564976 29.008509] [0.01 0.01]\n",
            "---------------------------------------------\n",
            "class 5 and class 4 permutation t_test\n",
            "---------------------------------------------\n",
            "Permuting 99 times...\n",
            "[19.564976 37.92203 ] [0.01 0.01]\n",
            "---------------------------------------------\n",
            "class 5 and class 5 permutation t_test\n",
            "---------------------------------------------\n",
            "Permuting 99 times...\n",
            "[19.564976 19.564976] [0.01 0.01]\n",
            "---------------------------------------------\n",
            "class 5 and class 6 permutation t_test\n",
            "---------------------------------------------\n",
            "Permuting 99 times...\n",
            "[14.564944   7.4489903] [0.01 0.01]\n",
            "---------------------------------------------\n",
            "class 6 and class 0 permutation t_test\n",
            "---------------------------------------------\n",
            "Permuting 99 times...\n",
            "[7.4489903 9.503544 ] [0.01 0.01]\n",
            "---------------------------------------------\n",
            "class 6 and class 1 permutation t_test\n",
            "---------------------------------------------\n",
            "Permuting 99 times...\n",
            "[ 7.4489903 13.76728  ] [0.01 0.01]\n",
            "---------------------------------------------\n",
            "class 6 and class 2 permutation t_test\n",
            "---------------------------------------------\n",
            "Permuting 99 times...\n",
            "[  7.4489903 -12.205195 ] [0.01 0.01]\n",
            "---------------------------------------------\n",
            "class 6 and class 3 permutation t_test\n",
            "---------------------------------------------\n",
            "Permuting 99 times...\n",
            "[ 7.4489903 22.115128 ] [0.01 0.01]\n",
            "---------------------------------------------\n",
            "class 6 and class 4 permutation t_test\n",
            "---------------------------------------------\n",
            "Permuting 99 times...\n",
            "[ 7.4489903 30.77157  ] [0.01 0.01]\n",
            "---------------------------------------------\n",
            "class 6 and class 5 permutation t_test\n",
            "---------------------------------------------\n",
            "Permuting 99 times...\n",
            "[ 7.4489903 14.564944 ] [0.01 0.01]\n",
            "---------------------------------------------\n",
            "class 6 and class 6 permutation t_test\n",
            "---------------------------------------------\n",
            "Permuting 99 times...\n",
            "[7.4489903 7.4489903] [0.01 0.01]\n"
          ]
        }
      ],
      "source": [
        "import mne\n",
        "from mne.stats import permutation_t_test\n",
        "\n",
        "for feature in range(5):\n",
        "    print(f\"--------------------------------------------------AROUSAL FEATURE {feature}-----------------------------------------------------\")\n",
        "    for i in range(7):\n",
        "        classes_1 = np.array(classes[i])\n",
        "        for j in range(7):\n",
        "            print('---------------------------------------------')\n",
        "            print(f'class {i} and class {j} permutation t_test')\n",
        "            print('---------------------------------------------')\n",
        "            classes_2 = np.array(classes[j])\n",
        "            feature_1 = classes_1[:,:, feature]\n",
        "            feature_2 = classes_2[:,:, feature]\n",
        "            num = min(feature_1.shape[0], feature_2.shape[0])\n",
        "            x = np.stack((feature_1[:num], feature_2[:num]), axis=-1)\n",
        "            x = np.reshape(x, (-1, 2))\n",
        "            T0, p_values, H0 = permutation_t_test(x, 100)\n",
        "            print(T0, p_values)\n",
        "\n",
        "        "
      ]
    },
    {
      "cell_type": "code",
      "execution_count": null,
      "metadata": {},
      "outputs": [
        {
          "name": "stdout",
          "output_type": "stream",
          "text": [
            "--------------------------------------------------FEATURE 0-----------------------------------------------------\n",
            "---------------------------------------------\n",
            "class 0 and class 0 permutation cluster test\n",
            "---------------------------------------------\n",
            "stat_fun(H1): min=0.000000 max=0.000000\n",
            "Running initial clustering …\n",
            "Found 0 clusters\n",
            "[] []\n",
            "---------------------------------------------\n",
            "class 0 and class 1 permutation cluster test\n",
            "---------------------------------------------\n",
            "stat_fun(H1): min=0.000135 max=5.800058\n",
            "Running initial clustering …\n",
            "Found 0 clusters\n",
            "[] []\n",
            "---------------------------------------------\n",
            "class 0 and class 2 permutation cluster test\n",
            "---------------------------------------------\n",
            "stat_fun(H1): min=0.000001 max=9.352970\n",
            "Running initial clustering …\n",
            "Found 1 cluster\n"
          ]
        },
        {
          "name": "stderr",
          "output_type": "stream",
          "text": [
            "C:\\Users\\Tobii\\AppData\\Local\\Temp\\ipykernel_20164\\4159885035.py:18: RuntimeWarning: No clusters found, returning empty H0, clusters, and cluster_pv\n",
            "  F_obs, clusters, cluster_p_values, H0 = permutation_cluster_test(\n",
            "C:\\Users\\Tobii\\AppData\\Local\\Temp\\ipykernel_20164\\4159885035.py:18: RuntimeWarning: No clusters found, returning empty H0, clusters, and cluster_pv\n",
            "  F_obs, clusters, cluster_p_values, H0 = permutation_cluster_test(\n",
            "c:\\Users\\Tobii\\Projects\\oasisnn\\venv\\Lib\\site-packages\\tqdm\\auto.py:21: TqdmWarning: IProgress not found. Please update jupyter and ipywidgets. See https://ipywidgets.readthedocs.io/en/stable/user_install.html\n",
            "  from .autonotebook import tqdm as notebook_tqdm\n",
            "100%|██████████| Permuting : 99/99 [00:01<00:00,   88.58it/s]"
          ]
        },
        {
          "name": "stdout",
          "output_type": "stream",
          "text": [
            "[(slice(290, 300, None),)] [0.09]\n",
            "---------------------------------------------\n",
            "class 0 and class 3 permutation cluster test\n",
            "---------------------------------------------\n",
            "stat_fun(H1): min=0.000056 max=7.820624\n"
          ]
        },
        {
          "name": "stderr",
          "output_type": "stream",
          "text": [
            "\n"
          ]
        },
        {
          "name": "stdout",
          "output_type": "stream",
          "text": [
            "Running initial clustering …\n",
            "Found 4 clusters\n"
          ]
        },
        {
          "name": "stderr",
          "output_type": "stream",
          "text": [
            "100%|██████████| Permuting : 99/99 [00:00<00:00,  107.83it/s]\n"
          ]
        },
        {
          "name": "stdout",
          "output_type": "stream",
          "text": [
            "[(slice(199, 200, None),), (slice(202, 203, None),), (slice(290, 295, None),), (slice(297, 300, None),)] [0.53 0.52 0.21 0.3 ]\n",
            "---------------------------------------------\n",
            "class 0 and class 4 permutation cluster test\n",
            "---------------------------------------------\n",
            "stat_fun(H1): min=0.000109 max=8.124741\n",
            "Running initial clustering …\n",
            "Found 6 clusters\n"
          ]
        },
        {
          "name": "stderr",
          "output_type": "stream",
          "text": [
            "100%|██████████| Permuting : 99/99 [00:00<00:00,  139.50it/s]"
          ]
        },
        {
          "name": "stdout",
          "output_type": "stream",
          "text": [
            "[(slice(36, 37, None),), (slice(40, 44, None),), (slice(45, 46, None),), (slice(48, 49, None),), (slice(50, 51, None),), (slice(237, 239, None),)] [0.39 0.14 0.32 0.3  0.34 0.27]\n",
            "---------------------------------------------\n",
            "class 0 and class 5 permutation cluster test\n",
            "---------------------------------------------\n",
            "stat_fun(H1): min=0.000651 max=8.073733\n",
            "Running initial clustering …\n"
          ]
        },
        {
          "name": "stderr",
          "output_type": "stream",
          "text": [
            "\n"
          ]
        },
        {
          "name": "stdout",
          "output_type": "stream",
          "text": [
            "Found 1 cluster\n"
          ]
        },
        {
          "name": "stderr",
          "output_type": "stream",
          "text": [
            "100%|██████████| Permuting : 99/99 [00:00<00:00,  369.47it/s]"
          ]
        },
        {
          "name": "stdout",
          "output_type": "stream",
          "text": [
            "[(slice(93, 96, None),)] [0.35]\n",
            "---------------------------------------------\n",
            "class 0 and class 6 permutation cluster test\n",
            "---------------------------------------------\n",
            "stat_fun(H1): min=0.000287 max=11.020069\n",
            "Running initial clustering …\n"
          ]
        },
        {
          "name": "stderr",
          "output_type": "stream",
          "text": [
            "\n"
          ]
        },
        {
          "name": "stdout",
          "output_type": "stream",
          "text": [
            "Found 3 clusters\n"
          ]
        },
        {
          "name": "stderr",
          "output_type": "stream",
          "text": [
            "100%|██████████| Permuting : 99/99 [00:00<00:00,  521.88it/s]\n"
          ]
        },
        {
          "name": "stdout",
          "output_type": "stream",
          "text": [
            "[(slice(163, 172, None),), (slice(182, 185, None),), (slice(253, 255, None),)] [0.07 0.22 0.29]\n",
            "---------------------------------------------\n",
            "class 1 and class 0 permutation cluster test\n",
            "---------------------------------------------\n",
            "stat_fun(H1): min=0.000135 max=5.800058\n",
            "Running initial clustering …\n",
            "Found 0 clusters\n"
          ]
        },
        {
          "name": "stderr",
          "output_type": "stream",
          "text": [
            "C:\\Users\\Tobii\\AppData\\Local\\Temp\\ipykernel_20164\\4159885035.py:18: RuntimeWarning: No clusters found, returning empty H0, clusters, and cluster_pv\n",
            "  F_obs, clusters, cluster_p_values, H0 = permutation_cluster_test(\n"
          ]
        },
        {
          "name": "stdout",
          "output_type": "stream",
          "text": [
            "[] []\n",
            "---------------------------------------------\n",
            "class 1 and class 1 permutation cluster test\n",
            "---------------------------------------------\n",
            "stat_fun(H1): min=0.000000 max=0.000000\n",
            "Running initial clustering …\n",
            "Found 0 clusters\n"
          ]
        },
        {
          "name": "stderr",
          "output_type": "stream",
          "text": [
            "C:\\Users\\Tobii\\AppData\\Local\\Temp\\ipykernel_20164\\4159885035.py:18: RuntimeWarning: No clusters found, returning empty H0, clusters, and cluster_pv\n",
            "  F_obs, clusters, cluster_p_values, H0 = permutation_cluster_test(\n"
          ]
        },
        {
          "name": "stdout",
          "output_type": "stream",
          "text": [
            "[] []\n",
            "---------------------------------------------\n",
            "class 1 and class 2 permutation cluster test\n",
            "---------------------------------------------\n",
            "stat_fun(H1): min=0.000011 max=3.530036\n",
            "Running initial clustering …\n",
            "Found 0 clusters\n"
          ]
        },
        {
          "name": "stderr",
          "output_type": "stream",
          "text": [
            "C:\\Users\\Tobii\\AppData\\Local\\Temp\\ipykernel_20164\\4159885035.py:18: RuntimeWarning: No clusters found, returning empty H0, clusters, and cluster_pv\n",
            "  F_obs, clusters, cluster_p_values, H0 = permutation_cluster_test(\n"
          ]
        },
        {
          "name": "stdout",
          "output_type": "stream",
          "text": [
            "[] []\n",
            "---------------------------------------------\n",
            "class 1 and class 3 permutation cluster test\n",
            "---------------------------------------------\n",
            "stat_fun(H1): min=0.000001 max=6.129726\n",
            "Running initial clustering …\n",
            "Found 1 cluster\n"
          ]
        },
        {
          "name": "stderr",
          "output_type": "stream",
          "text": [
            "100%|██████████| Permuting : 99/99 [00:00<00:00,  119.42it/s]"
          ]
        },
        {
          "name": "stdout",
          "output_type": "stream",
          "text": [
            "[(slice(71, 73, None),)] [0.42]\n",
            "---------------------------------------------\n",
            "class 1 and class 4 permutation cluster test\n",
            "---------------------------------------------\n",
            "stat_fun(H1): min=0.000054 max=7.095313\n"
          ]
        },
        {
          "name": "stderr",
          "output_type": "stream",
          "text": [
            "\n"
          ]
        },
        {
          "name": "stdout",
          "output_type": "stream",
          "text": [
            "Running initial clustering …\n",
            "Found 1 cluster\n"
          ]
        },
        {
          "name": "stderr",
          "output_type": "stream",
          "text": [
            "100%|██████████| Permuting : 99/99 [00:00<00:00,  150.86it/s]\n"
          ]
        },
        {
          "name": "stdout",
          "output_type": "stream",
          "text": [
            "[(slice(64, 68, None),)] [0.22]\n",
            "---------------------------------------------\n",
            "class 1 and class 5 permutation cluster test\n",
            "---------------------------------------------\n",
            "stat_fun(H1): min=0.000000 max=5.404176\n",
            "Running initial clustering …\n",
            "Found 0 clusters\n",
            "[] []\n",
            "---------------------------------------------\n",
            "class 1 and class 6 permutation cluster test\n",
            "---------------------------------------------\n",
            "stat_fun(H1): min=0.000010 max=3.599284\n",
            "Running initial clustering …\n",
            "Found 0 clusters\n"
          ]
        },
        {
          "name": "stderr",
          "output_type": "stream",
          "text": [
            "C:\\Users\\Tobii\\AppData\\Local\\Temp\\ipykernel_20164\\4159885035.py:18: RuntimeWarning: No clusters found, returning empty H0, clusters, and cluster_pv\n",
            "  F_obs, clusters, cluster_p_values, H0 = permutation_cluster_test(\n",
            "C:\\Users\\Tobii\\AppData\\Local\\Temp\\ipykernel_20164\\4159885035.py:18: RuntimeWarning: No clusters found, returning empty H0, clusters, and cluster_pv\n",
            "  F_obs, clusters, cluster_p_values, H0 = permutation_cluster_test(\n"
          ]
        },
        {
          "name": "stdout",
          "output_type": "stream",
          "text": [
            "[] []\n",
            "---------------------------------------------\n",
            "class 2 and class 0 permutation cluster test\n",
            "---------------------------------------------\n",
            "stat_fun(H1): min=0.000001 max=9.352970\n",
            "Running initial clustering …\n",
            "Found 1 cluster\n"
          ]
        },
        {
          "name": "stderr",
          "output_type": "stream",
          "text": [
            "100%|██████████| Permuting : 99/99 [00:01<00:00,   91.50it/s]\n"
          ]
        },
        {
          "name": "stdout",
          "output_type": "stream",
          "text": [
            "[(slice(290, 300, None),)] [0.07]\n",
            "---------------------------------------------\n",
            "class 2 and class 1 permutation cluster test\n",
            "---------------------------------------------\n",
            "stat_fun(H1): min=0.000011 max=3.530036\n",
            "Running initial clustering …\n",
            "Found 0 clusters\n"
          ]
        },
        {
          "name": "stderr",
          "output_type": "stream",
          "text": [
            "C:\\Users\\Tobii\\AppData\\Local\\Temp\\ipykernel_20164\\4159885035.py:18: RuntimeWarning: No clusters found, returning empty H0, clusters, and cluster_pv\n",
            "  F_obs, clusters, cluster_p_values, H0 = permutation_cluster_test(\n"
          ]
        },
        {
          "name": "stdout",
          "output_type": "stream",
          "text": [
            "[] []\n",
            "---------------------------------------------\n",
            "class 2 and class 2 permutation cluster test\n",
            "---------------------------------------------\n",
            "stat_fun(H1): min=0.000000 max=0.000000\n",
            "Running initial clustering …\n",
            "Found 0 clusters\n"
          ]
        },
        {
          "name": "stderr",
          "output_type": "stream",
          "text": [
            "C:\\Users\\Tobii\\AppData\\Local\\Temp\\ipykernel_20164\\4159885035.py:18: RuntimeWarning: No clusters found, returning empty H0, clusters, and cluster_pv\n",
            "  F_obs, clusters, cluster_p_values, H0 = permutation_cluster_test(\n"
          ]
        },
        {
          "name": "stdout",
          "output_type": "stream",
          "text": [
            "[] []\n",
            "---------------------------------------------\n",
            "class 2 and class 3 permutation cluster test\n",
            "---------------------------------------------\n",
            "stat_fun(H1): min=0.000041 max=9.357480\n",
            "Running initial clustering …\n",
            "Found 3 clusters\n"
          ]
        },
        {
          "name": "stderr",
          "output_type": "stream",
          "text": [
            "100%|██████████| Permuting : 99/99 [00:00<00:00,  119.99it/s]\n"
          ]
        },
        {
          "name": "stdout",
          "output_type": "stream",
          "text": [
            "[(slice(14, 21, None),), (slice(71, 82, None),), (slice(84, 85, None),)] [0.12 0.08 0.56]\n",
            "---------------------------------------------\n",
            "class 2 and class 4 permutation cluster test\n",
            "---------------------------------------------\n",
            "stat_fun(H1): min=0.000000 max=7.456417\n",
            "Running initial clustering …\n",
            "Found 2 clusters\n"
          ]
        },
        {
          "name": "stderr",
          "output_type": "stream",
          "text": [
            "100%|██████████| Permuting : 99/99 [00:00<00:00,  145.10it/s]\n"
          ]
        },
        {
          "name": "stdout",
          "output_type": "stream",
          "text": [
            "[(slice(76, 77, None),), (slice(237, 239, None),)] [0.52 0.47]\n",
            "---------------------------------------------\n",
            "class 2 and class 5 permutation cluster test\n",
            "---------------------------------------------\n",
            "stat_fun(H1): min=0.000004 max=7.678888\n",
            "Running initial clustering …\n",
            "Found 3 clusters\n"
          ]
        },
        {
          "name": "stderr",
          "output_type": "stream",
          "text": [
            "100%|██████████| Permuting : 99/99 [00:00<00:00,  339.92it/s]"
          ]
        },
        {
          "name": "stdout",
          "output_type": "stream",
          "text": [
            "[(slice(135, 139, None),), (slice(141, 144, None),), (slice(231, 232, None),)] [0.29 0.31 0.37]\n",
            "---------------------------------------------\n",
            "class 2 and class 6 permutation cluster test\n",
            "---------------------------------------------\n",
            "stat_fun(H1): min=0.000002 max=4.594075\n"
          ]
        },
        {
          "name": "stderr",
          "output_type": "stream",
          "text": [
            "\n"
          ]
        },
        {
          "name": "stdout",
          "output_type": "stream",
          "text": [
            "Running initial clustering …\n",
            "Found 0 clusters\n"
          ]
        },
        {
          "name": "stderr",
          "output_type": "stream",
          "text": [
            "C:\\Users\\Tobii\\AppData\\Local\\Temp\\ipykernel_20164\\4159885035.py:18: RuntimeWarning: No clusters found, returning empty H0, clusters, and cluster_pv\n",
            "  F_obs, clusters, cluster_p_values, H0 = permutation_cluster_test(\n"
          ]
        },
        {
          "name": "stdout",
          "output_type": "stream",
          "text": [
            "[] []\n",
            "---------------------------------------------\n",
            "class 3 and class 0 permutation cluster test\n",
            "---------------------------------------------\n",
            "stat_fun(H1): min=0.000056 max=7.820624\n",
            "Running initial clustering …\n",
            "Found 4 clusters\n"
          ]
        },
        {
          "name": "stderr",
          "output_type": "stream",
          "text": [
            "100%|██████████| Permuting : 99/99 [00:00<00:00,  118.12it/s]\n"
          ]
        },
        {
          "name": "stdout",
          "output_type": "stream",
          "text": [
            "[(slice(199, 200, None),), (slice(202, 203, None),), (slice(290, 295, None),), (slice(297, 300, None),)] [0.49 0.49 0.18 0.28]\n",
            "---------------------------------------------\n",
            "class 3 and class 1 permutation cluster test\n",
            "---------------------------------------------\n",
            "stat_fun(H1): min=0.000001 max=6.129726\n",
            "Running initial clustering …\n",
            "Found 1 cluster\n"
          ]
        },
        {
          "name": "stderr",
          "output_type": "stream",
          "text": [
            "100%|██████████| Permuting : 99/99 [00:00<00:00,  104.31it/s]\n"
          ]
        },
        {
          "name": "stdout",
          "output_type": "stream",
          "text": [
            "[(slice(71, 73, None),)] [0.37]\n",
            "---------------------------------------------\n",
            "class 3 and class 2 permutation cluster test\n",
            "---------------------------------------------\n",
            "stat_fun(H1): min=0.000041 max=9.357480\n",
            "Running initial clustering …\n",
            "Found 3 clusters\n"
          ]
        },
        {
          "name": "stderr",
          "output_type": "stream",
          "text": [
            "100%|██████████| Permuting : 99/99 [00:00<00:00,  110.35it/s]\n"
          ]
        },
        {
          "name": "stdout",
          "output_type": "stream",
          "text": [
            "[(slice(14, 21, None),), (slice(71, 82, None),), (slice(84, 85, None),)] [0.14 0.08 0.56]\n",
            "---------------------------------------------\n",
            "class 3 and class 3 permutation cluster test\n",
            "---------------------------------------------\n",
            "stat_fun(H1): min=0.000000 max=0.000000\n",
            "Running initial clustering …\n",
            "Found 0 clusters\n"
          ]
        },
        {
          "name": "stderr",
          "output_type": "stream",
          "text": [
            "C:\\Users\\Tobii\\AppData\\Local\\Temp\\ipykernel_20164\\4159885035.py:18: RuntimeWarning: No clusters found, returning empty H0, clusters, and cluster_pv\n",
            "  F_obs, clusters, cluster_p_values, H0 = permutation_cluster_test(\n"
          ]
        },
        {
          "name": "stdout",
          "output_type": "stream",
          "text": [
            "[] []\n",
            "---------------------------------------------\n",
            "class 3 and class 4 permutation cluster test\n",
            "---------------------------------------------\n",
            "stat_fun(H1): min=0.000008 max=4.965569\n",
            "Running initial clustering …\n",
            "Found 0 clusters\n"
          ]
        },
        {
          "name": "stderr",
          "output_type": "stream",
          "text": [
            "C:\\Users\\Tobii\\AppData\\Local\\Temp\\ipykernel_20164\\4159885035.py:18: RuntimeWarning: No clusters found, returning empty H0, clusters, and cluster_pv\n",
            "  F_obs, clusters, cluster_p_values, H0 = permutation_cluster_test(\n"
          ]
        },
        {
          "name": "stdout",
          "output_type": "stream",
          "text": [
            "[] []\n",
            "---------------------------------------------\n",
            "class 3 and class 5 permutation cluster test\n",
            "---------------------------------------------\n",
            "stat_fun(H1): min=0.000051 max=7.589194\n",
            "Running initial clustering …\n",
            "Found 2 clusters\n"
          ]
        },
        {
          "name": "stderr",
          "output_type": "stream",
          "text": [
            "100%|██████████| Permuting : 99/99 [00:00<00:00,  357.26it/s]\n"
          ]
        },
        {
          "name": "stdout",
          "output_type": "stream",
          "text": [
            "[(slice(284, 285, None),), (slice(286, 289, None),)] [0.47 0.26]\n",
            "---------------------------------------------\n",
            "class 3 and class 6 permutation cluster test\n",
            "---------------------------------------------\n",
            "stat_fun(H1): min=-0.000000 max=5.004672\n",
            "Running initial clustering …\n",
            "Found 0 clusters\n"
          ]
        },
        {
          "name": "stderr",
          "output_type": "stream",
          "text": [
            "C:\\Users\\Tobii\\AppData\\Local\\Temp\\ipykernel_20164\\4159885035.py:18: RuntimeWarning: No clusters found, returning empty H0, clusters, and cluster_pv\n",
            "  F_obs, clusters, cluster_p_values, H0 = permutation_cluster_test(\n"
          ]
        },
        {
          "name": "stdout",
          "output_type": "stream",
          "text": [
            "[] []\n",
            "---------------------------------------------\n",
            "class 4 and class 0 permutation cluster test\n",
            "---------------------------------------------\n",
            "stat_fun(H1): min=0.000109 max=8.124741\n",
            "Running initial clustering …\n",
            "Found 6 clusters\n"
          ]
        },
        {
          "name": "stderr",
          "output_type": "stream",
          "text": [
            "100%|██████████| Permuting : 99/99 [00:00<00:00,  147.70it/s]\n"
          ]
        },
        {
          "name": "stdout",
          "output_type": "stream",
          "text": [
            "[(slice(36, 37, None),), (slice(40, 44, None),), (slice(45, 46, None),), (slice(48, 49, None),), (slice(50, 51, None),), (slice(237, 239, None),)] [0.57 0.29 0.49 0.45 0.52 0.43]\n",
            "---------------------------------------------\n",
            "class 4 and class 1 permutation cluster test\n",
            "---------------------------------------------\n",
            "stat_fun(H1): min=0.000054 max=7.095313\n",
            "Running initial clustering …\n",
            "Found 1 cluster\n"
          ]
        },
        {
          "name": "stderr",
          "output_type": "stream",
          "text": [
            "100%|██████████| Permuting : 99/99 [00:00<00:00,  143.28it/s]\n"
          ]
        },
        {
          "name": "stdout",
          "output_type": "stream",
          "text": [
            "[(slice(64, 68, None),)] [0.26]\n",
            "---------------------------------------------\n",
            "class 4 and class 2 permutation cluster test\n",
            "---------------------------------------------\n",
            "stat_fun(H1): min=0.000000 max=7.456417\n",
            "Running initial clustering …\n",
            "Found 2 clusters\n"
          ]
        },
        {
          "name": "stderr",
          "output_type": "stream",
          "text": [
            "100%|██████████| Permuting : 99/99 [00:00<00:00,  141.93it/s]\n"
          ]
        },
        {
          "name": "stdout",
          "output_type": "stream",
          "text": [
            "[(slice(76, 77, None),), (slice(237, 239, None),)] [0.51 0.41]\n",
            "---------------------------------------------\n",
            "class 4 and class 3 permutation cluster test\n",
            "---------------------------------------------\n",
            "stat_fun(H1): min=0.000008 max=4.965569\n",
            "Running initial clustering …\n",
            "Found 0 clusters\n",
            "[] []\n",
            "---------------------------------------------\n",
            "class 4 and class 4 permutation cluster test\n",
            "---------------------------------------------\n",
            "stat_fun(H1): min=0.000000 max=0.000000\n"
          ]
        },
        {
          "name": "stderr",
          "output_type": "stream",
          "text": [
            "C:\\Users\\Tobii\\AppData\\Local\\Temp\\ipykernel_20164\\4159885035.py:18: RuntimeWarning: No clusters found, returning empty H0, clusters, and cluster_pv\n",
            "  F_obs, clusters, cluster_p_values, H0 = permutation_cluster_test(\n"
          ]
        },
        {
          "name": "stdout",
          "output_type": "stream",
          "text": [
            "Running initial clustering …\n",
            "Found 0 clusters\n"
          ]
        },
        {
          "name": "stderr",
          "output_type": "stream",
          "text": [
            "C:\\Users\\Tobii\\AppData\\Local\\Temp\\ipykernel_20164\\4159885035.py:18: RuntimeWarning: No clusters found, returning empty H0, clusters, and cluster_pv\n",
            "  F_obs, clusters, cluster_p_values, H0 = permutation_cluster_test(\n"
          ]
        },
        {
          "name": "stdout",
          "output_type": "stream",
          "text": [
            "[] []\n",
            "---------------------------------------------\n",
            "class 4 and class 5 permutation cluster test\n",
            "---------------------------------------------\n",
            "stat_fun(H1): min=0.000019 max=3.779228\n",
            "Running initial clustering …\n",
            "Found 0 clusters\n"
          ]
        },
        {
          "name": "stderr",
          "output_type": "stream",
          "text": [
            "C:\\Users\\Tobii\\AppData\\Local\\Temp\\ipykernel_20164\\4159885035.py:18: RuntimeWarning: No clusters found, returning empty H0, clusters, and cluster_pv\n",
            "  F_obs, clusters, cluster_p_values, H0 = permutation_cluster_test(\n"
          ]
        },
        {
          "name": "stdout",
          "output_type": "stream",
          "text": [
            "[] []\n",
            "---------------------------------------------\n",
            "class 4 and class 6 permutation cluster test\n",
            "---------------------------------------------\n",
            "stat_fun(H1): min=0.000000 max=3.078896\n",
            "Running initial clustering …\n",
            "Found 0 clusters\n"
          ]
        },
        {
          "name": "stderr",
          "output_type": "stream",
          "text": [
            "C:\\Users\\Tobii\\AppData\\Local\\Temp\\ipykernel_20164\\4159885035.py:18: RuntimeWarning: No clusters found, returning empty H0, clusters, and cluster_pv\n",
            "  F_obs, clusters, cluster_p_values, H0 = permutation_cluster_test(\n"
          ]
        },
        {
          "name": "stdout",
          "output_type": "stream",
          "text": [
            "[] []\n",
            "---------------------------------------------\n",
            "class 5 and class 0 permutation cluster test\n",
            "---------------------------------------------\n",
            "stat_fun(H1): min=0.000651 max=8.073733\n",
            "Running initial clustering …\n",
            "Found 1 cluster\n"
          ]
        },
        {
          "name": "stderr",
          "output_type": "stream",
          "text": [
            "100%|██████████| Permuting : 99/99 [00:00<00:00,  308.31it/s]\n"
          ]
        },
        {
          "name": "stdout",
          "output_type": "stream",
          "text": [
            "[(slice(93, 96, None),)] [0.37]\n",
            "---------------------------------------------\n",
            "class 5 and class 1 permutation cluster test\n",
            "---------------------------------------------\n",
            "stat_fun(H1): min=0.000000 max=5.404176\n",
            "Running initial clustering …\n",
            "Found 0 clusters\n"
          ]
        },
        {
          "name": "stderr",
          "output_type": "stream",
          "text": [
            "C:\\Users\\Tobii\\AppData\\Local\\Temp\\ipykernel_20164\\4159885035.py:18: RuntimeWarning: No clusters found, returning empty H0, clusters, and cluster_pv\n",
            "  F_obs, clusters, cluster_p_values, H0 = permutation_cluster_test(\n"
          ]
        },
        {
          "name": "stdout",
          "output_type": "stream",
          "text": [
            "[] []\n",
            "---------------------------------------------\n",
            "class 5 and class 2 permutation cluster test\n",
            "---------------------------------------------\n",
            "stat_fun(H1): min=0.000004 max=7.678888\n",
            "Running initial clustering …\n",
            "Found 3 clusters\n"
          ]
        },
        {
          "name": "stderr",
          "output_type": "stream",
          "text": [
            "100%|██████████| Permuting : 99/99 [00:00<00:00,  334.13it/s]"
          ]
        },
        {
          "name": "stdout",
          "output_type": "stream",
          "text": [
            "[(slice(135, 139, None),), (slice(141, 144, None),), (slice(231, 232, None),)] [0.26 0.38 0.46]\n",
            "---------------------------------------------\n",
            "class 5 and class 3 permutation cluster test\n",
            "---------------------------------------------\n",
            "stat_fun(H1): min=0.000051 max=7.589194\n"
          ]
        },
        {
          "name": "stderr",
          "output_type": "stream",
          "text": [
            "\n"
          ]
        },
        {
          "name": "stdout",
          "output_type": "stream",
          "text": [
            "Running initial clustering …\n",
            "Found 2 clusters\n"
          ]
        },
        {
          "name": "stderr",
          "output_type": "stream",
          "text": [
            "100%|██████████| Permuting : 99/99 [00:00<00:00,  335.84it/s]"
          ]
        },
        {
          "name": "stdout",
          "output_type": "stream",
          "text": [
            "[(slice(284, 285, None),), (slice(286, 289, None),)] [0.55 0.36]\n",
            "---------------------------------------------\n",
            "class 5 and class 4 permutation cluster test\n",
            "---------------------------------------------\n",
            "stat_fun(H1): min=0.000019 max=3.779228\n"
          ]
        },
        {
          "name": "stderr",
          "output_type": "stream",
          "text": [
            "\n"
          ]
        },
        {
          "name": "stdout",
          "output_type": "stream",
          "text": [
            "Running initial clustering …\n",
            "Found 0 clusters\n",
            "[] []\n",
            "---------------------------------------------\n",
            "class 5 and class 5 permutation cluster test\n",
            "---------------------------------------------\n",
            "stat_fun(H1): min=0.000000 max=0.000000\n"
          ]
        },
        {
          "name": "stderr",
          "output_type": "stream",
          "text": [
            "C:\\Users\\Tobii\\AppData\\Local\\Temp\\ipykernel_20164\\4159885035.py:18: RuntimeWarning: No clusters found, returning empty H0, clusters, and cluster_pv\n",
            "  F_obs, clusters, cluster_p_values, H0 = permutation_cluster_test(\n"
          ]
        },
        {
          "name": "stdout",
          "output_type": "stream",
          "text": [
            "Running initial clustering …\n",
            "Found 0 clusters\n",
            "[] []\n",
            "---------------------------------------------\n",
            "class 5 and class 6 permutation cluster test\n",
            "---------------------------------------------\n",
            "stat_fun(H1): min=0.000000 max=3.164928\n",
            "Running initial clustering …\n",
            "Found 0 clusters\n"
          ]
        },
        {
          "name": "stderr",
          "output_type": "stream",
          "text": [
            "C:\\Users\\Tobii\\AppData\\Local\\Temp\\ipykernel_20164\\4159885035.py:18: RuntimeWarning: No clusters found, returning empty H0, clusters, and cluster_pv\n",
            "  F_obs, clusters, cluster_p_values, H0 = permutation_cluster_test(\n",
            "C:\\Users\\Tobii\\AppData\\Local\\Temp\\ipykernel_20164\\4159885035.py:18: RuntimeWarning: No clusters found, returning empty H0, clusters, and cluster_pv\n",
            "  F_obs, clusters, cluster_p_values, H0 = permutation_cluster_test(\n"
          ]
        },
        {
          "name": "stdout",
          "output_type": "stream",
          "text": [
            "[] []\n",
            "---------------------------------------------\n",
            "class 6 and class 0 permutation cluster test\n",
            "---------------------------------------------\n",
            "stat_fun(H1): min=0.000287 max=11.020069\n",
            "Running initial clustering …\n",
            "Found 3 clusters\n"
          ]
        },
        {
          "name": "stderr",
          "output_type": "stream",
          "text": [
            "100%|██████████| Permuting : 99/99 [00:00<00:00,  608.96it/s]"
          ]
        },
        {
          "name": "stdout",
          "output_type": "stream",
          "text": [
            "[(slice(163, 172, None),), (slice(182, 185, None),), (slice(253, 255, None),)] [0.08 0.31 0.41]\n",
            "---------------------------------------------\n",
            "class 6 and class 1 permutation cluster test\n",
            "---------------------------------------------\n"
          ]
        },
        {
          "name": "stderr",
          "output_type": "stream",
          "text": [
            "\n"
          ]
        },
        {
          "name": "stdout",
          "output_type": "stream",
          "text": [
            "stat_fun(H1): min=0.000010 max=3.599284\n",
            "Running initial clustering …\n",
            "Found 0 clusters\n"
          ]
        },
        {
          "name": "stderr",
          "output_type": "stream",
          "text": [
            "C:\\Users\\Tobii\\AppData\\Local\\Temp\\ipykernel_20164\\4159885035.py:18: RuntimeWarning: No clusters found, returning empty H0, clusters, and cluster_pv\n",
            "  F_obs, clusters, cluster_p_values, H0 = permutation_cluster_test(\n"
          ]
        },
        {
          "name": "stdout",
          "output_type": "stream",
          "text": [
            "[] []\n",
            "---------------------------------------------\n",
            "class 6 and class 2 permutation cluster test\n",
            "---------------------------------------------\n",
            "stat_fun(H1): min=0.000002 max=4.594075\n",
            "Running initial clustering …\n",
            "Found 0 clusters\n",
            "[] []\n",
            "---------------------------------------------\n",
            "class 6 and class 3 permutation cluster test\n",
            "---------------------------------------------\n",
            "stat_fun(H1): min=-0.000000 max=5.004672\n"
          ]
        },
        {
          "name": "stderr",
          "output_type": "stream",
          "text": [
            "C:\\Users\\Tobii\\AppData\\Local\\Temp\\ipykernel_20164\\4159885035.py:18: RuntimeWarning: No clusters found, returning empty H0, clusters, and cluster_pv\n",
            "  F_obs, clusters, cluster_p_values, H0 = permutation_cluster_test(\n"
          ]
        },
        {
          "name": "stdout",
          "output_type": "stream",
          "text": [
            "Running initial clustering …\n",
            "Found 0 clusters\n",
            "[] []\n",
            "---------------------------------------------\n",
            "class 6 and class 4 permutation cluster test\n",
            "---------------------------------------------\n",
            "stat_fun(H1): min=0.000000 max=3.078896\n",
            "Running initial clustering …\n",
            "Found 0 clusters\n",
            "[] []\n",
            "---------------------------------------------\n",
            "class 6 and class 5 permutation cluster test\n",
            "---------------------------------------------\n",
            "stat_fun(H1): min=0.000000 max=3.164928\n"
          ]
        },
        {
          "name": "stderr",
          "output_type": "stream",
          "text": [
            "C:\\Users\\Tobii\\AppData\\Local\\Temp\\ipykernel_20164\\4159885035.py:18: RuntimeWarning: No clusters found, returning empty H0, clusters, and cluster_pv\n",
            "  F_obs, clusters, cluster_p_values, H0 = permutation_cluster_test(\n",
            "C:\\Users\\Tobii\\AppData\\Local\\Temp\\ipykernel_20164\\4159885035.py:18: RuntimeWarning: No clusters found, returning empty H0, clusters, and cluster_pv\n",
            "  F_obs, clusters, cluster_p_values, H0 = permutation_cluster_test(\n"
          ]
        },
        {
          "name": "stdout",
          "output_type": "stream",
          "text": [
            "Running initial clustering …\n",
            "Found 0 clusters\n",
            "[] []\n",
            "---------------------------------------------\n",
            "class 6 and class 6 permutation cluster test\n",
            "---------------------------------------------\n",
            "stat_fun(H1): min=0.000000 max=0.000000\n"
          ]
        },
        {
          "name": "stderr",
          "output_type": "stream",
          "text": [
            "C:\\Users\\Tobii\\AppData\\Local\\Temp\\ipykernel_20164\\4159885035.py:18: RuntimeWarning: No clusters found, returning empty H0, clusters, and cluster_pv\n",
            "  F_obs, clusters, cluster_p_values, H0 = permutation_cluster_test(\n"
          ]
        },
        {
          "name": "stdout",
          "output_type": "stream",
          "text": [
            "Running initial clustering …\n",
            "Found 0 clusters\n",
            "[] []\n",
            "--------------------------------------------------FEATURE 1-----------------------------------------------------\n",
            "---------------------------------------------\n",
            "class 0 and class 0 permutation cluster test\n",
            "---------------------------------------------\n"
          ]
        },
        {
          "name": "stderr",
          "output_type": "stream",
          "text": [
            "C:\\Users\\Tobii\\AppData\\Local\\Temp\\ipykernel_20164\\4159885035.py:18: RuntimeWarning: No clusters found, returning empty H0, clusters, and cluster_pv\n",
            "  F_obs, clusters, cluster_p_values, H0 = permutation_cluster_test(\n"
          ]
        },
        {
          "name": "stdout",
          "output_type": "stream",
          "text": [
            "stat_fun(H1): min=0.000000 max=0.000000\n",
            "Running initial clustering …\n",
            "Found 0 clusters\n",
            "[] []\n",
            "---------------------------------------------\n",
            "class 0 and class 1 permutation cluster test\n",
            "---------------------------------------------\n"
          ]
        },
        {
          "name": "stderr",
          "output_type": "stream",
          "text": [
            "C:\\Users\\Tobii\\AppData\\Local\\Temp\\ipykernel_20164\\4159885035.py:18: RuntimeWarning: No clusters found, returning empty H0, clusters, and cluster_pv\n",
            "  F_obs, clusters, cluster_p_values, H0 = permutation_cluster_test(\n"
          ]
        },
        {
          "name": "stdout",
          "output_type": "stream",
          "text": [
            "stat_fun(H1): min=0.000001 max=3.708083\n",
            "Running initial clustering …\n",
            "Found 0 clusters\n",
            "[] []\n",
            "---------------------------------------------\n",
            "class 0 and class 2 permutation cluster test\n",
            "---------------------------------------------\n",
            "stat_fun(H1): min=0.000000 max=4.136782\n",
            "Running initial clustering …\n",
            "Found 0 clusters\n",
            "[] []\n",
            "---------------------------------------------\n",
            "class 0 and class 3 permutation cluster test\n",
            "---------------------------------------------\n",
            "stat_fun(H1): min=0.000004 max=6.395873\n"
          ]
        },
        {
          "name": "stderr",
          "output_type": "stream",
          "text": [
            "C:\\Users\\Tobii\\AppData\\Local\\Temp\\ipykernel_20164\\4159885035.py:18: RuntimeWarning: No clusters found, returning empty H0, clusters, and cluster_pv\n",
            "  F_obs, clusters, cluster_p_values, H0 = permutation_cluster_test(\n",
            "C:\\Users\\Tobii\\AppData\\Local\\Temp\\ipykernel_20164\\4159885035.py:18: RuntimeWarning: No clusters found, returning empty H0, clusters, and cluster_pv\n",
            "  F_obs, clusters, cluster_p_values, H0 = permutation_cluster_test(\n"
          ]
        },
        {
          "name": "stdout",
          "output_type": "stream",
          "text": [
            "Running initial clustering …\n",
            "Found 2 clusters\n"
          ]
        },
        {
          "name": "stderr",
          "output_type": "stream",
          "text": [
            "100%|██████████| Permuting : 99/99 [00:00<00:00,  111.72it/s]"
          ]
        },
        {
          "name": "stdout",
          "output_type": "stream",
          "text": [
            "[(slice(257, 258, None),), (slice(296, 297, None),)] [0.51 0.55]\n",
            "---------------------------------------------\n",
            "class 0 and class 4 permutation cluster test\n",
            "---------------------------------------------\n",
            "stat_fun(H1): min=0.000057 max=5.980596\n"
          ]
        },
        {
          "name": "stderr",
          "output_type": "stream",
          "text": [
            "\n"
          ]
        },
        {
          "name": "stdout",
          "output_type": "stream",
          "text": [
            "Running initial clustering …\n",
            "Found 0 clusters\n"
          ]
        },
        {
          "name": "stderr",
          "output_type": "stream",
          "text": [
            "C:\\Users\\Tobii\\AppData\\Local\\Temp\\ipykernel_20164\\4159885035.py:18: RuntimeWarning: No clusters found, returning empty H0, clusters, and cluster_pv\n",
            "  F_obs, clusters, cluster_p_values, H0 = permutation_cluster_test(\n"
          ]
        },
        {
          "name": "stdout",
          "output_type": "stream",
          "text": [
            "[] []\n",
            "---------------------------------------------\n",
            "class 0 and class 5 permutation cluster test\n",
            "---------------------------------------------\n",
            "stat_fun(H1): min=0.000003 max=4.161851\n",
            "Running initial clustering …\n",
            "Found 0 clusters\n",
            "[] []\n",
            "---------------------------------------------\n",
            "class 0 and class 6 permutation cluster test\n",
            "---------------------------------------------\n",
            "stat_fun(H1): min=0.000199 max=8.410573\n",
            "Running initial clustering …\n",
            "Found 1 cluster\n"
          ]
        },
        {
          "name": "stderr",
          "output_type": "stream",
          "text": [
            "C:\\Users\\Tobii\\AppData\\Local\\Temp\\ipykernel_20164\\4159885035.py:18: RuntimeWarning: No clusters found, returning empty H0, clusters, and cluster_pv\n",
            "  F_obs, clusters, cluster_p_values, H0 = permutation_cluster_test(\n",
            "100%|██████████| Permuting : 99/99 [00:00<00:00,  504.30it/s]\n"
          ]
        },
        {
          "name": "stdout",
          "output_type": "stream",
          "text": [
            "[(slice(183, 186, None),)] [0.31]\n",
            "---------------------------------------------\n",
            "class 1 and class 0 permutation cluster test\n",
            "---------------------------------------------\n",
            "stat_fun(H1): min=0.000001 max=3.708083\n",
            "Running initial clustering …\n",
            "Found 0 clusters\n",
            "[] []\n",
            "---------------------------------------------\n",
            "class 1 and class 1 permutation cluster test\n",
            "---------------------------------------------\n",
            "stat_fun(H1): min=0.000000 max=0.000000\n",
            "Running initial clustering …\n",
            "Found 0 clusters\n",
            "[] []\n",
            "---------------------------------------------\n",
            "class 1 and class 2 permutation cluster test\n",
            "---------------------------------------------\n",
            "stat_fun(H1): min=0.000003 max=7.382293\n",
            "Running initial clustering …\n",
            "Found 3 clusters\n"
          ]
        },
        {
          "name": "stderr",
          "output_type": "stream",
          "text": [
            "C:\\Users\\Tobii\\AppData\\Local\\Temp\\ipykernel_20164\\4159885035.py:18: RuntimeWarning: No clusters found, returning empty H0, clusters, and cluster_pv\n",
            "  F_obs, clusters, cluster_p_values, H0 = permutation_cluster_test(\n",
            "C:\\Users\\Tobii\\AppData\\Local\\Temp\\ipykernel_20164\\4159885035.py:18: RuntimeWarning: No clusters found, returning empty H0, clusters, and cluster_pv\n",
            "  F_obs, clusters, cluster_p_values, H0 = permutation_cluster_test(\n",
            "100%|██████████| Permuting : 99/99 [00:01<00:00,   93.03it/s]\n"
          ]
        },
        {
          "name": "stdout",
          "output_type": "stream",
          "text": [
            "[(slice(230, 231, None),), (slice(235, 236, None),), (slice(237, 238, None),)] [0.43 0.42 0.47]\n",
            "---------------------------------------------\n",
            "class 1 and class 3 permutation cluster test\n",
            "---------------------------------------------\n",
            "stat_fun(H1): min=-0.000000 max=6.346697\n",
            "Running initial clustering …\n",
            "Found 1 cluster\n"
          ]
        },
        {
          "name": "stderr",
          "output_type": "stream",
          "text": [
            "100%|██████████| Permuting : 99/99 [00:00<00:00,  109.22it/s]\n"
          ]
        },
        {
          "name": "stdout",
          "output_type": "stream",
          "text": [
            "[(slice(278, 279, None),)] [0.52]\n",
            "---------------------------------------------\n",
            "class 1 and class 4 permutation cluster test\n",
            "---------------------------------------------\n",
            "stat_fun(H1): min=0.000095 max=5.083514\n",
            "Running initial clustering …\n",
            "Found 0 clusters\n"
          ]
        },
        {
          "name": "stderr",
          "output_type": "stream",
          "text": [
            "C:\\Users\\Tobii\\AppData\\Local\\Temp\\ipykernel_20164\\4159885035.py:18: RuntimeWarning: No clusters found, returning empty H0, clusters, and cluster_pv\n",
            "  F_obs, clusters, cluster_p_values, H0 = permutation_cluster_test(\n"
          ]
        },
        {
          "name": "stdout",
          "output_type": "stream",
          "text": [
            "[] []\n",
            "---------------------------------------------\n",
            "class 1 and class 5 permutation cluster test\n",
            "---------------------------------------------\n",
            "stat_fun(H1): min=0.000013 max=3.284007\n",
            "Running initial clustering …\n",
            "Found 0 clusters\n"
          ]
        },
        {
          "name": "stderr",
          "output_type": "stream",
          "text": [
            "C:\\Users\\Tobii\\AppData\\Local\\Temp\\ipykernel_20164\\4159885035.py:18: RuntimeWarning: No clusters found, returning empty H0, clusters, and cluster_pv\n",
            "  F_obs, clusters, cluster_p_values, H0 = permutation_cluster_test(\n"
          ]
        },
        {
          "name": "stdout",
          "output_type": "stream",
          "text": [
            "[] []\n",
            "---------------------------------------------\n",
            "class 1 and class 6 permutation cluster test\n",
            "---------------------------------------------\n",
            "stat_fun(H1): min=0.000003 max=7.480385\n",
            "Running initial clustering …\n",
            "Found 1 cluster\n"
          ]
        },
        {
          "name": "stderr",
          "output_type": "stream",
          "text": [
            "100%|██████████| Permuting : 99/99 [00:00<00:00,  520.55it/s]\n"
          ]
        },
        {
          "name": "stdout",
          "output_type": "stream",
          "text": [
            "[(slice(87, 89, None),)] [0.38]\n",
            "---------------------------------------------\n",
            "class 2 and class 0 permutation cluster test\n",
            "---------------------------------------------\n",
            "stat_fun(H1): min=0.000000 max=4.136782\n",
            "Running initial clustering …\n",
            "Found 0 clusters\n"
          ]
        },
        {
          "name": "stderr",
          "output_type": "stream",
          "text": [
            "C:\\Users\\Tobii\\AppData\\Local\\Temp\\ipykernel_20164\\4159885035.py:18: RuntimeWarning: No clusters found, returning empty H0, clusters, and cluster_pv\n",
            "  F_obs, clusters, cluster_p_values, H0 = permutation_cluster_test(\n"
          ]
        },
        {
          "name": "stdout",
          "output_type": "stream",
          "text": [
            "[] []\n",
            "---------------------------------------------\n",
            "class 2 and class 1 permutation cluster test\n",
            "---------------------------------------------\n",
            "stat_fun(H1): min=0.000003 max=7.382293\n",
            "Running initial clustering …\n",
            "Found 3 clusters\n"
          ]
        },
        {
          "name": "stderr",
          "output_type": "stream",
          "text": [
            "100%|██████████| Permuting : 99/99 [00:01<00:00,   89.77it/s]\n"
          ]
        },
        {
          "name": "stdout",
          "output_type": "stream",
          "text": [
            "[(slice(230, 231, None),), (slice(235, 236, None),), (slice(237, 238, None),)] [0.51 0.49 0.52]\n",
            "---------------------------------------------\n",
            "class 2 and class 2 permutation cluster test\n",
            "---------------------------------------------\n",
            "stat_fun(H1): min=0.000000 max=0.000000\n",
            "Running initial clustering …\n",
            "Found 0 clusters\n"
          ]
        },
        {
          "name": "stderr",
          "output_type": "stream",
          "text": [
            "C:\\Users\\Tobii\\AppData\\Local\\Temp\\ipykernel_20164\\4159885035.py:18: RuntimeWarning: No clusters found, returning empty H0, clusters, and cluster_pv\n",
            "  F_obs, clusters, cluster_p_values, H0 = permutation_cluster_test(\n"
          ]
        },
        {
          "name": "stdout",
          "output_type": "stream",
          "text": [
            "[] []\n",
            "---------------------------------------------\n",
            "class 2 and class 3 permutation cluster test\n",
            "---------------------------------------------\n",
            "stat_fun(H1): min=0.000039 max=4.708766\n",
            "Running initial clustering …\n",
            "Found 0 clusters\n"
          ]
        },
        {
          "name": "stderr",
          "output_type": "stream",
          "text": [
            "C:\\Users\\Tobii\\AppData\\Local\\Temp\\ipykernel_20164\\4159885035.py:18: RuntimeWarning: No clusters found, returning empty H0, clusters, and cluster_pv\n",
            "  F_obs, clusters, cluster_p_values, H0 = permutation_cluster_test(\n"
          ]
        },
        {
          "name": "stdout",
          "output_type": "stream",
          "text": [
            "[] []\n",
            "---------------------------------------------\n",
            "class 2 and class 4 permutation cluster test\n",
            "---------------------------------------------\n",
            "stat_fun(H1): min=0.000000 max=5.723693\n",
            "Running initial clustering …\n",
            "Found 0 clusters\n",
            "[] []\n",
            "---------------------------------------------\n",
            "class 2 and class 5 permutation cluster test\n",
            "---------------------------------------------\n",
            "stat_fun(H1): min=0.000001 max=11.719936\n",
            "Running initial clustering …\n",
            "Found 2 clusters\n"
          ]
        },
        {
          "name": "stderr",
          "output_type": "stream",
          "text": [
            "C:\\Users\\Tobii\\AppData\\Local\\Temp\\ipykernel_20164\\4159885035.py:18: RuntimeWarning: No clusters found, returning empty H0, clusters, and cluster_pv\n",
            "  F_obs, clusters, cluster_p_values, H0 = permutation_cluster_test(\n",
            "100%|██████████| Permuting : 99/99 [00:00<00:00,  374.91it/s]"
          ]
        },
        {
          "name": "stdout",
          "output_type": "stream",
          "text": [
            "[(slice(125, 129, None),), (slice(135, 152, None),)] [0.22 0.02]\n",
            "---------------------------------------------\n",
            "class 2 and class 6 permutation cluster test\n",
            "---------------------------------------------\n",
            "stat_fun(H1): min=0.000039 max=10.192867\n",
            "Running initial clustering …\n",
            "Found 3 clusters\n"
          ]
        },
        {
          "name": "stderr",
          "output_type": "stream",
          "text": [
            "\n",
            "100%|██████████| Permuting : 99/99 [00:00<00:00,  547.74it/s]\n"
          ]
        },
        {
          "name": "stdout",
          "output_type": "stream",
          "text": [
            "[(slice(51, 54, None),), (slice(118, 122, None),), (slice(123, 129, None),)] [0.27 0.21 0.11]\n",
            "---------------------------------------------\n",
            "class 3 and class 0 permutation cluster test\n",
            "---------------------------------------------\n",
            "stat_fun(H1): min=0.000004 max=6.395873\n",
            "Running initial clustering …\n",
            "Found 2 clusters\n"
          ]
        },
        {
          "name": "stderr",
          "output_type": "stream",
          "text": [
            "100%|██████████| Permuting : 99/99 [00:00<00:00,  106.80it/s]\n"
          ]
        },
        {
          "name": "stdout",
          "output_type": "stream",
          "text": [
            "[(slice(257, 258, None),), (slice(296, 297, None),)] [0.49 0.55]\n",
            "---------------------------------------------\n",
            "class 3 and class 1 permutation cluster test\n",
            "---------------------------------------------\n",
            "stat_fun(H1): min=-0.000000 max=6.346697\n",
            "Running initial clustering …\n",
            "Found 1 cluster\n"
          ]
        },
        {
          "name": "stderr",
          "output_type": "stream",
          "text": [
            "100%|██████████| Permuting : 99/99 [00:00<00:00,   99.26it/s]\n"
          ]
        },
        {
          "name": "stdout",
          "output_type": "stream",
          "text": [
            "[(slice(278, 279, None),)] [0.54]\n",
            "---------------------------------------------\n",
            "class 3 and class 2 permutation cluster test\n",
            "---------------------------------------------\n",
            "stat_fun(H1): min=0.000039 max=4.708766\n",
            "Running initial clustering …\n",
            "Found 0 clusters\n"
          ]
        },
        {
          "name": "stderr",
          "output_type": "stream",
          "text": [
            "C:\\Users\\Tobii\\AppData\\Local\\Temp\\ipykernel_20164\\4159885035.py:18: RuntimeWarning: No clusters found, returning empty H0, clusters, and cluster_pv\n",
            "  F_obs, clusters, cluster_p_values, H0 = permutation_cluster_test(\n"
          ]
        },
        {
          "name": "stdout",
          "output_type": "stream",
          "text": [
            "[] []\n",
            "---------------------------------------------\n",
            "class 3 and class 3 permutation cluster test\n",
            "---------------------------------------------\n",
            "stat_fun(H1): min=0.000000 max=0.000000\n",
            "Running initial clustering …\n",
            "Found 0 clusters\n"
          ]
        },
        {
          "name": "stderr",
          "output_type": "stream",
          "text": [
            "C:\\Users\\Tobii\\AppData\\Local\\Temp\\ipykernel_20164\\4159885035.py:18: RuntimeWarning: No clusters found, returning empty H0, clusters, and cluster_pv\n",
            "  F_obs, clusters, cluster_p_values, H0 = permutation_cluster_test(\n"
          ]
        },
        {
          "name": "stdout",
          "output_type": "stream",
          "text": [
            "[] []\n",
            "---------------------------------------------\n",
            "class 3 and class 4 permutation cluster test\n",
            "---------------------------------------------\n",
            "stat_fun(H1): min=0.000001 max=3.482719\n",
            "Running initial clustering …\n",
            "Found 0 clusters\n",
            "[] []\n",
            "---------------------------------------------\n",
            "class 3 and class 5 permutation cluster test\n",
            "---------------------------------------------\n",
            "stat_fun(H1): min=0.000004 max=7.188757\n",
            "Running initial clustering …\n",
            "Found 1 cluster\n"
          ]
        },
        {
          "name": "stderr",
          "output_type": "stream",
          "text": [
            "C:\\Users\\Tobii\\AppData\\Local\\Temp\\ipykernel_20164\\4159885035.py:18: RuntimeWarning: No clusters found, returning empty H0, clusters, and cluster_pv\n",
            "  F_obs, clusters, cluster_p_values, H0 = permutation_cluster_test(\n",
            "100%|██████████| Permuting : 99/99 [00:00<00:00,  335.87it/s]"
          ]
        },
        {
          "name": "stdout",
          "output_type": "stream",
          "text": [
            "[(slice(50, 53, None),)] [0.37]\n",
            "---------------------------------------------\n",
            "class 3 and class 6 permutation cluster test\n",
            "---------------------------------------------\n",
            "stat_fun(H1): min=0.000029 max=10.845855\n",
            "Running initial clustering …\n",
            "Found 2 clusters\n"
          ]
        },
        {
          "name": "stderr",
          "output_type": "stream",
          "text": [
            "\n",
            "100%|██████████| Permuting : 99/99 [00:00<00:00,  467.07it/s]\n"
          ]
        },
        {
          "name": "stdout",
          "output_type": "stream",
          "text": [
            "[(slice(51, 52, None),), (slice(133, 145, None),)] [0.6  0.04]\n",
            "---------------------------------------------\n",
            "class 4 and class 0 permutation cluster test\n",
            "---------------------------------------------\n",
            "stat_fun(H1): min=0.000057 max=5.980596\n",
            "Running initial clustering …\n",
            "Found 0 clusters\n",
            "[] []\n",
            "---------------------------------------------\n",
            "class 4 and class 1 permutation cluster test\n",
            "---------------------------------------------\n",
            "stat_fun(H1): min=0.000095 max=5.083514\n"
          ]
        },
        {
          "name": "stderr",
          "output_type": "stream",
          "text": [
            "C:\\Users\\Tobii\\AppData\\Local\\Temp\\ipykernel_20164\\4159885035.py:18: RuntimeWarning: No clusters found, returning empty H0, clusters, and cluster_pv\n",
            "  F_obs, clusters, cluster_p_values, H0 = permutation_cluster_test(\n"
          ]
        },
        {
          "name": "stdout",
          "output_type": "stream",
          "text": [
            "Running initial clustering …\n",
            "Found 0 clusters\n"
          ]
        },
        {
          "name": "stderr",
          "output_type": "stream",
          "text": [
            "C:\\Users\\Tobii\\AppData\\Local\\Temp\\ipykernel_20164\\4159885035.py:18: RuntimeWarning: No clusters found, returning empty H0, clusters, and cluster_pv\n",
            "  F_obs, clusters, cluster_p_values, H0 = permutation_cluster_test(\n"
          ]
        },
        {
          "name": "stdout",
          "output_type": "stream",
          "text": [
            "[] []\n",
            "---------------------------------------------\n",
            "class 4 and class 2 permutation cluster test\n",
            "---------------------------------------------\n",
            "stat_fun(H1): min=0.000000 max=5.723693\n",
            "Running initial clustering …\n",
            "Found 0 clusters\n",
            "[] []\n",
            "---------------------------------------------\n",
            "class 4 and class 3 permutation cluster test\n",
            "---------------------------------------------\n",
            "stat_fun(H1): min=0.000001 max=3.482719\n",
            "Running initial clustering …\n",
            "Found 0 clusters\n",
            "[] []\n",
            "---------------------------------------------\n",
            "class 4 and class 4 permutation cluster test\n",
            "---------------------------------------------\n"
          ]
        },
        {
          "name": "stderr",
          "output_type": "stream",
          "text": [
            "C:\\Users\\Tobii\\AppData\\Local\\Temp\\ipykernel_20164\\4159885035.py:18: RuntimeWarning: No clusters found, returning empty H0, clusters, and cluster_pv\n",
            "  F_obs, clusters, cluster_p_values, H0 = permutation_cluster_test(\n",
            "C:\\Users\\Tobii\\AppData\\Local\\Temp\\ipykernel_20164\\4159885035.py:18: RuntimeWarning: No clusters found, returning empty H0, clusters, and cluster_pv\n",
            "  F_obs, clusters, cluster_p_values, H0 = permutation_cluster_test(\n"
          ]
        },
        {
          "name": "stdout",
          "output_type": "stream",
          "text": [
            "stat_fun(H1): min=0.000000 max=0.000000\n",
            "Running initial clustering …\n",
            "Found 0 clusters\n",
            "[] []\n",
            "---------------------------------------------\n",
            "class 4 and class 5 permutation cluster test\n",
            "---------------------------------------------\n",
            "stat_fun(H1): min=0.000004 max=5.549032\n"
          ]
        },
        {
          "name": "stderr",
          "output_type": "stream",
          "text": [
            "C:\\Users\\Tobii\\AppData\\Local\\Temp\\ipykernel_20164\\4159885035.py:18: RuntimeWarning: No clusters found, returning empty H0, clusters, and cluster_pv\n",
            "  F_obs, clusters, cluster_p_values, H0 = permutation_cluster_test(\n"
          ]
        },
        {
          "name": "stdout",
          "output_type": "stream",
          "text": [
            "Running initial clustering …\n",
            "Found 0 clusters\n",
            "[] []\n",
            "---------------------------------------------\n",
            "class 4 and class 6 permutation cluster test\n",
            "---------------------------------------------\n",
            "stat_fun(H1): min=0.000005 max=4.761775\n",
            "Running initial clustering …\n",
            "Found 0 clusters\n",
            "[] []\n",
            "---------------------------------------------\n",
            "class 5 and class 0 permutation cluster test\n",
            "---------------------------------------------\n",
            "stat_fun(H1): min=0.000003 max=4.161851\n"
          ]
        },
        {
          "name": "stderr",
          "output_type": "stream",
          "text": [
            "C:\\Users\\Tobii\\AppData\\Local\\Temp\\ipykernel_20164\\4159885035.py:18: RuntimeWarning: No clusters found, returning empty H0, clusters, and cluster_pv\n",
            "  F_obs, clusters, cluster_p_values, H0 = permutation_cluster_test(\n",
            "C:\\Users\\Tobii\\AppData\\Local\\Temp\\ipykernel_20164\\4159885035.py:18: RuntimeWarning: No clusters found, returning empty H0, clusters, and cluster_pv\n",
            "  F_obs, clusters, cluster_p_values, H0 = permutation_cluster_test(\n"
          ]
        },
        {
          "name": "stdout",
          "output_type": "stream",
          "text": [
            "Running initial clustering …\n",
            "Found 0 clusters\n",
            "[] []\n",
            "---------------------------------------------\n",
            "class 5 and class 1 permutation cluster test\n",
            "---------------------------------------------\n",
            "stat_fun(H1): min=0.000013 max=3.284007\n",
            "Running initial clustering …\n",
            "Found 0 clusters\n",
            "[] []\n",
            "---------------------------------------------\n",
            "class 5 and class 2 permutation cluster test\n",
            "---------------------------------------------\n",
            "stat_fun(H1): min=0.000001 max=11.719936\n"
          ]
        },
        {
          "name": "stderr",
          "output_type": "stream",
          "text": [
            "C:\\Users\\Tobii\\AppData\\Local\\Temp\\ipykernel_20164\\4159885035.py:18: RuntimeWarning: No clusters found, returning empty H0, clusters, and cluster_pv\n",
            "  F_obs, clusters, cluster_p_values, H0 = permutation_cluster_test(\n",
            "C:\\Users\\Tobii\\AppData\\Local\\Temp\\ipykernel_20164\\4159885035.py:18: RuntimeWarning: No clusters found, returning empty H0, clusters, and cluster_pv\n",
            "  F_obs, clusters, cluster_p_values, H0 = permutation_cluster_test(\n"
          ]
        },
        {
          "name": "stdout",
          "output_type": "stream",
          "text": [
            "Running initial clustering …\n",
            "Found 2 clusters\n"
          ]
        },
        {
          "name": "stderr",
          "output_type": "stream",
          "text": [
            "100%|██████████| Permuting : 99/99 [00:00<00:00,  350.13it/s]"
          ]
        },
        {
          "name": "stdout",
          "output_type": "stream",
          "text": [
            "[(slice(125, 129, None),), (slice(135, 152, None),)] [0.18 0.02]\n",
            "---------------------------------------------\n",
            "class 5 and class 3 permutation cluster test\n",
            "---------------------------------------------\n",
            "stat_fun(H1): min=0.000004 max=7.188757\n"
          ]
        },
        {
          "name": "stderr",
          "output_type": "stream",
          "text": [
            "\n"
          ]
        },
        {
          "name": "stdout",
          "output_type": "stream",
          "text": [
            "Running initial clustering …\n",
            "Found 1 cluster\n"
          ]
        },
        {
          "name": "stderr",
          "output_type": "stream",
          "text": [
            "100%|██████████| Permuting : 99/99 [00:00<00:00,  333.74it/s]\n"
          ]
        },
        {
          "name": "stdout",
          "output_type": "stream",
          "text": [
            "[(slice(50, 53, None),)] [0.38]\n",
            "---------------------------------------------\n",
            "class 5 and class 4 permutation cluster test\n",
            "---------------------------------------------\n",
            "stat_fun(H1): min=0.000004 max=5.549032\n",
            "Running initial clustering …\n",
            "Found 0 clusters\n",
            "[] []\n",
            "---------------------------------------------\n",
            "class 5 and class 5 permutation cluster test\n",
            "---------------------------------------------\n",
            "stat_fun(H1): min=0.000000 max=0.000000\n",
            "Running initial clustering …\n",
            "Found 0 clusters\n"
          ]
        },
        {
          "name": "stderr",
          "output_type": "stream",
          "text": [
            "C:\\Users\\Tobii\\AppData\\Local\\Temp\\ipykernel_20164\\4159885035.py:18: RuntimeWarning: No clusters found, returning empty H0, clusters, and cluster_pv\n",
            "  F_obs, clusters, cluster_p_values, H0 = permutation_cluster_test(\n",
            "C:\\Users\\Tobii\\AppData\\Local\\Temp\\ipykernel_20164\\4159885035.py:18: RuntimeWarning: No clusters found, returning empty H0, clusters, and cluster_pv\n",
            "  F_obs, clusters, cluster_p_values, H0 = permutation_cluster_test(\n"
          ]
        },
        {
          "name": "stdout",
          "output_type": "stream",
          "text": [
            "[] []\n",
            "---------------------------------------------\n",
            "class 5 and class 6 permutation cluster test\n",
            "---------------------------------------------\n",
            "stat_fun(H1): min=0.000000 max=9.233999\n",
            "Running initial clustering …\n",
            "Found 3 clusters\n"
          ]
        },
        {
          "name": "stderr",
          "output_type": "stream",
          "text": [
            "100%|██████████| Permuting : 99/99 [00:00<00:00,  629.38it/s]"
          ]
        },
        {
          "name": "stdout",
          "output_type": "stream",
          "text": [
            "[(slice(86, 89, None),), (slice(91, 92, None),), (slice(188, 189, None),)] [0.28 0.5  0.5 ]\n",
            "---------------------------------------------\n",
            "class 6 and class 0 permutation cluster test\n",
            "---------------------------------------------\n"
          ]
        },
        {
          "name": "stderr",
          "output_type": "stream",
          "text": [
            "\n"
          ]
        },
        {
          "name": "stdout",
          "output_type": "stream",
          "text": [
            "stat_fun(H1): min=0.000199 max=8.410573\n",
            "Running initial clustering …\n",
            "Found 1 cluster\n"
          ]
        },
        {
          "name": "stderr",
          "output_type": "stream",
          "text": [
            "100%|██████████| Permuting : 99/99 [00:00<00:00,  542.78it/s]"
          ]
        },
        {
          "name": "stdout",
          "output_type": "stream",
          "text": [
            "[(slice(183, 186, None),)] [0.37]\n",
            "---------------------------------------------\n",
            "class 6 and class 1 permutation cluster test\n",
            "---------------------------------------------\n",
            "stat_fun(H1): min=0.000003 max=7.480385\n",
            "Running initial clustering …\n",
            "Found 1 cluster\n"
          ]
        },
        {
          "name": "stderr",
          "output_type": "stream",
          "text": [
            "\n",
            "100%|██████████| Permuting : 99/99 [00:00<00:00,  633.39it/s]"
          ]
        },
        {
          "name": "stdout",
          "output_type": "stream",
          "text": [
            "[(slice(87, 89, None),)] [0.39]\n",
            "---------------------------------------------\n",
            "class 6 and class 2 permutation cluster test\n",
            "---------------------------------------------\n",
            "stat_fun(H1): min=0.000039 max=10.192867\n"
          ]
        },
        {
          "name": "stderr",
          "output_type": "stream",
          "text": [
            "\n"
          ]
        },
        {
          "name": "stdout",
          "output_type": "stream",
          "text": [
            "Running initial clustering …\n",
            "Found 3 clusters\n"
          ]
        },
        {
          "name": "stderr",
          "output_type": "stream",
          "text": [
            "100%|██████████| Permuting : 99/99 [00:00<00:00,  595.67it/s]"
          ]
        },
        {
          "name": "stdout",
          "output_type": "stream",
          "text": [
            "[(slice(51, 54, None),), (slice(118, 122, None),), (slice(123, 129, None),)] [0.4  0.32 0.19]\n",
            "---------------------------------------------\n",
            "class 6 and class 3 permutation cluster test\n",
            "---------------------------------------------\n"
          ]
        },
        {
          "name": "stderr",
          "output_type": "stream",
          "text": [
            "\n"
          ]
        },
        {
          "name": "stdout",
          "output_type": "stream",
          "text": [
            "stat_fun(H1): min=0.000029 max=10.845855\n",
            "Running initial clustering …\n",
            "Found 2 clusters\n"
          ]
        },
        {
          "name": "stderr",
          "output_type": "stream",
          "text": [
            "100%|██████████| Permuting : 99/99 [00:00<00:00,  575.99it/s]\n"
          ]
        },
        {
          "name": "stdout",
          "output_type": "stream",
          "text": [
            "[(slice(51, 52, None),), (slice(133, 145, None),)] [0.46 0.06]\n",
            "---------------------------------------------\n",
            "class 6 and class 4 permutation cluster test\n",
            "---------------------------------------------\n",
            "stat_fun(H1): min=0.000005 max=4.761775\n",
            "Running initial clustering …\n",
            "Found 0 clusters\n",
            "[] []\n",
            "---------------------------------------------\n",
            "class 6 and class 5 permutation cluster test\n",
            "---------------------------------------------\n",
            "stat_fun(H1): min=0.000000 max=9.233999\n"
          ]
        },
        {
          "name": "stderr",
          "output_type": "stream",
          "text": [
            "C:\\Users\\Tobii\\AppData\\Local\\Temp\\ipykernel_20164\\4159885035.py:18: RuntimeWarning: No clusters found, returning empty H0, clusters, and cluster_pv\n",
            "  F_obs, clusters, cluster_p_values, H0 = permutation_cluster_test(\n"
          ]
        },
        {
          "name": "stdout",
          "output_type": "stream",
          "text": [
            "Running initial clustering …\n",
            "Found 3 clusters\n"
          ]
        },
        {
          "name": "stderr",
          "output_type": "stream",
          "text": [
            "100%|██████████| Permuting : 99/99 [00:00<00:00,  623.78it/s]"
          ]
        },
        {
          "name": "stdout",
          "output_type": "stream",
          "text": [
            "[(slice(86, 89, None),), (slice(91, 92, None),), (slice(188, 189, None),)] [0.38 0.61 0.61]\n",
            "---------------------------------------------\n",
            "class 6 and class 6 permutation cluster test\n",
            "---------------------------------------------\n"
          ]
        },
        {
          "name": "stderr",
          "output_type": "stream",
          "text": [
            "\n"
          ]
        },
        {
          "name": "stdout",
          "output_type": "stream",
          "text": [
            "stat_fun(H1): min=0.000000 max=0.000000\n",
            "Running initial clustering …\n",
            "Found 0 clusters\n"
          ]
        },
        {
          "name": "stderr",
          "output_type": "stream",
          "text": [
            "C:\\Users\\Tobii\\AppData\\Local\\Temp\\ipykernel_20164\\4159885035.py:18: RuntimeWarning: No clusters found, returning empty H0, clusters, and cluster_pv\n",
            "  F_obs, clusters, cluster_p_values, H0 = permutation_cluster_test(\n"
          ]
        },
        {
          "name": "stdout",
          "output_type": "stream",
          "text": [
            "[] []\n",
            "--------------------------------------------------FEATURE 2-----------------------------------------------------\n",
            "---------------------------------------------\n",
            "class 0 and class 0 permutation cluster test\n",
            "---------------------------------------------\n",
            "stat_fun(H1): min=0.000000 max=0.000000\n",
            "Running initial clustering …\n",
            "Found 0 clusters\n"
          ]
        },
        {
          "name": "stderr",
          "output_type": "stream",
          "text": [
            "C:\\Users\\Tobii\\AppData\\Local\\Temp\\ipykernel_20164\\4159885035.py:18: RuntimeWarning: No clusters found, returning empty H0, clusters, and cluster_pv\n",
            "  F_obs, clusters, cluster_p_values, H0 = permutation_cluster_test(\n"
          ]
        },
        {
          "name": "stdout",
          "output_type": "stream",
          "text": [
            "[] []\n",
            "---------------------------------------------\n",
            "class 0 and class 1 permutation cluster test\n",
            "---------------------------------------------\n",
            "stat_fun(H1): min=0.020521 max=9.914697\n",
            "Running initial clustering …\n",
            "Found 3 clusters\n"
          ]
        },
        {
          "name": "stderr",
          "output_type": "stream",
          "text": [
            "100%|██████████| Permuting : 99/99 [00:01<00:00,   91.38it/s]\n"
          ]
        },
        {
          "name": "stdout",
          "output_type": "stream",
          "text": [
            "[(slice(232, 241, None),), (slice(243, 245, None),), (slice(247, 276, None),)] [0.12 0.18 0.05]\n",
            "---------------------------------------------\n",
            "class 0 and class 2 permutation cluster test\n",
            "---------------------------------------------\n",
            "stat_fun(H1): min=0.000018 max=4.180220\n",
            "Running initial clustering …\n",
            "Found 0 clusters\n"
          ]
        },
        {
          "name": "stderr",
          "output_type": "stream",
          "text": [
            "C:\\Users\\Tobii\\AppData\\Local\\Temp\\ipykernel_20164\\4159885035.py:18: RuntimeWarning: No clusters found, returning empty H0, clusters, and cluster_pv\n",
            "  F_obs, clusters, cluster_p_values, H0 = permutation_cluster_test(\n"
          ]
        },
        {
          "name": "stdout",
          "output_type": "stream",
          "text": [
            "[] []\n",
            "---------------------------------------------\n",
            "class 0 and class 3 permutation cluster test\n",
            "---------------------------------------------\n",
            "stat_fun(H1): min=0.000078 max=15.602859\n",
            "Running initial clustering …\n",
            "Found 3 clusters\n"
          ]
        },
        {
          "name": "stderr",
          "output_type": "stream",
          "text": [
            "100%|██████████| Permuting : 99/99 [00:00<00:00,  110.42it/s]"
          ]
        },
        {
          "name": "stdout",
          "output_type": "stream",
          "text": [
            "[(slice(89, 152, None),), (slice(185, 241, None),), (slice(248, 276, None),)] [0.01 0.01 0.02]\n",
            "---------------------------------------------\n",
            "class 0 and class 4 permutation cluster test\n",
            "---------------------------------------------\n",
            "stat_fun(H1): min=0.000000 max=2.212335\n"
          ]
        },
        {
          "name": "stderr",
          "output_type": "stream",
          "text": [
            "\n"
          ]
        },
        {
          "name": "stdout",
          "output_type": "stream",
          "text": [
            "Running initial clustering …\n",
            "Found 0 clusters\n"
          ]
        },
        {
          "name": "stderr",
          "output_type": "stream",
          "text": [
            "C:\\Users\\Tobii\\AppData\\Local\\Temp\\ipykernel_20164\\4159885035.py:18: RuntimeWarning: No clusters found, returning empty H0, clusters, and cluster_pv\n",
            "  F_obs, clusters, cluster_p_values, H0 = permutation_cluster_test(\n"
          ]
        },
        {
          "name": "stdout",
          "output_type": "stream",
          "text": [
            "[] []\n",
            "---------------------------------------------\n",
            "class 0 and class 5 permutation cluster test\n",
            "---------------------------------------------\n",
            "stat_fun(H1): min=0.000073 max=5.801531\n",
            "Running initial clustering …\n",
            "Found 0 clusters\n"
          ]
        },
        {
          "name": "stderr",
          "output_type": "stream",
          "text": [
            "C:\\Users\\Tobii\\AppData\\Local\\Temp\\ipykernel_20164\\4159885035.py:18: RuntimeWarning: No clusters found, returning empty H0, clusters, and cluster_pv\n",
            "  F_obs, clusters, cluster_p_values, H0 = permutation_cluster_test(\n"
          ]
        },
        {
          "name": "stdout",
          "output_type": "stream",
          "text": [
            "[] []\n",
            "---------------------------------------------\n",
            "class 0 and class 6 permutation cluster test\n",
            "---------------------------------------------\n",
            "stat_fun(H1): min=0.000267 max=6.152243\n",
            "Running initial clustering …\n",
            "Found 1 cluster\n"
          ]
        },
        {
          "name": "stderr",
          "output_type": "stream",
          "text": [
            "100%|██████████| Permuting : 99/99 [00:00<00:00,  700.05it/s]"
          ]
        },
        {
          "name": "stdout",
          "output_type": "stream",
          "text": [
            "[(slice(201, 204, None),)] [0.12]\n"
          ]
        },
        {
          "name": "stderr",
          "output_type": "stream",
          "text": [
            "\n"
          ]
        },
        {
          "name": "stdout",
          "output_type": "stream",
          "text": [
            "---------------------------------------------\n",
            "class 1 and class 0 permutation cluster test\n",
            "---------------------------------------------\n",
            "stat_fun(H1): min=0.020521 max=9.914697\n",
            "Running initial clustering …\n",
            "Found 3 clusters\n"
          ]
        },
        {
          "name": "stderr",
          "output_type": "stream",
          "text": [
            "100%|██████████| Permuting : 99/99 [00:01<00:00,   94.74it/s]\n"
          ]
        },
        {
          "name": "stdout",
          "output_type": "stream",
          "text": [
            "[(slice(232, 241, None),), (slice(243, 245, None),), (slice(247, 276, None),)] [0.16 0.2  0.07]\n",
            "---------------------------------------------\n",
            "class 1 and class 1 permutation cluster test\n",
            "---------------------------------------------\n",
            "stat_fun(H1): min=0.000000 max=0.000000\n",
            "Running initial clustering …\n",
            "Found 0 clusters\n"
          ]
        },
        {
          "name": "stderr",
          "output_type": "stream",
          "text": [
            "C:\\Users\\Tobii\\AppData\\Local\\Temp\\ipykernel_20164\\4159885035.py:18: RuntimeWarning: No clusters found, returning empty H0, clusters, and cluster_pv\n",
            "  F_obs, clusters, cluster_p_values, H0 = permutation_cluster_test(\n"
          ]
        },
        {
          "name": "stdout",
          "output_type": "stream",
          "text": [
            "[] []\n",
            "---------------------------------------------\n",
            "class 1 and class 2 permutation cluster test\n",
            "---------------------------------------------\n",
            "stat_fun(H1): min=0.000021 max=2.820962\n",
            "Running initial clustering …\n",
            "Found 0 clusters\n"
          ]
        },
        {
          "name": "stderr",
          "output_type": "stream",
          "text": [
            "C:\\Users\\Tobii\\AppData\\Local\\Temp\\ipykernel_20164\\4159885035.py:18: RuntimeWarning: No clusters found, returning empty H0, clusters, and cluster_pv\n",
            "  F_obs, clusters, cluster_p_values, H0 = permutation_cluster_test(\n"
          ]
        },
        {
          "name": "stdout",
          "output_type": "stream",
          "text": [
            "[] []\n",
            "---------------------------------------------\n",
            "class 1 and class 3 permutation cluster test\n",
            "---------------------------------------------\n",
            "stat_fun(H1): min=0.000002 max=6.396127\n",
            "Running initial clustering …\n",
            "Found 2 clusters\n"
          ]
        },
        {
          "name": "stderr",
          "output_type": "stream",
          "text": [
            "100%|██████████| Permuting : 99/99 [00:00<00:00,  111.63it/s]\n"
          ]
        },
        {
          "name": "stdout",
          "output_type": "stream",
          "text": [
            "[(slice(118, 119, None),), (slice(120, 122, None),)] [0.24 0.24]\n",
            "---------------------------------------------\n",
            "class 1 and class 4 permutation cluster test\n",
            "---------------------------------------------\n",
            "stat_fun(H1): min=0.000072 max=3.858729\n",
            "Running initial clustering …\n",
            "Found 0 clusters\n"
          ]
        },
        {
          "name": "stderr",
          "output_type": "stream",
          "text": [
            "C:\\Users\\Tobii\\AppData\\Local\\Temp\\ipykernel_20164\\4159885035.py:18: RuntimeWarning: No clusters found, returning empty H0, clusters, and cluster_pv\n",
            "  F_obs, clusters, cluster_p_values, H0 = permutation_cluster_test(\n"
          ]
        },
        {
          "name": "stdout",
          "output_type": "stream",
          "text": [
            "[] []\n",
            "---------------------------------------------\n",
            "class 1 and class 5 permutation cluster test\n",
            "---------------------------------------------\n",
            "stat_fun(H1): min=0.000791 max=7.114767\n",
            "Running initial clustering …\n",
            "Found 2 clusters\n"
          ]
        },
        {
          "name": "stderr",
          "output_type": "stream",
          "text": [
            "100%|██████████| Permuting : 99/99 [00:00<00:00,  392.76it/s]\n"
          ]
        },
        {
          "name": "stdout",
          "output_type": "stream",
          "text": [
            "[(slice(9, 10, None),), (slice(12, 22, None),)] [0.22 0.13]\n",
            "---------------------------------------------\n",
            "class 1 and class 6 permutation cluster test\n",
            "---------------------------------------------\n",
            "stat_fun(H1): min=0.000000 max=4.312754\n",
            "Running initial clustering …\n",
            "Found 0 clusters\n"
          ]
        },
        {
          "name": "stderr",
          "output_type": "stream",
          "text": [
            "C:\\Users\\Tobii\\AppData\\Local\\Temp\\ipykernel_20164\\4159885035.py:18: RuntimeWarning: No clusters found, returning empty H0, clusters, and cluster_pv\n",
            "  F_obs, clusters, cluster_p_values, H0 = permutation_cluster_test(\n"
          ]
        },
        {
          "name": "stdout",
          "output_type": "stream",
          "text": [
            "[] []\n",
            "---------------------------------------------\n",
            "class 2 and class 0 permutation cluster test\n",
            "---------------------------------------------\n",
            "stat_fun(H1): min=0.000018 max=4.180220\n",
            "Running initial clustering …\n",
            "Found 0 clusters\n"
          ]
        },
        {
          "name": "stderr",
          "output_type": "stream",
          "text": [
            "C:\\Users\\Tobii\\AppData\\Local\\Temp\\ipykernel_20164\\4159885035.py:18: RuntimeWarning: No clusters found, returning empty H0, clusters, and cluster_pv\n",
            "  F_obs, clusters, cluster_p_values, H0 = permutation_cluster_test(\n"
          ]
        },
        {
          "name": "stdout",
          "output_type": "stream",
          "text": [
            "[] []\n",
            "---------------------------------------------\n",
            "class 2 and class 1 permutation cluster test\n",
            "---------------------------------------------\n",
            "stat_fun(H1): min=0.000021 max=2.820962\n",
            "Running initial clustering …\n",
            "Found 0 clusters\n",
            "[] []\n",
            "---------------------------------------------\n",
            "class 2 and class 2 permutation cluster test\n",
            "---------------------------------------------\n",
            "stat_fun(H1): min=0.000000 max=0.000000\n",
            "Running initial clustering …\n",
            "Found 0 clusters\n",
            "[] []\n",
            "---------------------------------------------\n",
            "class 2 and class 3 permutation cluster test\n",
            "---------------------------------------------\n",
            "stat_fun(H1): min=0.000029 max=7.503749\n",
            "Running initial clustering …\n",
            "Found 2 clusters\n"
          ]
        },
        {
          "name": "stderr",
          "output_type": "stream",
          "text": [
            "C:\\Users\\Tobii\\AppData\\Local\\Temp\\ipykernel_20164\\4159885035.py:18: RuntimeWarning: No clusters found, returning empty H0, clusters, and cluster_pv\n",
            "  F_obs, clusters, cluster_p_values, H0 = permutation_cluster_test(\n",
            "C:\\Users\\Tobii\\AppData\\Local\\Temp\\ipykernel_20164\\4159885035.py:18: RuntimeWarning: No clusters found, returning empty H0, clusters, and cluster_pv\n",
            "  F_obs, clusters, cluster_p_values, H0 = permutation_cluster_test(\n",
            "100%|██████████| Permuting : 99/99 [00:00<00:00,  104.48it/s]\n"
          ]
        },
        {
          "name": "stdout",
          "output_type": "stream",
          "text": [
            "[(slice(117, 121, None),), (slice(200, 209, None),)] [0.24 0.16]\n",
            "---------------------------------------------\n",
            "class 2 and class 4 permutation cluster test\n",
            "---------------------------------------------\n",
            "stat_fun(H1): min=0.000016 max=5.571752\n",
            "Running initial clustering …\n",
            "Found 0 clusters\n"
          ]
        },
        {
          "name": "stderr",
          "output_type": "stream",
          "text": [
            "C:\\Users\\Tobii\\AppData\\Local\\Temp\\ipykernel_20164\\4159885035.py:18: RuntimeWarning: No clusters found, returning empty H0, clusters, and cluster_pv\n",
            "  F_obs, clusters, cluster_p_values, H0 = permutation_cluster_test(\n"
          ]
        },
        {
          "name": "stdout",
          "output_type": "stream",
          "text": [
            "[] []\n",
            "---------------------------------------------\n",
            "class 2 and class 5 permutation cluster test\n",
            "---------------------------------------------\n",
            "stat_fun(H1): min=0.000000 max=3.661568\n",
            "Running initial clustering …\n",
            "Found 0 clusters\n"
          ]
        },
        {
          "name": "stderr",
          "output_type": "stream",
          "text": [
            "C:\\Users\\Tobii\\AppData\\Local\\Temp\\ipykernel_20164\\4159885035.py:18: RuntimeWarning: No clusters found, returning empty H0, clusters, and cluster_pv\n",
            "  F_obs, clusters, cluster_p_values, H0 = permutation_cluster_test(\n"
          ]
        },
        {
          "name": "stdout",
          "output_type": "stream",
          "text": [
            "[] []\n",
            "---------------------------------------------\n",
            "class 2 and class 6 permutation cluster test\n",
            "---------------------------------------------\n",
            "stat_fun(H1): min=0.000003 max=2.761126\n",
            "Running initial clustering …\n",
            "Found 0 clusters\n"
          ]
        },
        {
          "name": "stderr",
          "output_type": "stream",
          "text": [
            "C:\\Users\\Tobii\\AppData\\Local\\Temp\\ipykernel_20164\\4159885035.py:18: RuntimeWarning: No clusters found, returning empty H0, clusters, and cluster_pv\n",
            "  F_obs, clusters, cluster_p_values, H0 = permutation_cluster_test(\n"
          ]
        },
        {
          "name": "stdout",
          "output_type": "stream",
          "text": [
            "[] []\n",
            "---------------------------------------------\n",
            "class 3 and class 0 permutation cluster test\n",
            "---------------------------------------------\n",
            "stat_fun(H1): min=0.000078 max=15.602859\n",
            "Running initial clustering …\n",
            "Found 3 clusters\n"
          ]
        },
        {
          "name": "stderr",
          "output_type": "stream",
          "text": [
            "100%|██████████| Permuting : 99/99 [00:00<00:00,  109.29it/s]\n"
          ]
        },
        {
          "name": "stdout",
          "output_type": "stream",
          "text": [
            "[(slice(89, 152, None),), (slice(185, 241, None),), (slice(248, 276, None),)] [0.01 0.01 0.03]\n",
            "---------------------------------------------\n",
            "class 3 and class 1 permutation cluster test\n",
            "---------------------------------------------\n",
            "stat_fun(H1): min=0.000002 max=6.396127\n",
            "Running initial clustering …\n",
            "Found 2 clusters\n"
          ]
        },
        {
          "name": "stderr",
          "output_type": "stream",
          "text": [
            "100%|██████████| Permuting : 99/99 [00:00<00:00,  111.65it/s]\n"
          ]
        },
        {
          "name": "stdout",
          "output_type": "stream",
          "text": [
            "[(slice(118, 119, None),), (slice(120, 122, None),)] [0.25 0.25]\n",
            "---------------------------------------------\n",
            "class 3 and class 2 permutation cluster test\n",
            "---------------------------------------------\n",
            "stat_fun(H1): min=0.000029 max=7.503749\n",
            "Running initial clustering …\n",
            "Found 2 clusters\n"
          ]
        },
        {
          "name": "stderr",
          "output_type": "stream",
          "text": [
            "100%|██████████| Permuting : 99/99 [00:00<00:00,  116.43it/s]\n"
          ]
        },
        {
          "name": "stdout",
          "output_type": "stream",
          "text": [
            "[(slice(117, 121, None),), (slice(200, 209, None),)] [0.13 0.11]\n",
            "---------------------------------------------\n",
            "class 3 and class 3 permutation cluster test\n",
            "---------------------------------------------\n",
            "stat_fun(H1): min=0.000000 max=0.000000\n",
            "Running initial clustering …\n",
            "Found 0 clusters\n",
            "[] []\n",
            "---------------------------------------------\n",
            "class 3 and class 4 permutation cluster test\n",
            "---------------------------------------------\n",
            "stat_fun(H1): min=0.000002 max=6.811313\n"
          ]
        },
        {
          "name": "stderr",
          "output_type": "stream",
          "text": [
            "C:\\Users\\Tobii\\AppData\\Local\\Temp\\ipykernel_20164\\4159885035.py:18: RuntimeWarning: No clusters found, returning empty H0, clusters, and cluster_pv\n",
            "  F_obs, clusters, cluster_p_values, H0 = permutation_cluster_test(\n"
          ]
        },
        {
          "name": "stdout",
          "output_type": "stream",
          "text": [
            "Running initial clustering …\n",
            "Found 1 cluster\n"
          ]
        },
        {
          "name": "stderr",
          "output_type": "stream",
          "text": [
            "100%|██████████| Permuting : 99/99 [00:00<00:00,  133.88it/s]\n"
          ]
        },
        {
          "name": "stdout",
          "output_type": "stream",
          "text": [
            "[(slice(112, 120, None),)] [0.16]\n",
            "---------------------------------------------\n",
            "class 3 and class 5 permutation cluster test\n",
            "---------------------------------------------\n",
            "stat_fun(H1): min=0.000009 max=4.786769\n",
            "Running initial clustering …\n",
            "Found 0 clusters\n",
            "[] []\n",
            "---------------------------------------------\n",
            "class 3 and class 6 permutation cluster test\n",
            "---------------------------------------------\n",
            "stat_fun(H1): min=0.000165 max=3.889277\n",
            "Running initial clustering …\n",
            "Found 0 clusters\n"
          ]
        },
        {
          "name": "stderr",
          "output_type": "stream",
          "text": [
            "C:\\Users\\Tobii\\AppData\\Local\\Temp\\ipykernel_20164\\4159885035.py:18: RuntimeWarning: No clusters found, returning empty H0, clusters, and cluster_pv\n",
            "  F_obs, clusters, cluster_p_values, H0 = permutation_cluster_test(\n",
            "C:\\Users\\Tobii\\AppData\\Local\\Temp\\ipykernel_20164\\4159885035.py:18: RuntimeWarning: No clusters found, returning empty H0, clusters, and cluster_pv\n",
            "  F_obs, clusters, cluster_p_values, H0 = permutation_cluster_test(\n"
          ]
        },
        {
          "name": "stdout",
          "output_type": "stream",
          "text": [
            "[] []\n",
            "---------------------------------------------\n",
            "class 4 and class 0 permutation cluster test\n",
            "---------------------------------------------\n",
            "stat_fun(H1): min=0.000000 max=2.212335\n",
            "Running initial clustering …\n",
            "Found 0 clusters\n"
          ]
        },
        {
          "name": "stderr",
          "output_type": "stream",
          "text": [
            "C:\\Users\\Tobii\\AppData\\Local\\Temp\\ipykernel_20164\\4159885035.py:18: RuntimeWarning: No clusters found, returning empty H0, clusters, and cluster_pv\n",
            "  F_obs, clusters, cluster_p_values, H0 = permutation_cluster_test(\n"
          ]
        },
        {
          "name": "stdout",
          "output_type": "stream",
          "text": [
            "[] []\n",
            "---------------------------------------------\n",
            "class 4 and class 1 permutation cluster test\n",
            "---------------------------------------------\n",
            "stat_fun(H1): min=0.000072 max=3.858729\n",
            "Running initial clustering …\n",
            "Found 0 clusters\n",
            "[] []\n",
            "---------------------------------------------\n",
            "class 4 and class 2 permutation cluster test\n",
            "---------------------------------------------\n",
            "stat_fun(H1): min=0.000016 max=5.571752\n"
          ]
        },
        {
          "name": "stderr",
          "output_type": "stream",
          "text": [
            "C:\\Users\\Tobii\\AppData\\Local\\Temp\\ipykernel_20164\\4159885035.py:18: RuntimeWarning: No clusters found, returning empty H0, clusters, and cluster_pv\n",
            "  F_obs, clusters, cluster_p_values, H0 = permutation_cluster_test(\n"
          ]
        },
        {
          "name": "stdout",
          "output_type": "stream",
          "text": [
            "Running initial clustering …\n",
            "Found 0 clusters\n",
            "[] []\n",
            "---------------------------------------------\n",
            "class 4 and class 3 permutation cluster test\n",
            "---------------------------------------------\n",
            "stat_fun(H1): min=0.000002 max=6.811313\n",
            "Running initial clustering …\n",
            "Found 1 cluster\n"
          ]
        },
        {
          "name": "stderr",
          "output_type": "stream",
          "text": [
            "C:\\Users\\Tobii\\AppData\\Local\\Temp\\ipykernel_20164\\4159885035.py:18: RuntimeWarning: No clusters found, returning empty H0, clusters, and cluster_pv\n",
            "  F_obs, clusters, cluster_p_values, H0 = permutation_cluster_test(\n",
            "100%|██████████| Permuting : 99/99 [00:00<00:00,  145.75it/s]\n"
          ]
        },
        {
          "name": "stdout",
          "output_type": "stream",
          "text": [
            "[(slice(112, 120, None),)] [0.15]\n",
            "---------------------------------------------\n",
            "class 4 and class 4 permutation cluster test\n",
            "---------------------------------------------\n",
            "stat_fun(H1): min=0.000000 max=0.000000\n",
            "Running initial clustering …\n",
            "Found 0 clusters\n",
            "[] []\n",
            "---------------------------------------------\n",
            "class 4 and class 5 permutation cluster test\n",
            "---------------------------------------------\n",
            "stat_fun(H1): min=0.000085 max=5.624667\n",
            "Running initial clustering …\n",
            "Found 0 clusters\n",
            "[] []\n",
            "---------------------------------------------\n",
            "class 4 and class 6 permutation cluster test\n",
            "---------------------------------------------\n",
            "stat_fun(H1): min=0.000005 max=2.449769\n",
            "Running initial clustering …\n",
            "Found 0 clusters\n"
          ]
        },
        {
          "name": "stderr",
          "output_type": "stream",
          "text": [
            "C:\\Users\\Tobii\\AppData\\Local\\Temp\\ipykernel_20164\\4159885035.py:18: RuntimeWarning: No clusters found, returning empty H0, clusters, and cluster_pv\n",
            "  F_obs, clusters, cluster_p_values, H0 = permutation_cluster_test(\n",
            "C:\\Users\\Tobii\\AppData\\Local\\Temp\\ipykernel_20164\\4159885035.py:18: RuntimeWarning: No clusters found, returning empty H0, clusters, and cluster_pv\n",
            "  F_obs, clusters, cluster_p_values, H0 = permutation_cluster_test(\n",
            "C:\\Users\\Tobii\\AppData\\Local\\Temp\\ipykernel_20164\\4159885035.py:18: RuntimeWarning: No clusters found, returning empty H0, clusters, and cluster_pv\n",
            "  F_obs, clusters, cluster_p_values, H0 = permutation_cluster_test(\n"
          ]
        },
        {
          "name": "stdout",
          "output_type": "stream",
          "text": [
            "[] []\n",
            "---------------------------------------------\n",
            "class 5 and class 0 permutation cluster test\n",
            "---------------------------------------------\n",
            "stat_fun(H1): min=0.000073 max=5.801531\n",
            "Running initial clustering …\n",
            "Found 0 clusters\n",
            "[] []\n",
            "---------------------------------------------\n",
            "class 5 and class 1 permutation cluster test\n",
            "---------------------------------------------\n",
            "stat_fun(H1): min=0.000791 max=7.114767\n",
            "Running initial clustering …\n",
            "Found 2 clusters\n"
          ]
        },
        {
          "name": "stderr",
          "output_type": "stream",
          "text": [
            "C:\\Users\\Tobii\\AppData\\Local\\Temp\\ipykernel_20164\\4159885035.py:18: RuntimeWarning: No clusters found, returning empty H0, clusters, and cluster_pv\n",
            "  F_obs, clusters, cluster_p_values, H0 = permutation_cluster_test(\n",
            "100%|██████████| Permuting : 99/99 [00:00<00:00,  397.08it/s]\n"
          ]
        },
        {
          "name": "stdout",
          "output_type": "stream",
          "text": [
            "[(slice(9, 10, None),), (slice(12, 22, None),)] [0.19 0.08]\n",
            "---------------------------------------------\n",
            "class 5 and class 2 permutation cluster test\n",
            "---------------------------------------------\n",
            "stat_fun(H1): min=0.000000 max=3.661568\n",
            "Running initial clustering …\n",
            "Found 0 clusters\n"
          ]
        },
        {
          "name": "stderr",
          "output_type": "stream",
          "text": [
            "C:\\Users\\Tobii\\AppData\\Local\\Temp\\ipykernel_20164\\4159885035.py:18: RuntimeWarning: No clusters found, returning empty H0, clusters, and cluster_pv\n",
            "  F_obs, clusters, cluster_p_values, H0 = permutation_cluster_test(\n"
          ]
        },
        {
          "name": "stdout",
          "output_type": "stream",
          "text": [
            "[] []\n",
            "---------------------------------------------\n",
            "class 5 and class 3 permutation cluster test\n",
            "---------------------------------------------\n",
            "stat_fun(H1): min=0.000009 max=4.786769\n",
            "Running initial clustering …\n",
            "Found 0 clusters\n"
          ]
        },
        {
          "name": "stderr",
          "output_type": "stream",
          "text": [
            "C:\\Users\\Tobii\\AppData\\Local\\Temp\\ipykernel_20164\\4159885035.py:18: RuntimeWarning: No clusters found, returning empty H0, clusters, and cluster_pv\n",
            "  F_obs, clusters, cluster_p_values, H0 = permutation_cluster_test(\n"
          ]
        },
        {
          "name": "stdout",
          "output_type": "stream",
          "text": [
            "[] []\n",
            "---------------------------------------------\n",
            "class 5 and class 4 permutation cluster test\n",
            "---------------------------------------------\n",
            "stat_fun(H1): min=0.000085 max=5.624667\n",
            "Running initial clustering …\n",
            "Found 0 clusters\n",
            "[] []\n",
            "---------------------------------------------\n",
            "class 5 and class 5 permutation cluster test\n",
            "---------------------------------------------\n",
            "stat_fun(H1): min=0.000000 max=0.000000\n"
          ]
        },
        {
          "name": "stderr",
          "output_type": "stream",
          "text": [
            "C:\\Users\\Tobii\\AppData\\Local\\Temp\\ipykernel_20164\\4159885035.py:18: RuntimeWarning: No clusters found, returning empty H0, clusters, and cluster_pv\n",
            "  F_obs, clusters, cluster_p_values, H0 = permutation_cluster_test(\n"
          ]
        },
        {
          "name": "stdout",
          "output_type": "stream",
          "text": [
            "Running initial clustering …\n",
            "Found 0 clusters\n",
            "[] []\n",
            "---------------------------------------------\n",
            "class 5 and class 6 permutation cluster test\n",
            "---------------------------------------------\n",
            "stat_fun(H1): min=0.000008 max=1.916306\n",
            "Running initial clustering …\n",
            "Found 0 clusters\n"
          ]
        },
        {
          "name": "stderr",
          "output_type": "stream",
          "text": [
            "C:\\Users\\Tobii\\AppData\\Local\\Temp\\ipykernel_20164\\4159885035.py:18: RuntimeWarning: No clusters found, returning empty H0, clusters, and cluster_pv\n",
            "  F_obs, clusters, cluster_p_values, H0 = permutation_cluster_test(\n",
            "C:\\Users\\Tobii\\AppData\\Local\\Temp\\ipykernel_20164\\4159885035.py:18: RuntimeWarning: No clusters found, returning empty H0, clusters, and cluster_pv\n",
            "  F_obs, clusters, cluster_p_values, H0 = permutation_cluster_test(\n"
          ]
        },
        {
          "name": "stdout",
          "output_type": "stream",
          "text": [
            "[] []\n",
            "---------------------------------------------\n",
            "class 6 and class 0 permutation cluster test\n",
            "---------------------------------------------\n",
            "stat_fun(H1): min=0.000267 max=6.152243\n",
            "Running initial clustering …\n",
            "Found 1 cluster\n"
          ]
        },
        {
          "name": "stderr",
          "output_type": "stream",
          "text": [
            "100%|██████████| Permuting : 99/99 [00:00<00:00,  599.41it/s]"
          ]
        },
        {
          "name": "stdout",
          "output_type": "stream",
          "text": [
            "[(slice(201, 204, None),)] [0.16]\n",
            "---------------------------------------------\n",
            "class 6 and class 1 permutation cluster test\n",
            "---------------------------------------------\n"
          ]
        },
        {
          "name": "stderr",
          "output_type": "stream",
          "text": [
            "\n"
          ]
        },
        {
          "name": "stdout",
          "output_type": "stream",
          "text": [
            "stat_fun(H1): min=0.000000 max=4.312754\n",
            "Running initial clustering …\n",
            "Found 0 clusters\n"
          ]
        },
        {
          "name": "stderr",
          "output_type": "stream",
          "text": [
            "C:\\Users\\Tobii\\AppData\\Local\\Temp\\ipykernel_20164\\4159885035.py:18: RuntimeWarning: No clusters found, returning empty H0, clusters, and cluster_pv\n",
            "  F_obs, clusters, cluster_p_values, H0 = permutation_cluster_test(\n"
          ]
        },
        {
          "name": "stdout",
          "output_type": "stream",
          "text": [
            "[] []\n",
            "---------------------------------------------\n",
            "class 6 and class 2 permutation cluster test\n",
            "---------------------------------------------\n",
            "stat_fun(H1): min=0.000003 max=2.761126\n",
            "Running initial clustering …\n",
            "Found 0 clusters\n",
            "[] []\n",
            "---------------------------------------------\n",
            "class 6 and class 3 permutation cluster test\n",
            "---------------------------------------------\n",
            "stat_fun(H1): min=0.000165 max=3.889277\n"
          ]
        },
        {
          "name": "stderr",
          "output_type": "stream",
          "text": [
            "C:\\Users\\Tobii\\AppData\\Local\\Temp\\ipykernel_20164\\4159885035.py:18: RuntimeWarning: No clusters found, returning empty H0, clusters, and cluster_pv\n",
            "  F_obs, clusters, cluster_p_values, H0 = permutation_cluster_test(\n"
          ]
        },
        {
          "name": "stdout",
          "output_type": "stream",
          "text": [
            "Running initial clustering …\n",
            "Found 0 clusters\n",
            "[] []\n",
            "---------------------------------------------\n",
            "class 6 and class 4 permutation cluster test\n",
            "---------------------------------------------\n",
            "stat_fun(H1): min=0.000005 max=2.449769\n"
          ]
        },
        {
          "name": "stderr",
          "output_type": "stream",
          "text": [
            "C:\\Users\\Tobii\\AppData\\Local\\Temp\\ipykernel_20164\\4159885035.py:18: RuntimeWarning: No clusters found, returning empty H0, clusters, and cluster_pv\n",
            "  F_obs, clusters, cluster_p_values, H0 = permutation_cluster_test(\n"
          ]
        },
        {
          "name": "stdout",
          "output_type": "stream",
          "text": [
            "Running initial clustering …\n",
            "Found 0 clusters\n",
            "[] []\n",
            "---------------------------------------------\n",
            "class 6 and class 5 permutation cluster test\n",
            "---------------------------------------------\n",
            "stat_fun(H1): min=0.000008 max=1.916306\n",
            "Running initial clustering …\n",
            "Found 0 clusters\n"
          ]
        },
        {
          "name": "stderr",
          "output_type": "stream",
          "text": [
            "C:\\Users\\Tobii\\AppData\\Local\\Temp\\ipykernel_20164\\4159885035.py:18: RuntimeWarning: No clusters found, returning empty H0, clusters, and cluster_pv\n",
            "  F_obs, clusters, cluster_p_values, H0 = permutation_cluster_test(\n",
            "C:\\Users\\Tobii\\AppData\\Local\\Temp\\ipykernel_20164\\4159885035.py:18: RuntimeWarning: No clusters found, returning empty H0, clusters, and cluster_pv\n",
            "  F_obs, clusters, cluster_p_values, H0 = permutation_cluster_test(\n"
          ]
        },
        {
          "name": "stdout",
          "output_type": "stream",
          "text": [
            "[] []\n",
            "---------------------------------------------\n",
            "class 6 and class 6 permutation cluster test\n",
            "---------------------------------------------\n",
            "stat_fun(H1): min=0.000000 max=0.000000\n",
            "Running initial clustering …\n",
            "Found 0 clusters\n"
          ]
        },
        {
          "name": "stderr",
          "output_type": "stream",
          "text": [
            "C:\\Users\\Tobii\\AppData\\Local\\Temp\\ipykernel_20164\\4159885035.py:18: RuntimeWarning: No clusters found, returning empty H0, clusters, and cluster_pv\n",
            "  F_obs, clusters, cluster_p_values, H0 = permutation_cluster_test(\n"
          ]
        },
        {
          "name": "stdout",
          "output_type": "stream",
          "text": [
            "[] []\n",
            "--------------------------------------------------FEATURE 3-----------------------------------------------------\n",
            "---------------------------------------------\n",
            "class 0 and class 0 permutation cluster test\n",
            "---------------------------------------------\n",
            "stat_fun(H1): min=0.000000 max=0.000000\n",
            "Running initial clustering …\n",
            "Found 0 clusters\n",
            "[] []\n",
            "---------------------------------------------\n",
            "class 0 and class 1 permutation cluster test\n",
            "---------------------------------------------\n"
          ]
        },
        {
          "name": "stderr",
          "output_type": "stream",
          "text": [
            "C:\\Users\\Tobii\\AppData\\Local\\Temp\\ipykernel_20164\\4159885035.py:18: RuntimeWarning: No clusters found, returning empty H0, clusters, and cluster_pv\n",
            "  F_obs, clusters, cluster_p_values, H0 = permutation_cluster_test(\n"
          ]
        },
        {
          "name": "stdout",
          "output_type": "stream",
          "text": [
            "stat_fun(H1): min=0.049209 max=1.721042\n",
            "Running initial clustering …\n",
            "Found 0 clusters\n"
          ]
        },
        {
          "name": "stderr",
          "output_type": "stream",
          "text": [
            "C:\\Users\\Tobii\\AppData\\Local\\Temp\\ipykernel_20164\\4159885035.py:18: RuntimeWarning: No clusters found, returning empty H0, clusters, and cluster_pv\n",
            "  F_obs, clusters, cluster_p_values, H0 = permutation_cluster_test(\n"
          ]
        },
        {
          "name": "stdout",
          "output_type": "stream",
          "text": [
            "[] []\n",
            "---------------------------------------------\n",
            "class 0 and class 2 permutation cluster test\n",
            "---------------------------------------------\n",
            "stat_fun(H1): min=0.000221 max=4.375135\n",
            "Running initial clustering …\n",
            "Found 0 clusters\n",
            "[] []\n",
            "---------------------------------------------\n",
            "class 0 and class 3 permutation cluster test\n",
            "---------------------------------------------\n",
            "stat_fun(H1): min=0.000166 max=4.514663\n"
          ]
        },
        {
          "name": "stderr",
          "output_type": "stream",
          "text": [
            "C:\\Users\\Tobii\\AppData\\Local\\Temp\\ipykernel_20164\\4159885035.py:18: RuntimeWarning: No clusters found, returning empty H0, clusters, and cluster_pv\n",
            "  F_obs, clusters, cluster_p_values, H0 = permutation_cluster_test(\n"
          ]
        },
        {
          "name": "stdout",
          "output_type": "stream",
          "text": [
            "Running initial clustering …\n",
            "Found 0 clusters\n",
            "[] []\n",
            "---------------------------------------------\n",
            "class 0 and class 4 permutation cluster test\n",
            "---------------------------------------------\n",
            "stat_fun(H1): min=0.000002 max=8.204491\n",
            "Running initial clustering …\n",
            "Found 1 cluster\n"
          ]
        },
        {
          "name": "stderr",
          "output_type": "stream",
          "text": [
            "C:\\Users\\Tobii\\AppData\\Local\\Temp\\ipykernel_20164\\4159885035.py:18: RuntimeWarning: No clusters found, returning empty H0, clusters, and cluster_pv\n",
            "  F_obs, clusters, cluster_p_values, H0 = permutation_cluster_test(\n",
            "100%|██████████| Permuting : 99/99 [00:00<00:00,  163.15it/s]"
          ]
        },
        {
          "name": "stdout",
          "output_type": "stream",
          "text": [
            "[(slice(0, 30, None),)] [0.05]\n",
            "---------------------------------------------\n",
            "class 0 and class 5 permutation cluster test\n",
            "---------------------------------------------\n",
            "stat_fun(H1): min=0.000008 max=3.321585\n"
          ]
        },
        {
          "name": "stderr",
          "output_type": "stream",
          "text": [
            "\n"
          ]
        },
        {
          "name": "stdout",
          "output_type": "stream",
          "text": [
            "Running initial clustering …\n",
            "Found 0 clusters\n",
            "[] []\n",
            "---------------------------------------------\n",
            "class 0 and class 6 permutation cluster test\n",
            "---------------------------------------------\n",
            "stat_fun(H1): min=0.000000 max=2.817673\n",
            "Running initial clustering …\n",
            "Found 0 clusters\n"
          ]
        },
        {
          "name": "stderr",
          "output_type": "stream",
          "text": [
            "C:\\Users\\Tobii\\AppData\\Local\\Temp\\ipykernel_20164\\4159885035.py:18: RuntimeWarning: No clusters found, returning empty H0, clusters, and cluster_pv\n",
            "  F_obs, clusters, cluster_p_values, H0 = permutation_cluster_test(\n",
            "C:\\Users\\Tobii\\AppData\\Local\\Temp\\ipykernel_20164\\4159885035.py:18: RuntimeWarning: No clusters found, returning empty H0, clusters, and cluster_pv\n",
            "  F_obs, clusters, cluster_p_values, H0 = permutation_cluster_test(\n"
          ]
        },
        {
          "name": "stdout",
          "output_type": "stream",
          "text": [
            "[] []\n",
            "---------------------------------------------\n",
            "class 1 and class 0 permutation cluster test\n",
            "---------------------------------------------\n",
            "stat_fun(H1): min=0.049209 max=1.721042\n",
            "Running initial clustering …\n",
            "Found 0 clusters\n"
          ]
        },
        {
          "name": "stderr",
          "output_type": "stream",
          "text": [
            "C:\\Users\\Tobii\\AppData\\Local\\Temp\\ipykernel_20164\\4159885035.py:18: RuntimeWarning: No clusters found, returning empty H0, clusters, and cluster_pv\n",
            "  F_obs, clusters, cluster_p_values, H0 = permutation_cluster_test(\n"
          ]
        },
        {
          "name": "stdout",
          "output_type": "stream",
          "text": [
            "[] []\n",
            "---------------------------------------------\n",
            "class 1 and class 1 permutation cluster test\n",
            "---------------------------------------------\n",
            "stat_fun(H1): min=0.000000 max=0.000000\n",
            "Running initial clustering …\n",
            "Found 0 clusters\n",
            "[] []\n",
            "---------------------------------------------\n",
            "class 1 and class 2 permutation cluster test\n",
            "---------------------------------------------\n"
          ]
        },
        {
          "name": "stderr",
          "output_type": "stream",
          "text": [
            "C:\\Users\\Tobii\\AppData\\Local\\Temp\\ipykernel_20164\\4159885035.py:18: RuntimeWarning: No clusters found, returning empty H0, clusters, and cluster_pv\n",
            "  F_obs, clusters, cluster_p_values, H0 = permutation_cluster_test(\n"
          ]
        },
        {
          "name": "stdout",
          "output_type": "stream",
          "text": [
            "stat_fun(H1): min=0.000001 max=4.984776\n",
            "Running initial clustering …\n",
            "Found 0 clusters\n",
            "[] []\n",
            "---------------------------------------------\n",
            "class 1 and class 3 permutation cluster test\n",
            "---------------------------------------------\n",
            "stat_fun(H1): min=0.000004 max=3.946424\n",
            "Running initial clustering …\n",
            "Found 0 clusters\n",
            "[] []\n",
            "---------------------------------------------\n",
            "class 1 and class 4 permutation cluster test\n",
            "---------------------------------------------\n"
          ]
        },
        {
          "name": "stderr",
          "output_type": "stream",
          "text": [
            "C:\\Users\\Tobii\\AppData\\Local\\Temp\\ipykernel_20164\\4159885035.py:18: RuntimeWarning: No clusters found, returning empty H0, clusters, and cluster_pv\n",
            "  F_obs, clusters, cluster_p_values, H0 = permutation_cluster_test(\n",
            "C:\\Users\\Tobii\\AppData\\Local\\Temp\\ipykernel_20164\\4159885035.py:18: RuntimeWarning: No clusters found, returning empty H0, clusters, and cluster_pv\n",
            "  F_obs, clusters, cluster_p_values, H0 = permutation_cluster_test(\n"
          ]
        },
        {
          "name": "stdout",
          "output_type": "stream",
          "text": [
            "stat_fun(H1): min=0.000002 max=2.237177\n",
            "Running initial clustering …\n",
            "Found 0 clusters\n",
            "[] []\n",
            "---------------------------------------------\n",
            "class 1 and class 5 permutation cluster test\n",
            "---------------------------------------------\n"
          ]
        },
        {
          "name": "stderr",
          "output_type": "stream",
          "text": [
            "C:\\Users\\Tobii\\AppData\\Local\\Temp\\ipykernel_20164\\4159885035.py:18: RuntimeWarning: No clusters found, returning empty H0, clusters, and cluster_pv\n",
            "  F_obs, clusters, cluster_p_values, H0 = permutation_cluster_test(\n"
          ]
        },
        {
          "name": "stdout",
          "output_type": "stream",
          "text": [
            "stat_fun(H1): min=0.000001 max=0.846567\n",
            "Running initial clustering …\n",
            "Found 0 clusters\n",
            "[] []\n",
            "---------------------------------------------\n",
            "class 1 and class 6 permutation cluster test\n",
            "---------------------------------------------\n",
            "stat_fun(H1): min=0.000018 max=1.020806\n",
            "Running initial clustering …\n",
            "Found 0 clusters\n",
            "[] []\n",
            "---------------------------------------------\n",
            "class 2 and class 0 permutation cluster test\n",
            "---------------------------------------------\n"
          ]
        },
        {
          "name": "stderr",
          "output_type": "stream",
          "text": [
            "C:\\Users\\Tobii\\AppData\\Local\\Temp\\ipykernel_20164\\4159885035.py:18: RuntimeWarning: No clusters found, returning empty H0, clusters, and cluster_pv\n",
            "  F_obs, clusters, cluster_p_values, H0 = permutation_cluster_test(\n",
            "C:\\Users\\Tobii\\AppData\\Local\\Temp\\ipykernel_20164\\4159885035.py:18: RuntimeWarning: No clusters found, returning empty H0, clusters, and cluster_pv\n",
            "  F_obs, clusters, cluster_p_values, H0 = permutation_cluster_test(\n"
          ]
        },
        {
          "name": "stdout",
          "output_type": "stream",
          "text": [
            "stat_fun(H1): min=0.000221 max=4.375135\n",
            "Running initial clustering …\n",
            "Found 0 clusters\n",
            "[] []\n",
            "---------------------------------------------\n",
            "class 2 and class 1 permutation cluster test\n",
            "---------------------------------------------\n",
            "stat_fun(H1): min=0.000001 max=4.984776\n"
          ]
        },
        {
          "name": "stderr",
          "output_type": "stream",
          "text": [
            "C:\\Users\\Tobii\\AppData\\Local\\Temp\\ipykernel_20164\\4159885035.py:18: RuntimeWarning: No clusters found, returning empty H0, clusters, and cluster_pv\n",
            "  F_obs, clusters, cluster_p_values, H0 = permutation_cluster_test(\n"
          ]
        },
        {
          "name": "stdout",
          "output_type": "stream",
          "text": [
            "Running initial clustering …\n",
            "Found 0 clusters\n",
            "[] []\n",
            "---------------------------------------------\n",
            "class 2 and class 2 permutation cluster test\n",
            "---------------------------------------------\n",
            "stat_fun(H1): min=0.000000 max=0.000000\n",
            "Running initial clustering …\n",
            "Found 0 clusters\n",
            "[] []\n",
            "---------------------------------------------\n",
            "class 2 and class 3 permutation cluster test\n",
            "---------------------------------------------\n"
          ]
        },
        {
          "name": "stderr",
          "output_type": "stream",
          "text": [
            "C:\\Users\\Tobii\\AppData\\Local\\Temp\\ipykernel_20164\\4159885035.py:18: RuntimeWarning: No clusters found, returning empty H0, clusters, and cluster_pv\n",
            "  F_obs, clusters, cluster_p_values, H0 = permutation_cluster_test(\n",
            "C:\\Users\\Tobii\\AppData\\Local\\Temp\\ipykernel_20164\\4159885035.py:18: RuntimeWarning: No clusters found, returning empty H0, clusters, and cluster_pv\n",
            "  F_obs, clusters, cluster_p_values, H0 = permutation_cluster_test(\n"
          ]
        },
        {
          "name": "stdout",
          "output_type": "stream",
          "text": [
            "stat_fun(H1): min=0.000286 max=1.273692\n",
            "Running initial clustering …\n",
            "Found 0 clusters\n",
            "[] []\n",
            "---------------------------------------------\n",
            "class 2 and class 4 permutation cluster test\n",
            "---------------------------------------------\n",
            "stat_fun(H1): min=0.000001 max=5.956369\n",
            "Running initial clustering …\n"
          ]
        },
        {
          "name": "stderr",
          "output_type": "stream",
          "text": [
            "C:\\Users\\Tobii\\AppData\\Local\\Temp\\ipykernel_20164\\4159885035.py:18: RuntimeWarning: No clusters found, returning empty H0, clusters, and cluster_pv\n",
            "  F_obs, clusters, cluster_p_values, H0 = permutation_cluster_test(\n"
          ]
        },
        {
          "name": "stdout",
          "output_type": "stream",
          "text": [
            "Found 0 clusters\n",
            "[] []\n",
            "---------------------------------------------\n",
            "class 2 and class 5 permutation cluster test\n",
            "---------------------------------------------\n",
            "stat_fun(H1): min=0.000027 max=5.342392\n",
            "Running initial clustering …\n",
            "Found 0 clusters\n",
            "[] []\n",
            "---------------------------------------------\n",
            "class 2 and class 6 permutation cluster test\n",
            "---------------------------------------------\n",
            "stat_fun(H1): min=0.000019 max=1.532902\n",
            "Running initial clustering …\n",
            "Found 0 clusters\n",
            "[] []\n",
            "---------------------------------------------\n",
            "class 3 and class 0 permutation cluster test\n",
            "---------------------------------------------\n",
            "stat_fun(H1): min=0.000166 max=4.514663\n",
            "Running initial clustering …\n",
            "Found 0 clusters\n",
            "[] []\n",
            "---------------------------------------------\n",
            "class 3 and class 1 permutation cluster test\n",
            "---------------------------------------------\n"
          ]
        },
        {
          "name": "stderr",
          "output_type": "stream",
          "text": [
            "C:\\Users\\Tobii\\AppData\\Local\\Temp\\ipykernel_20164\\4159885035.py:18: RuntimeWarning: No clusters found, returning empty H0, clusters, and cluster_pv\n",
            "  F_obs, clusters, cluster_p_values, H0 = permutation_cluster_test(\n",
            "C:\\Users\\Tobii\\AppData\\Local\\Temp\\ipykernel_20164\\4159885035.py:18: RuntimeWarning: No clusters found, returning empty H0, clusters, and cluster_pv\n",
            "  F_obs, clusters, cluster_p_values, H0 = permutation_cluster_test(\n",
            "C:\\Users\\Tobii\\AppData\\Local\\Temp\\ipykernel_20164\\4159885035.py:18: RuntimeWarning: No clusters found, returning empty H0, clusters, and cluster_pv\n",
            "  F_obs, clusters, cluster_p_values, H0 = permutation_cluster_test(\n",
            "C:\\Users\\Tobii\\AppData\\Local\\Temp\\ipykernel_20164\\4159885035.py:18: RuntimeWarning: No clusters found, returning empty H0, clusters, and cluster_pv\n",
            "  F_obs, clusters, cluster_p_values, H0 = permutation_cluster_test(\n"
          ]
        },
        {
          "name": "stdout",
          "output_type": "stream",
          "text": [
            "stat_fun(H1): min=0.000004 max=3.946424\n",
            "Running initial clustering …\n",
            "Found 0 clusters\n",
            "[] []\n",
            "---------------------------------------------\n",
            "class 3 and class 2 permutation cluster test\n",
            "---------------------------------------------\n"
          ]
        },
        {
          "name": "stderr",
          "output_type": "stream",
          "text": [
            "C:\\Users\\Tobii\\AppData\\Local\\Temp\\ipykernel_20164\\4159885035.py:18: RuntimeWarning: No clusters found, returning empty H0, clusters, and cluster_pv\n",
            "  F_obs, clusters, cluster_p_values, H0 = permutation_cluster_test(\n"
          ]
        },
        {
          "name": "stdout",
          "output_type": "stream",
          "text": [
            "stat_fun(H1): min=0.000286 max=1.273692\n",
            "Running initial clustering …\n",
            "Found 0 clusters\n",
            "[] []\n",
            "---------------------------------------------\n",
            "class 3 and class 3 permutation cluster test\n",
            "---------------------------------------------\n",
            "stat_fun(H1): min=0.000000 max=0.000000\n",
            "Running initial clustering …\n",
            "Found 0 clusters\n",
            "[] []\n",
            "---------------------------------------------\n",
            "class 3 and class 4 permutation cluster test\n",
            "---------------------------------------------\n",
            "stat_fun(H1): min=0.000046 max=7.747733\n",
            "Running initial clustering …\n",
            "Found 2 clusters\n"
          ]
        },
        {
          "name": "stderr",
          "output_type": "stream",
          "text": [
            "C:\\Users\\Tobii\\AppData\\Local\\Temp\\ipykernel_20164\\4159885035.py:18: RuntimeWarning: No clusters found, returning empty H0, clusters, and cluster_pv\n",
            "  F_obs, clusters, cluster_p_values, H0 = permutation_cluster_test(\n",
            "C:\\Users\\Tobii\\AppData\\Local\\Temp\\ipykernel_20164\\4159885035.py:18: RuntimeWarning: No clusters found, returning empty H0, clusters, and cluster_pv\n",
            "  F_obs, clusters, cluster_p_values, H0 = permutation_cluster_test(\n",
            "100%|██████████| Permuting : 99/99 [00:00<00:00,  154.60it/s]\n"
          ]
        },
        {
          "name": "stdout",
          "output_type": "stream",
          "text": [
            "[(slice(0, 64, None),), (slice(280, 299, None),)] [0.02 0.07]\n",
            "---------------------------------------------\n",
            "class 3 and class 5 permutation cluster test\n",
            "---------------------------------------------\n",
            "stat_fun(H1): min=0.000004 max=2.321785\n",
            "Running initial clustering …\n",
            "Found 0 clusters\n",
            "[] []\n",
            "---------------------------------------------\n",
            "class 3 and class 6 permutation cluster test\n",
            "---------------------------------------------\n",
            "stat_fun(H1): min=0.000224 max=2.941570\n",
            "Running initial clustering …\n",
            "Found 0 clusters\n"
          ]
        },
        {
          "name": "stderr",
          "output_type": "stream",
          "text": [
            "C:\\Users\\Tobii\\AppData\\Local\\Temp\\ipykernel_20164\\4159885035.py:18: RuntimeWarning: No clusters found, returning empty H0, clusters, and cluster_pv\n",
            "  F_obs, clusters, cluster_p_values, H0 = permutation_cluster_test(\n",
            "C:\\Users\\Tobii\\AppData\\Local\\Temp\\ipykernel_20164\\4159885035.py:18: RuntimeWarning: No clusters found, returning empty H0, clusters, and cluster_pv\n",
            "  F_obs, clusters, cluster_p_values, H0 = permutation_cluster_test(\n"
          ]
        },
        {
          "name": "stdout",
          "output_type": "stream",
          "text": [
            "[] []\n",
            "---------------------------------------------\n",
            "class 4 and class 0 permutation cluster test\n",
            "---------------------------------------------\n",
            "stat_fun(H1): min=0.000002 max=8.204491\n",
            "Running initial clustering …\n",
            "Found 1 cluster\n"
          ]
        },
        {
          "name": "stderr",
          "output_type": "stream",
          "text": [
            "100%|██████████| Permuting : 99/99 [00:00<00:00,  165.39it/s]\n"
          ]
        },
        {
          "name": "stdout",
          "output_type": "stream",
          "text": [
            "[(slice(0, 30, None),)] [0.03]\n",
            "---------------------------------------------\n",
            "class 4 and class 1 permutation cluster test\n",
            "---------------------------------------------\n",
            "stat_fun(H1): min=0.000002 max=2.237177\n",
            "Running initial clustering …\n",
            "Found 0 clusters\n"
          ]
        },
        {
          "name": "stderr",
          "output_type": "stream",
          "text": [
            "C:\\Users\\Tobii\\AppData\\Local\\Temp\\ipykernel_20164\\4159885035.py:18: RuntimeWarning: No clusters found, returning empty H0, clusters, and cluster_pv\n",
            "  F_obs, clusters, cluster_p_values, H0 = permutation_cluster_test(\n"
          ]
        },
        {
          "name": "stdout",
          "output_type": "stream",
          "text": [
            "[] []\n",
            "---------------------------------------------\n",
            "class 4 and class 2 permutation cluster test\n",
            "---------------------------------------------\n",
            "stat_fun(H1): min=0.000001 max=5.956369\n",
            "Running initial clustering …\n",
            "Found 0 clusters\n",
            "[] []\n",
            "---------------------------------------------\n",
            "class 4 and class 3 permutation cluster test\n",
            "---------------------------------------------\n",
            "stat_fun(H1): min=0.000046 max=7.747733\n"
          ]
        },
        {
          "name": "stderr",
          "output_type": "stream",
          "text": [
            "C:\\Users\\Tobii\\AppData\\Local\\Temp\\ipykernel_20164\\4159885035.py:18: RuntimeWarning: No clusters found, returning empty H0, clusters, and cluster_pv\n",
            "  F_obs, clusters, cluster_p_values, H0 = permutation_cluster_test(\n"
          ]
        },
        {
          "name": "stdout",
          "output_type": "stream",
          "text": [
            "Running initial clustering …\n",
            "Found 2 clusters\n"
          ]
        },
        {
          "name": "stderr",
          "output_type": "stream",
          "text": [
            "100%|██████████| Permuting : 99/99 [00:00<00:00,  160.00it/s]\n"
          ]
        },
        {
          "name": "stdout",
          "output_type": "stream",
          "text": [
            "[(slice(0, 64, None),), (slice(280, 299, None),)] [0.03 0.05]\n",
            "---------------------------------------------\n",
            "class 4 and class 4 permutation cluster test\n",
            "---------------------------------------------\n",
            "stat_fun(H1): min=0.000000 max=0.000000\n",
            "Running initial clustering …\n",
            "Found 0 clusters\n"
          ]
        },
        {
          "name": "stderr",
          "output_type": "stream",
          "text": [
            "C:\\Users\\Tobii\\AppData\\Local\\Temp\\ipykernel_20164\\4159885035.py:18: RuntimeWarning: No clusters found, returning empty H0, clusters, and cluster_pv\n",
            "  F_obs, clusters, cluster_p_values, H0 = permutation_cluster_test(\n"
          ]
        },
        {
          "name": "stdout",
          "output_type": "stream",
          "text": [
            "[] []\n",
            "---------------------------------------------\n",
            "class 4 and class 5 permutation cluster test\n",
            "---------------------------------------------\n",
            "stat_fun(H1): min=0.000053 max=1.326885\n",
            "Running initial clustering …\n",
            "Found 0 clusters\n"
          ]
        },
        {
          "name": "stderr",
          "output_type": "stream",
          "text": [
            "C:\\Users\\Tobii\\AppData\\Local\\Temp\\ipykernel_20164\\4159885035.py:18: RuntimeWarning: No clusters found, returning empty H0, clusters, and cluster_pv\n",
            "  F_obs, clusters, cluster_p_values, H0 = permutation_cluster_test(\n"
          ]
        },
        {
          "name": "stdout",
          "output_type": "stream",
          "text": [
            "[] []\n",
            "---------------------------------------------\n",
            "class 4 and class 6 permutation cluster test\n",
            "---------------------------------------------\n",
            "stat_fun(H1): min=0.000111 max=4.308471\n",
            "Running initial clustering …\n",
            "Found 0 clusters\n",
            "[] []\n",
            "---------------------------------------------\n",
            "class 5 and class 0 permutation cluster test\n",
            "---------------------------------------------\n",
            "stat_fun(H1): min=0.000008 max=3.321585\n"
          ]
        },
        {
          "name": "stderr",
          "output_type": "stream",
          "text": [
            "C:\\Users\\Tobii\\AppData\\Local\\Temp\\ipykernel_20164\\4159885035.py:18: RuntimeWarning: No clusters found, returning empty H0, clusters, and cluster_pv\n",
            "  F_obs, clusters, cluster_p_values, H0 = permutation_cluster_test(\n"
          ]
        },
        {
          "name": "stdout",
          "output_type": "stream",
          "text": [
            "Running initial clustering …\n",
            "Found 0 clusters\n"
          ]
        },
        {
          "name": "stderr",
          "output_type": "stream",
          "text": [
            "C:\\Users\\Tobii\\AppData\\Local\\Temp\\ipykernel_20164\\4159885035.py:18: RuntimeWarning: No clusters found, returning empty H0, clusters, and cluster_pv\n",
            "  F_obs, clusters, cluster_p_values, H0 = permutation_cluster_test(\n"
          ]
        },
        {
          "name": "stdout",
          "output_type": "stream",
          "text": [
            "[] []\n",
            "---------------------------------------------\n",
            "class 5 and class 1 permutation cluster test\n",
            "---------------------------------------------\n",
            "stat_fun(H1): min=0.000001 max=0.846567\n",
            "Running initial clustering …\n",
            "Found 0 clusters\n"
          ]
        },
        {
          "name": "stderr",
          "output_type": "stream",
          "text": [
            "C:\\Users\\Tobii\\AppData\\Local\\Temp\\ipykernel_20164\\4159885035.py:18: RuntimeWarning: No clusters found, returning empty H0, clusters, and cluster_pv\n",
            "  F_obs, clusters, cluster_p_values, H0 = permutation_cluster_test(\n"
          ]
        },
        {
          "name": "stdout",
          "output_type": "stream",
          "text": [
            "[] []\n",
            "---------------------------------------------\n",
            "class 5 and class 2 permutation cluster test\n",
            "---------------------------------------------\n",
            "stat_fun(H1): min=0.000027 max=5.342392\n",
            "Running initial clustering …\n",
            "Found 0 clusters\n",
            "[] []\n",
            "---------------------------------------------\n",
            "class 5 and class 3 permutation cluster test\n",
            "---------------------------------------------\n"
          ]
        },
        {
          "name": "stderr",
          "output_type": "stream",
          "text": [
            "C:\\Users\\Tobii\\AppData\\Local\\Temp\\ipykernel_20164\\4159885035.py:18: RuntimeWarning: No clusters found, returning empty H0, clusters, and cluster_pv\n",
            "  F_obs, clusters, cluster_p_values, H0 = permutation_cluster_test(\n"
          ]
        },
        {
          "name": "stdout",
          "output_type": "stream",
          "text": [
            "stat_fun(H1): min=0.000004 max=2.321785\n",
            "Running initial clustering …\n",
            "Found 0 clusters\n",
            "[] []\n",
            "---------------------------------------------\n",
            "class 5 and class 4 permutation cluster test\n",
            "---------------------------------------------\n"
          ]
        },
        {
          "name": "stderr",
          "output_type": "stream",
          "text": [
            "C:\\Users\\Tobii\\AppData\\Local\\Temp\\ipykernel_20164\\4159885035.py:18: RuntimeWarning: No clusters found, returning empty H0, clusters, and cluster_pv\n",
            "  F_obs, clusters, cluster_p_values, H0 = permutation_cluster_test(\n"
          ]
        },
        {
          "name": "stdout",
          "output_type": "stream",
          "text": [
            "stat_fun(H1): min=0.000053 max=1.326885\n",
            "Running initial clustering …\n",
            "Found 0 clusters\n",
            "[] []\n",
            "---------------------------------------------\n",
            "class 5 and class 5 permutation cluster test\n",
            "---------------------------------------------\n",
            "stat_fun(H1): min=0.000000 max=0.000000\n",
            "Running initial clustering …\n",
            "Found 0 clusters\n",
            "[] []\n",
            "---------------------------------------------\n",
            "class 5 and class 6 permutation cluster test\n",
            "---------------------------------------------\n",
            "stat_fun(H1): min=0.000002 max=1.267204\n",
            "Running initial clustering …\n",
            "Found 0 clusters\n"
          ]
        },
        {
          "name": "stderr",
          "output_type": "stream",
          "text": [
            "C:\\Users\\Tobii\\AppData\\Local\\Temp\\ipykernel_20164\\4159885035.py:18: RuntimeWarning: No clusters found, returning empty H0, clusters, and cluster_pv\n",
            "  F_obs, clusters, cluster_p_values, H0 = permutation_cluster_test(\n",
            "C:\\Users\\Tobii\\AppData\\Local\\Temp\\ipykernel_20164\\4159885035.py:18: RuntimeWarning: No clusters found, returning empty H0, clusters, and cluster_pv\n",
            "  F_obs, clusters, cluster_p_values, H0 = permutation_cluster_test(\n",
            "C:\\Users\\Tobii\\AppData\\Local\\Temp\\ipykernel_20164\\4159885035.py:18: RuntimeWarning: No clusters found, returning empty H0, clusters, and cluster_pv\n",
            "  F_obs, clusters, cluster_p_values, H0 = permutation_cluster_test(\n"
          ]
        },
        {
          "name": "stdout",
          "output_type": "stream",
          "text": [
            "[] []\n",
            "---------------------------------------------\n",
            "class 6 and class 0 permutation cluster test\n",
            "---------------------------------------------\n",
            "stat_fun(H1): min=0.000000 max=2.817673\n",
            "Running initial clustering …\n",
            "Found 0 clusters\n",
            "[] []\n",
            "---------------------------------------------\n",
            "class 6 and class 1 permutation cluster test\n",
            "---------------------------------------------\n",
            "stat_fun(H1): min=0.000018 max=1.020806\n"
          ]
        },
        {
          "name": "stderr",
          "output_type": "stream",
          "text": [
            "C:\\Users\\Tobii\\AppData\\Local\\Temp\\ipykernel_20164\\4159885035.py:18: RuntimeWarning: No clusters found, returning empty H0, clusters, and cluster_pv\n",
            "  F_obs, clusters, cluster_p_values, H0 = permutation_cluster_test(\n"
          ]
        },
        {
          "name": "stdout",
          "output_type": "stream",
          "text": [
            "Running initial clustering …\n",
            "Found 0 clusters\n",
            "[] []\n",
            "---------------------------------------------\n",
            "class 6 and class 2 permutation cluster test\n",
            "---------------------------------------------\n",
            "stat_fun(H1): min=0.000019 max=1.532902\n"
          ]
        },
        {
          "name": "stderr",
          "output_type": "stream",
          "text": [
            "C:\\Users\\Tobii\\AppData\\Local\\Temp\\ipykernel_20164\\4159885035.py:18: RuntimeWarning: No clusters found, returning empty H0, clusters, and cluster_pv\n",
            "  F_obs, clusters, cluster_p_values, H0 = permutation_cluster_test(\n"
          ]
        },
        {
          "name": "stdout",
          "output_type": "stream",
          "text": [
            "Running initial clustering …\n",
            "Found 0 clusters\n"
          ]
        },
        {
          "name": "stderr",
          "output_type": "stream",
          "text": [
            "C:\\Users\\Tobii\\AppData\\Local\\Temp\\ipykernel_20164\\4159885035.py:18: RuntimeWarning: No clusters found, returning empty H0, clusters, and cluster_pv\n",
            "  F_obs, clusters, cluster_p_values, H0 = permutation_cluster_test(\n"
          ]
        },
        {
          "name": "stdout",
          "output_type": "stream",
          "text": [
            "[] []\n",
            "---------------------------------------------\n",
            "class 6 and class 3 permutation cluster test\n",
            "---------------------------------------------\n",
            "stat_fun(H1): min=0.000224 max=2.941570\n",
            "Running initial clustering …\n",
            "Found 0 clusters\n",
            "[] []\n",
            "---------------------------------------------\n",
            "class 6 and class 4 permutation cluster test\n",
            "---------------------------------------------\n",
            "stat_fun(H1): min=0.000111 max=4.308471\n",
            "Running initial clustering …\n",
            "Found 0 clusters\n",
            "[] []\n",
            "---------------------------------------------\n",
            "class 6 and class 5 permutation cluster test\n",
            "---------------------------------------------\n",
            "stat_fun(H1): min=0.000002 max=1.267204\n",
            "Running initial clustering …\n",
            "Found 0 clusters\n",
            "[] []\n",
            "---------------------------------------------\n",
            "class 6 and class 6 permutation cluster test\n",
            "---------------------------------------------\n",
            "stat_fun(H1): min=0.000000 max=0.000000\n",
            "Running initial clustering …\n",
            "Found 0 clusters\n",
            "[] []\n",
            "--------------------------------------------------FEATURE 4-----------------------------------------------------\n"
          ]
        },
        {
          "name": "stderr",
          "output_type": "stream",
          "text": [
            "C:\\Users\\Tobii\\AppData\\Local\\Temp\\ipykernel_20164\\4159885035.py:18: RuntimeWarning: No clusters found, returning empty H0, clusters, and cluster_pv\n",
            "  F_obs, clusters, cluster_p_values, H0 = permutation_cluster_test(\n",
            "C:\\Users\\Tobii\\AppData\\Local\\Temp\\ipykernel_20164\\4159885035.py:18: RuntimeWarning: No clusters found, returning empty H0, clusters, and cluster_pv\n",
            "  F_obs, clusters, cluster_p_values, H0 = permutation_cluster_test(\n",
            "C:\\Users\\Tobii\\AppData\\Local\\Temp\\ipykernel_20164\\4159885035.py:18: RuntimeWarning: No clusters found, returning empty H0, clusters, and cluster_pv\n",
            "  F_obs, clusters, cluster_p_values, H0 = permutation_cluster_test(\n",
            "C:\\Users\\Tobii\\AppData\\Local\\Temp\\ipykernel_20164\\4159885035.py:18: RuntimeWarning: No clusters found, returning empty H0, clusters, and cluster_pv\n",
            "  F_obs, clusters, cluster_p_values, H0 = permutation_cluster_test(\n"
          ]
        },
        {
          "name": "stdout",
          "output_type": "stream",
          "text": [
            "---------------------------------------------\n",
            "class 0 and class 0 permutation cluster test\n",
            "---------------------------------------------\n",
            "stat_fun(H1): min=0.000000 max=0.000000\n",
            "Running initial clustering …\n",
            "Found 0 clusters\n",
            "[] []\n",
            "---------------------------------------------\n",
            "class 0 and class 1 permutation cluster test\n",
            "---------------------------------------------\n"
          ]
        },
        {
          "name": "stderr",
          "output_type": "stream",
          "text": [
            "C:\\Users\\Tobii\\AppData\\Local\\Temp\\ipykernel_20164\\4159885035.py:18: RuntimeWarning: No clusters found, returning empty H0, clusters, and cluster_pv\n",
            "  F_obs, clusters, cluster_p_values, H0 = permutation_cluster_test(\n"
          ]
        },
        {
          "name": "stdout",
          "output_type": "stream",
          "text": [
            "stat_fun(H1): min=0.000000 max=1.897205\n",
            "Running initial clustering …\n",
            "Found 0 clusters\n",
            "[] []\n",
            "---------------------------------------------\n",
            "class 0 and class 2 permutation cluster test\n",
            "---------------------------------------------\n",
            "stat_fun(H1): min=0.000011 max=0.838529\n",
            "Running initial clustering …\n",
            "Found 0 clusters\n",
            "[] []\n",
            "---------------------------------------------\n",
            "class 0 and class 3 permutation cluster test\n",
            "---------------------------------------------\n",
            "stat_fun(H1): min=0.000000 max=1.877417\n",
            "Running initial clustering …\n",
            "Found 0 clusters\n",
            "[] []\n",
            "---------------------------------------------\n",
            "class 0 and class 4 permutation cluster test\n",
            "---------------------------------------------\n"
          ]
        },
        {
          "name": "stderr",
          "output_type": "stream",
          "text": [
            "C:\\Users\\Tobii\\AppData\\Local\\Temp\\ipykernel_20164\\4159885035.py:18: RuntimeWarning: No clusters found, returning empty H0, clusters, and cluster_pv\n",
            "  F_obs, clusters, cluster_p_values, H0 = permutation_cluster_test(\n",
            "C:\\Users\\Tobii\\AppData\\Local\\Temp\\ipykernel_20164\\4159885035.py:18: RuntimeWarning: No clusters found, returning empty H0, clusters, and cluster_pv\n",
            "  F_obs, clusters, cluster_p_values, H0 = permutation_cluster_test(\n",
            "C:\\Users\\Tobii\\AppData\\Local\\Temp\\ipykernel_20164\\4159885035.py:18: RuntimeWarning: No clusters found, returning empty H0, clusters, and cluster_pv\n",
            "  F_obs, clusters, cluster_p_values, H0 = permutation_cluster_test(\n"
          ]
        },
        {
          "name": "stdout",
          "output_type": "stream",
          "text": [
            "stat_fun(H1): min=0.000005 max=4.354128\n",
            "Running initial clustering …\n",
            "Found 0 clusters\n",
            "[] []\n",
            "---------------------------------------------\n",
            "class 0 and class 5 permutation cluster test\n",
            "---------------------------------------------\n",
            "stat_fun(H1): min=0.000004 max=1.586789\n",
            "Running initial clustering …\n",
            "Found 0 clusters\n"
          ]
        },
        {
          "name": "stderr",
          "output_type": "stream",
          "text": [
            "C:\\Users\\Tobii\\AppData\\Local\\Temp\\ipykernel_20164\\4159885035.py:18: RuntimeWarning: No clusters found, returning empty H0, clusters, and cluster_pv\n",
            "  F_obs, clusters, cluster_p_values, H0 = permutation_cluster_test(\n"
          ]
        },
        {
          "name": "stdout",
          "output_type": "stream",
          "text": [
            "[] []\n",
            "---------------------------------------------\n",
            "class 0 and class 6 permutation cluster test\n",
            "---------------------------------------------\n",
            "stat_fun(H1): min=0.000052 max=2.597406\n",
            "Running initial clustering …\n",
            "Found 0 clusters\n",
            "[] []\n",
            "---------------------------------------------\n",
            "class 1 and class 0 permutation cluster test\n",
            "---------------------------------------------\n",
            "stat_fun(H1): min=0.000000 max=1.897205\n",
            "Running initial clustering …\n",
            "Found 0 clusters\n",
            "[] []\n",
            "---------------------------------------------\n",
            "class 1 and class 1 permutation cluster test\n",
            "---------------------------------------------\n",
            "stat_fun(H1): min=0.000000 max=0.000000\n"
          ]
        },
        {
          "name": "stderr",
          "output_type": "stream",
          "text": [
            "C:\\Users\\Tobii\\AppData\\Local\\Temp\\ipykernel_20164\\4159885035.py:18: RuntimeWarning: No clusters found, returning empty H0, clusters, and cluster_pv\n",
            "  F_obs, clusters, cluster_p_values, H0 = permutation_cluster_test(\n",
            "C:\\Users\\Tobii\\AppData\\Local\\Temp\\ipykernel_20164\\4159885035.py:18: RuntimeWarning: No clusters found, returning empty H0, clusters, and cluster_pv\n",
            "  F_obs, clusters, cluster_p_values, H0 = permutation_cluster_test(\n",
            "C:\\Users\\Tobii\\AppData\\Local\\Temp\\ipykernel_20164\\4159885035.py:18: RuntimeWarning: No clusters found, returning empty H0, clusters, and cluster_pv\n",
            "  F_obs, clusters, cluster_p_values, H0 = permutation_cluster_test(\n"
          ]
        },
        {
          "name": "stdout",
          "output_type": "stream",
          "text": [
            "Running initial clustering …\n",
            "Found 0 clusters\n",
            "[] []\n",
            "---------------------------------------------\n",
            "class 1 and class 2 permutation cluster test\n",
            "---------------------------------------------\n"
          ]
        },
        {
          "name": "stderr",
          "output_type": "stream",
          "text": [
            "C:\\Users\\Tobii\\AppData\\Local\\Temp\\ipykernel_20164\\4159885035.py:18: RuntimeWarning: No clusters found, returning empty H0, clusters, and cluster_pv\n",
            "  F_obs, clusters, cluster_p_values, H0 = permutation_cluster_test(\n"
          ]
        },
        {
          "name": "stdout",
          "output_type": "stream",
          "text": [
            "stat_fun(H1): min=0.000002 max=1.666085\n",
            "Running initial clustering …\n",
            "Found 0 clusters\n",
            "[] []\n",
            "---------------------------------------------\n",
            "class 1 and class 3 permutation cluster test\n",
            "---------------------------------------------\n"
          ]
        },
        {
          "name": "stderr",
          "output_type": "stream",
          "text": [
            "C:\\Users\\Tobii\\AppData\\Local\\Temp\\ipykernel_20164\\4159885035.py:18: RuntimeWarning: No clusters found, returning empty H0, clusters, and cluster_pv\n",
            "  F_obs, clusters, cluster_p_values, H0 = permutation_cluster_test(\n"
          ]
        },
        {
          "name": "stdout",
          "output_type": "stream",
          "text": [
            "stat_fun(H1): min=0.000000 max=0.413719\n",
            "Running initial clustering …\n",
            "Found 0 clusters\n",
            "[] []\n",
            "---------------------------------------------\n",
            "class 1 and class 4 permutation cluster test\n",
            "---------------------------------------------\n",
            "stat_fun(H1): min=0.000003 max=0.523610\n",
            "Running initial clustering …\n",
            "Found 0 clusters\n",
            "[] []\n",
            "---------------------------------------------\n",
            "class 1 and class 5 permutation cluster test\n",
            "---------------------------------------------\n",
            "stat_fun(H1): min=0.000030 max=0.800574\n",
            "Running initial clustering …\n",
            "Found 0 clusters\n",
            "[] []\n",
            "---------------------------------------------\n",
            "class 1 and class 6 permutation cluster test\n",
            "---------------------------------------------\n",
            "stat_fun(H1): min=0.000767 max=0.612423\n",
            "Running initial clustering …\n",
            "Found 0 clusters\n",
            "[] []\n",
            "---------------------------------------------\n",
            "class 2 and class 0 permutation cluster test\n",
            "---------------------------------------------\n",
            "stat_fun(H1): min=0.000011 max=0.838529\n",
            "Running initial clustering …\n",
            "Found 0 clusters\n"
          ]
        },
        {
          "name": "stderr",
          "output_type": "stream",
          "text": [
            "C:\\Users\\Tobii\\AppData\\Local\\Temp\\ipykernel_20164\\4159885035.py:18: RuntimeWarning: No clusters found, returning empty H0, clusters, and cluster_pv\n",
            "  F_obs, clusters, cluster_p_values, H0 = permutation_cluster_test(\n",
            "C:\\Users\\Tobii\\AppData\\Local\\Temp\\ipykernel_20164\\4159885035.py:18: RuntimeWarning: No clusters found, returning empty H0, clusters, and cluster_pv\n",
            "  F_obs, clusters, cluster_p_values, H0 = permutation_cluster_test(\n",
            "C:\\Users\\Tobii\\AppData\\Local\\Temp\\ipykernel_20164\\4159885035.py:18: RuntimeWarning: No clusters found, returning empty H0, clusters, and cluster_pv\n",
            "  F_obs, clusters, cluster_p_values, H0 = permutation_cluster_test(\n",
            "C:\\Users\\Tobii\\AppData\\Local\\Temp\\ipykernel_20164\\4159885035.py:18: RuntimeWarning: No clusters found, returning empty H0, clusters, and cluster_pv\n",
            "  F_obs, clusters, cluster_p_values, H0 = permutation_cluster_test(\n",
            "C:\\Users\\Tobii\\AppData\\Local\\Temp\\ipykernel_20164\\4159885035.py:18: RuntimeWarning: No clusters found, returning empty H0, clusters, and cluster_pv\n",
            "  F_obs, clusters, cluster_p_values, H0 = permutation_cluster_test(\n"
          ]
        },
        {
          "name": "stdout",
          "output_type": "stream",
          "text": [
            "[] []\n",
            "---------------------------------------------\n",
            "class 2 and class 1 permutation cluster test\n",
            "---------------------------------------------\n",
            "stat_fun(H1): min=0.000002 max=1.666085\n",
            "Running initial clustering …\n",
            "Found 0 clusters\n",
            "[] []\n",
            "---------------------------------------------\n",
            "class 2 and class 2 permutation cluster test\n",
            "---------------------------------------------\n",
            "stat_fun(H1): min=0.000000 max=0.000000\n",
            "Running initial clustering …\n",
            "Found 0 clusters\n",
            "[] []\n",
            "---------------------------------------------\n",
            "class 2 and class 3 permutation cluster test\n",
            "---------------------------------------------\n",
            "stat_fun(H1): min=0.000018 max=0.859653\n",
            "Running initial clustering …\n",
            "Found 0 clusters\n",
            "[] []\n",
            "---------------------------------------------\n",
            "class 2 and class 4 permutation cluster test\n",
            "---------------------------------------------\n",
            "stat_fun(H1): min=0.615139 max=3.320524\n",
            "Running initial clustering …\n",
            "Found 0 clusters\n",
            "[] []\n",
            "---------------------------------------------\n",
            "class 2 and class 5 permutation cluster test\n",
            "---------------------------------------------\n"
          ]
        },
        {
          "name": "stderr",
          "output_type": "stream",
          "text": [
            "C:\\Users\\Tobii\\AppData\\Local\\Temp\\ipykernel_20164\\4159885035.py:18: RuntimeWarning: No clusters found, returning empty H0, clusters, and cluster_pv\n",
            "  F_obs, clusters, cluster_p_values, H0 = permutation_cluster_test(\n",
            "C:\\Users\\Tobii\\AppData\\Local\\Temp\\ipykernel_20164\\4159885035.py:18: RuntimeWarning: No clusters found, returning empty H0, clusters, and cluster_pv\n",
            "  F_obs, clusters, cluster_p_values, H0 = permutation_cluster_test(\n",
            "C:\\Users\\Tobii\\AppData\\Local\\Temp\\ipykernel_20164\\4159885035.py:18: RuntimeWarning: No clusters found, returning empty H0, clusters, and cluster_pv\n",
            "  F_obs, clusters, cluster_p_values, H0 = permutation_cluster_test(\n",
            "C:\\Users\\Tobii\\AppData\\Local\\Temp\\ipykernel_20164\\4159885035.py:18: RuntimeWarning: No clusters found, returning empty H0, clusters, and cluster_pv\n",
            "  F_obs, clusters, cluster_p_values, H0 = permutation_cluster_test(\n"
          ]
        },
        {
          "name": "stdout",
          "output_type": "stream",
          "text": [
            "stat_fun(H1): min=0.829863 max=2.507227\n",
            "Running initial clustering …\n",
            "Found 0 clusters\n",
            "[] []\n",
            "---------------------------------------------\n",
            "class 2 and class 6 permutation cluster test\n",
            "---------------------------------------------\n",
            "stat_fun(H1): min=0.000019 max=4.912412\n",
            "Running initial clustering …\n",
            "Found 0 clusters\n",
            "[] []\n",
            "---------------------------------------------\n",
            "class 3 and class 0 permutation cluster test\n",
            "---------------------------------------------\n",
            "stat_fun(H1): min=0.000000 max=1.877417\n",
            "Running initial clustering …\n",
            "Found 0 clusters\n",
            "[] []\n",
            "---------------------------------------------\n",
            "class 3 and class 1 permutation cluster test\n",
            "---------------------------------------------\n",
            "stat_fun(H1): min=0.000000 max=0.413719\n",
            "Running initial clustering …\n",
            "Found 0 clusters\n",
            "[] []\n",
            "---------------------------------------------\n",
            "class 3 and class 2 permutation cluster test\n",
            "---------------------------------------------\n"
          ]
        },
        {
          "name": "stderr",
          "output_type": "stream",
          "text": [
            "C:\\Users\\Tobii\\AppData\\Local\\Temp\\ipykernel_20164\\4159885035.py:18: RuntimeWarning: No clusters found, returning empty H0, clusters, and cluster_pv\n",
            "  F_obs, clusters, cluster_p_values, H0 = permutation_cluster_test(\n",
            "C:\\Users\\Tobii\\AppData\\Local\\Temp\\ipykernel_20164\\4159885035.py:18: RuntimeWarning: No clusters found, returning empty H0, clusters, and cluster_pv\n",
            "  F_obs, clusters, cluster_p_values, H0 = permutation_cluster_test(\n",
            "C:\\Users\\Tobii\\AppData\\Local\\Temp\\ipykernel_20164\\4159885035.py:18: RuntimeWarning: No clusters found, returning empty H0, clusters, and cluster_pv\n",
            "  F_obs, clusters, cluster_p_values, H0 = permutation_cluster_test(\n",
            "C:\\Users\\Tobii\\AppData\\Local\\Temp\\ipykernel_20164\\4159885035.py:18: RuntimeWarning: No clusters found, returning empty H0, clusters, and cluster_pv\n",
            "  F_obs, clusters, cluster_p_values, H0 = permutation_cluster_test(\n"
          ]
        },
        {
          "name": "stdout",
          "output_type": "stream",
          "text": [
            "stat_fun(H1): min=0.000018 max=0.859653\n",
            "Running initial clustering …\n",
            "Found 0 clusters\n",
            "[] []\n",
            "---------------------------------------------\n",
            "class 3 and class 3 permutation cluster test\n",
            "---------------------------------------------\n",
            "stat_fun(H1): min=0.000000 max=0.000000\n",
            "Running initial clustering …\n",
            "Found 0 clusters\n",
            "[] []\n",
            "---------------------------------------------\n",
            "class 3 and class 4 permutation cluster test\n",
            "---------------------------------------------\n",
            "stat_fun(H1): min=0.150535 max=0.917068\n",
            "Running initial clustering …\n",
            "Found 0 clusters\n",
            "[] []\n",
            "---------------------------------------------\n",
            "class 3 and class 5 permutation cluster test\n",
            "---------------------------------------------\n",
            "stat_fun(H1): min=0.000000 max=0.512942\n",
            "Running initial clustering …\n",
            "Found 0 clusters\n",
            "[] []\n",
            "---------------------------------------------\n",
            "class 3 and class 6 permutation cluster test\n",
            "---------------------------------------------\n",
            "stat_fun(H1): min=0.101070 max=1.249102\n",
            "Running initial clustering …\n",
            "Found 0 clusters\n",
            "[] []\n"
          ]
        },
        {
          "name": "stderr",
          "output_type": "stream",
          "text": [
            "C:\\Users\\Tobii\\AppData\\Local\\Temp\\ipykernel_20164\\4159885035.py:18: RuntimeWarning: No clusters found, returning empty H0, clusters, and cluster_pv\n",
            "  F_obs, clusters, cluster_p_values, H0 = permutation_cluster_test(\n",
            "C:\\Users\\Tobii\\AppData\\Local\\Temp\\ipykernel_20164\\4159885035.py:18: RuntimeWarning: No clusters found, returning empty H0, clusters, and cluster_pv\n",
            "  F_obs, clusters, cluster_p_values, H0 = permutation_cluster_test(\n",
            "C:\\Users\\Tobii\\AppData\\Local\\Temp\\ipykernel_20164\\4159885035.py:18: RuntimeWarning: No clusters found, returning empty H0, clusters, and cluster_pv\n",
            "  F_obs, clusters, cluster_p_values, H0 = permutation_cluster_test(\n",
            "C:\\Users\\Tobii\\AppData\\Local\\Temp\\ipykernel_20164\\4159885035.py:18: RuntimeWarning: No clusters found, returning empty H0, clusters, and cluster_pv\n",
            "  F_obs, clusters, cluster_p_values, H0 = permutation_cluster_test(\n",
            "C:\\Users\\Tobii\\AppData\\Local\\Temp\\ipykernel_20164\\4159885035.py:18: RuntimeWarning: No clusters found, returning empty H0, clusters, and cluster_pv\n",
            "  F_obs, clusters, cluster_p_values, H0 = permutation_cluster_test(\n"
          ]
        },
        {
          "name": "stdout",
          "output_type": "stream",
          "text": [
            "---------------------------------------------\n",
            "class 4 and class 0 permutation cluster test\n",
            "---------------------------------------------\n",
            "stat_fun(H1): min=0.000005 max=4.354128\n",
            "Running initial clustering …\n",
            "Found 0 clusters\n",
            "[] []\n",
            "---------------------------------------------\n",
            "class 4 and class 1 permutation cluster test\n",
            "---------------------------------------------\n",
            "stat_fun(H1): min=0.000003 max=0.523610\n",
            "Running initial clustering …\n",
            "Found 0 clusters\n",
            "[] []\n",
            "---------------------------------------------\n",
            "class 4 and class 2 permutation cluster test\n",
            "---------------------------------------------\n",
            "stat_fun(H1): min=0.615139 max=3.320524\n",
            "Running initial clustering …\n",
            "Found 0 clusters\n",
            "[] []\n",
            "---------------------------------------------\n",
            "class 4 and class 3 permutation cluster test\n",
            "---------------------------------------------\n",
            "stat_fun(H1): min=0.150535 max=0.917068\n",
            "Running initial clustering …\n",
            "Found 0 clusters\n",
            "[] []\n",
            "---------------------------------------------\n",
            "class 4 and class 4 permutation cluster test\n",
            "---------------------------------------------\n",
            "stat_fun(H1): min=0.000000 max=0.000000\n"
          ]
        },
        {
          "name": "stderr",
          "output_type": "stream",
          "text": [
            "C:\\Users\\Tobii\\AppData\\Local\\Temp\\ipykernel_20164\\4159885035.py:18: RuntimeWarning: No clusters found, returning empty H0, clusters, and cluster_pv\n",
            "  F_obs, clusters, cluster_p_values, H0 = permutation_cluster_test(\n",
            "C:\\Users\\Tobii\\AppData\\Local\\Temp\\ipykernel_20164\\4159885035.py:18: RuntimeWarning: No clusters found, returning empty H0, clusters, and cluster_pv\n",
            "  F_obs, clusters, cluster_p_values, H0 = permutation_cluster_test(\n",
            "C:\\Users\\Tobii\\AppData\\Local\\Temp\\ipykernel_20164\\4159885035.py:18: RuntimeWarning: No clusters found, returning empty H0, clusters, and cluster_pv\n",
            "  F_obs, clusters, cluster_p_values, H0 = permutation_cluster_test(\n",
            "C:\\Users\\Tobii\\AppData\\Local\\Temp\\ipykernel_20164\\4159885035.py:18: RuntimeWarning: No clusters found, returning empty H0, clusters, and cluster_pv\n",
            "  F_obs, clusters, cluster_p_values, H0 = permutation_cluster_test(\n"
          ]
        },
        {
          "name": "stdout",
          "output_type": "stream",
          "text": [
            "Running initial clustering …\n",
            "Found 0 clusters\n",
            "[] []\n",
            "---------------------------------------------\n",
            "class 4 and class 5 permutation cluster test\n",
            "---------------------------------------------\n",
            "stat_fun(H1): min=0.000014 max=1.041307\n",
            "Running initial clustering …\n",
            "Found 0 clusters\n",
            "[] []\n",
            "---------------------------------------------\n",
            "class 4 and class 6 permutation cluster test\n",
            "---------------------------------------------\n",
            "stat_fun(H1): min=0.248401 max=2.589353\n",
            "Running initial clustering …\n",
            "Found 0 clusters\n",
            "[] []\n",
            "---------------------------------------------\n",
            "class 5 and class 0 permutation cluster test\n",
            "---------------------------------------------\n",
            "stat_fun(H1): min=0.000004 max=1.586789\n",
            "Running initial clustering …\n",
            "Found 0 clusters\n",
            "[] []\n",
            "---------------------------------------------\n",
            "class 5 and class 1 permutation cluster test\n",
            "---------------------------------------------\n",
            "stat_fun(H1): min=0.000030 max=0.800574\n",
            "Running initial clustering …\n",
            "Found 0 clusters\n",
            "[] []\n",
            "---------------------------------------------\n",
            "class 5 and class 2 permutation cluster test\n",
            "---------------------------------------------\n",
            "stat_fun(H1): min=0.829863 max=2.507227\n",
            "Running initial clustering …\n",
            "Found 0 clusters\n",
            "[] []\n",
            "---------------------------------------------\n",
            "class 5 and class 3 permutation cluster test\n",
            "---------------------------------------------\n"
          ]
        },
        {
          "name": "stderr",
          "output_type": "stream",
          "text": [
            "C:\\Users\\Tobii\\AppData\\Local\\Temp\\ipykernel_20164\\4159885035.py:18: RuntimeWarning: No clusters found, returning empty H0, clusters, and cluster_pv\n",
            "  F_obs, clusters, cluster_p_values, H0 = permutation_cluster_test(\n",
            "C:\\Users\\Tobii\\AppData\\Local\\Temp\\ipykernel_20164\\4159885035.py:18: RuntimeWarning: No clusters found, returning empty H0, clusters, and cluster_pv\n",
            "  F_obs, clusters, cluster_p_values, H0 = permutation_cluster_test(\n",
            "C:\\Users\\Tobii\\AppData\\Local\\Temp\\ipykernel_20164\\4159885035.py:18: RuntimeWarning: No clusters found, returning empty H0, clusters, and cluster_pv\n",
            "  F_obs, clusters, cluster_p_values, H0 = permutation_cluster_test(\n",
            "C:\\Users\\Tobii\\AppData\\Local\\Temp\\ipykernel_20164\\4159885035.py:18: RuntimeWarning: No clusters found, returning empty H0, clusters, and cluster_pv\n",
            "  F_obs, clusters, cluster_p_values, H0 = permutation_cluster_test(\n",
            "C:\\Users\\Tobii\\AppData\\Local\\Temp\\ipykernel_20164\\4159885035.py:18: RuntimeWarning: No clusters found, returning empty H0, clusters, and cluster_pv\n",
            "  F_obs, clusters, cluster_p_values, H0 = permutation_cluster_test(\n",
            "C:\\Users\\Tobii\\AppData\\Local\\Temp\\ipykernel_20164\\4159885035.py:18: RuntimeWarning: No clusters found, returning empty H0, clusters, and cluster_pv\n",
            "  F_obs, clusters, cluster_p_values, H0 = permutation_cluster_test(\n"
          ]
        },
        {
          "name": "stdout",
          "output_type": "stream",
          "text": [
            "stat_fun(H1): min=0.000000 max=0.512942\n",
            "Running initial clustering …\n",
            "Found 0 clusters\n",
            "[] []\n",
            "---------------------------------------------\n",
            "class 5 and class 4 permutation cluster test\n",
            "---------------------------------------------\n",
            "stat_fun(H1): min=0.000014 max=1.041307\n",
            "Running initial clustering …\n",
            "Found 0 clusters\n",
            "[] []\n",
            "---------------------------------------------\n",
            "class 5 and class 5 permutation cluster test\n",
            "---------------------------------------------\n",
            "stat_fun(H1): min=0.000000 max=0.000000\n",
            "Running initial clustering …\n",
            "Found 0 clusters\n",
            "[] []\n",
            "---------------------------------------------\n",
            "class 5 and class 6 permutation cluster test\n",
            "---------------------------------------------\n",
            "stat_fun(H1): min=0.000000 max=1.117163\n",
            "Running initial clustering …\n",
            "Found 0 clusters\n",
            "[] []\n",
            "---------------------------------------------\n",
            "class 6 and class 0 permutation cluster test\n",
            "---------------------------------------------\n",
            "stat_fun(H1): min=0.000052 max=2.597406\n",
            "Running initial clustering …\n",
            "Found 0 clusters\n",
            "[] []\n",
            "---------------------------------------------\n",
            "class 6 and class 1 permutation cluster test\n",
            "---------------------------------------------\n",
            "stat_fun(H1): min=0.000767 max=0.612423\n",
            "Running initial clustering …\n",
            "Found 0 clusters\n",
            "[] []\n",
            "---------------------------------------------\n",
            "class 6 and class 2 permutation cluster test\n",
            "---------------------------------------------\n",
            "stat_fun(H1): min=0.000019 max=4.912412\n",
            "Running initial clustering …\n",
            "Found 0 clusters\n",
            "[] []\n",
            "---------------------------------------------\n",
            "class 6 and class 3 permutation cluster test\n",
            "---------------------------------------------\n"
          ]
        },
        {
          "name": "stderr",
          "output_type": "stream",
          "text": [
            "C:\\Users\\Tobii\\AppData\\Local\\Temp\\ipykernel_20164\\4159885035.py:18: RuntimeWarning: No clusters found, returning empty H0, clusters, and cluster_pv\n",
            "  F_obs, clusters, cluster_p_values, H0 = permutation_cluster_test(\n",
            "C:\\Users\\Tobii\\AppData\\Local\\Temp\\ipykernel_20164\\4159885035.py:18: RuntimeWarning: No clusters found, returning empty H0, clusters, and cluster_pv\n",
            "  F_obs, clusters, cluster_p_values, H0 = permutation_cluster_test(\n",
            "C:\\Users\\Tobii\\AppData\\Local\\Temp\\ipykernel_20164\\4159885035.py:18: RuntimeWarning: No clusters found, returning empty H0, clusters, and cluster_pv\n",
            "  F_obs, clusters, cluster_p_values, H0 = permutation_cluster_test(\n",
            "C:\\Users\\Tobii\\AppData\\Local\\Temp\\ipykernel_20164\\4159885035.py:18: RuntimeWarning: No clusters found, returning empty H0, clusters, and cluster_pv\n",
            "  F_obs, clusters, cluster_p_values, H0 = permutation_cluster_test(\n",
            "C:\\Users\\Tobii\\AppData\\Local\\Temp\\ipykernel_20164\\4159885035.py:18: RuntimeWarning: No clusters found, returning empty H0, clusters, and cluster_pv\n",
            "  F_obs, clusters, cluster_p_values, H0 = permutation_cluster_test(\n",
            "C:\\Users\\Tobii\\AppData\\Local\\Temp\\ipykernel_20164\\4159885035.py:18: RuntimeWarning: No clusters found, returning empty H0, clusters, and cluster_pv\n",
            "  F_obs, clusters, cluster_p_values, H0 = permutation_cluster_test(\n",
            "C:\\Users\\Tobii\\AppData\\Local\\Temp\\ipykernel_20164\\4159885035.py:18: RuntimeWarning: No clusters found, returning empty H0, clusters, and cluster_pv\n",
            "  F_obs, clusters, cluster_p_values, H0 = permutation_cluster_test(\n"
          ]
        },
        {
          "name": "stdout",
          "output_type": "stream",
          "text": [
            "stat_fun(H1): min=0.101070 max=1.249102\n",
            "Running initial clustering …\n",
            "Found 0 clusters\n",
            "[] []\n",
            "---------------------------------------------\n",
            "class 6 and class 4 permutation cluster test\n",
            "---------------------------------------------\n",
            "stat_fun(H1): min=0.248401 max=2.589353\n",
            "Running initial clustering …\n",
            "Found 0 clusters\n",
            "[] []\n",
            "---------------------------------------------\n",
            "class 6 and class 5 permutation cluster test\n",
            "---------------------------------------------\n",
            "stat_fun(H1): min=0.000000 max=1.117163\n",
            "Running initial clustering …\n",
            "Found 0 clusters\n",
            "[] []\n",
            "---------------------------------------------\n",
            "class 6 and class 6 permutation cluster test\n",
            "---------------------------------------------\n",
            "stat_fun(H1): min=0.000000 max=0.000000\n",
            "Running initial clustering …\n",
            "Found 0 clusters\n",
            "[] []\n"
          ]
        },
        {
          "name": "stderr",
          "output_type": "stream",
          "text": [
            "C:\\Users\\Tobii\\AppData\\Local\\Temp\\ipykernel_20164\\4159885035.py:18: RuntimeWarning: No clusters found, returning empty H0, clusters, and cluster_pv\n",
            "  F_obs, clusters, cluster_p_values, H0 = permutation_cluster_test(\n",
            "C:\\Users\\Tobii\\AppData\\Local\\Temp\\ipykernel_20164\\4159885035.py:18: RuntimeWarning: No clusters found, returning empty H0, clusters, and cluster_pv\n",
            "  F_obs, clusters, cluster_p_values, H0 = permutation_cluster_test(\n",
            "C:\\Users\\Tobii\\AppData\\Local\\Temp\\ipykernel_20164\\4159885035.py:18: RuntimeWarning: No clusters found, returning empty H0, clusters, and cluster_pv\n",
            "  F_obs, clusters, cluster_p_values, H0 = permutation_cluster_test(\n",
            "C:\\Users\\Tobii\\AppData\\Local\\Temp\\ipykernel_20164\\4159885035.py:18: RuntimeWarning: No clusters found, returning empty H0, clusters, and cluster_pv\n",
            "  F_obs, clusters, cluster_p_values, H0 = permutation_cluster_test(\n"
          ]
        }
      ],
      "source": [
        "from mne.stats import permutation_cluster_test\n",
        "\n",
        "for feature in range(5):\n",
        "    print(f\"--------------------------------------------------AROUSAL FEATURE {feature}-----------------------------------------------------\")\n",
        "    for i in range(7):\n",
        "        classes_1 = np.array(classes[i])\n",
        "        for j in range(7):\n",
        "            print('---------------------------------------------')\n",
        "            print(f'class {i} and class {j} permutation cluster test')\n",
        "            print('---------------------------------------------')\n",
        "            classes_2 = np.array(classes[j])\n",
        "            feature_1 = classes_1[:,:, feature]\n",
        "            feature_2 = classes_2[:,:, feature]\n",
        "            num = min(feature_1.shape[0], feature_2.shape[0])\n",
        "            x = np.stack((feature_1[:num], feature_2[:num]), axis=-1)\n",
        "            x = np.transpose(x, (2, 0, 1))\n",
        "            threshold = 6.0\n",
        "            F_obs, clusters, cluster_p_values, H0 = permutation_cluster_test(\n",
        "            [x[0,:], x[1,:]],\n",
        "            out_type=\"mask\",\n",
        "            n_permutations=100,\n",
        "            threshold=threshold,\n",
        "            tail=0)\n",
        "            print(clusters, cluster_p_values)"
      ]
    },
    {
      "cell_type": "code",
      "execution_count": null,
      "metadata": {},
      "outputs": [],
      "source": [
        "dataset = torch.utils.data.ConcatDataset(classes)\n",
        "train, test = torch.utils.data.random_split(classes, [.7, .3])\n",
        "X, Y = next(iter(DataLoader(dataset, len(dataset))))\n",
        "\n",
        "#fig = plot_distribution(one_hot_decoder(Y), title=f'N samples: {len(dataset)}')"
      ]
    },
    {
      "cell_type": "code",
      "execution_count": null,
      "metadata": {},
      "outputs": [
        {
          "ename": "FileNotFoundError",
          "evalue": "[Errno 2] No such file or directory: '/home/user/Downloads/X_balanced_valence_time_clean.npy'",
          "output_type": "error",
          "traceback": [
            "\u001b[1;31m---------------------------------------------------------------------------\u001b[0m",
            "\u001b[1;31mFileNotFoundError\u001b[0m                         Traceback (most recent call last)",
            "Cell \u001b[1;32mIn[14], line 1\u001b[0m\n\u001b[1;32m----> 1\u001b[0m X \u001b[39m=\u001b[39m np\u001b[39m.\u001b[39;49mload(\u001b[39m'\u001b[39;49m\u001b[39m/home/user/Downloads/X_balanced_valence_time_clean.npy\u001b[39;49m\u001b[39m'\u001b[39;49m)\n",
            "File \u001b[1;32mc:\\Users\\Tobii\\Projects\\oasisnn\\venv\\Lib\\site-packages\\numpy\\lib\\npyio.py:427\u001b[0m, in \u001b[0;36mload\u001b[1;34m(file, mmap_mode, allow_pickle, fix_imports, encoding, max_header_size)\u001b[0m\n\u001b[0;32m    425\u001b[0m     own_fid \u001b[39m=\u001b[39m \u001b[39mFalse\u001b[39;00m\n\u001b[0;32m    426\u001b[0m \u001b[39melse\u001b[39;00m:\n\u001b[1;32m--> 427\u001b[0m     fid \u001b[39m=\u001b[39m stack\u001b[39m.\u001b[39menter_context(\u001b[39mopen\u001b[39;49m(os_fspath(file), \u001b[39m\"\u001b[39;49m\u001b[39mrb\u001b[39;49m\u001b[39m\"\u001b[39;49m))\n\u001b[0;32m    428\u001b[0m     own_fid \u001b[39m=\u001b[39m \u001b[39mTrue\u001b[39;00m\n\u001b[0;32m    430\u001b[0m \u001b[39m# Code to distinguish from NumPy binary files and pickles.\u001b[39;00m\n",
            "\u001b[1;31mFileNotFoundError\u001b[0m: [Errno 2] No such file or directory: '/home/user/Downloads/X_balanced_valence_time_clean.npy'"
          ]
        }
      ],
      "source": [
        "X = np.load('/home/user/Downloads/X_balanced_valence_time_clean.npy')"
      ]
    },
    {
      "cell_type": "code",
      "execution_count": null,
      "metadata": {},
      "outputs": [
        {
          "ename": "FileNotFoundError",
          "evalue": "[Errno 2] No such file or directory: '/home/user/Downloads/y_balanced_valence_clean.npy'",
          "output_type": "error",
          "traceback": [
            "\u001b[1;31m---------------------------------------------------------------------------\u001b[0m",
            "\u001b[1;31mFileNotFoundError\u001b[0m                         Traceback (most recent call last)",
            "Cell \u001b[1;32mIn[16], line 1\u001b[0m\n\u001b[1;32m----> 1\u001b[0m Y \u001b[39m=\u001b[39m np\u001b[39m.\u001b[39;49mload(\u001b[39m'\u001b[39;49m\u001b[39m/home/user/Downloads/y_balanced_valence_clean.npy\u001b[39;49m\u001b[39m'\u001b[39;49m)\n\u001b[0;32m      2\u001b[0m X \u001b[39m=\u001b[39m np\u001b[39m.\u001b[39msqueeze(np\u001b[39m.\u001b[39mload(\u001b[39m'\u001b[39m\u001b[39m/home/user/Downloads/X_balanced_valence_time_clean.npy\u001b[39m\u001b[39m'\u001b[39m))\n\u001b[0;32m      3\u001b[0m dataset \u001b[39m=\u001b[39m EpochsDataset((X, Y), savepath\u001b[39m=\u001b[39m\u001b[39m'\u001b[39m\u001b[39m../datasets/valence_all\u001b[39m\u001b[39m'\u001b[39m)\n",
            "File \u001b[1;32mc:\\Users\\Tobii\\Projects\\oasisnn\\venv\\Lib\\site-packages\\numpy\\lib\\npyio.py:427\u001b[0m, in \u001b[0;36mload\u001b[1;34m(file, mmap_mode, allow_pickle, fix_imports, encoding, max_header_size)\u001b[0m\n\u001b[0;32m    425\u001b[0m     own_fid \u001b[39m=\u001b[39m \u001b[39mFalse\u001b[39;00m\n\u001b[0;32m    426\u001b[0m \u001b[39melse\u001b[39;00m:\n\u001b[1;32m--> 427\u001b[0m     fid \u001b[39m=\u001b[39m stack\u001b[39m.\u001b[39menter_context(\u001b[39mopen\u001b[39;49m(os_fspath(file), \u001b[39m\"\u001b[39;49m\u001b[39mrb\u001b[39;49m\u001b[39m\"\u001b[39;49m))\n\u001b[0;32m    428\u001b[0m     own_fid \u001b[39m=\u001b[39m \u001b[39mTrue\u001b[39;00m\n\u001b[0;32m    430\u001b[0m \u001b[39m# Code to distinguish from NumPy binary files and pickles.\u001b[39;00m\n",
            "\u001b[1;31mFileNotFoundError\u001b[0m: [Errno 2] No such file or directory: '/home/user/Downloads/y_balanced_valence_clean.npy'"
          ]
        }
      ],
      "source": [
        "Y = np.load('/home/user/Downloads/y_balanced_valence_clean.npy')\n",
        "X = np.squeeze(np.load('/home/user/Downloads/X_balanced_valence_time_clean.npy'))\n",
        "dataset = EpochsDataset((X, Y), savepath='../datasets/valence_all')\n",
        "train, test = torch.utils.data.random_split(dataset, [.7, .3])\n",
        "fig = plot_distribution(one_hot_decoder(Y), title=f'N samples: {len(dataset)}')"
      ]
    },
    {
      "cell_type": "code",
      "execution_count": null,
      "metadata": {},
      "outputs": [
        {
          "data": {
            "image/png": "[encoded data removed]",
            "text/plain": [
              "<Figure size 1000x600 with 1 Axes>"
            ]
          },
          "metadata": {},
          "output_type": "display_data"
        }
      ],
      "source": [
        "Y = np.load('/home/user/Downloads/y_balanced_arousal_clean.npy')\n",
        "X = np.squeeze(np.load('/home/user/Downloads/X_balanced_arousal_time_clean.npy'))\n",
        "dataset = EpochsDataset((X, Y), savepath='../datasets/valence_all')\n",
        "train, test = torch.utils.data.random_split(dataset, [.7, .3])\n",
        "fig = plot_distribution(one_hot_decoder(Y), title=f'N samples: {len(dataset)}')"
      ]
    },
    {
      "cell_type": "code",
      "execution_count": null,
      "metadata": {},
      "outputs": [
        {
          "ename": "TypeError",
          "evalue": "default_collate: batch must contain tensors, numpy arrays, numbers, dicts or lists; found <class 'deepmeg.data.datasets.EpochsDataset'>",
          "output_type": "error",
          "traceback": [
            "\u001b[1;31m---------------------------------------------------------------------------\u001b[0m",
            "\u001b[1;31mTypeError\u001b[0m                                 Traceback (most recent call last)",
            "Cell \u001b[1;32mIn[23], line 1\u001b[0m\n\u001b[1;32m----> 1\u001b[0m X, Y \u001b[39m=\u001b[39m \u001b[39mnext\u001b[39;49m(\u001b[39miter\u001b[39;49m(DataLoader(train, \u001b[39m1\u001b[39;49m)))\n",
            "File \u001b[1;32mc:\\Users\\Tobii\\Projects\\oasisnn\\venv\\Lib\\site-packages\\torch\\utils\\data\\dataloader.py:633\u001b[0m, in \u001b[0;36m_BaseDataLoaderIter.__next__\u001b[1;34m(self)\u001b[0m\n\u001b[0;32m    630\u001b[0m \u001b[39mif\u001b[39;00m \u001b[39mself\u001b[39m\u001b[39m.\u001b[39m_sampler_iter \u001b[39mis\u001b[39;00m \u001b[39mNone\u001b[39;00m:\n\u001b[0;32m    631\u001b[0m     \u001b[39m# TODO(https://github.com/pytorch/pytorch/issues/76750)\u001b[39;00m\n\u001b[0;32m    632\u001b[0m     \u001b[39mself\u001b[39m\u001b[39m.\u001b[39m_reset()  \u001b[39m# type: ignore[call-arg]\u001b[39;00m\n\u001b[1;32m--> 633\u001b[0m data \u001b[39m=\u001b[39m \u001b[39mself\u001b[39;49m\u001b[39m.\u001b[39;49m_next_data()\n\u001b[0;32m    634\u001b[0m \u001b[39mself\u001b[39m\u001b[39m.\u001b[39m_num_yielded \u001b[39m+\u001b[39m\u001b[39m=\u001b[39m \u001b[39m1\u001b[39m\n\u001b[0;32m    635\u001b[0m \u001b[39mif\u001b[39;00m \u001b[39mself\u001b[39m\u001b[39m.\u001b[39m_dataset_kind \u001b[39m==\u001b[39m _DatasetKind\u001b[39m.\u001b[39mIterable \u001b[39mand\u001b[39;00m \\\n\u001b[0;32m    636\u001b[0m         \u001b[39mself\u001b[39m\u001b[39m.\u001b[39m_IterableDataset_len_called \u001b[39mis\u001b[39;00m \u001b[39mnot\u001b[39;00m \u001b[39mNone\u001b[39;00m \u001b[39mand\u001b[39;00m \\\n\u001b[0;32m    637\u001b[0m         \u001b[39mself\u001b[39m\u001b[39m.\u001b[39m_num_yielded \u001b[39m>\u001b[39m \u001b[39mself\u001b[39m\u001b[39m.\u001b[39m_IterableDataset_len_called:\n",
            "File \u001b[1;32mc:\\Users\\Tobii\\Projects\\oasisnn\\venv\\Lib\\site-packages\\torch\\utils\\data\\dataloader.py:677\u001b[0m, in \u001b[0;36m_SingleProcessDataLoaderIter._next_data\u001b[1;34m(self)\u001b[0m\n\u001b[0;32m    675\u001b[0m \u001b[39mdef\u001b[39;00m \u001b[39m_next_data\u001b[39m(\u001b[39mself\u001b[39m):\n\u001b[0;32m    676\u001b[0m     index \u001b[39m=\u001b[39m \u001b[39mself\u001b[39m\u001b[39m.\u001b[39m_next_index()  \u001b[39m# may raise StopIteration\u001b[39;00m\n\u001b[1;32m--> 677\u001b[0m     data \u001b[39m=\u001b[39m \u001b[39mself\u001b[39;49m\u001b[39m.\u001b[39;49m_dataset_fetcher\u001b[39m.\u001b[39;49mfetch(index)  \u001b[39m# may raise StopIteration\u001b[39;00m\n\u001b[0;32m    678\u001b[0m     \u001b[39mif\u001b[39;00m \u001b[39mself\u001b[39m\u001b[39m.\u001b[39m_pin_memory:\n\u001b[0;32m    679\u001b[0m         data \u001b[39m=\u001b[39m _utils\u001b[39m.\u001b[39mpin_memory\u001b[39m.\u001b[39mpin_memory(data, \u001b[39mself\u001b[39m\u001b[39m.\u001b[39m_pin_memory_device)\n",
            "File \u001b[1;32mc:\\Users\\Tobii\\Projects\\oasisnn\\venv\\Lib\\site-packages\\torch\\utils\\data\\_utils\\fetch.py:54\u001b[0m, in \u001b[0;36m_MapDatasetFetcher.fetch\u001b[1;34m(self, possibly_batched_index)\u001b[0m\n\u001b[0;32m     52\u001b[0m \u001b[39melse\u001b[39;00m:\n\u001b[0;32m     53\u001b[0m     data \u001b[39m=\u001b[39m \u001b[39mself\u001b[39m\u001b[39m.\u001b[39mdataset[possibly_batched_index]\n\u001b[1;32m---> 54\u001b[0m \u001b[39mreturn\u001b[39;00m \u001b[39mself\u001b[39;49m\u001b[39m.\u001b[39;49mcollate_fn(data)\n",
            "File \u001b[1;32mc:\\Users\\Tobii\\Projects\\oasisnn\\venv\\Lib\\site-packages\\torch\\utils\\data\\_utils\\collate.py:265\u001b[0m, in \u001b[0;36mdefault_collate\u001b[1;34m(batch)\u001b[0m\n\u001b[0;32m    204\u001b[0m \u001b[39mdef\u001b[39;00m \u001b[39mdefault_collate\u001b[39m(batch):\n\u001b[0;32m    205\u001b[0m \u001b[39m    \u001b[39m\u001b[39mr\u001b[39m\u001b[39m\"\"\"\u001b[39;00m\n\u001b[0;32m    206\u001b[0m \u001b[39m        Function that takes in a batch of data and puts the elements within the batch\u001b[39;00m\n\u001b[0;32m    207\u001b[0m \u001b[39m        into a tensor with an additional outer dimension - batch size. The exact output type can be\u001b[39;00m\n\u001b[1;32m   (...)\u001b[0m\n\u001b[0;32m    263\u001b[0m \u001b[39m            >>> default_collate(batch)  # Handle `CustomType` automatically\u001b[39;00m\n\u001b[0;32m    264\u001b[0m \u001b[39m    \"\"\"\u001b[39;00m\n\u001b[1;32m--> 265\u001b[0m     \u001b[39mreturn\u001b[39;00m collate(batch, collate_fn_map\u001b[39m=\u001b[39;49mdefault_collate_fn_map)\n",
            "File \u001b[1;32mc:\\Users\\Tobii\\Projects\\oasisnn\\venv\\Lib\\site-packages\\torch\\utils\\data\\_utils\\collate.py:150\u001b[0m, in \u001b[0;36mcollate\u001b[1;34m(batch, collate_fn_map)\u001b[0m\n\u001b[0;32m    146\u001b[0m         \u001b[39mexcept\u001b[39;00m \u001b[39mTypeError\u001b[39;00m:\n\u001b[0;32m    147\u001b[0m             \u001b[39m# The sequence type may not support `__init__(iterable)` (e.g., `range`).\u001b[39;00m\n\u001b[0;32m    148\u001b[0m             \u001b[39mreturn\u001b[39;00m [collate(samples, collate_fn_map\u001b[39m=\u001b[39mcollate_fn_map) \u001b[39mfor\u001b[39;00m samples \u001b[39min\u001b[39;00m transposed]\n\u001b[1;32m--> 150\u001b[0m \u001b[39mraise\u001b[39;00m \u001b[39mTypeError\u001b[39;00m(default_collate_err_msg_format\u001b[39m.\u001b[39mformat(elem_type))\n",
            "\u001b[1;31mTypeError\u001b[0m: default_collate: batch must contain tensors, numpy arrays, numbers, dicts or lists; found <class 'deepmeg.data.datasets.EpochsDataset'>"
          ]
        }
      ],
      "source": [
        "X, Y = next(iter(DataLoader(train, 1)))"
      ]
    },
    {
      "cell_type": "code",
      "execution_count": null,
      "metadata": {},
      "outputs": [
        {
          "data": {
            "text/plain": [
              "(torch.Size([1, 300, 5]),\n",
              " (tensor(-3.2018), tensor(-0.4701), tensor(0.8945), tensor(1.7951)),\n",
              " torch.Size([1, 7]),\n",
              " tensor([[0., 0., 0., 0., 0., 0., 1.]]),\n",
              " tensor(6))"
            ]
          },
          "execution_count": 7,
          "metadata": {},
          "output_type": "execute_result"
        }
      ],
      "source": [
        "X.shape, (X.min(), X.mean(), X.std(), X.max()), Y.shape, Y, torch.argmax(Y)"
      ]
    },
    {
      "cell_type": "code",
      "execution_count": null,
      "metadata": {},
      "outputs": [
        {
          "data": {
            "text/plain": [
              "(76, 32)"
            ]
          },
          "execution_count": 25,
          "metadata": {},
          "output_type": "execute_result"
        }
      ],
      "source": [
        "len(train), len(test)"
      ]
    },
    {
      "cell_type": "markdown",
      "metadata": {},
      "source": [
        "## Model"
      ]
    },
    {
      "cell_type": "code",
      "execution_count": null,
      "metadata": {
        "colab": {
          "base_uri": "https://localhost:8080/"
        },
        "id": "8FQhzdIbrq-o",
        "outputId": "c9053a6d-6b46-47dc-d691-7e0a9ae8f1fb"
      },
      "outputs": [],
      "source": [
        "class TinyNet(BaseModel):\n",
        "\n",
        "    def __init__(\n",
        "        self,\n",
        "        input_size: int,\n",
        "        encoder_hidden_size: int,\n",
        "        decoder_hidden_size: int,\n",
        "        attention_size: int,\n",
        "        n_times: int,\n",
        "        n_outputs: int\n",
        "    ):\n",
        "        super().__init__()\n",
        "        self.linear = nn.Linear(n_times, n_times//10)\n",
        "        self.attn_net = EncoderDecoderLSTM(\n",
        "            input_size=input_size,\n",
        "            encoder_hidden_size=encoder_hidden_size,\n",
        "            decoder_hidden_size=decoder_hidden_size,\n",
        "            attention_size=attention_size\n",
        "        )\n",
        "        self.fc_layer = nn.Linear(decoder_hidden_size*n_times//10, n_outputs)\n",
        "        # self.fc_layer = nn.Linear(decoder_hidden_size*n_times, n_outputs)\n",
        "\n",
        "\n",
        "    def forward(self, x: torch.Tensor):\n",
        "        x = torch.permute(x, (0, 2, 1))\n",
        "        x = self.linear(x)\n",
        "        x = torch.permute(x, (0, 2, 1))\n",
        "        x = self.attn_net(x)\n",
        "        x = torch.flatten(x, 1)\n",
        "        return self.fc_layer(x)\n"
      ]
    },
    {
      "cell_type": "code",
      "execution_count": null,
      "metadata": {},
      "outputs": [
        {
          "data": {
            "text/plain": [
              "(torch.Size([316, 300, 5]), torch.Size([316, 7]))"
            ]
          },
          "execution_count": 32,
          "metadata": {},
          "output_type": "execute_result"
        }
      ],
      "source": [
        "X.shape, Y.shape"
      ]
    },
    {
      "cell_type": "code",
      "execution_count": null,
      "metadata": {
        "id": "qolD0P6Zt7BZ"
      },
      "outputs": [],
      "source": [
        "config = dict(\n",
        "    input_size=X.shape[-1],\n",
        "    encoder_hidden_size=3,\n",
        "    decoder_hidden_size=3,\n",
        "    attention_size=3,\n",
        "    n_times=X.shape[1],\n",
        "    n_outputs=Y.shape[-1]\n",
        ")"
      ]
    },
    {
      "cell_type": "code",
      "execution_count": null,
      "metadata": {},
      "outputs": [
        {
          "data": {
            "text/plain": [
              "7"
            ]
          },
          "execution_count": 34,
          "metadata": {},
          "output_type": "execute_result"
        }
      ],
      "source": [
        "Y.shape[-1]"
      ]
    },
    {
      "cell_type": "code",
      "execution_count": null,
      "metadata": {
        "id": "cm0k5lmKuco1"
      },
      "outputs": [],
      "source": [
        "model = TinyNet(\n",
        "    **config\n",
        ")\n",
        "\n",
        "optimizer = torch.optim.AdamW\n",
        "\n",
        "# loss = torch.nn.BCEWithLogitsLoss()\n",
        "loss = torch.nn.CrossEntropyLoss()\n",
        "    # weight=torch.tensor([\n",
        "    #     1., # 0\n",
        "    #     1., # 1\n",
        "    #     1., # 2\n",
        "    #     .5, # 3\n",
        "    #     .5, # 4\n",
        "    #     1., # 5\n",
        "    #     1., # 6\n",
        "    # ])\n",
        "# )\n",
        "\n",
        "metric = accuracy\n",
        "\n",
        "model.compile(\n",
        "    optimizer,\n",
        "    loss,\n",
        "    metric,\n",
        "    callbacks=[\n",
        "        PrintingCallback(),\n",
        "        EarlyStopping(monitor='loss_train', patience=30, restore_best_weights=False),\n",
        "        # L2Reg(\n",
        "        #     ['linear.weight', 'attn_net.encoder_lstm.weight_hh_l0'],\n",
        "        #     .001,\n",
        "        # )\n",
        "    ]\n",
        ")"
      ]
    },
    {
      "cell_type": "code",
      "execution_count": null,
      "metadata": {},
      "outputs": [
        {
          "data": {
            "text/plain": [
              "dict_keys(['attn_net.encoder_lstm.weight_ih_l0', 'attn_net.encoder_lstm.weight_hh_l0', 'attn_net.encoder_lstm.bias_ih_l0', 'attn_net.encoder_lstm.bias_hh_l0', 'attn_net.attention.bias', 'attn_net.attention.W_enc.weight', 'attn_net.attention.W_enc.bias', 'attn_net.attention.W_dec.weight', 'attn_net.attention.W_dec.bias', 'attn_net.attention.V.weight', 'attn_net.attention.V.bias', 'attn_net.decoder_lstm.weight_ih', 'attn_net.decoder_lstm.weight_hh', 'attn_net.decoder_lstm.bias_ih', 'attn_net.decoder_lstm.bias_hh', 'fc_layer.weight', 'fc_layer.bias'])"
            ]
          },
          "execution_count": 36,
          "metadata": {},
          "output_type": "execute_result"
        }
      ],
      "source": [
        "dict(model.named_parameters()).keys()"
      ]
    },
    {
      "cell_type": "code",
      "execution_count": null,
      "metadata": {
        "id": "Xm7YqcNu0VEt"
      },
      "outputs": [],
      "source": [
        "import sys\n",
        "\n",
        "if hasattr(sys.stdout, 'file'):\n",
        "  sys.stdout = sys.stdout.file"
      ]
    },
    {
      "cell_type": "code",
      "execution_count": null,
      "metadata": {
        "colab": {
          "base_uri": "https://localhost:8080/",
          "height": 1000
        },
        "id": "O0XCBvEbu87r",
        "outputId": "67cfdffc-7f03-4359-ff39-b6970ef4ea46"
      },
      "outputs": [
        {
          "name": "stdout",
          "output_type": "stream",
          "text": [
            "  0%|          | 0/1500 [00:00<?, ?it/s]\n",
            "default_collate: batch must contain tensors, numpy arrays, numbers, dicts or lists; found <class 'deepmeg.data.datasets.EpochsDataset'>\n"
          ]
        },
        {
          "name": "stderr",
          "output_type": "stream",
          "text": [
            "Traceback (most recent call last):\n",
            "  File \"c:\\Users\\Tobii\\Projects\\oasisnn\\venv\\Lib\\site-packages\\deepmeg\\training\\trainers.py\", line 351, in fit\n",
            "    train_metrics = self.fit_epoch(train_loader, update_every_n_batches)\n",
            "                    ^^^^^^^^^^^^^^^^^^^^^^^^^^^^^^^^^^^^^^^^^^^^^^^^^^^^\n",
            "  File \"c:\\Users\\Tobii\\Projects\\oasisnn\\venv\\Lib\\site-packages\\deepmeg\\training\\trainers.py\", line 288, in fit_epoch\n",
            "    batch_metrics = self.fit_batch(train_iterator, update_every_n_batches)\n",
            "                    ^^^^^^^^^^^^^^^^^^^^^^^^^^^^^^^^^^^^^^^^^^^^^^^^^^^^^^\n",
            "  File \"c:\\Users\\Tobii\\Projects\\oasisnn\\venv\\Lib\\site-packages\\deepmeg\\training\\trainers.py\", line 219, in fit_batch\n",
            "    xs, ys_true = next(train_iterator)\n",
            "                  ^^^^^^^^^^^^^^^^^^^^\n",
            "  File \"c:\\Users\\Tobii\\Projects\\oasisnn\\venv\\Lib\\site-packages\\torch\\utils\\data\\dataloader.py\", line 633, in __next__\n",
            "    data = self._next_data()\n",
            "           ^^^^^^^^^^^^^^^^^\n",
            "  File \"c:\\Users\\Tobii\\Projects\\oasisnn\\venv\\Lib\\site-packages\\torch\\utils\\data\\dataloader.py\", line 677, in _next_data\n",
            "    data = self._dataset_fetcher.fetch(index)  # may raise StopIteration\n",
            "           ^^^^^^^^^^^^^^^^^^^^^^^^^^^^^^^^^^\n",
            "  File \"c:\\Users\\Tobii\\Projects\\oasisnn\\venv\\Lib\\site-packages\\torch\\utils\\data\\_utils\\fetch.py\", line 54, in fetch\n",
            "    return self.collate_fn(data)\n",
            "           ^^^^^^^^^^^^^^^^^^^^^\n",
            "  File \"c:\\Users\\Tobii\\Projects\\oasisnn\\venv\\Lib\\site-packages\\torch\\utils\\data\\_utils\\collate.py\", line 265, in default_collate\n",
            "    return collate(batch, collate_fn_map=default_collate_fn_map)\n",
            "           ^^^^^^^^^^^^^^^^^^^^^^^^^^^^^^^^^^^^^^^^^^^^^^^^^^^^^\n",
            "  File \"c:\\Users\\Tobii\\Projects\\oasisnn\\venv\\Lib\\site-packages\\torch\\utils\\data\\_utils\\collate.py\", line 150, in collate\n",
            "    raise TypeError(default_collate_err_msg_format.format(elem_type))\n",
            "TypeError: default_collate: batch must contain tensors, numpy arrays, numbers, dicts or lists; found <class 'deepmeg.data.datasets.EpochsDataset'>\n"
          ]
        },
        {
          "ename": "AttributeError",
          "evalue": "'NoneType' object has no attribute 'items'",
          "output_type": "error",
          "traceback": [
            "\u001b[1;31m---------------------------------------------------------------------------\u001b[0m",
            "\u001b[1;31mAttributeError\u001b[0m                            Traceback (most recent call last)",
            "Cell \u001b[1;32mIn[38], line 2\u001b[0m\n\u001b[0;32m      1\u001b[0m history \u001b[39m=\u001b[39m model\u001b[39m.\u001b[39mfit(train, n_epochs\u001b[39m=\u001b[39m\u001b[39m1500\u001b[39m, batch_size\u001b[39m=\u001b[39m\u001b[39m400\u001b[39m, val_batch_size\u001b[39m=\u001b[39m\u001b[39m200\u001b[39m)\n\u001b[1;32m----> 2\u001b[0m plot_metrics(history)\n",
            "File \u001b[1;32mc:\\Users\\Tobii\\Projects\\oasisnn\\venv\\Lib\\site-packages\\deepmeg\\utils\\viz.py:21\u001b[0m, in \u001b[0;36mplot_metrics\u001b[1;34m(metrics)\u001b[0m\n\u001b[0;32m     18\u001b[0m \u001b[39mdef\u001b[39;00m \u001b[39mplot_metrics\u001b[39m(metrics: \u001b[39mdict\u001b[39m[\u001b[39mstr\u001b[39m, np\u001b[39m.\u001b[39mndarray]) \u001b[39m-\u001b[39m\u001b[39m>\u001b[39m mpl\u001b[39m.\u001b[39mfigure\u001b[39m.\u001b[39mFigure \u001b[39m|\u001b[39m \u001b[39mlist\u001b[39m[mpl\u001b[39m.\u001b[39mfigure\u001b[39m.\u001b[39mFigure]:\n\u001b[0;32m     19\u001b[0m     plot_dict \u001b[39m=\u001b[39m defaultdict(\u001b[39mdict\u001b[39m)\n\u001b[1;32m---> 21\u001b[0m     \u001b[39mfor\u001b[39;00m metric, values \u001b[39min\u001b[39;00m metrics\u001b[39m.\u001b[39;49mitems():\n\u001b[0;32m     22\u001b[0m         metric_data \u001b[39m=\u001b[39m metric\u001b[39m.\u001b[39msplit(\u001b[39m'\u001b[39m\u001b[39m_\u001b[39m\u001b[39m'\u001b[39m)\n\u001b[0;32m     23\u001b[0m         metric_name \u001b[39m=\u001b[39m \u001b[39m'\u001b[39m\u001b[39m_\u001b[39m\u001b[39m'\u001b[39m\u001b[39m.\u001b[39mjoin(metric_data[:\u001b[39m-\u001b[39m\u001b[39m1\u001b[39m])\n",
            "\u001b[1;31mAttributeError\u001b[0m: 'NoneType' object has no attribute 'items'"
          ]
        }
      ],
      "source": [
        "history = model.fit(train, n_epochs=1500, batch_size=400, val_batch_size=200)\n",
        "plot_metrics(history)"
      ]
    },
    {
      "cell_type": "code",
      "execution_count": null,
      "metadata": {},
      "outputs": [
        {
          "ename": "TypeError",
          "evalue": "default_collate: batch must contain tensors, numpy arrays, numbers, dicts or lists; found <class 'deepmeg.data.datasets.EpochsDataset'>",
          "output_type": "error",
          "traceback": [
            "\u001b[1;31m---------------------------------------------------------------------------\u001b[0m",
            "\u001b[1;31mTypeError\u001b[0m                                 Traceback (most recent call last)",
            "Cell \u001b[1;32mIn[39], line 1\u001b[0m\n\u001b[1;32m----> 1\u001b[0m train_result \u001b[39m=\u001b[39m model\u001b[39m.\u001b[39;49mevaluate(train)\n\u001b[0;32m      2\u001b[0m result \u001b[39m=\u001b[39m model\u001b[39m.\u001b[39mevaluate(test)\n\u001b[0;32m      4\u001b[0m \u001b[39mfor\u001b[39;00m measure, value \u001b[39min\u001b[39;00m train_result\u001b[39m.\u001b[39mitems():\n",
            "File \u001b[1;32mc:\\Users\\Tobii\\Projects\\oasisnn\\venv\\Lib\\site-packages\\deepmeg\\models\\__init__.py:245\u001b[0m, in \u001b[0;36mBaseModel.evaluate\u001b[1;34m(self, data, batch_size, eval_on_n_batches)\u001b[0m\n\u001b[0;32m    233\u001b[0m \u001b[39m\u001b[39m\u001b[39m\"\"\"\u001b[39;00m\n\u001b[0;32m    234\u001b[0m \u001b[39mEvaluate the model on the given dataset or dataloader.\u001b[39;00m\n\u001b[0;32m    235\u001b[0m \n\u001b[1;32m   (...)\u001b[0m\n\u001b[0;32m    242\u001b[0m \u001b[39m    dict: A dictionary containing the evaluation metrics and their values.\u001b[39;00m\n\u001b[0;32m    243\u001b[0m \u001b[39m\"\"\"\u001b[39;00m\n\u001b[0;32m    244\u001b[0m val_loader, _ \u001b[39m=\u001b[39m \u001b[39mself\u001b[39m\u001b[39m.\u001b[39m_prepare_dataloaders(data, batch_size, \u001b[39mNone\u001b[39;00m, \u001b[39mNone\u001b[39;00m)\n\u001b[1;32m--> 245\u001b[0m \u001b[39mreturn\u001b[39;00m \u001b[39mself\u001b[39;49m\u001b[39m.\u001b[39;49mtrainer\u001b[39m.\u001b[39;49mevaluate(val_loader, eval_on_n_batches)\n",
            "File \u001b[1;32mc:\\Users\\Tobii\\Projects\\oasisnn\\venv\\Lib\\site-packages\\torch\\utils\\_contextlib.py:115\u001b[0m, in \u001b[0;36mcontext_decorator.<locals>.decorate_context\u001b[1;34m(*args, **kwargs)\u001b[0m\n\u001b[0;32m    112\u001b[0m \u001b[39m@functools\u001b[39m\u001b[39m.\u001b[39mwraps(func)\n\u001b[0;32m    113\u001b[0m \u001b[39mdef\u001b[39;00m \u001b[39mdecorate_context\u001b[39m(\u001b[39m*\u001b[39margs, \u001b[39m*\u001b[39m\u001b[39m*\u001b[39mkwargs):\n\u001b[0;32m    114\u001b[0m     \u001b[39mwith\u001b[39;00m ctx_factory():\n\u001b[1;32m--> 115\u001b[0m         \u001b[39mreturn\u001b[39;00m func(\u001b[39m*\u001b[39;49margs, \u001b[39m*\u001b[39;49m\u001b[39m*\u001b[39;49mkwargs)\n",
            "File \u001b[1;32mc:\\Users\\Tobii\\Projects\\oasisnn\\venv\\Lib\\site-packages\\deepmeg\\training\\trainers.py:178\u001b[0m, in \u001b[0;36mTrainer.evaluate\u001b[1;34m(self, val_loader, eval_on_n_batches)\u001b[0m\n\u001b[0;32m    175\u001b[0m         callback\u001b[39m.\u001b[39mon_evaluate_begin()\n\u001b[0;32m    177\u001b[0m \u001b[39mwhile\u001b[39;00m \u001b[39mTrue\u001b[39;00m:\n\u001b[1;32m--> 178\u001b[0m     batch_metrics \u001b[39m=\u001b[39m \u001b[39mself\u001b[39;49m\u001b[39m.\u001b[39;49mevaluate_batch(val_iterator, eval_on_n_batches)\n\u001b[0;32m    180\u001b[0m     \u001b[39mif\u001b[39;00m batch_metrics \u001b[39mis\u001b[39;00m \u001b[39mNone\u001b[39;00m \u001b[39mor\u001b[39;00m \u001b[39mself\u001b[39m\u001b[39m.\u001b[39m_interrupt:\n\u001b[0;32m    181\u001b[0m         \u001b[39mbreak\u001b[39;00m\n",
            "File \u001b[1;32mc:\\Users\\Tobii\\Projects\\oasisnn\\venv\\Lib\\site-packages\\torch\\utils\\_contextlib.py:115\u001b[0m, in \u001b[0;36mcontext_decorator.<locals>.decorate_context\u001b[1;34m(*args, **kwargs)\u001b[0m\n\u001b[0;32m    112\u001b[0m \u001b[39m@functools\u001b[39m\u001b[39m.\u001b[39mwraps(func)\n\u001b[0;32m    113\u001b[0m \u001b[39mdef\u001b[39;00m \u001b[39mdecorate_context\u001b[39m(\u001b[39m*\u001b[39margs, \u001b[39m*\u001b[39m\u001b[39m*\u001b[39mkwargs):\n\u001b[0;32m    114\u001b[0m     \u001b[39mwith\u001b[39;00m ctx_factory():\n\u001b[1;32m--> 115\u001b[0m         \u001b[39mreturn\u001b[39;00m func(\u001b[39m*\u001b[39;49margs, \u001b[39m*\u001b[39;49m\u001b[39m*\u001b[39;49mkwargs)\n",
            "File \u001b[1;32mc:\\Users\\Tobii\\Projects\\oasisnn\\venv\\Lib\\site-packages\\deepmeg\\training\\trainers.py:109\u001b[0m, in \u001b[0;36mTrainer.evaluate_batch\u001b[1;34m(self, val_iterator, eval_on_n_batches)\u001b[0m\n\u001b[0;32m    106\u001b[0m \u001b[39mfor\u001b[39;00m real_batch_number \u001b[39min\u001b[39;00m \u001b[39mrange\u001b[39m(eval_on_n_batches):\n\u001b[0;32m    108\u001b[0m     \u001b[39mtry\u001b[39;00m:\n\u001b[1;32m--> 109\u001b[0m         xs, ys_true \u001b[39m=\u001b[39m \u001b[39mnext\u001b[39;49m(val_iterator)\n\u001b[0;32m    111\u001b[0m         \u001b[39mself\u001b[39m\u001b[39m.\u001b[39mattach_tensors_to_device(xs, ys_true)\n\u001b[0;32m    113\u001b[0m         \u001b[39mif\u001b[39;00m \u001b[39mself\u001b[39m\u001b[39m.\u001b[39mcallbacks:\n",
            "File \u001b[1;32mc:\\Users\\Tobii\\Projects\\oasisnn\\venv\\Lib\\site-packages\\torch\\utils\\data\\dataloader.py:633\u001b[0m, in \u001b[0;36m_BaseDataLoaderIter.__next__\u001b[1;34m(self)\u001b[0m\n\u001b[0;32m    630\u001b[0m \u001b[39mif\u001b[39;00m \u001b[39mself\u001b[39m\u001b[39m.\u001b[39m_sampler_iter \u001b[39mis\u001b[39;00m \u001b[39mNone\u001b[39;00m:\n\u001b[0;32m    631\u001b[0m     \u001b[39m# TODO(https://github.com/pytorch/pytorch/issues/76750)\u001b[39;00m\n\u001b[0;32m    632\u001b[0m     \u001b[39mself\u001b[39m\u001b[39m.\u001b[39m_reset()  \u001b[39m# type: ignore[call-arg]\u001b[39;00m\n\u001b[1;32m--> 633\u001b[0m data \u001b[39m=\u001b[39m \u001b[39mself\u001b[39;49m\u001b[39m.\u001b[39;49m_next_data()\n\u001b[0;32m    634\u001b[0m \u001b[39mself\u001b[39m\u001b[39m.\u001b[39m_num_yielded \u001b[39m+\u001b[39m\u001b[39m=\u001b[39m \u001b[39m1\u001b[39m\n\u001b[0;32m    635\u001b[0m \u001b[39mif\u001b[39;00m \u001b[39mself\u001b[39m\u001b[39m.\u001b[39m_dataset_kind \u001b[39m==\u001b[39m _DatasetKind\u001b[39m.\u001b[39mIterable \u001b[39mand\u001b[39;00m \\\n\u001b[0;32m    636\u001b[0m         \u001b[39mself\u001b[39m\u001b[39m.\u001b[39m_IterableDataset_len_called \u001b[39mis\u001b[39;00m \u001b[39mnot\u001b[39;00m \u001b[39mNone\u001b[39;00m \u001b[39mand\u001b[39;00m \\\n\u001b[0;32m    637\u001b[0m         \u001b[39mself\u001b[39m\u001b[39m.\u001b[39m_num_yielded \u001b[39m>\u001b[39m \u001b[39mself\u001b[39m\u001b[39m.\u001b[39m_IterableDataset_len_called:\n",
            "File \u001b[1;32mc:\\Users\\Tobii\\Projects\\oasisnn\\venv\\Lib\\site-packages\\torch\\utils\\data\\dataloader.py:677\u001b[0m, in \u001b[0;36m_SingleProcessDataLoaderIter._next_data\u001b[1;34m(self)\u001b[0m\n\u001b[0;32m    675\u001b[0m \u001b[39mdef\u001b[39;00m \u001b[39m_next_data\u001b[39m(\u001b[39mself\u001b[39m):\n\u001b[0;32m    676\u001b[0m     index \u001b[39m=\u001b[39m \u001b[39mself\u001b[39m\u001b[39m.\u001b[39m_next_index()  \u001b[39m# may raise StopIteration\u001b[39;00m\n\u001b[1;32m--> 677\u001b[0m     data \u001b[39m=\u001b[39m \u001b[39mself\u001b[39;49m\u001b[39m.\u001b[39;49m_dataset_fetcher\u001b[39m.\u001b[39;49mfetch(index)  \u001b[39m# may raise StopIteration\u001b[39;00m\n\u001b[0;32m    678\u001b[0m     \u001b[39mif\u001b[39;00m \u001b[39mself\u001b[39m\u001b[39m.\u001b[39m_pin_memory:\n\u001b[0;32m    679\u001b[0m         data \u001b[39m=\u001b[39m _utils\u001b[39m.\u001b[39mpin_memory\u001b[39m.\u001b[39mpin_memory(data, \u001b[39mself\u001b[39m\u001b[39m.\u001b[39m_pin_memory_device)\n",
            "File \u001b[1;32mc:\\Users\\Tobii\\Projects\\oasisnn\\venv\\Lib\\site-packages\\torch\\utils\\data\\_utils\\fetch.py:54\u001b[0m, in \u001b[0;36m_MapDatasetFetcher.fetch\u001b[1;34m(self, possibly_batched_index)\u001b[0m\n\u001b[0;32m     52\u001b[0m \u001b[39melse\u001b[39;00m:\n\u001b[0;32m     53\u001b[0m     data \u001b[39m=\u001b[39m \u001b[39mself\u001b[39m\u001b[39m.\u001b[39mdataset[possibly_batched_index]\n\u001b[1;32m---> 54\u001b[0m \u001b[39mreturn\u001b[39;00m \u001b[39mself\u001b[39;49m\u001b[39m.\u001b[39;49mcollate_fn(data)\n",
            "File \u001b[1;32mc:\\Users\\Tobii\\Projects\\oasisnn\\venv\\Lib\\site-packages\\torch\\utils\\data\\_utils\\collate.py:265\u001b[0m, in \u001b[0;36mdefault_collate\u001b[1;34m(batch)\u001b[0m\n\u001b[0;32m    204\u001b[0m \u001b[39mdef\u001b[39;00m \u001b[39mdefault_collate\u001b[39m(batch):\n\u001b[0;32m    205\u001b[0m \u001b[39m    \u001b[39m\u001b[39mr\u001b[39m\u001b[39m\"\"\"\u001b[39;00m\n\u001b[0;32m    206\u001b[0m \u001b[39m        Function that takes in a batch of data and puts the elements within the batch\u001b[39;00m\n\u001b[0;32m    207\u001b[0m \u001b[39m        into a tensor with an additional outer dimension - batch size. The exact output type can be\u001b[39;00m\n\u001b[1;32m   (...)\u001b[0m\n\u001b[0;32m    263\u001b[0m \u001b[39m            >>> default_collate(batch)  # Handle `CustomType` automatically\u001b[39;00m\n\u001b[0;32m    264\u001b[0m \u001b[39m    \"\"\"\u001b[39;00m\n\u001b[1;32m--> 265\u001b[0m     \u001b[39mreturn\u001b[39;00m collate(batch, collate_fn_map\u001b[39m=\u001b[39;49mdefault_collate_fn_map)\n",
            "File \u001b[1;32mc:\\Users\\Tobii\\Projects\\oasisnn\\venv\\Lib\\site-packages\\torch\\utils\\data\\_utils\\collate.py:150\u001b[0m, in \u001b[0;36mcollate\u001b[1;34m(batch, collate_fn_map)\u001b[0m\n\u001b[0;32m    146\u001b[0m         \u001b[39mexcept\u001b[39;00m \u001b[39mTypeError\u001b[39;00m:\n\u001b[0;32m    147\u001b[0m             \u001b[39m# The sequence type may not support `__init__(iterable)` (e.g., `range`).\u001b[39;00m\n\u001b[0;32m    148\u001b[0m             \u001b[39mreturn\u001b[39;00m [collate(samples, collate_fn_map\u001b[39m=\u001b[39mcollate_fn_map) \u001b[39mfor\u001b[39;00m samples \u001b[39min\u001b[39;00m transposed]\n\u001b[1;32m--> 150\u001b[0m \u001b[39mraise\u001b[39;00m \u001b[39mTypeError\u001b[39;00m(default_collate_err_msg_format\u001b[39m.\u001b[39mformat(elem_type))\n",
            "\u001b[1;31mTypeError\u001b[0m: default_collate: batch must contain tensors, numpy arrays, numbers, dicts or lists; found <class 'deepmeg.data.datasets.EpochsDataset'>"
          ]
        }
      ],
      "source": [
        "train_result = model.evaluate(train)\n",
        "result = model.evaluate(test)\n",
        "\n",
        "for measure, value in train_result.items():\n",
        "    print(f'train_{measure}: {value}')\n",
        "\n",
        "for measure, value in result.items():\n",
        "    print(f'{measure}: {value}')"
      ]
    },
    {
      "cell_type": "code",
      "execution_count": null,
      "metadata": {
        "id": "Ms9i9_Snw3RV"
      },
      "outputs": [
        {
          "ename": "TypeError",
          "evalue": "default_collate: batch must contain tensors, numpy arrays, numbers, dicts or lists; found <class 'deepmeg.data.datasets.EpochsDataset'>",
          "output_type": "error",
          "traceback": [
            "\u001b[1;31m---------------------------------------------------------------------------\u001b[0m",
            "\u001b[1;31mTypeError\u001b[0m                                 Traceback (most recent call last)",
            "Cell \u001b[1;32mIn[40], line 1\u001b[0m\n\u001b[1;32m----> 1\u001b[0m X_test, Y_test \u001b[39m=\u001b[39m \u001b[39mnext\u001b[39;49m(\u001b[39miter\u001b[39;49m(DataLoader(test, \u001b[39mlen\u001b[39;49m(test))))\n\u001b[0;32m      2\u001b[0m \u001b[39mprint\u001b[39m(\u001b[39mset\u001b[39m(one_hot_decoder(Y_test)))\n\u001b[0;32m      5\u001b[0m Preds_test \u001b[39m=\u001b[39m model(X_test)\n",
            "File \u001b[1;32mc:\\Users\\Tobii\\Projects\\oasisnn\\venv\\Lib\\site-packages\\torch\\utils\\data\\dataloader.py:633\u001b[0m, in \u001b[0;36m_BaseDataLoaderIter.__next__\u001b[1;34m(self)\u001b[0m\n\u001b[0;32m    630\u001b[0m \u001b[39mif\u001b[39;00m \u001b[39mself\u001b[39m\u001b[39m.\u001b[39m_sampler_iter \u001b[39mis\u001b[39;00m \u001b[39mNone\u001b[39;00m:\n\u001b[0;32m    631\u001b[0m     \u001b[39m# TODO(https://github.com/pytorch/pytorch/issues/76750)\u001b[39;00m\n\u001b[0;32m    632\u001b[0m     \u001b[39mself\u001b[39m\u001b[39m.\u001b[39m_reset()  \u001b[39m# type: ignore[call-arg]\u001b[39;00m\n\u001b[1;32m--> 633\u001b[0m data \u001b[39m=\u001b[39m \u001b[39mself\u001b[39;49m\u001b[39m.\u001b[39;49m_next_data()\n\u001b[0;32m    634\u001b[0m \u001b[39mself\u001b[39m\u001b[39m.\u001b[39m_num_yielded \u001b[39m+\u001b[39m\u001b[39m=\u001b[39m \u001b[39m1\u001b[39m\n\u001b[0;32m    635\u001b[0m \u001b[39mif\u001b[39;00m \u001b[39mself\u001b[39m\u001b[39m.\u001b[39m_dataset_kind \u001b[39m==\u001b[39m _DatasetKind\u001b[39m.\u001b[39mIterable \u001b[39mand\u001b[39;00m \\\n\u001b[0;32m    636\u001b[0m         \u001b[39mself\u001b[39m\u001b[39m.\u001b[39m_IterableDataset_len_called \u001b[39mis\u001b[39;00m \u001b[39mnot\u001b[39;00m \u001b[39mNone\u001b[39;00m \u001b[39mand\u001b[39;00m \\\n\u001b[0;32m    637\u001b[0m         \u001b[39mself\u001b[39m\u001b[39m.\u001b[39m_num_yielded \u001b[39m>\u001b[39m \u001b[39mself\u001b[39m\u001b[39m.\u001b[39m_IterableDataset_len_called:\n",
            "File \u001b[1;32mc:\\Users\\Tobii\\Projects\\oasisnn\\venv\\Lib\\site-packages\\torch\\utils\\data\\dataloader.py:677\u001b[0m, in \u001b[0;36m_SingleProcessDataLoaderIter._next_data\u001b[1;34m(self)\u001b[0m\n\u001b[0;32m    675\u001b[0m \u001b[39mdef\u001b[39;00m \u001b[39m_next_data\u001b[39m(\u001b[39mself\u001b[39m):\n\u001b[0;32m    676\u001b[0m     index \u001b[39m=\u001b[39m \u001b[39mself\u001b[39m\u001b[39m.\u001b[39m_next_index()  \u001b[39m# may raise StopIteration\u001b[39;00m\n\u001b[1;32m--> 677\u001b[0m     data \u001b[39m=\u001b[39m \u001b[39mself\u001b[39;49m\u001b[39m.\u001b[39;49m_dataset_fetcher\u001b[39m.\u001b[39;49mfetch(index)  \u001b[39m# may raise StopIteration\u001b[39;00m\n\u001b[0;32m    678\u001b[0m     \u001b[39mif\u001b[39;00m \u001b[39mself\u001b[39m\u001b[39m.\u001b[39m_pin_memory:\n\u001b[0;32m    679\u001b[0m         data \u001b[39m=\u001b[39m _utils\u001b[39m.\u001b[39mpin_memory\u001b[39m.\u001b[39mpin_memory(data, \u001b[39mself\u001b[39m\u001b[39m.\u001b[39m_pin_memory_device)\n",
            "File \u001b[1;32mc:\\Users\\Tobii\\Projects\\oasisnn\\venv\\Lib\\site-packages\\torch\\utils\\data\\_utils\\fetch.py:54\u001b[0m, in \u001b[0;36m_MapDatasetFetcher.fetch\u001b[1;34m(self, possibly_batched_index)\u001b[0m\n\u001b[0;32m     52\u001b[0m \u001b[39melse\u001b[39;00m:\n\u001b[0;32m     53\u001b[0m     data \u001b[39m=\u001b[39m \u001b[39mself\u001b[39m\u001b[39m.\u001b[39mdataset[possibly_batched_index]\n\u001b[1;32m---> 54\u001b[0m \u001b[39mreturn\u001b[39;00m \u001b[39mself\u001b[39;49m\u001b[39m.\u001b[39;49mcollate_fn(data)\n",
            "File \u001b[1;32mc:\\Users\\Tobii\\Projects\\oasisnn\\venv\\Lib\\site-packages\\torch\\utils\\data\\_utils\\collate.py:265\u001b[0m, in \u001b[0;36mdefault_collate\u001b[1;34m(batch)\u001b[0m\n\u001b[0;32m    204\u001b[0m \u001b[39mdef\u001b[39;00m \u001b[39mdefault_collate\u001b[39m(batch):\n\u001b[0;32m    205\u001b[0m \u001b[39m    \u001b[39m\u001b[39mr\u001b[39m\u001b[39m\"\"\"\u001b[39;00m\n\u001b[0;32m    206\u001b[0m \u001b[39m        Function that takes in a batch of data and puts the elements within the batch\u001b[39;00m\n\u001b[0;32m    207\u001b[0m \u001b[39m        into a tensor with an additional outer dimension - batch size. The exact output type can be\u001b[39;00m\n\u001b[1;32m   (...)\u001b[0m\n\u001b[0;32m    263\u001b[0m \u001b[39m            >>> default_collate(batch)  # Handle `CustomType` automatically\u001b[39;00m\n\u001b[0;32m    264\u001b[0m \u001b[39m    \"\"\"\u001b[39;00m\n\u001b[1;32m--> 265\u001b[0m     \u001b[39mreturn\u001b[39;00m collate(batch, collate_fn_map\u001b[39m=\u001b[39;49mdefault_collate_fn_map)\n",
            "File \u001b[1;32mc:\\Users\\Tobii\\Projects\\oasisnn\\venv\\Lib\\site-packages\\torch\\utils\\data\\_utils\\collate.py:150\u001b[0m, in \u001b[0;36mcollate\u001b[1;34m(batch, collate_fn_map)\u001b[0m\n\u001b[0;32m    146\u001b[0m         \u001b[39mexcept\u001b[39;00m \u001b[39mTypeError\u001b[39;00m:\n\u001b[0;32m    147\u001b[0m             \u001b[39m# The sequence type may not support `__init__(iterable)` (e.g., `range`).\u001b[39;00m\n\u001b[0;32m    148\u001b[0m             \u001b[39mreturn\u001b[39;00m [collate(samples, collate_fn_map\u001b[39m=\u001b[39mcollate_fn_map) \u001b[39mfor\u001b[39;00m samples \u001b[39min\u001b[39;00m transposed]\n\u001b[1;32m--> 150\u001b[0m \u001b[39mraise\u001b[39;00m \u001b[39mTypeError\u001b[39;00m(default_collate_err_msg_format\u001b[39m.\u001b[39mformat(elem_type))\n",
            "\u001b[1;31mTypeError\u001b[0m: default_collate: batch must contain tensors, numpy arrays, numbers, dicts or lists; found <class 'deepmeg.data.datasets.EpochsDataset'>"
          ]
        }
      ],
      "source": [
        "X_test, Y_test = next(iter(DataLoader(test, len(test))))\n",
        "print(set(one_hot_decoder(Y_test)))\n",
        "\n",
        "\n",
        "Preds_test = model(X_test)\n",
        "\n",
        "sources = torch.permute(X_test, (0, 2, 1))\n",
        "sources = model.linear(sources)\n",
        "sources = torch.permute(sources, (0, 2, 1))"
      ]
    },
    {
      "cell_type": "code",
      "execution_count": null,
      "metadata": {
        "colab": {
          "base_uri": "https://localhost:8080/",
          "height": 486
        },
        "id": "AQcbLiarxDUQ",
        "outputId": "7a1216f0-c8a4-468a-98d3-d0579ece2340"
      },
      "outputs": [
        {
          "data": {
            "text/plain": [
              "Text(0.5, 1.0, 'sample 774, class 4, pred 5')"
            ]
          },
          "execution_count": 911,
          "metadata": {},
          "output_type": "execute_result"
        },
        {
          "data": {
            "image/png": "[encoded data removed]",
            "text/plain": [
              "<Figure size 1000x500 with 2 Axes>"
            ]
          },
          "metadata": {},
          "output_type": "display_data"
        }
      ],
      "source": [
        "n = np.random.randint(0, len(test))\n",
        "\n",
        "fig, (ax1, ax2) = plt.subplots(1, 2, figsize=(10, 5))\n",
        "attn_w = torch.stack(model.attn_net.attention_weights)[:, n].detach().numpy()\n",
        "ax1.imshow(X_test[n].T, aspect='auto')\n",
        "label = np.argmax(Y_test[n]).item()\n",
        "ax1.set_title(f'sample {n}, class {label}')\n",
        "# ax1.imshow(attn_w, zorder=1)\n",
        "ax2.imshow(sources.detach().numpy().mean(0).T, zorder=1, aspect='auto')\n",
        "attn_tc = attn_w.mean(1)\n",
        "ax2.plot((attn_tc - attn_tc.min())/(attn_tc.max() - attn_tc.min())*(sources.shape[-1] - 1), zorder=2, color='tab:red')\n",
        "ax2.set_title(f'sample {n}, class {label}, pred {np.argmax(Preds_test[n].detach())}')"
      ]
    },
    {
      "cell_type": "code",
      "execution_count": null,
      "metadata": {},
      "outputs": [
        {
          "data": {
            "image/png": "[encoded data removed]",
            "text/plain": [
              "<Figure size 1000x700 with 1 Axes>"
            ]
          },
          "metadata": {},
          "output_type": "display_data"
        }
      ],
      "source": [
        "conf_matrix_data = compute_confusion_matrix(\n",
        "    one_hot_decoder(Y_test), one_hot_decoder(Preds_test)\n",
        ")\n",
        "\n",
        "confusion_matrix_df = pd.DataFrame(\n",
        "    conf_matrix_data,\n",
        "    index = conf_matrix_data.keys(),\n",
        "    columns = conf_matrix_data.keys()\n",
        ")\n",
        "\n",
        "# Visualize the confusion matrix with color-coded text\n",
        "fig = plot_confusion_matrix(confusion_matrix_df)\n"
      ]
    }
  ],
  "metadata": {
    "colab": {
      "provenance": []
    },
    "kernelspec": {
      "display_name": "venv",
      "language": "python",
      "name": "python3"
    },
    "language_info": {
      "codemirror_mode": {
        "name": "ipython",
        "version": 3
      },
      "file_extension": ".py",
      "mimetype": "text/x-python",
      "name": "python",
      "nbconvert_exporter": "python",
      "pygments_lexer": "ipython3",
      "version": "3.11.4"
    },
    "orig_nbformat": 4
  },
  "nbformat": 4,
  "nbformat_minor": 0
}
